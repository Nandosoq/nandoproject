{
 "cells": [
  {
   "cell_type": "markdown",
   "metadata": {},
   "source": [
    "# U.S. oil and gas Production analysis\n",
    "\n",
    "Analysing the [Kaggle Dataset](https://www.kaggle.com/djzurawski/us-oil-and-gas-production-june-2008-to-june-2018) with information about Oil and Gas production in the US from June 2008 to June 2018."
   ]
  },
  {
   "cell_type": "code",
   "execution_count": 1,
   "metadata": {},
   "outputs": [],
   "source": [
    "%matplotlib inline\n",
    "import numpy as np\n",
    "import pandas as pd\n",
    "import matplotlib"
   ]
  },
  {
   "cell_type": "markdown",
   "metadata": {},
   "source": [
    "---\n",
    "\n",
    "Let's load the Gas production:"
   ]
  },
  {
   "cell_type": "code",
   "execution_count": 2,
   "metadata": {},
   "outputs": [
    {
     "data": {
      "text/html": [
       "<div>\n",
       "<style scoped>\n",
       "    .dataframe tbody tr th:only-of-type {\n",
       "        vertical-align: middle;\n",
       "    }\n",
       "\n",
       "    .dataframe tbody tr th {\n",
       "        vertical-align: top;\n",
       "    }\n",
       "\n",
       "    .dataframe thead th {\n",
       "        text-align: right;\n",
       "    }\n",
       "</style>\n",
       "<table border=\"1\" class=\"dataframe\">\n",
       "  <thead>\n",
       "    <tr style=\"text-align: right;\">\n",
       "      <th></th>\n",
       "      <th>Month</th>\n",
       "      <th>U.S.</th>\n",
       "      <th>Alaska</th>\n",
       "      <th>Arkansas</th>\n",
       "      <th>Kansas</th>\n",
       "      <th>Other States</th>\n",
       "      <th>Federal Offshore--Gulf of Mexico</th>\n",
       "      <th>Wyoming</th>\n",
       "      <th>West Virginia</th>\n",
       "      <th>Utah</th>\n",
       "      <th>Pennsylvania</th>\n",
       "      <th>Texas</th>\n",
       "      <th>Oklahoma</th>\n",
       "      <th>Ohio</th>\n",
       "      <th>North Dakota</th>\n",
       "      <th>New Mexico</th>\n",
       "      <th>Montana</th>\n",
       "      <th>Louisiana</th>\n",
       "      <th>Colorado</th>\n",
       "      <th>California</th>\n",
       "    </tr>\n",
       "  </thead>\n",
       "  <tbody>\n",
       "    <tr>\n",
       "      <th>0</th>\n",
       "      <td>2008-06-01</td>\n",
       "      <td>70626</td>\n",
       "      <td>8875</td>\n",
       "      <td>1196</td>\n",
       "      <td>1024</td>\n",
       "      <td>2995</td>\n",
       "      <td>7339</td>\n",
       "      <td>6839</td>\n",
       "      <td>670</td>\n",
       "      <td>1198</td>\n",
       "      <td>540</td>\n",
       "      <td>21446</td>\n",
       "      <td>5241</td>\n",
       "      <td>224</td>\n",
       "      <td>243</td>\n",
       "      <td>3975</td>\n",
       "      <td>323</td>\n",
       "      <td>3989</td>\n",
       "      <td>3576</td>\n",
       "      <td>932</td>\n",
       "    </tr>\n",
       "    <tr>\n",
       "      <th>1</th>\n",
       "      <td>2008-07-01</td>\n",
       "      <td>71137</td>\n",
       "      <td>8375</td>\n",
       "      <td>1256</td>\n",
       "      <td>1034</td>\n",
       "      <td>3150</td>\n",
       "      <td>7468</td>\n",
       "      <td>6940</td>\n",
       "      <td>674</td>\n",
       "      <td>1200</td>\n",
       "      <td>512</td>\n",
       "      <td>21547</td>\n",
       "      <td>5256</td>\n",
       "      <td>220</td>\n",
       "      <td>243</td>\n",
       "      <td>4179</td>\n",
       "      <td>324</td>\n",
       "      <td>4008</td>\n",
       "      <td>3834</td>\n",
       "      <td>919</td>\n",
       "    </tr>\n",
       "    <tr>\n",
       "      <th>2</th>\n",
       "      <td>2008-08-01</td>\n",
       "      <td>70760</td>\n",
       "      <td>8739</td>\n",
       "      <td>1313</td>\n",
       "      <td>1033</td>\n",
       "      <td>3092</td>\n",
       "      <td>6868</td>\n",
       "      <td>6835</td>\n",
       "      <td>678</td>\n",
       "      <td>1277</td>\n",
       "      <td>529</td>\n",
       "      <td>21777</td>\n",
       "      <td>4896</td>\n",
       "      <td>220</td>\n",
       "      <td>249</td>\n",
       "      <td>4092</td>\n",
       "      <td>327</td>\n",
       "      <td>3896</td>\n",
       "      <td>4056</td>\n",
       "      <td>881</td>\n",
       "    </tr>\n",
       "  </tbody>\n",
       "</table>\n",
       "</div>"
      ],
      "text/plain": [
       "        Month   U.S.  Alaska  Arkansas  Kansas  Other States  \\\n",
       "0  2008-06-01  70626    8875      1196    1024          2995   \n",
       "1  2008-07-01  71137    8375      1256    1034          3150   \n",
       "2  2008-08-01  70760    8739      1313    1033          3092   \n",
       "\n",
       "   Federal Offshore--Gulf of Mexico  Wyoming  West Virginia  Utah  \\\n",
       "0                              7339     6839            670  1198   \n",
       "1                              7468     6940            674  1200   \n",
       "2                              6868     6835            678  1277   \n",
       "\n",
       "   Pennsylvania  Texas  Oklahoma  Ohio  North Dakota  New Mexico  Montana  \\\n",
       "0           540  21446      5241   224           243        3975      323   \n",
       "1           512  21547      5256   220           243        4179      324   \n",
       "2           529  21777      4896   220           249        4092      327   \n",
       "\n",
       "   Louisiana  Colorado  California  \n",
       "0       3989      3576         932  \n",
       "1       4008      3834         919  \n",
       "2       3896      4056         881  "
      ]
     },
     "execution_count": 2,
     "metadata": {},
     "output_type": "execute_result"
    }
   ],
   "source": [
    "file = \"data/U.S._natural_gas_production.csv\"\n",
    "gas_df = pd.read_csv(file, decimal=\",\")\n",
    "gas_df.head(3)"
   ]
  },
  {
   "cell_type": "code",
   "execution_count": null,
   "metadata": {},
   "outputs": [],
   "source": [
    "gas_df.shape"
   ]
  },
  {
   "cell_type": "code",
   "execution_count": null,
   "metadata": {},
   "outputs": [],
   "source": [
    "gas_df.columns"
   ]
  },
  {
   "cell_type": "code",
   "execution_count": null,
   "metadata": {},
   "outputs": [],
   "source": [
    "gas_df.dtypes[0:2] # Checking the types of the first two columns."
   ]
  },
  {
   "cell_type": "markdown",
   "metadata": {},
   "source": [
    "# Converting the Month column to datetime\n",
    "Open and read the documentation on pd.to_datetime(). Insert a new code cell and try to update the Month column to a proper datetime."
   ]
  },
  {
   "cell_type": "code",
   "execution_count": 3,
   "metadata": {},
   "outputs": [],
   "source": [
    "gas_df['Month'] = pd.to_datetime(gas_df['Month'], format='%Y-%m-%d')"
   ]
  },
  {
   "cell_type": "code",
   "execution_count": null,
   "metadata": {},
   "outputs": [],
   "source": [
    "gas_df['Month'].dt.year.head()"
   ]
  },
  {
   "cell_type": "code",
   "execution_count": null,
   "metadata": {},
   "outputs": [],
   "source": [
    "gas_df['Month'].dt.month.tail()"
   ]
  },
  {
   "cell_type": "code",
   "execution_count": 4,
   "metadata": {},
   "outputs": [],
   "source": [
    "#In order to pass the tests we’ve written for this challenge, store the type of Month column in the month_type variable \n",
    "#as below:\n",
    "\n",
    "month_type = gas_df['Month'].dtype"
   ]
  },
  {
   "cell_type": "markdown",
   "metadata": {},
   "source": [
    "---\n",
    "\n",
    "## Yearly Gas production"
   ]
  },
  {
   "cell_type": "code",
   "execution_count": 5,
   "metadata": {},
   "outputs": [],
   "source": [
    "#How much gas has been produced yearly by each US state, and by the US as a whole?\n",
    "\n",
    "yearly_gas_df = gas_df.groupby(gas_df['Month'].dt.year).sum()\n"
   ]
  },
  {
   "cell_type": "code",
   "execution_count": 6,
   "metadata": {},
   "outputs": [
    {
     "data": {
      "text/plain": [
       "<AxesSubplot:xlabel='Month'>"
      ]
     },
     "execution_count": 6,
     "metadata": {},
     "output_type": "execute_result"
    },
    {
     "data": {
      "image/png": "[encoded data removed]",
      "text/plain": [
       "<Figure size 432x288 with 1 Axes>"
      ]
     },
     "metadata": {
      "needs_background": "light"
     },
     "output_type": "display_data"
    }
   ],
   "source": [
    "\n",
    "yearly_gas_df.filter(items=['U.S.']).plot(kind='bar')"
   ]
  },
  {
   "cell_type": "markdown",
   "metadata": {},
   "source": [
    "##### Discarding rows with Boolean Indexing\n",
    "In the previous section, we’ve seen that the production data is not complete for the year 2008 and 2018 (we only have half of the year). We’d like to continue working with full years, meaning we need to discard the first and last rows of yearly_gas_df based on the year."
   ]
  },
  {
   "cell_type": "code",
   "execution_count": 7,
   "metadata": {},
   "outputs": [
    {
     "data": {
      "text/plain": [
       "<AxesSubplot:xlabel='Month'>"
      ]
     },
     "execution_count": 7,
     "metadata": {},
     "output_type": "execute_result"
    },
    {
     "data": {
      "image/png": "[encoded data removed]",
      "text/plain": [
       "<Figure size 432x288 with 1 Axes>"
      ]
     },
     "metadata": {
      "needs_background": "light"
     },
     "output_type": "display_data"
    }
   ],
   "source": [
    "condition = np.logical_and(yearly_gas_df.index >= 2009, yearly_gas_df.index <= 2017)\n",
    "filtered_yearly_gas_df = yearly_gas_df[condition]\n",
    "\n",
    "filtered_yearly_gas_df.filter(items=['U.S.']).plot(kind='bar')"
   ]
  },
  {
   "cell_type": "markdown",
   "metadata": {},
   "source": [
    "### State production\n",
    "\n",
    "Let's have a look at the yearly production of some specific states"
   ]
  },
  {
   "cell_type": "code",
   "execution_count": 8,
   "metadata": {},
   "outputs": [
    {
     "data": {
      "text/plain": [
       "Index(['Alaska', 'Arkansas', 'California', 'Colorado',\n",
       "       'Federal Offshore--Gulf of Mexico', 'Kansas', 'Louisiana', 'Montana',\n",
       "       'New Mexico', 'North Dakota', 'Ohio', 'Oklahoma', 'Other States',\n",
       "       'Pennsylvania', 'Texas', 'Utah', 'West Virginia', 'Wyoming'],\n",
       "      dtype='object')"
      ]
     },
     "execution_count": 8,
     "metadata": {},
     "output_type": "execute_result"
    }
   ],
   "source": [
    "filtered_yearly_gas_df.columns[1:].sort_values()"
   ]
  },
  {
   "cell_type": "code",
   "execution_count": 9,
   "metadata": {},
   "outputs": [
    {
     "data": {
      "text/plain": [
       "<AxesSubplot:xlabel='Month'>"
      ]
     },
     "execution_count": 9,
     "metadata": {},
     "output_type": "execute_result"
    },
    {
     "data": {
      "image/png": "[encoded data removed]",
      "text/plain": [
       "<Figure size 432x288 with 1 Axes>"
      ]
     },
     "metadata": {
      "needs_background": "light"
     },
     "output_type": "display_data"
    }
   ],
   "source": [
    "filtered_yearly_gas_df.filter(items=['Arkansas', 'California', 'Colorado','Kansas']).plot(kind='bar')"
   ]
  },
  {
   "cell_type": "markdown",
   "metadata": {},
   "source": [
    "### Check your code"
   ]
  },
  {
   "cell_type": "code",
   "execution_count": 10,
   "metadata": {},
   "outputs": [],
   "source": [
    "from nbresult import ChallengeResult\n",
    "\n",
    "result = ChallengeResult('gas',\n",
    "    month_type=month_type,\n",
    "    yearly_gas=filtered_yearly_gas_df.shape\n",
    ")\n",
    "result.write()"
   ]
  },
  {
   "cell_type": "code",
   "execution_count": 11,
   "metadata": {},
   "outputs": [
    {
     "name": "stdout",
     "output_type": "stream",
     "text": [
      "\u001b[1m============================= test session starts ==============================\u001b[0m\n",
      "platform linux -- Python 3.8.6, pytest-6.2.4, py-1.10.0, pluggy-0.13.1 -- /home/nandosoq/.pyenv/versions/lewagon/bin/python3\n",
      "cachedir: .pytest_cache\n",
      "rootdir: /home/nandosoq/code/Nandosoq/data-challenges/02-Data-Toolkit/01-Data-Analysis/02-US-Oil-and-Gas-Production\n",
      "plugins: anyio-3.2.1, dash-1.21.0\n",
      "\u001b[1mcollecting ... \u001b[0mcollected 2 items\n",
      "\n",
      "tests/test_gas.py::TestGas::test_month_column_is_a_datetime \u001b[32mPASSED\u001b[0m\u001b[32m       [ 50%]\u001b[0m\n",
      "tests/test_gas.py::TestGas::test_yearly_gas_production_df_has_the_right_shape \u001b[32mPASSED\u001b[0m\u001b[32m [100%]\u001b[0m\n",
      "\n",
      "\u001b[32m============================== \u001b[32m\u001b[1m2 passed\u001b[0m\u001b[32m in 0.13s\u001b[0m\u001b[32m ===============================\u001b[0m\n",
      "\n",
      "\n",
      "💯 You can commit your code:\n",
      "\n",
      "\u001b[1;32mgit\u001b[39m add tests/gas.pickle\n",
      "\n",
      "\u001b[32mgit\u001b[39m commit -m \u001b[33m'Completed gas step'\u001b[39m\n",
      "\n",
      "\u001b[32mgit\u001b[39m push origin master\n"
     ]
    }
   ],
   "source": [
    "print(result.check())"
   ]
  },
  {
   "cell_type": "markdown",
   "metadata": {},
   "source": [
    "---\n",
    "\n",
    "## Comparing with Crude Oil Production"
   ]
  },
  {
   "cell_type": "code",
   "execution_count": 12,
   "metadata": {},
   "outputs": [
    {
     "data": {
      "text/html": [
       "<div>\n",
       "<style scoped>\n",
       "    .dataframe tbody tr th:only-of-type {\n",
       "        vertical-align: middle;\n",
       "    }\n",
       "\n",
       "    .dataframe tbody tr th {\n",
       "        vertical-align: top;\n",
       "    }\n",
       "\n",
       "    .dataframe thead th {\n",
       "        text-align: right;\n",
       "    }\n",
       "</style>\n",
       "<table border=\"1\" class=\"dataframe\">\n",
       "  <thead>\n",
       "    <tr style=\"text-align: right;\">\n",
       "      <th></th>\n",
       "      <th>Month</th>\n",
       "      <th>U.S. Crude Oil</th>\n",
       "      <th>Alabama</th>\n",
       "      <th>Alaska</th>\n",
       "      <th>Arkansas</th>\n",
       "      <th>Arizona</th>\n",
       "      <th>California</th>\n",
       "      <th>Colorado</th>\n",
       "      <th>Federal Offshore Gulf of Mexico Crude Oil</th>\n",
       "      <th>Federal Offshore Pacific Crude Oil</th>\n",
       "      <th>...</th>\n",
       "      <th>Ohio</th>\n",
       "      <th>Oklahoma</th>\n",
       "      <th>Pennsylvania</th>\n",
       "      <th>South Dakota</th>\n",
       "      <th>Wyoming</th>\n",
       "      <th>West Virginia</th>\n",
       "      <th>Virginia</th>\n",
       "      <th>Utah</th>\n",
       "      <th>Texas</th>\n",
       "      <th>Tennessee</th>\n",
       "    </tr>\n",
       "  </thead>\n",
       "  <tbody>\n",
       "    <tr>\n",
       "      <th>0</th>\n",
       "      <td>2008-06-01</td>\n",
       "      <td>5138</td>\n",
       "      <td>21</td>\n",
       "      <td>655</td>\n",
       "      <td>17</td>\n",
       "      <td>0</td>\n",
       "      <td>583</td>\n",
       "      <td>82</td>\n",
       "      <td>1326</td>\n",
       "      <td>67</td>\n",
       "      <td>...</td>\n",
       "      <td>14</td>\n",
       "      <td>186</td>\n",
       "      <td>8</td>\n",
       "      <td>5</td>\n",
       "      <td>144</td>\n",
       "      <td>6</td>\n",
       "      <td>0</td>\n",
       "      <td>60</td>\n",
       "      <td>1097</td>\n",
       "      <td>1</td>\n",
       "    </tr>\n",
       "    <tr>\n",
       "      <th>1</th>\n",
       "      <td>2008-07-01</td>\n",
       "      <td>5177</td>\n",
       "      <td>21</td>\n",
       "      <td>640</td>\n",
       "      <td>17</td>\n",
       "      <td>0</td>\n",
       "      <td>586</td>\n",
       "      <td>81</td>\n",
       "      <td>1372</td>\n",
       "      <td>61</td>\n",
       "      <td>...</td>\n",
       "      <td>14</td>\n",
       "      <td>184</td>\n",
       "      <td>8</td>\n",
       "      <td>5</td>\n",
       "      <td>145</td>\n",
       "      <td>5</td>\n",
       "      <td>0</td>\n",
       "      <td>61</td>\n",
       "      <td>1111</td>\n",
       "      <td>1</td>\n",
       "    </tr>\n",
       "    <tr>\n",
       "      <th>2</th>\n",
       "      <td>2008-08-01</td>\n",
       "      <td>5003</td>\n",
       "      <td>21</td>\n",
       "      <td>544</td>\n",
       "      <td>17</td>\n",
       "      <td>0</td>\n",
       "      <td>588</td>\n",
       "      <td>82</td>\n",
       "      <td>1272</td>\n",
       "      <td>70</td>\n",
       "      <td>...</td>\n",
       "      <td>14</td>\n",
       "      <td>188</td>\n",
       "      <td>8</td>\n",
       "      <td>5</td>\n",
       "      <td>145</td>\n",
       "      <td>6</td>\n",
       "      <td>0</td>\n",
       "      <td>62</td>\n",
       "      <td>1110</td>\n",
       "      <td>1</td>\n",
       "    </tr>\n",
       "  </tbody>\n",
       "</table>\n",
       "<p>3 rows × 36 columns</p>\n",
       "</div>"
      ],
      "text/plain": [
       "        Month  U.S. Crude Oil   Alabama  Alaska  Arkansas  Arizona  \\\n",
       "0  2008-06-01             5138       21     655        17        0   \n",
       "1  2008-07-01             5177       21     640        17        0   \n",
       "2  2008-08-01             5003       21     544        17        0   \n",
       "\n",
       "   California  Colorado  Federal Offshore Gulf of Mexico Crude Oil  \\\n",
       "0         583        82                                       1326   \n",
       "1         586        81                                       1372   \n",
       "2         588        82                                       1272   \n",
       "\n",
       "   Federal Offshore Pacific Crude Oil  ...  Ohio  Oklahoma  Pennsylvania  \\\n",
       "0                                  67  ...    14       186             8   \n",
       "1                                  61  ...    14       184             8   \n",
       "2                                  70  ...    14       188             8   \n",
       "\n",
       "   South Dakota  Wyoming  West Virginia  Virginia  Utah  Texas  Tennessee  \n",
       "0             5      144              6         0    60   1097          1  \n",
       "1             5      145              5         0    61   1111          1  \n",
       "2             5      145              6         0    62   1110          1  \n",
       "\n",
       "[3 rows x 36 columns]"
      ]
     },
     "execution_count": 12,
     "metadata": {},
     "output_type": "execute_result"
    }
   ],
   "source": [
    "file_1 = \"data/U.S._crude_oil_production.csv\"\n",
    "oil_df = pd.read_csv(file_1, decimal=\",\")\n",
    "oil_df.head(3)"
   ]
  },
  {
   "cell_type": "code",
   "execution_count": 13,
   "metadata": {},
   "outputs": [],
   "source": [
    "oil_df['Month'] = pd.to_datetime(oil_df['Month'], format='%Y-%m-%d')"
   ]
  },
  {
   "cell_type": "code",
   "execution_count": 19,
   "metadata": {},
   "outputs": [
    {
     "data": {
      "text/html": [
       "<div>\n",
       "<style scoped>\n",
       "    .dataframe tbody tr th:only-of-type {\n",
       "        vertical-align: middle;\n",
       "    }\n",
       "\n",
       "    .dataframe tbody tr th {\n",
       "        vertical-align: top;\n",
       "    }\n",
       "\n",
       "    .dataframe thead th {\n",
       "        text-align: right;\n",
       "    }\n",
       "</style>\n",
       "<table border=\"1\" class=\"dataframe\">\n",
       "  <thead>\n",
       "    <tr style=\"text-align: right;\">\n",
       "      <th></th>\n",
       "      <th>U.S. Crude Oil</th>\n",
       "      <th>Alabama</th>\n",
       "      <th>Alaska</th>\n",
       "      <th>Arkansas</th>\n",
       "      <th>Arizona</th>\n",
       "      <th>California</th>\n",
       "      <th>Colorado</th>\n",
       "      <th>Federal Offshore Gulf of Mexico Crude Oil</th>\n",
       "      <th>Federal Offshore Pacific Crude Oil</th>\n",
       "      <th>Florida</th>\n",
       "      <th>...</th>\n",
       "      <th>Ohio</th>\n",
       "      <th>Oklahoma</th>\n",
       "      <th>Pennsylvania</th>\n",
       "      <th>South Dakota</th>\n",
       "      <th>Wyoming</th>\n",
       "      <th>West Virginia</th>\n",
       "      <th>Virginia</th>\n",
       "      <th>Utah</th>\n",
       "      <th>Texas</th>\n",
       "      <th>Tennessee</th>\n",
       "    </tr>\n",
       "    <tr>\n",
       "      <th>Month</th>\n",
       "      <th></th>\n",
       "      <th></th>\n",
       "      <th></th>\n",
       "      <th></th>\n",
       "      <th></th>\n",
       "      <th></th>\n",
       "      <th></th>\n",
       "      <th></th>\n",
       "      <th></th>\n",
       "      <th></th>\n",
       "      <th></th>\n",
       "      <th></th>\n",
       "      <th></th>\n",
       "      <th></th>\n",
       "      <th></th>\n",
       "      <th></th>\n",
       "      <th></th>\n",
       "      <th></th>\n",
       "      <th></th>\n",
       "      <th></th>\n",
       "      <th></th>\n",
       "    </tr>\n",
       "  </thead>\n",
       "  <tbody>\n",
       "    <tr>\n",
       "      <th>2008</th>\n",
       "      <td>34211</td>\n",
       "      <td>149</td>\n",
       "      <td>4666</td>\n",
       "      <td>118</td>\n",
       "      <td>0</td>\n",
       "      <td>4095</td>\n",
       "      <td>589</td>\n",
       "      <td>7302</td>\n",
       "      <td>465</td>\n",
       "      <td>37</td>\n",
       "      <td>...</td>\n",
       "      <td>98</td>\n",
       "      <td>1286</td>\n",
       "      <td>56</td>\n",
       "      <td>35</td>\n",
       "      <td>1013</td>\n",
       "      <td>39</td>\n",
       "      <td>0</td>\n",
       "      <td>438</td>\n",
       "      <td>7773</td>\n",
       "      <td>7</td>\n",
       "    </tr>\n",
       "    <tr>\n",
       "      <th>2009</th>\n",
       "      <td>64180</td>\n",
       "      <td>236</td>\n",
       "      <td>7749</td>\n",
       "      <td>189</td>\n",
       "      <td>0</td>\n",
       "      <td>6815</td>\n",
       "      <td>998</td>\n",
       "      <td>18727</td>\n",
       "      <td>734</td>\n",
       "      <td>24</td>\n",
       "      <td>...</td>\n",
       "      <td>156</td>\n",
       "      <td>2144</td>\n",
       "      <td>96</td>\n",
       "      <td>55</td>\n",
       "      <td>1695</td>\n",
       "      <td>48</td>\n",
       "      <td>0</td>\n",
       "      <td>757</td>\n",
       "      <td>13132</td>\n",
       "      <td>12</td>\n",
       "    </tr>\n",
       "    <tr>\n",
       "      <th>2010</th>\n",
       "      <td>65741</td>\n",
       "      <td>234</td>\n",
       "      <td>7199</td>\n",
       "      <td>189</td>\n",
       "      <td>0</td>\n",
       "      <td>6588</td>\n",
       "      <td>1086</td>\n",
       "      <td>18640</td>\n",
       "      <td>713</td>\n",
       "      <td>56</td>\n",
       "      <td>...</td>\n",
       "      <td>156</td>\n",
       "      <td>2239</td>\n",
       "      <td>108</td>\n",
       "      <td>53</td>\n",
       "      <td>1771</td>\n",
       "      <td>59</td>\n",
       "      <td>0</td>\n",
       "      <td>809</td>\n",
       "      <td>14026</td>\n",
       "      <td>12</td>\n",
       "    </tr>\n",
       "    <tr>\n",
       "      <th>2011</th>\n",
       "      <td>67829</td>\n",
       "      <td>275</td>\n",
       "      <td>6742</td>\n",
       "      <td>195</td>\n",
       "      <td>0</td>\n",
       "      <td>6449</td>\n",
       "      <td>1295</td>\n",
       "      <td>15805</td>\n",
       "      <td>652</td>\n",
       "      <td>67</td>\n",
       "      <td>...</td>\n",
       "      <td>156</td>\n",
       "      <td>2534</td>\n",
       "      <td>114</td>\n",
       "      <td>53</td>\n",
       "      <td>1795</td>\n",
       "      <td>72</td>\n",
       "      <td>0</td>\n",
       "      <td>864</td>\n",
       "      <td>17393</td>\n",
       "      <td>12</td>\n",
       "    </tr>\n",
       "    <tr>\n",
       "      <th>2012</th>\n",
       "      <td>78007</td>\n",
       "      <td>312</td>\n",
       "      <td>6310</td>\n",
       "      <td>214</td>\n",
       "      <td>0</td>\n",
       "      <td>6465</td>\n",
       "      <td>1626</td>\n",
       "      <td>15189</td>\n",
       "      <td>580</td>\n",
       "      <td>71</td>\n",
       "      <td>...</td>\n",
       "      <td>168</td>\n",
       "      <td>3095</td>\n",
       "      <td>144</td>\n",
       "      <td>60</td>\n",
       "      <td>1900</td>\n",
       "      <td>85</td>\n",
       "      <td>0</td>\n",
       "      <td>991</td>\n",
       "      <td>23742</td>\n",
       "      <td>12</td>\n",
       "    </tr>\n",
       "    <tr>\n",
       "      <th>2013</th>\n",
       "      <td>89585</td>\n",
       "      <td>342</td>\n",
       "      <td>6182</td>\n",
       "      <td>218</td>\n",
       "      <td>0</td>\n",
       "      <td>6540</td>\n",
       "      <td>2175</td>\n",
       "      <td>15068</td>\n",
       "      <td>610</td>\n",
       "      <td>72</td>\n",
       "      <td>...</td>\n",
       "      <td>264</td>\n",
       "      <td>3786</td>\n",
       "      <td>174</td>\n",
       "      <td>60</td>\n",
       "      <td>2088</td>\n",
       "      <td>237</td>\n",
       "      <td>0</td>\n",
       "      <td>1152</td>\n",
       "      <td>30475</td>\n",
       "      <td>12</td>\n",
       "    </tr>\n",
       "    <tr>\n",
       "      <th>2014</th>\n",
       "      <td>105064</td>\n",
       "      <td>323</td>\n",
       "      <td>5958</td>\n",
       "      <td>224</td>\n",
       "      <td>0</td>\n",
       "      <td>6729</td>\n",
       "      <td>3139</td>\n",
       "      <td>16761</td>\n",
       "      <td>608</td>\n",
       "      <td>73</td>\n",
       "      <td>...</td>\n",
       "      <td>495</td>\n",
       "      <td>4605</td>\n",
       "      <td>222</td>\n",
       "      <td>60</td>\n",
       "      <td>2501</td>\n",
       "      <td>340</td>\n",
       "      <td>0</td>\n",
       "      <td>1346</td>\n",
       "      <td>38049</td>\n",
       "      <td>12</td>\n",
       "    </tr>\n",
       "    <tr>\n",
       "      <th>2015</th>\n",
       "      <td>113179</td>\n",
       "      <td>318</td>\n",
       "      <td>5796</td>\n",
       "      <td>205</td>\n",
       "      <td>0</td>\n",
       "      <td>6619</td>\n",
       "      <td>4036</td>\n",
       "      <td>18174</td>\n",
       "      <td>378</td>\n",
       "      <td>72</td>\n",
       "      <td>...</td>\n",
       "      <td>876</td>\n",
       "      <td>5484</td>\n",
       "      <td>232</td>\n",
       "      <td>53</td>\n",
       "      <td>2842</td>\n",
       "      <td>380</td>\n",
       "      <td>0</td>\n",
       "      <td>1222</td>\n",
       "      <td>41335</td>\n",
       "      <td>12</td>\n",
       "    </tr>\n",
       "    <tr>\n",
       "      <th>2016</th>\n",
       "      <td>105970</td>\n",
       "      <td>266</td>\n",
       "      <td>5874</td>\n",
       "      <td>183</td>\n",
       "      <td>0</td>\n",
       "      <td>6101</td>\n",
       "      <td>3820</td>\n",
       "      <td>19177</td>\n",
       "      <td>201</td>\n",
       "      <td>63</td>\n",
       "      <td>...</td>\n",
       "      <td>705</td>\n",
       "      <td>5102</td>\n",
       "      <td>207</td>\n",
       "      <td>47</td>\n",
       "      <td>2380</td>\n",
       "      <td>251</td>\n",
       "      <td>0</td>\n",
       "      <td>1001</td>\n",
       "      <td>38140</td>\n",
       "      <td>12</td>\n",
       "    </tr>\n",
       "    <tr>\n",
       "      <th>2017</th>\n",
       "      <td>112205</td>\n",
       "      <td>224</td>\n",
       "      <td>5936</td>\n",
       "      <td>173</td>\n",
       "      <td>0</td>\n",
       "      <td>5723</td>\n",
       "      <td>4293</td>\n",
       "      <td>20152</td>\n",
       "      <td>186</td>\n",
       "      <td>63</td>\n",
       "      <td>...</td>\n",
       "      <td>623</td>\n",
       "      <td>5454</td>\n",
       "      <td>217</td>\n",
       "      <td>46</td>\n",
       "      <td>2485</td>\n",
       "      <td>310</td>\n",
       "      <td>0</td>\n",
       "      <td>1125</td>\n",
       "      <td>41827</td>\n",
       "      <td>12</td>\n",
       "    </tr>\n",
       "    <tr>\n",
       "      <th>2018</th>\n",
       "      <td>62296</td>\n",
       "      <td>99</td>\n",
       "      <td>2977</td>\n",
       "      <td>84</td>\n",
       "      <td>0</td>\n",
       "      <td>2779</td>\n",
       "      <td>2609</td>\n",
       "      <td>9761</td>\n",
       "      <td>90</td>\n",
       "      <td>30</td>\n",
       "      <td>...</td>\n",
       "      <td>335</td>\n",
       "      <td>3186</td>\n",
       "      <td>109</td>\n",
       "      <td>23</td>\n",
       "      <td>1362</td>\n",
       "      <td>172</td>\n",
       "      <td>0</td>\n",
       "      <td>598</td>\n",
       "      <td>24971</td>\n",
       "      <td>6</td>\n",
       "    </tr>\n",
       "  </tbody>\n",
       "</table>\n",
       "<p>11 rows × 35 columns</p>\n",
       "</div>"
      ],
      "text/plain": [
       "       U.S. Crude Oil   Alabama  Alaska  Arkansas  Arizona  California  \\\n",
       "Month                                                                    \n",
       "2008             34211      149    4666       118        0        4095   \n",
       "2009             64180      236    7749       189        0        6815   \n",
       "2010             65741      234    7199       189        0        6588   \n",
       "2011             67829      275    6742       195        0        6449   \n",
       "2012             78007      312    6310       214        0        6465   \n",
       "2013             89585      342    6182       218        0        6540   \n",
       "2014            105064      323    5958       224        0        6729   \n",
       "2015            113179      318    5796       205        0        6619   \n",
       "2016            105970      266    5874       183        0        6101   \n",
       "2017            112205      224    5936       173        0        5723   \n",
       "2018             62296       99    2977        84        0        2779   \n",
       "\n",
       "       Colorado  Federal Offshore Gulf of Mexico Crude Oil  \\\n",
       "Month                                                        \n",
       "2008        589                                       7302   \n",
       "2009        998                                      18727   \n",
       "2010       1086                                      18640   \n",
       "2011       1295                                      15805   \n",
       "2012       1626                                      15189   \n",
       "2013       2175                                      15068   \n",
       "2014       3139                                      16761   \n",
       "2015       4036                                      18174   \n",
       "2016       3820                                      19177   \n",
       "2017       4293                                      20152   \n",
       "2018       2609                                       9761   \n",
       "\n",
       "       Federal Offshore Pacific Crude Oil  Florida  ...  Ohio  Oklahoma  \\\n",
       "Month                                               ...                   \n",
       "2008                                  465       37  ...    98      1286   \n",
       "2009                                  734       24  ...   156      2144   \n",
       "2010                                  713       56  ...   156      2239   \n",
       "2011                                  652       67  ...   156      2534   \n",
       "2012                                  580       71  ...   168      3095   \n",
       "2013                                  610       72  ...   264      3786   \n",
       "2014                                  608       73  ...   495      4605   \n",
       "2015                                  378       72  ...   876      5484   \n",
       "2016                                  201       63  ...   705      5102   \n",
       "2017                                  186       63  ...   623      5454   \n",
       "2018                                   90       30  ...   335      3186   \n",
       "\n",
       "       Pennsylvania  South Dakota  Wyoming  West Virginia  Virginia  Utah  \\\n",
       "Month                                                                       \n",
       "2008             56            35     1013             39         0   438   \n",
       "2009             96            55     1695             48         0   757   \n",
       "2010            108            53     1771             59         0   809   \n",
       "2011            114            53     1795             72         0   864   \n",
       "2012            144            60     1900             85         0   991   \n",
       "2013            174            60     2088            237         0  1152   \n",
       "2014            222            60     2501            340         0  1346   \n",
       "2015            232            53     2842            380         0  1222   \n",
       "2016            207            47     2380            251         0  1001   \n",
       "2017            217            46     2485            310         0  1125   \n",
       "2018            109            23     1362            172         0   598   \n",
       "\n",
       "       Texas  Tennessee  \n",
       "Month                    \n",
       "2008    7773          7  \n",
       "2009   13132         12  \n",
       "2010   14026         12  \n",
       "2011   17393         12  \n",
       "2012   23742         12  \n",
       "2013   30475         12  \n",
       "2014   38049         12  \n",
       "2015   41335         12  \n",
       "2016   38140         12  \n",
       "2017   41827         12  \n",
       "2018   24971          6  \n",
       "\n",
       "[11 rows x 35 columns]"
      ]
     },
     "execution_count": 19,
     "metadata": {},
     "output_type": "execute_result"
    }
   ],
   "source": [
    "yearly_oil_df = oil_df.groupby(oil_df['Month'].dt.year).sum()\n",
    "yearly_oil_df"
   ]
  },
  {
   "cell_type": "code",
   "execution_count": 39,
   "metadata": {},
   "outputs": [],
   "source": [
    "yearly_gas  = yearly_gas_df.filter(items=['U.S.'])\n",
    "yearly_gas.rename(columns={'U.S.': 'Gas'}, inplace=True)\n",
    "\n",
    "yearly_oil  = yearly_oil_df.filter(items=['U.S. Crude Oil '])\n",
    "yearly_oil.rename(columns={'U.S. Crude Oil ': 'Crude Oil'}, inplace=True)\n"
   ]
  },
  {
   "cell_type": "code",
   "execution_count": 40,
   "metadata": {},
   "outputs": [],
   "source": [
    "merged_df = pd.concat([yearly_gas, yearly_oil], axis=1)"
   ]
  },
  {
   "cell_type": "code",
   "execution_count": 41,
   "metadata": {},
   "outputs": [
    {
     "data": {
      "text/plain": [
       "<AxesSubplot:title={'center':'Gas and Crude Oil by Year in U.S.'}, xlabel='Month'>"
      ]
     },
     "execution_count": 41,
     "metadata": {},
     "output_type": "execute_result"
    },
    {
     "data": {
      "image/png": "[encoded data removed]",
      "text/plain": [
       "<Figure size 432x288 with 1 Axes>"
      ]
     },
     "metadata": {
      "needs_background": "light"
     },
     "output_type": "display_data"
    }
   ],
   "source": [
    "merged_df.plot(kind=\"bar\", title = 'Gas and Crude Oil by Year in U.S.')"
   ]
  },
  {
   "cell_type": "code",
   "execution_count": 42,
   "metadata": {},
   "outputs": [],
   "source": [
    "from nbresult import ChallengeResult\n",
    "\n",
    "result = ChallengeResult('merged_dataframes',\n",
    "    merged_df_shape=merged_df.shape,\n",
    "    yearly_oil_2008=merged_df.iloc[0][\"Crude Oil\"],\n",
    ")\n",
    "result.write()"
   ]
  },
  {
   "cell_type": "code",
   "execution_count": 43,
   "metadata": {},
   "outputs": [
    {
     "name": "stdout",
     "output_type": "stream",
     "text": [
      "\u001b[1m============================= test session starts ==============================\u001b[0m\n",
      "platform linux -- Python 3.8.6, pytest-6.2.4, py-1.10.0, pluggy-0.13.1 -- /home/nandosoq/.pyenv/versions/lewagon/bin/python3\n",
      "cachedir: .pytest_cache\n",
      "rootdir: /home/nandosoq/code/Nandosoq/data-challenges/02-Data-Toolkit/01-Data-Analysis/02-US-Oil-and-Gas-Production\n",
      "plugins: anyio-3.2.1, dash-1.21.0\n",
      "\u001b[1mcollecting ... \u001b[0mcollected 2 items\n",
      "\n",
      "tests/test_merged_dataframes.py::TestMergedDataframes::test_merged_df_has_the_right_shape \u001b[32mPASSED\u001b[0m\u001b[32m [ 50%]\u001b[0m\n",
      "tests/test_merged_dataframes.py::TestMergedDataframes::test_yearly_oil_value_2008 \u001b[32mPASSED\u001b[0m\u001b[32m [100%]\u001b[0m\n",
      "\n",
      "\u001b[32m============================== \u001b[32m\u001b[1m2 passed\u001b[0m\u001b[32m in 0.13s\u001b[0m\u001b[32m ===============================\u001b[0m\n",
      "\n",
      "\n",
      "💯 You can commit your code:\n",
      "\n",
      "\u001b[1;32mgit\u001b[39m add tests/merged_dataframes.pickle\n",
      "\n",
      "\u001b[32mgit\u001b[39m commit -m \u001b[33m'Completed merged_dataframes step'\u001b[39m\n",
      "\n",
      "\u001b[32mgit\u001b[39m push origin master\n"
     ]
    }
   ],
   "source": [
    "print(result.check())"
   ]
  }
 ],
 "metadata": {
  "kernelspec": {
   "display_name": "Python 3 (ipykernel)",
   "language": "python",
   "name": "python3"
  },
  "language_info": {
   "codemirror_mode": {
    "name": "ipython",
    "version": 3
   },
   "file_extension": ".py",
   "mimetype": "text/x-python",
   "name": "python",
   "nbconvert_exporter": "python",
   "pygments_lexer": "ipython3",
   "version": "3.8.6"
  },
  "toc": {
   "base_numbering": 1,
   "nav_menu": {},
   "number_sections": false,
   "sideBar": true,
   "skip_h1_title": false,
   "title_cell": "Table of Contents",
   "title_sidebar": "Contents",
   "toc_cell": false,
   "toc_position": {
    "height": "calc(100% - 180px)",
    "left": "10px",
    "top": "150px",
    "width": "288px"
   },
   "toc_section_display": true,
   "toc_window_display": true
  },
  "varInspector": {
   "cols": {
    "lenName": 16,
    "lenType": 16,
    "lenVar": 40
   },
   "kernels_config": {
    "python": {
     "delete_cmd_postfix": "",
     "delete_cmd_prefix": "del ",
     "library": "var_list.py",
     "varRefreshCmd": "print(var_dic_list())"
    },
    "r": {
     "delete_cmd_postfix": ") ",
     "delete_cmd_prefix": "rm(",
     "library": "var_list.r",
     "varRefreshCmd": "cat(var_dic_list()) "
    }
   },
   "types_to_exclude": [
    "module",
    "function",
    "builtin_function_or_method",
    "instance",
    "_Feature"
   ],
   "window_display": false
  }
 },
 "nbformat": 4,
 "nbformat_minor": 2
}
