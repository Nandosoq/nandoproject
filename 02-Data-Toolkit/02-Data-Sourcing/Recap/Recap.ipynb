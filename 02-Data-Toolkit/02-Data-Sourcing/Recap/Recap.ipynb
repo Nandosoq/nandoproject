{
 "cells": [
  {
   "cell_type": "markdown",
   "metadata": {},
   "source": [
    "# CSV + API\n",
    "\n",
    "In this reboot, we are going to use:\n",
    "\n",
    "- The [Goodreads books](https://www.kaggle.com/jealousleopard/goodreadsbooks) dataset from Kaggle.\n",
    "- The [Open Library Books API](https://openlibrary.org/dev/docs/api/books)\n",
    "\n",
    "The goal of this livecode is to load the data from a CSV + loop over rows to enrich each row with information such as:\n",
    "\n",
    "- List of subjects (Science, Humor, Travel, etc.)\n",
    "- The cover URL of the book\n",
    "- Other information you'd find useful in the JSON API"
   ]
  },
  {
   "cell_type": "markdown",
   "metadata": {},
   "source": [
    "First, download the CSV in the local folder:"
   ]
  },
  {
   "cell_type": "code",
   "execution_count": 1,
   "metadata": {},
   "outputs": [
    {
     "name": "stdout",
     "output_type": "stream",
     "text": [
      "  % Total    % Received % Xferd  Average Speed   Time    Time     Time  Current\n",
      "                                 Dload  Upload   Total   Spent    Left  Speed\n",
      "100 1509k  100 1509k    0     0  3551k      0 --:--:-- --:--:-- --:--:-- 3551k\n"
     ]
    }
   ],
   "source": [
    "!curl -L https://gist.githubusercontent.com/ssaunier/351b17f5a7a009808b60aeacd1f4a036/raw/books.csv > books.csv"
   ]
  },
  {
   "cell_type": "code",
   "execution_count": 2,
   "metadata": {},
   "outputs": [
    {
     "name": "stdout",
     "output_type": "stream",
     "text": [
      "total 1.5M\r\n",
      "-rw-r--r-- 1 nandosoq nandosoq 1.5M Jul 27 17:18 books.csv\r\n",
      "-rw-r--r-- 1 nandosoq nandosoq  579 Jul 19 15:17 README.md\r\n",
      "-rw-r--r-- 1 nandosoq nandosoq 3.6K Jul 27 17:18 Recap.ipynb\r\n"
     ]
    }
   ],
   "source": [
    "!ls -lh"
   ]
  },
  {
   "cell_type": "markdown",
   "metadata": {},
   "source": [
    "Then import the usual suspects!"
   ]
  },
  {
   "cell_type": "code",
   "execution_count": 4,
   "metadata": {},
   "outputs": [],
   "source": [
    "import requests\n",
    "import pandas as pd\n",
    "import numpy as np\n",
    "#books = pd."
   ]
  },
  {
   "cell_type": "code",
   "execution_count": null,
   "metadata": {},
   "outputs": [],
   "source": []
  },
  {
   "cell_type": "code",
   "execution_count": 30,
   "metadata": {},
   "outputs": [],
   "source": [
    "def fetch_book(isbn):\n",
    "    url = \"https://openlibrary.org/api/books\"\n",
    "    params = {\n",
    "        \"format\": 'json',\n",
    "        \"jscmd\": 'data',\n",
    "        'bibkeys': f'ISBN:{isbn}'        \n",
    "    }\n",
    "    \n",
    "    response = requests.get(url, params).json()\n",
    "    if len(response)>0:\n",
    "        return response[f'ISBN:{isbn}']\n"
   ]
  },
  {
   "cell_type": "code",
   "execution_count": 31,
   "metadata": {},
   "outputs": [
    {
     "data": {
      "text/plain": [
       "{'url': 'https://openlibrary.org/books/OL7789431M/Harry_Potter_and_the_Deathly_Hallows',\n",
       " 'key': '/books/OL7789431M',\n",
       " 'title': 'Harry Potter and the Deathly Hallows',\n",
       " 'authors': [{'url': 'https://openlibrary.org/authors/OL23919A/J._K._Rowling',\n",
       "   'name': 'J. K. Rowling'}],\n",
       " 'number_of_pages': 759,\n",
       " 'pagination': '759 p. :',\n",
       " 'weight': '1.8 pounds',\n",
       " 'by_statement': 'by J.K. Rowling ; illustrations by Mary GrandPré',\n",
       " 'identifiers': {'amazon': ['0545010225'],\n",
       "  'google': ['H8sdBgAAQBAJ'],\n",
       "  'librarything': ['3577382'],\n",
       "  'goodreads': ['57449038'],\n",
       "  'isbn_10': ['0545010225'],\n",
       "  'isbn_13': ['9780545010221'],\n",
       "  'lccn': ['2007925449'],\n",
       "  'oclc': ['155131850',\n",
       "   '733736140',\n",
       "   '658124027',\n",
       "   '946915501',\n",
       "   '522747660',\n",
       "   '999574766'],\n",
       "  'openlibrary': ['OL7789431M']},\n",
       " 'classifications': {'lccn_permalink': ['https://lccn.loc.gov/2007925449'],\n",
       "  'lc_classifications': ['PZ7.R79835 Hak 2007'],\n",
       "  'dewey_decimal_class': ['[Fic]']},\n",
       " 'publishers': [{'name': 'Arthur A. Levine Books'}],\n",
       " 'publish_places': [{'name': 'New York, USA'}],\n",
       " 'publish_date': '2007 07',\n",
       " 'subjects': [{'name': 'the Elder Wand',\n",
       "   'url': 'https://openlibrary.org/subjects/the_elder_wand'},\n",
       "  {'name': \"children's books\",\n",
       "   'url': \"https://openlibrary.org/subjects/children's_books\"},\n",
       "  {'name': 'dementors', 'url': 'https://openlibrary.org/subjects/dementors'},\n",
       "  {'name': 'good and evil',\n",
       "   'url': 'https://openlibrary.org/subjects/good_and_evil'},\n",
       "  {'name': 'Juvenile literature',\n",
       "   'url': 'https://openlibrary.org/subjects/juvenile_literature'},\n",
       "  {'name': 'Juvenile works',\n",
       "   'url': 'https://openlibrary.org/subjects/juvenile_works'},\n",
       "  {'name': 'Death', 'url': 'https://openlibrary.org/subjects/death'},\n",
       "  {'name': 'Fiction', 'url': 'https://openlibrary.org/subjects/fiction'},\n",
       "  {'name': 'Wizards', 'url': 'https://openlibrary.org/subjects/wizards'},\n",
       "  {'name': 'New York Times bestseller',\n",
       "   'url': 'https://openlibrary.org/subjects/new_york_times_bestseller'},\n",
       "  {'name': 'nyt:series_books=2006-09-16',\n",
       "   'url': 'https://openlibrary.org/subjects/nyt:series_books=2006-09-16'},\n",
       "  {'name': 'Schools', 'url': 'https://openlibrary.org/subjects/schools'},\n",
       "  {'name': 'Magic', 'url': 'https://openlibrary.org/subjects/magic'},\n",
       "  {'name': 'Magia', 'url': 'https://openlibrary.org/subjects/magia'},\n",
       "  {'name': 'Ficción juvenil',\n",
       "   'url': 'https://openlibrary.org/subjects/ficción_juvenil'},\n",
       "  {'name': 'Novela fantástica',\n",
       "   'url': 'https://openlibrary.org/subjects/novela_fantástica'},\n",
       "  {'name': 'Magos', 'url': 'https://openlibrary.org/subjects/magos'},\n",
       "  {'name': 'Escuelas', 'url': 'https://openlibrary.org/subjects/escuelas'},\n",
       "  {'name': 'Juvenile fiction',\n",
       "   'url': 'https://openlibrary.org/subjects/juvenile_fiction'},\n",
       "  {'name': 'dark magic', 'url': 'https://openlibrary.org/subjects/dark_magic'},\n",
       "  {'name': 'Coming of age',\n",
       "   'url': 'https://openlibrary.org/subjects/coming_of_age'},\n",
       "  {'name': 'heroics', 'url': 'https://openlibrary.org/subjects/heroics'},\n",
       "  {'name': 'fantasy', 'url': 'https://openlibrary.org/subjects/fantasy'},\n",
       "  {'name': 'action', 'url': 'https://openlibrary.org/subjects/action'},\n",
       "  {'name': 'adventure', 'url': 'https://openlibrary.org/subjects/adventure'},\n",
       "  {'name': 'orphans', 'url': 'https://openlibrary.org/subjects/orphans'},\n",
       "  {'name': 'foster homes',\n",
       "   'url': 'https://openlibrary.org/subjects/foster_homes'},\n",
       "  {'name': 'young adult',\n",
       "   'url': 'https://openlibrary.org/subjects/young_adult'},\n",
       "  {'name': 'children', 'url': 'https://openlibrary.org/subjects/children'},\n",
       "  {'name': \"children's literature\",\n",
       "   'url': \"https://openlibrary.org/subjects/children's_literature\"},\n",
       "  {'name': 'boarding school',\n",
       "   'url': 'https://openlibrary.org/subjects/boarding_school'},\n",
       "  {'name': 'wizardry', 'url': 'https://openlibrary.org/subjects/wizardry'},\n",
       "  {'name': 'mystery', 'url': 'https://openlibrary.org/subjects/mystery'},\n",
       "  {'name': 'kids', 'url': 'https://openlibrary.org/subjects/kids'},\n",
       "  {'name': 'witchcraft', 'url': 'https://openlibrary.org/subjects/witchcraft'},\n",
       "  {'name': 'war', 'url': 'https://openlibrary.org/subjects/war'},\n",
       "  {'name': 'Magie', 'url': 'https://openlibrary.org/subjects/magie'},\n",
       "  {'name': 'Magiciens', 'url': 'https://openlibrary.org/subjects/magiciens'},\n",
       "  {'name': 'Roman pour la jeunesse',\n",
       "   'url': 'https://openlibrary.org/subjects/roman_pour_la_jeunesse'},\n",
       "  {'name': 'Mort', 'url': 'https://openlibrary.org/subjects/mort'},\n",
       "  {'name': 'Sorcellerie',\n",
       "   'url': 'https://openlibrary.org/subjects/sorcellerie'},\n",
       "  {'name': 'Romans, nouvelles, etc. pour la jeunesse',\n",
       "   'url': 'https://openlibrary.org/subjects/romans,_nouvelles,_etc._pour_la_jeunesse'},\n",
       "  {'name': 'Internats', 'url': 'https://openlibrary.org/subjects/internats'},\n",
       "  {'name': 'Fantasy fiction',\n",
       "   'url': 'https://openlibrary.org/subjects/fantasy_fiction'},\n",
       "  {'name': 'Roman fantastique',\n",
       "   'url': 'https://openlibrary.org/subjects/roman_fantastique'},\n",
       "  {'name': 'Ecoles', 'url': 'https://openlibrary.org/subjects/ecoles'},\n",
       "  {'name': 'Boarding schools',\n",
       "   'url': 'https://openlibrary.org/subjects/boarding_schools'},\n",
       "  {'name': 'Sorciers', 'url': 'https://openlibrary.org/subjects/sorciers'},\n",
       "  {'name': 'Hogwarts School of Witchcraft and Wizardry (Imaginary place) -- Juvenile fiction',\n",
       "   'url': 'https://openlibrary.org/subjects/hogwarts_school_of_witchcraft_and_wizardry_(imaginary_place)_--_juvenile_fiction'},\n",
       "  {'name': 'Hogwarts School of Witchcraft and Wizardry (Imaginary place)',\n",
       "   'url': 'https://openlibrary.org/subjects/hogwarts_school_of_witchcraft_and_wizardry_(imaginary_place)'},\n",
       "  {'name': 'Harry Potter (Fictitious character)',\n",
       "   'url': 'https://openlibrary.org/subjects/harry_potter_(fictitious_character)'},\n",
       "  {'name': 'Potter, Harry (Fictitious character) -- Juvenile fiction',\n",
       "   'url': 'https://openlibrary.org/subjects/potter,_harry_(fictitious_character)_--_juvenile_fiction'},\n",
       "  {'name': 'Wizards -- Fiction',\n",
       "   'url': 'https://openlibrary.org/subjects/wizards_--_fiction'},\n",
       "  {'name': 'Magic -- Fiction',\n",
       "   'url': 'https://openlibrary.org/subjects/magic_--_fiction'},\n",
       "  {'name': 'Schools -- Fiction',\n",
       "   'url': 'https://openlibrary.org/subjects/schools_--_fiction'},\n",
       "  {'name': 'Magos -- Ficción juvenil',\n",
       "   'url': 'https://openlibrary.org/subjects/magos_--_ficción_juvenil'},\n",
       "  {'name': 'Magia -- Ficción juvenil',\n",
       "   'url': 'https://openlibrary.org/subjects/magia_--_ficción_juvenil'},\n",
       "  {'name': 'Escuelas -- Ficción juvenil',\n",
       "   'url': 'https://openlibrary.org/subjects/escuelas_--_ficción_juvenil'},\n",
       "  {'name': 'England -- Fiction',\n",
       "   'url': 'https://openlibrary.org/subjects/england_--_fiction'},\n",
       "  {'name': 'Inglaterra -- Ficción juvenil',\n",
       "   'url': 'https://openlibrary.org/subjects/inglaterra_--_ficción_juvenil'},\n",
       "  {'name': 'Hermione Granger (Fictitious character)',\n",
       "   'url': 'https://openlibrary.org/subjects/hermione_granger_(fictitious_character)'},\n",
       "  {'name': 'Hogwarts School of Witchcraft and Wizardry (Imaginary organization)',\n",
       "   'url': 'https://openlibrary.org/subjects/hogwarts_school_of_witchcraft_and_wizardry_(imaginary_organization)'},\n",
       "  {'name': 'Ron Weasley (Fictitious character)',\n",
       "   'url': 'https://openlibrary.org/subjects/ron_weasley_(fictitious_character)'},\n",
       "  {'name': 'School stories',\n",
       "   'url': 'https://openlibrary.org/subjects/school_stories'},\n",
       "  {'name': 'Family', 'url': 'https://openlibrary.org/subjects/family'},\n",
       "  {'name': 'Orphans & Foster Homes',\n",
       "   'url': 'https://openlibrary.org/subjects/orphans_&_foster_homes'},\n",
       "  {'name': 'Social Themes',\n",
       "   'url': 'https://openlibrary.org/subjects/social_themes'},\n",
       "  {'name': 'Fantasy & Magic',\n",
       "   'url': 'https://openlibrary.org/subjects/fantasy_&_magic'},\n",
       "  {'name': 'Fictional Works',\n",
       "   'url': 'https://openlibrary.org/subjects/fictional_works'},\n",
       "  {'name': 'Bildungsromans',\n",
       "   'url': 'https://openlibrary.org/subjects/bildungsromans'},\n",
       "  {'name': 'Witches', 'url': 'https://openlibrary.org/subjects/witches'},\n",
       "  {'name': 'Friendship', 'url': 'https://openlibrary.org/subjects/friendship'},\n",
       "  {'name': 'Reading Level-Grade 9',\n",
       "   'url': 'https://openlibrary.org/subjects/reading_level-grade_9'},\n",
       "  {'name': 'Reading Level-Grade 11',\n",
       "   'url': 'https://openlibrary.org/subjects/reading_level-grade_11'},\n",
       "  {'name': 'Reading Level-Grade 10',\n",
       "   'url': 'https://openlibrary.org/subjects/reading_level-grade_10'},\n",
       "  {'name': 'Reading Level-Grade 12',\n",
       "   'url': 'https://openlibrary.org/subjects/reading_level-grade_12'},\n",
       "  {'name': 'Potter, harry (fictitious character), fiction',\n",
       "   'url': 'https://openlibrary.org/subjects/potter,_harry_(fictitious_character),_fiction'},\n",
       "  {'name': 'Wizards, fiction',\n",
       "   'url': 'https://openlibrary.org/subjects/wizards,_fiction'},\n",
       "  {'name': 'Hogwarts school of witchcraft and wizardry (imaginary organization), fiction',\n",
       "   'url': 'https://openlibrary.org/subjects/hogwarts_school_of_witchcraft_and_wizardry_(imaginary_organization),_fiction'},\n",
       "  {'name': 'England, fiction',\n",
       "   'url': 'https://openlibrary.org/subjects/england,_fiction'},\n",
       "  {'name': 'Schools, fiction',\n",
       "   'url': 'https://openlibrary.org/subjects/schools,_fiction'},\n",
       "  {'name': 'Magic, fiction',\n",
       "   'url': 'https://openlibrary.org/subjects/magic,_fiction'},\n",
       "  {'name': \"Children's fiction\",\n",
       "   'url': \"https://openlibrary.org/subjects/children's_fiction\"},\n",
       "  {'name': 'English literature',\n",
       "   'url': 'https://openlibrary.org/subjects/english_literature'},\n",
       "  {'name': 'Fiction, fantasy, general',\n",
       "   'url': 'https://openlibrary.org/subjects/fiction,_fantasy,_general'},\n",
       "  {'name': 'Méchanceté', 'url': 'https://openlibrary.org/subjects/méchanceté'},\n",
       "  {'name': 'Quête (Littérature)',\n",
       "   'url': 'https://openlibrary.org/subjects/quête_(littérature)'},\n",
       "  {'name': 'Potter, Harry (Personnage fictif)',\n",
       "   'url': 'https://openlibrary.org/subjects/potter,_harry_(personnage_fictif)'},\n",
       "  {'name': 'Large type books',\n",
       "   'url': 'https://openlibrary.org/subjects/large_type_books'}],\n",
       " 'subject_places': [{'name': 'England',\n",
       "   'url': 'https://openlibrary.org/subjects/place:england'},\n",
       "  {'name': 'Scottland',\n",
       "   'url': 'https://openlibrary.org/subjects/place:scottland'},\n",
       "  {'name': 'Ireland', 'url': 'https://openlibrary.org/subjects/place:ireland'},\n",
       "  {'name': 'Wales', 'url': 'https://openlibrary.org/subjects/place:wales'},\n",
       "  {'name': 'Hogwarts School of Witchcraft and Wizardry',\n",
       "   'url': 'https://openlibrary.org/subjects/place:hogwarts_school_of_witchcraft_and_wizardry'},\n",
       "  {'name': \"Godric's Hollow\",\n",
       "   'url': \"https://openlibrary.org/subjects/place:godric's_hollow\"}],\n",
       " 'subject_people': [{'name': 'Harry Potter',\n",
       "   'url': 'https://openlibrary.org/subjects/person:harry_potter'},\n",
       "  {'name': 'Gregorovitch',\n",
       "   'url': 'https://openlibrary.org/subjects/person:gregorovitch'},\n",
       "  {'name': 'Greyback',\n",
       "   'url': 'https://openlibrary.org/subjects/person:greyback'},\n",
       "  {'name': 'Gellert Grindelwald',\n",
       "   'url': 'https://openlibrary.org/subjects/person:gellert_grindelwald'},\n",
       "  {'name': 'Griphook',\n",
       "   'url': 'https://openlibrary.org/subjects/person:griphook'},\n",
       "  {'name': 'Godric Gryffindor',\n",
       "   'url': 'https://openlibrary.org/subjects/person:godric_gryffindor'},\n",
       "  {'name': 'Hagrid', 'url': 'https://openlibrary.org/subjects/person:hagrid'},\n",
       "  {'name': 'Kreacher',\n",
       "   'url': 'https://openlibrary.org/subjects/person:kreacher'},\n",
       "  {'name': 'Lord Voldemort',\n",
       "   'url': 'https://openlibrary.org/subjects/person:lord_voldemort'},\n",
       "  {'name': 'Luna Lovegood',\n",
       "   'url': 'https://openlibrary.org/subjects/person:luna_lovegood'},\n",
       "  {'name': 'Lupin', 'url': 'https://openlibrary.org/subjects/person:lupin'},\n",
       "  {'name': 'Muggle-borns',\n",
       "   'url': 'https://openlibrary.org/subjects/person:muggle-borns'},\n",
       "  {'name': 'Neville Longbottom',\n",
       "   'url': 'https://openlibrary.org/subjects/person:neville_longbottom'},\n",
       "  {'name': 'Severus Snape',\n",
       "   'url': 'https://openlibrary.org/subjects/person:severus_snape'},\n",
       "  {'name': 'Fred Weasley',\n",
       "   'url': 'https://openlibrary.org/subjects/person:fred_weasley'},\n",
       "  {'name': 'Ginny Weasley',\n",
       "   'url': 'https://openlibrary.org/subjects/person:ginny_weasley'},\n",
       "  {'name': 'Doge', 'url': 'https://openlibrary.org/subjects/person:doge'},\n",
       "  {'name': 'Draco Malfoy',\n",
       "   'url': 'https://openlibrary.org/subjects/person:draco_malfoy'},\n",
       "  {'name': 'Ariana Dumbledore',\n",
       "   'url': 'https://openlibrary.org/subjects/person:ariana_dumbledore'},\n",
       "  {'name': 'Bathilda Bagshot',\n",
       "   'url': 'https://openlibrary.org/subjects/person:bathilda_bagshot'},\n",
       "  {'name': 'Bellatrix Lestrange',\n",
       "   'url': 'https://openlibrary.org/subjects/person:bellatrix_lestrange'},\n",
       "  {'name': 'Mrs. Cattermole',\n",
       "   'url': 'https://openlibrary.org/subjects/person:mrs._cattermole'},\n",
       "  {'name': 'The Dark Lord',\n",
       "   'url': 'https://openlibrary.org/subjects/person:the_dark_lord'},\n",
       "  {'name': 'Death Eaters',\n",
       "   'url': 'https://openlibrary.org/subjects/person:death_eaters'},\n",
       "  {'name': 'Aberforth',\n",
       "   'url': 'https://openlibrary.org/subjects/person:aberforth'},\n",
       "  {'name': 'Voldemort',\n",
       "   'url': 'https://openlibrary.org/subjects/person:voldemort'},\n",
       "  {'name': 'Albus Dumbledore',\n",
       "   'url': 'https://openlibrary.org/subjects/person:albus_dumbledore'},\n",
       "  {'name': 'Ron Weasley',\n",
       "   'url': 'https://openlibrary.org/subjects/person:ron_weasley'},\n",
       "  {'name': 'Hermione Granger',\n",
       "   'url': 'https://openlibrary.org/subjects/person:hermione_granger'},\n",
       "  {'name': 'The Weasleys',\n",
       "   'url': 'https://openlibrary.org/subjects/person:the_weasleys'},\n",
       "  {'name': 'The Potters',\n",
       "   'url': 'https://openlibrary.org/subjects/person:the_potters'},\n",
       "  {'name': 'Hermine Granger',\n",
       "   'url': 'https://openlibrary.org/subjects/person:hermine_granger'},\n",
       "  {'name': 'Ron Weasly',\n",
       "   'url': 'https://openlibrary.org/subjects/person:ron_weasly'}],\n",
       " 'excerpts': [{'text': 'The two men appeared out of nowhere, a few yards apart in the narrow, moonlit lane.',\n",
       "   'comment': '',\n",
       "   'first_sentence': True},\n",
       "  {'text': 'The two men appeared out of nowhere, a few yards apart in the narrow, moonlit lane.',\n",
       "   'comment': 'first sentence'}],\n",
       " 'notes': 'Sequel to: Harry Potter and the Half-Blood Prince.',\n",
       " 'table_of_contents': [{'level': 0,\n",
       "   'label': '',\n",
       "   'title': \"The Dark Lord ascending -- In memoriam -- The Dursleys departing -- The seven Potters -- Fallen warrior -- The ghoul in pajamas -- The will of Albus Dumbledore -- The wedding -- A place to hide -- Kreacher's tale -- The bribe -- Magic is might -- The Muggle-born Registration Commission -- The thief -- The goblin's revenge -- Godric's Hollow -- Bathilda's secret -- The life and lies of Albus Dumbledore -- The silver doe -- Xenophilius Lovegood -- The tale of the three brothers -- The deathly hallows -- Malfoy Manor -- The wandmaker -- Shell Cottage -- Gringotts -- The final hiding place -- The missing mirror -- The lost diadem -- The sacking of Severus Snape -- The Battle of Hogwarts -- The elder wand -- The prince's tale -- The forest again -- King's Cross -- The flaw in the plan -- Epilogue\",\n",
       "   'pagenum': ''}],\n",
       " 'links': [{'title': 'Harry Potter and the Deathly Hallows - J.K. Rowling (jkrowling.com)',\n",
       "   'url': 'https://www.jkrowling.com/book/harry-potter-deathly-hallows/'},\n",
       "  {'title': 'Harry Potter and the Deathly Hallows - Wikipedia',\n",
       "   'url': 'https://en.wikipedia.org/wiki/Harry_Potter_and_the_Deathly_Hallows'},\n",
       "  {'title': 'Harry Potter and the Deathly Hallows by JK Rowling review – a send-off fit for a wizard (theguardian.com)',\n",
       "   'url': 'https://www.theguardian.com/books/2007/jul/28/booksforchildrenandteenagers.jkjoannekathleenrowling'},\n",
       "  {'title': 'The Boy Who Lived (nytimes.com)',\n",
       "   'url': 'https://www.nytimes.com/2007/08/12/books/review/Hitchens-t.html'},\n",
       "  {'title': 'News JK Rowling reveals the heartbreaking inspiration for the Deathly Hallows symbol in Harry Potter (independent.co.uk)',\n",
       "   'url': 'https://www.independent.co.uk/arts-entertainment/films/news/jk-rowling-deathly-hallows-symbol-harry-potter-inspiration-mason-a8025626.html'}],\n",
       " 'ebooks': [{'preview_url': 'https://archive.org/details/harrypotterdeath00rowl',\n",
       "   'availability': 'restricted',\n",
       "   'formats': {}}],\n",
       " 'cover': {'small': 'https://covers.openlibrary.org/b/id/7904782-S.jpg',\n",
       "  'medium': 'https://covers.openlibrary.org/b/id/7904782-M.jpg',\n",
       "  'large': 'https://covers.openlibrary.org/b/id/7904782-L.jpg'}}"
      ]
     },
     "execution_count": 31,
     "metadata": {},
     "output_type": "execute_result"
    }
   ],
   "source": [
    "fetch_book(9780545010221)"
   ]
  },
  {
   "cell_type": "code",
   "execution_count": null,
   "metadata": {},
   "outputs": [],
   "source": [
    "books_df['cover_url'] = None\n"
   ]
  },
  {
   "cell_type": "code",
   "execution_count": null,
   "metadata": {},
   "outputs": [],
   "source": [
    "for index, row in books_df.head(15).iterrows():\n",
    "    if row['cover_url'] is None: #no corre siempre la macro\n",
    "        print(f'Fetching information for {row['title']}')\n",
    "        book = fetch_book(row['isbn13'])\n",
    "        cover_url = book.get('cover',{}).get('large','')\n",
    "        books_df.loc[index, 'cover_url'] = cover_url\n",
    "        \n",
    "#idempotency"
   ]
  },
  {
   "cell_type": "code",
   "execution_count": 7,
   "metadata": {},
   "outputs": [
    {
     "data": {
      "text/plain": [
       "['ISBN:a', 'ISBN:b', 'ISBN:c']"
      ]
     },
     "execution_count": 7,
     "metadata": {},
     "output_type": "execute_result"
    }
   ],
   "source": [
    "isbns = ['a', 'b', 'c']\n",
    "isbns = [f'ISBN:{isbn}' for isbn in isbns]\n",
    "isbns"
   ]
  },
  {
   "cell_type": "code",
   "execution_count": null,
   "metadata": {},
   "outputs": [],
   "source": []
  },
  {
   "cell_type": "code",
   "execution_count": 17,
   "metadata": {},
   "outputs": [
    {
     "data": {
      "text/plain": [
       "<function numpy.array_split(ary, indices_or_sections, axis=0)>"
      ]
     },
     "execution_count": 17,
     "metadata": {},
     "output_type": "execute_result"
    }
   ],
   "source": [
    "np.array_split(books_df.head(20),5) # split the df in group.... in this case, of 5"
   ]
  },
  {
   "cell_type": "code",
   "execution_count": null,
   "metadata": {},
   "outputs": [],
   "source": [
    "for group in np.array_split(books_df.head(20), 5):\n",
    "    books = fetch_books(group.index)\n",
    "    for isbn_code, book in books.items():\n",
    "        isbn = int(isbn_code.strip('ISBN:'))\n",
    "        books_df.loc[isbn, 'cover'] = book.get('cover', {}).\n",
    "        get('large','')\n",
    "    \n",
    "    "
   ]
  }
 ],
 "metadata": {
  "kernelspec": {
   "display_name": "Python 3 (ipykernel)",
   "language": "python",
   "name": "python3"
  },
  "language_info": {
   "codemirror_mode": {
    "name": "ipython",
    "version": 3
   },
   "file_extension": ".py",
   "mimetype": "text/x-python",
   "name": "python",
   "nbconvert_exporter": "python",
   "pygments_lexer": "ipython3",
   "version": "3.8.6"
  },
  "toc": {
   "base_numbering": 1,
   "nav_menu": {},
   "number_sections": false,
   "sideBar": true,
   "skip_h1_title": false,
   "title_cell": "Table of Contents",
   "title_sidebar": "Contents",
   "toc_cell": false,
   "toc_position": {},
   "toc_section_display": true,
   "toc_window_display": false
  },
  "varInspector": {
   "cols": {
    "lenName": 16,
    "lenType": 16,
    "lenVar": 40
   },
   "kernels_config": {
    "python": {
     "delete_cmd_postfix": "",
     "delete_cmd_prefix": "del ",
     "library": "var_list.py",
     "varRefreshCmd": "print(var_dic_list())"
    },
    "r": {
     "delete_cmd_postfix": ") ",
     "delete_cmd_prefix": "rm(",
     "library": "var_list.r",
     "varRefreshCmd": "cat(var_dic_list()) "
    }
   },
   "types_to_exclude": [
    "module",
    "function",
    "builtin_function_or_method",
    "instance",
    "_Feature"
   ],
   "window_display": false
  }
 },
 "nbformat": 4,
 "nbformat_minor": 2
}
