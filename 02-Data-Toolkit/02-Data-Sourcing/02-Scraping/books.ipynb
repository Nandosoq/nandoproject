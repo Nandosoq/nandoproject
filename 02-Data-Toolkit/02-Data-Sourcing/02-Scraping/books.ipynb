{
 "cells": [
  {
   "cell_type": "code",
   "execution_count": 1,
   "id": "6eb1f143",
   "metadata": {},
   "outputs": [],
   "source": [
    "import requests\n",
    "from bs4 import BeautifulSoup\n",
    "\n",
    "import numpy as np\n",
    "import pandas as pd\n",
    "\n",
    "%matplotlib inline\n",
    "import matplotlib"
   ]
  },
  {
   "cell_type": "code",
   "execution_count": 2,
   "id": "5143c634",
   "metadata": {},
   "outputs": [],
   "source": [
    "url = \"http://books.toscrape.com/\""
   ]
  },
  {
   "cell_type": "code",
   "execution_count": 3,
   "id": "c4c92364",
   "metadata": {},
   "outputs": [],
   "source": [
    "response = requests.get(url, headers={\"Accept-Language\":\"en-US\"})\n",
    "soup = BeautifulSoup(response.content, \"html.parser\")"
   ]
  },
  {
   "cell_type": "markdown",
   "id": "2ad3b6ec",
   "metadata": {},
   "source": [
    "< article class=\"product_pod\">"
   ]
  },
  {
   "cell_type": "code",
   "execution_count": 6,
   "id": "a7c2f2a5",
   "metadata": {},
   "outputs": [],
   "source": [
    "books_html  = soup.find_all(\"article\", class_=\"product_pod\")"
   ]
  },
  {
   "cell_type": "markdown",
   "id": "aff302c8",
   "metadata": {},
   "source": [
    "## Parsing _one_ book"
   ]
  },
  {
   "cell_type": "code",
   "execution_count": 15,
   "id": "4cfab903",
   "metadata": {},
   "outputs": [
    {
     "data": {
      "text/plain": [
       "20"
      ]
     },
     "execution_count": 15,
     "metadata": {},
     "output_type": "execute_result"
    }
   ],
   "source": [
    "type(books_html)\n",
    "len(books_html)"
   ]
  },
  {
   "cell_type": "code",
   "execution_count": 43,
   "id": "5956fd7e",
   "metadata": {},
   "outputs": [
    {
     "data": {
      "text/plain": [
       "51.77"
      ]
     },
     "execution_count": 43,
     "metadata": {},
     "output_type": "execute_result"
    }
   ],
   "source": [
    "#Title\n",
    "books_html[0].find(\"h3\").find(\"a\").attrs\n",
    "book_title = books_html[0].find(\"h3\").find(\"a\").attrs[\"title\"]\n",
    "float(books_html[0].find(\"p\", class_=\"price_color\").string[1:])"
   ]
  },
  {
   "cell_type": "code",
   "execution_count": 53,
   "id": "58b6c061",
   "metadata": {},
   "outputs": [
    {
     "data": {
      "text/plain": [
       "'Three'"
      ]
     },
     "execution_count": 53,
     "metadata": {},
     "output_type": "execute_result"
    }
   ],
   "source": [
    "books_html[0].find(\"p\", class_=\"star-rating\")['class'][1]"
   ]
  },
  {
   "cell_type": "code",
   "execution_count": 54,
   "id": "6dbd9414",
   "metadata": {},
   "outputs": [
    {
     "data": {
      "text/plain": [
       "<p class=\"star-rating Three\">\n",
       "<i class=\"icon-star\"></i>\n",
       "<i class=\"icon-star\"></i>\n",
       "<i class=\"icon-star\"></i>\n",
       "<i class=\"icon-star\"></i>\n",
       "<i class=\"icon-star\"></i>\n",
       "</p>"
      ]
     },
     "execution_count": 54,
     "metadata": {},
     "output_type": "execute_result"
    }
   ],
   "source": [
    "book_stars_html = books_html[0].find(\"p\", class_=\"star-rating\")\n",
    "book_stars_html"
   ]
  },
  {
   "cell_type": "code",
   "execution_count": 44,
   "id": "6951acd6",
   "metadata": {},
   "outputs": [
    {
     "data": {
      "text/plain": [
       "<p class=\"star-rating Three\">\n",
       "<i class=\"icon-star\"></i>\n",
       "<i class=\"icon-star\"></i>\n",
       "<i class=\"icon-star\"></i>\n",
       "<i class=\"icon-star\"></i>\n",
       "<i class=\"icon-star\"></i>\n",
       "</p>"
      ]
     },
     "execution_count": 44,
     "metadata": {},
     "output_type": "execute_result"
    }
   ],
   "source": [
    "books_html[0].find(\"p\", class_=\"star-rating\")"
   ]
  },
  {
   "cell_type": "code",
   "execution_count": 56,
   "id": "c0252d58",
   "metadata": {},
   "outputs": [],
   "source": [
    "def parse_rating(rating_classes):\n",
    "    \n",
    "    if rating_classes == 'One':\n",
    "        return 1\n",
    "    \n",
    "    elif rating_classes == 'Two':\n",
    "        return 2\n",
    "    \n",
    "    elif rating_classes == 'Three':\n",
    "        return 3 \n",
    "    \n",
    "    elif rating_classes == 'Four':\n",
    "        return 4\n",
    "    \n",
    "    elif rating_classes == 'Five':\n",
    "        return 5   \n",
    "\n",
    "    return 0"
   ]
  },
  {
   "cell_type": "code",
   "execution_count": 61,
   "id": "487ce64e",
   "metadata": {},
   "outputs": [
    {
     "data": {
      "text/plain": [
       "4"
      ]
     },
     "execution_count": 61,
     "metadata": {},
     "output_type": "execute_result"
    }
   ],
   "source": [
    "parse_rating(books_html[3].find(\"p\", class_=\"star-rating\")['class'][1])"
   ]
  },
  {
   "cell_type": "markdown",
   "id": "0b5701ed",
   "metadata": {},
   "source": [
    "Title => [\"A light in the attic\", \"Tipping the Velvet\", ...]\n",
    "\n",
    "Price => [51.77, 53.74, ...]\n",
    "\n",
    "Rating => [3, 1, ...]"
   ]
  },
  {
   "cell_type": "code",
   "execution_count": 74,
   "id": "37fcfb7d",
   "metadata": {},
   "outputs": [],
   "source": [
    "books_dict={'Title':[], 'Price':[], 'Rating':[]}\n",
    "\n",
    "\n",
    "for book in books_html:\n",
    "    title = book.find(\"h3\").find(\"a\").attrs[\"title\"]\n",
    "    price = float(book.find(\"p\", class_=\"price_color\").string[1:])\n",
    "    rating = parse_rating(book.find(\"p\", class_=\"star-rating\")['class'][1])\n",
    "    \n",
    "    books_dict['Title'].append(title) \n",
    "    books_dict['Price'].append(price)\n",
    "    books_dict['Rating'].append(rating)\n",
    "\n",
    "#book_title = books_html[0].find(\"h3\").find(\"a\").attrs[\"title\"]"
   ]
  },
  {
   "cell_type": "code",
   "execution_count": 77,
   "id": "d663ce7e",
   "metadata": {
    "scrolled": true
   },
   "outputs": [],
   "source": [
    "books_df = pd.DataFrame.from_dict(books_dict)"
   ]
  },
  {
   "cell_type": "code",
   "execution_count": 78,
   "id": "a42312f0",
   "metadata": {},
   "outputs": [
    {
     "name": "stdout",
     "output_type": "stream",
     "text": [
      "\u001b[1m============================= test session starts ==============================\u001b[0m\n",
      "platform linux -- Python 3.8.6, pytest-6.2.4, py-1.10.0, pluggy-0.13.1 -- /home/nandosoq/.pyenv/versions/lewagon/bin/python3\n",
      "cachedir: .pytest_cache\n",
      "rootdir: /home/nandosoq/code/Nandosoq/data-challenges/02-Data-Toolkit/02-Data-Sourcing/02-Scraping\n",
      "plugins: anyio-3.2.1, dash-1.21.0\n",
      "\u001b[1mcollecting ... \u001b[0mcollected 6 items\n",
      "\n",
      "tests/test_books.py::TestBooks::test_books_df_columns_name \u001b[32mPASSED\u001b[0m\u001b[32m        [ 16%]\u001b[0m\n",
      "tests/test_books.py::TestBooks::test_books_df_columns_size \u001b[32mPASSED\u001b[0m\u001b[32m        [ 33%]\u001b[0m\n",
      "tests/test_books.py::TestBooks::test_books_dict_id_defined \u001b[32mPASSED\u001b[0m\u001b[32m        [ 50%]\u001b[0m\n",
      "tests/test_books.py::TestBooks::test_first_book_price \u001b[32mPASSED\u001b[0m\u001b[32m             [ 66%]\u001b[0m\n",
      "tests/test_books.py::TestBooks::test_first_book_rating \u001b[32mPASSED\u001b[0m\u001b[32m            [ 83%]\u001b[0m\n",
      "tests/test_books.py::TestBooks::test_first_book_title \u001b[32mPASSED\u001b[0m\u001b[32m             [100%]\u001b[0m\n",
      "\n",
      "\u001b[32m============================== \u001b[32m\u001b[1m6 passed\u001b[0m\u001b[32m in 0.30s\u001b[0m\u001b[32m ===============================\u001b[0m\n",
      "\n",
      "\n",
      "💯 You can commit your code:\n",
      "\n",
      "\u001b[1;32mgit\u001b[39m add tests/books.pickle\n",
      "\n",
      "\u001b[32mgit\u001b[39m commit -m \u001b[33m'Completed books step'\u001b[39m\n",
      "\n",
      "\u001b[32mgit\u001b[39m push origin master\n"
     ]
    }
   ],
   "source": [
    "from nbresult import ChallengeResult\n",
    "\n",
    "result = ChallengeResult('books',\n",
    "    books_dict=books_dict,\n",
    "    columns=books_df.columns,\n",
    "    title=str(books_df.loc[0,'Title']),\n",
    "    price=books_df.loc[0,'Price'],\n",
    "    rating=books_df.loc[0,'Rating']\n",
    ")\n",
    "result.write()\n",
    "print(result.check())"
   ]
  },
  {
   "cell_type": "code",
   "execution_count": null,
   "id": "ed37ab2c",
   "metadata": {},
   "outputs": [],
   "source": []
  },
  {
   "cell_type": "code",
   "execution_count": null,
   "id": "951caae4",
   "metadata": {},
   "outputs": [],
   "source": []
  }
 ],
 "metadata": {
  "kernelspec": {
   "display_name": "Python 3 (ipykernel)",
   "language": "python",
   "name": "python3"
  },
  "language_info": {
   "codemirror_mode": {
    "name": "ipython",
    "version": 3
   },
   "file_extension": ".py",
   "mimetype": "text/x-python",
   "name": "python",
   "nbconvert_exporter": "python",
   "pygments_lexer": "ipython3",
   "version": "3.8.6"
  },
  "toc": {
   "base_numbering": 1,
   "nav_menu": {},
   "number_sections": true,
   "sideBar": true,
   "skip_h1_title": false,
   "title_cell": "Table of Contents",
   "title_sidebar": "Contents",
   "toc_cell": false,
   "toc_position": {},
   "toc_section_display": true,
   "toc_window_display": false
  }
 },
 "nbformat": 4,
 "nbformat_minor": 5
}
