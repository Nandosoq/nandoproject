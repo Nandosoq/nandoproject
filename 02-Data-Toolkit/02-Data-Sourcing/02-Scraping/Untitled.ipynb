{
 "cells": [
  {
   "cell_type": "code",
   "execution_count": 1,
   "id": "272386a5",
   "metadata": {},
   "outputs": [],
   "source": [
    "import requests\n",
    "from bs4 import BeautifulSoup\n",
    "\n",
    "import numpy as np\n",
    "import pandas as pd\n",
    "\n",
    "%matplotlib inline\n",
    "import matplotlib"
   ]
  },
  {
   "cell_type": "code",
   "execution_count": 2,
   "id": "fcb2c357",
   "metadata": {},
   "outputs": [],
   "source": [
    "url = \"http://books.toscrape.com/\""
   ]
  },
  {
   "cell_type": "code",
   "execution_count": 3,
   "id": "6a5718e7",
   "metadata": {},
   "outputs": [],
   "source": [
    "response = requests.get(url, headers={\"Accept-Language\":\"en-US\"})\n",
    "soup = BeautifulSoup(response.content, \"html.parser\")"
   ]
  },
  {
   "cell_type": "markdown",
   "id": "28b9bd7b",
   "metadata": {},
   "source": [
    "< article class=\"product_pod\">"
   ]
  },
  {
   "cell_type": "code",
   "execution_count": 6,
   "id": "b5f6969a",
   "metadata": {},
   "outputs": [],
   "source": [
    "books_html  = soup.find_all(\"article\", class_=\"product_pod\")"
   ]
  },
  {
   "cell_type": "markdown",
   "id": "8319cf83",
   "metadata": {},
   "source": [
    "## Parsing _one_ book"
   ]
  },
  {
   "cell_type": "code",
   "execution_count": 15,
   "id": "90753710",
   "metadata": {},
   "outputs": [
    {
     "data": {
      "text/plain": [
       "20"
      ]
     },
     "execution_count": 15,
     "metadata": {},
     "output_type": "execute_result"
    }
   ],
   "source": [
    "type(books_html)\n",
    "len(books_html)"
   ]
  },
  {
   "cell_type": "code",
   "execution_count": 43,
   "id": "73ba42a5",
   "metadata": {},
   "outputs": [
    {
     "data": {
      "text/plain": [
       "51.77"
      ]
     },
     "execution_count": 43,
     "metadata": {},
     "output_type": "execute_result"
    }
   ],
   "source": [
    "#Title\n",
    "books_html[0].find(\"h3\").find(\"a\").attrs\n",
    "book_title = books_html[0].find(\"h3\").find(\"a\").attrs[\"title\"]\n",
    "float(books_html[0].find(\"p\", class_=\"price_color\").string[1:])"
   ]
  },
  {
   "cell_type": "code",
   "execution_count": 53,
   "id": "18d547bb",
   "metadata": {},
   "outputs": [
    {
     "data": {
      "text/plain": [
       "'Three'"
      ]
     },
     "execution_count": 53,
     "metadata": {},
     "output_type": "execute_result"
    }
   ],
   "source": [
    "books_html[0].find(\"p\", class_=\"star-rating\")['class'][1]"
   ]
  },
  {
   "cell_type": "code",
   "execution_count": 54,
   "id": "a8670f40",
   "metadata": {},
   "outputs": [
    {
     "data": {
      "text/plain": [
       "<p class=\"star-rating Three\">\n",
       "<i class=\"icon-star\"></i>\n",
       "<i class=\"icon-star\"></i>\n",
       "<i class=\"icon-star\"></i>\n",
       "<i class=\"icon-star\"></i>\n",
       "<i class=\"icon-star\"></i>\n",
       "</p>"
      ]
     },
     "execution_count": 54,
     "metadata": {},
     "output_type": "execute_result"
    }
   ],
   "source": [
    "book_stars_html = books_html[0].find(\"p\", class_=\"star-rating\")\n",
    "book_stars_html"
   ]
  },
  {
   "cell_type": "code",
   "execution_count": 44,
   "id": "1bb1f603",
   "metadata": {},
   "outputs": [
    {
     "data": {
      "text/plain": [
       "<p class=\"star-rating Three\">\n",
       "<i class=\"icon-star\"></i>\n",
       "<i class=\"icon-star\"></i>\n",
       "<i class=\"icon-star\"></i>\n",
       "<i class=\"icon-star\"></i>\n",
       "<i class=\"icon-star\"></i>\n",
       "</p>"
      ]
     },
     "execution_count": 44,
     "metadata": {},
     "output_type": "execute_result"
    }
   ],
   "source": [
    "books_html[0].find(\"p\", class_=\"star-rating\")"
   ]
  },
  {
   "cell_type": "code",
   "execution_count": 56,
   "id": "806f3547",
   "metadata": {},
   "outputs": [],
   "source": [
    "def parse_rating(rating_classes):\n",
    "    \n",
    "    if rating_classes == 'One':\n",
    "        return 1\n",
    "    \n",
    "    elif rating_classes == 'Two':\n",
    "        return 2\n",
    "    \n",
    "    elif rating_classes == 'Three':\n",
    "        return 3 \n",
    "    \n",
    "    elif rating_classes == 'Four':\n",
    "        return 4\n",
    "    \n",
    "    elif rating_classes == 'Five':\n",
    "        return 5   \n",
    "\n",
    "    return 0"
   ]
  },
  {
   "cell_type": "code",
   "execution_count": 61,
   "id": "021f86af",
   "metadata": {},
   "outputs": [
    {
     "data": {
      "text/plain": [
       "4"
      ]
     },
     "execution_count": 61,
     "metadata": {},
     "output_type": "execute_result"
    }
   ],
   "source": [
    "parse_rating(books_html[3].find(\"p\", class_=\"star-rating\")['class'][1])"
   ]
  },
  {
   "cell_type": "markdown",
   "id": "8f8328db",
   "metadata": {},
   "source": [
    "Title => [\"A light in the attic\", \"Tipping the Velvet\", ...]\n",
    "\n",
    "Price => [51.77, 53.74, ...]\n",
    "\n",
    "Rating => [3, 1, ...]"
   ]
  },
  {
   "cell_type": "code",
   "execution_count": 74,
   "id": "b76bd49a",
   "metadata": {},
   "outputs": [],
   "source": [
    "books_dict={'Title':[], 'Price':[], 'Rating':[]}\n",
    "\n",
    "\n",
    "for book in books_html:\n",
    "    title = book.find(\"h3\").find(\"a\").attrs[\"title\"]\n",
    "    price = float(book.find(\"p\", class_=\"price_color\").string[1:])\n",
    "    rating = parse_rating(book.find(\"p\", class_=\"star-rating\")['class'][1])\n",
    "    \n",
    "    books_dict['Title'].append(title) \n",
    "    books_dict['Price'].append(price)\n",
    "    books_dict['Rating'].append(rating)\n",
    "\n",
    "#book_title = books_html[0].find(\"h3\").find(\"a\").attrs[\"title\"]"
   ]
  },
  {
   "cell_type": "code",
   "execution_count": 75,
   "id": "b372ca48",
   "metadata": {
    "scrolled": true
   },
   "outputs": [
    {
     "data": {
      "text/plain": [
       "{'Title': ['A Light in the Attic',\n",
       "  'Tipping the Velvet',\n",
       "  'Soumission',\n",
       "  'Sharp Objects',\n",
       "  'Sapiens: A Brief History of Humankind',\n",
       "  'The Requiem Red',\n",
       "  'The Dirty Little Secrets of Getting Your Dream Job',\n",
       "  'The Coming Woman: A Novel Based on the Life of the Infamous Feminist, Victoria Woodhull',\n",
       "  'The Boys in the Boat: Nine Americans and Their Epic Quest for Gold at the 1936 Berlin Olympics',\n",
       "  'The Black Maria',\n",
       "  'Starving Hearts (Triangular Trade Trilogy, #1)',\n",
       "  \"Shakespeare's Sonnets\",\n",
       "  'Set Me Free',\n",
       "  \"Scott Pilgrim's Precious Little Life (Scott Pilgrim #1)\",\n",
       "  'Rip it Up and Start Again',\n",
       "  'Our Band Could Be Your Life: Scenes from the American Indie Underground, 1981-1991',\n",
       "  'Olio',\n",
       "  'Mesaerion: The Best Science Fiction Stories 1800-1849',\n",
       "  'Libertarianism for Beginners',\n",
       "  \"It's Only the Himalayas\"],\n",
       " 'Price': [51.77,\n",
       "  53.74,\n",
       "  50.1,\n",
       "  47.82,\n",
       "  54.23,\n",
       "  22.65,\n",
       "  33.34,\n",
       "  17.93,\n",
       "  22.6,\n",
       "  52.15,\n",
       "  13.99,\n",
       "  20.66,\n",
       "  17.46,\n",
       "  52.29,\n",
       "  35.02,\n",
       "  57.25,\n",
       "  23.88,\n",
       "  37.59,\n",
       "  51.33,\n",
       "  45.17],\n",
       " 'Rating': [3, 1, 1, 4, 5, 1, 4, 3, 4, 1, 2, 4, 5, 5, 5, 3, 1, 1, 2, 2]}"
      ]
     },
     "execution_count": 75,
     "metadata": {},
     "output_type": "execute_result"
    }
   ],
   "source": [
    "books_dict"
   ]
  },
  {
   "cell_type": "code",
   "execution_count": null,
   "id": "1b2eaae8",
   "metadata": {},
   "outputs": [],
   "source": []
  }
 ],
 "metadata": {
  "kernelspec": {
   "display_name": "Python 3 (ipykernel)",
   "language": "python",
   "name": "python3"
  },
  "language_info": {
   "codemirror_mode": {
    "name": "ipython",
    "version": 3
   },
   "file_extension": ".py",
   "mimetype": "text/x-python",
   "name": "python",
   "nbconvert_exporter": "python",
   "pygments_lexer": "ipython3",
   "version": "3.8.6"
  },
  "toc": {
   "base_numbering": 1,
   "nav_menu": {},
   "number_sections": true,
   "sideBar": true,
   "skip_h1_title": false,
   "title_cell": "Table of Contents",
   "title_sidebar": "Contents",
   "toc_cell": false,
   "toc_position": {},
   "toc_section_display": true,
   "toc_window_display": false
  }
 },
 "nbformat": 4,
 "nbformat_minor": 5
}
