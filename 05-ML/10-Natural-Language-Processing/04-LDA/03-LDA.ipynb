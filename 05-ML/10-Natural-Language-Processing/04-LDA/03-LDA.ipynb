{
 "cells": [
  {
   "cell_type": "markdown",
   "metadata": {},
   "source": [
    "# Latent Dirichlet Allocation"
   ]
  },
  {
   "cell_type": "code",
   "execution_count": 7,
   "metadata": {},
   "outputs": [
    {
     "data": {
      "text/html": [
       "<div>\n",
       "<style scoped>\n",
       "    .dataframe tbody tr th:only-of-type {\n",
       "        vertical-align: middle;\n",
       "    }\n",
       "\n",
       "    .dataframe tbody tr th {\n",
       "        vertical-align: top;\n",
       "    }\n",
       "\n",
       "    .dataframe thead th {\n",
       "        text-align: right;\n",
       "    }\n",
       "</style>\n",
       "<table border=\"1\" class=\"dataframe\">\n",
       "  <thead>\n",
       "    <tr style=\"text-align: right;\">\n",
       "      <th></th>\n",
       "      <th>text</th>\n",
       "    </tr>\n",
       "  </thead>\n",
       "  <tbody>\n",
       "    <tr>\n",
       "      <th>0</th>\n",
       "      <td>From: gld@cunixb.cc.columbia.edu (Gary L Dare)...</td>\n",
       "    </tr>\n",
       "    <tr>\n",
       "      <th>1</th>\n",
       "      <td>From: atterlep@vela.acs.oakland.edu (Cardinal ...</td>\n",
       "    </tr>\n",
       "    <tr>\n",
       "      <th>2</th>\n",
       "      <td>From: miner@kuhub.cc.ukans.edu\\nSubject: Re: A...</td>\n",
       "    </tr>\n",
       "    <tr>\n",
       "      <th>3</th>\n",
       "      <td>From: atterlep@vela.acs.oakland.edu (Cardinal ...</td>\n",
       "    </tr>\n",
       "    <tr>\n",
       "      <th>4</th>\n",
       "      <td>From: vzhivov@superior.carleton.ca (Vladimir Z...</td>\n",
       "    </tr>\n",
       "  </tbody>\n",
       "</table>\n",
       "</div>"
      ],
      "text/plain": [
       "                                                text\n",
       "0  From: gld@cunixb.cc.columbia.edu (Gary L Dare)...\n",
       "1  From: atterlep@vela.acs.oakland.edu (Cardinal ...\n",
       "2  From: miner@kuhub.cc.ukans.edu\\nSubject: Re: A...\n",
       "3  From: atterlep@vela.acs.oakland.edu (Cardinal ...\n",
       "4  From: vzhivov@superior.carleton.ca (Vladimir Z..."
      ]
     },
     "execution_count": 7,
     "metadata": {},
     "output_type": "execute_result"
    }
   ],
   "source": [
    "import pandas as pd\n",
    "\n",
    "data = pd.read_csv('data', sep=\",\", header=None)\n",
    "\n",
    "data.columns = ['text']\n",
    "\n",
    "data.head()"
   ]
  },
  {
   "cell_type": "markdown",
   "metadata": {},
   "source": [
    "The data is a collection of emails that are not labelled. Let's try extract topics from them!"
   ]
  },
  {
   "cell_type": "markdown",
   "metadata": {},
   "source": [
    "## Preprocessing "
   ]
  },
  {
   "cell_type": "markdown",
   "metadata": {},
   "source": [
    "👇 You're used to it by now... Clean up! Store the cleaned text in a new dataframe column \"clean_text\"."
   ]
  },
  {
   "cell_type": "code",
   "execution_count": 5,
   "metadata": {},
   "outputs": [],
   "source": [
    "import string \n",
    "from nltk.corpus import stopwords \n",
    "from nltk.tokenize import word_tokenize\n",
    "from nltk.stem.porter import PorterStemmer\n",
    "\n",
    "stop_words = set(stopwords.words('english')) \n",
    "stemmer = PorterStemmer()\n",
    "\n",
    "def rem_punct(text):\n",
    "    for punctuation in string.punctuation:\n",
    "        text = text.replace(punctuation, '')\n",
    "    return text\n",
    "\n",
    "def low_case(text):\n",
    "    text = text.lower() \n",
    "    return text\n",
    "\n",
    "def rem_number(text):\n",
    "    text = ''.join(word for word in text if not word.isdigit())\n",
    "    return text\n",
    "\n",
    "def rem_stop_words(text):\n",
    "    \n",
    "    word_tokens = word_tokenize(text) \n",
    "    text = [w for w in word_tokens if not w in stop_words]     \n",
    "    return text\n",
    "\n",
    "def app_lemmatize(text):\n",
    "    \n",
    "    stemmed = [stemmer.stem(word) for word in text]\n",
    "    return stemmed\n",
    "\n"
   ]
  },
  {
   "cell_type": "code",
   "execution_count": 8,
   "metadata": {},
   "outputs": [],
   "source": [
    "data['clean_mail'] = data['text'].apply(rem_punct)\n",
    "\n",
    "data['clean_mail'] = data['clean_mail'].apply(low_case)\n",
    "data['clean_mail'] = data['clean_mail'].apply(rem_number)\n",
    "data['clean_mail'] = data['clean_mail'].apply(rem_stop_words)\n",
    "data['clean_mail'] = data['clean_mail'].apply(app_lemmatize)\n",
    "\n",
    "for i in range(len(data)):\n",
    "    data['clean_mail'][i] = ' '.join(data['clean_mail'][i])\n"
   ]
  },
  {
   "cell_type": "markdown",
   "metadata": {},
   "source": [
    "## Latent Dirichlet Allocation model"
   ]
  },
  {
   "cell_type": "markdown",
   "metadata": {},
   "source": [
    "👇 Train an LDA model to extract potential topics."
   ]
  },
  {
   "cell_type": "code",
   "execution_count": 30,
   "metadata": {},
   "outputs": [
    {
     "ename": "KeyError",
     "evalue": "'clean_mail'",
     "output_type": "error",
     "traceback": [
      "\u001b[0;31m---------------------------------------------------------------------------\u001b[0m",
      "\u001b[0;31mKeyError\u001b[0m                                  Traceback (most recent call last)",
      "\u001b[0;32m~/.pyenv/versions/3.8.6/envs/lewagon/lib/python3.8/site-packages/pandas/core/indexes/base.py\u001b[0m in \u001b[0;36mget_loc\u001b[0;34m(self, key, method, tolerance)\u001b[0m\n\u001b[1;32m   3360\u001b[0m             \u001b[0;32mtry\u001b[0m\u001b[0;34m:\u001b[0m\u001b[0;34m\u001b[0m\u001b[0;34m\u001b[0m\u001b[0m\n\u001b[0;32m-> 3361\u001b[0;31m                 \u001b[0;32mreturn\u001b[0m \u001b[0mself\u001b[0m\u001b[0;34m.\u001b[0m\u001b[0m_engine\u001b[0m\u001b[0;34m.\u001b[0m\u001b[0mget_loc\u001b[0m\u001b[0;34m(\u001b[0m\u001b[0mcasted_key\u001b[0m\u001b[0;34m)\u001b[0m\u001b[0;34m\u001b[0m\u001b[0;34m\u001b[0m\u001b[0m\n\u001b[0m\u001b[1;32m   3362\u001b[0m             \u001b[0;32mexcept\u001b[0m \u001b[0mKeyError\u001b[0m \u001b[0;32mas\u001b[0m \u001b[0merr\u001b[0m\u001b[0;34m:\u001b[0m\u001b[0;34m\u001b[0m\u001b[0;34m\u001b[0m\u001b[0m\n",
      "\u001b[0;32m~/.pyenv/versions/3.8.6/envs/lewagon/lib/python3.8/site-packages/pandas/_libs/index.pyx\u001b[0m in \u001b[0;36mpandas._libs.index.IndexEngine.get_loc\u001b[0;34m()\u001b[0m\n",
      "\u001b[0;32mpandas/_libs/index_class_helper.pxi\u001b[0m in \u001b[0;36mpandas._libs.index.Int64Engine._check_type\u001b[0;34m()\u001b[0m\n",
      "\u001b[0;32mpandas/_libs/index_class_helper.pxi\u001b[0m in \u001b[0;36mpandas._libs.index.Int64Engine._check_type\u001b[0;34m()\u001b[0m\n",
      "\u001b[0;31mKeyError\u001b[0m: 'clean_mail'",
      "\nThe above exception was the direct cause of the following exception:\n",
      "\u001b[0;31mKeyError\u001b[0m                                  Traceback (most recent call last)",
      "\u001b[0;32m/tmp/ipykernel_4410/3768230985.py\u001b[0m in \u001b[0;36m<module>\u001b[0;34m\u001b[0m\n\u001b[1;32m      4\u001b[0m \u001b[0mn\u001b[0m\u001b[0;34m=\u001b[0m\u001b[0;36m2\u001b[0m\u001b[0;34m\u001b[0m\u001b[0;34m\u001b[0m\u001b[0m\n\u001b[1;32m      5\u001b[0m \u001b[0;34m\u001b[0m\u001b[0m\n\u001b[0;32m----> 6\u001b[0;31m \u001b[0mvectorizer\u001b[0m \u001b[0;34m=\u001b[0m \u001b[0mTfidfVectorizer\u001b[0m\u001b[0;34m(\u001b[0m\u001b[0;34m)\u001b[0m\u001b[0;34m.\u001b[0m\u001b[0mfit\u001b[0m\u001b[0;34m(\u001b[0m\u001b[0mdata\u001b[0m\u001b[0;34m[\u001b[0m\u001b[0;34m'clean_mail'\u001b[0m\u001b[0;34m]\u001b[0m\u001b[0;34m)\u001b[0m\u001b[0;34m\u001b[0m\u001b[0;34m\u001b[0m\u001b[0m\n\u001b[0m\u001b[1;32m      7\u001b[0m \u001b[0;34m\u001b[0m\u001b[0m\n\u001b[1;32m      8\u001b[0m \u001b[0mdata_vectorized\u001b[0m \u001b[0;34m=\u001b[0m \u001b[0mvectorizer\u001b[0m\u001b[0;34m.\u001b[0m\u001b[0mtransform\u001b[0m\u001b[0;34m(\u001b[0m\u001b[0mdata\u001b[0m\u001b[0;34m[\u001b[0m\u001b[0;34m'clean_mail'\u001b[0m\u001b[0;34m]\u001b[0m\u001b[0;34m)\u001b[0m\u001b[0;34m\u001b[0m\u001b[0;34m\u001b[0m\u001b[0m\n",
      "\u001b[0;32m~/.pyenv/versions/3.8.6/envs/lewagon/lib/python3.8/site-packages/pandas/core/frame.py\u001b[0m in \u001b[0;36m__getitem__\u001b[0;34m(self, key)\u001b[0m\n\u001b[1;32m   3453\u001b[0m             \u001b[0;32mif\u001b[0m \u001b[0mself\u001b[0m\u001b[0;34m.\u001b[0m\u001b[0mcolumns\u001b[0m\u001b[0;34m.\u001b[0m\u001b[0mnlevels\u001b[0m \u001b[0;34m>\u001b[0m \u001b[0;36m1\u001b[0m\u001b[0;34m:\u001b[0m\u001b[0;34m\u001b[0m\u001b[0;34m\u001b[0m\u001b[0m\n\u001b[1;32m   3454\u001b[0m                 \u001b[0;32mreturn\u001b[0m \u001b[0mself\u001b[0m\u001b[0;34m.\u001b[0m\u001b[0m_getitem_multilevel\u001b[0m\u001b[0;34m(\u001b[0m\u001b[0mkey\u001b[0m\u001b[0;34m)\u001b[0m\u001b[0;34m\u001b[0m\u001b[0;34m\u001b[0m\u001b[0m\n\u001b[0;32m-> 3455\u001b[0;31m             \u001b[0mindexer\u001b[0m \u001b[0;34m=\u001b[0m \u001b[0mself\u001b[0m\u001b[0;34m.\u001b[0m\u001b[0mcolumns\u001b[0m\u001b[0;34m.\u001b[0m\u001b[0mget_loc\u001b[0m\u001b[0;34m(\u001b[0m\u001b[0mkey\u001b[0m\u001b[0;34m)\u001b[0m\u001b[0;34m\u001b[0m\u001b[0;34m\u001b[0m\u001b[0m\n\u001b[0m\u001b[1;32m   3456\u001b[0m             \u001b[0;32mif\u001b[0m \u001b[0mis_integer\u001b[0m\u001b[0;34m(\u001b[0m\u001b[0mindexer\u001b[0m\u001b[0;34m)\u001b[0m\u001b[0;34m:\u001b[0m\u001b[0;34m\u001b[0m\u001b[0;34m\u001b[0m\u001b[0m\n\u001b[1;32m   3457\u001b[0m                 \u001b[0mindexer\u001b[0m \u001b[0;34m=\u001b[0m \u001b[0;34m[\u001b[0m\u001b[0mindexer\u001b[0m\u001b[0;34m]\u001b[0m\u001b[0;34m\u001b[0m\u001b[0;34m\u001b[0m\u001b[0m\n",
      "\u001b[0;32m~/.pyenv/versions/3.8.6/envs/lewagon/lib/python3.8/site-packages/pandas/core/indexes/base.py\u001b[0m in \u001b[0;36mget_loc\u001b[0;34m(self, key, method, tolerance)\u001b[0m\n\u001b[1;32m   3361\u001b[0m                 \u001b[0;32mreturn\u001b[0m \u001b[0mself\u001b[0m\u001b[0;34m.\u001b[0m\u001b[0m_engine\u001b[0m\u001b[0;34m.\u001b[0m\u001b[0mget_loc\u001b[0m\u001b[0;34m(\u001b[0m\u001b[0mcasted_key\u001b[0m\u001b[0;34m)\u001b[0m\u001b[0;34m\u001b[0m\u001b[0;34m\u001b[0m\u001b[0m\n\u001b[1;32m   3362\u001b[0m             \u001b[0;32mexcept\u001b[0m \u001b[0mKeyError\u001b[0m \u001b[0;32mas\u001b[0m \u001b[0merr\u001b[0m\u001b[0;34m:\u001b[0m\u001b[0;34m\u001b[0m\u001b[0;34m\u001b[0m\u001b[0m\n\u001b[0;32m-> 3363\u001b[0;31m                 \u001b[0;32mraise\u001b[0m \u001b[0mKeyError\u001b[0m\u001b[0;34m(\u001b[0m\u001b[0mkey\u001b[0m\u001b[0;34m)\u001b[0m \u001b[0;32mfrom\u001b[0m \u001b[0merr\u001b[0m\u001b[0;34m\u001b[0m\u001b[0;34m\u001b[0m\u001b[0m\n\u001b[0m\u001b[1;32m   3364\u001b[0m \u001b[0;34m\u001b[0m\u001b[0m\n\u001b[1;32m   3365\u001b[0m         \u001b[0;32mif\u001b[0m \u001b[0mis_scalar\u001b[0m\u001b[0;34m(\u001b[0m\u001b[0mkey\u001b[0m\u001b[0;34m)\u001b[0m \u001b[0;32mand\u001b[0m \u001b[0misna\u001b[0m\u001b[0;34m(\u001b[0m\u001b[0mkey\u001b[0m\u001b[0;34m)\u001b[0m \u001b[0;32mand\u001b[0m \u001b[0;32mnot\u001b[0m \u001b[0mself\u001b[0m\u001b[0;34m.\u001b[0m\u001b[0mhasnans\u001b[0m\u001b[0;34m:\u001b[0m\u001b[0;34m\u001b[0m\u001b[0;34m\u001b[0m\u001b[0m\n",
      "\u001b[0;31mKeyError\u001b[0m: 'clean_mail'"
     ]
    }
   ],
   "source": [
    "from sklearn.decomposition import LatentDirichletAllocation\n",
    "from sklearn.feature_extraction.text import TfidfVectorizer\n",
    "\n",
    "n=2\n",
    "\n",
    "vectorizer = TfidfVectorizer().fit(data['clean_mail'])\n",
    "\n",
    "data_vectorized = vectorizer.transform(data['clean_mail'])\n",
    "\n",
    "lda_model = LatentDirichletAllocation(n_components=n).fit(data_vectorized)\n",
    "\n"
   ]
  },
  {
   "cell_type": "markdown",
   "metadata": {},
   "source": [
    "## Visualize potential topics"
   ]
  },
  {
   "cell_type": "markdown",
   "metadata": {},
   "source": [
    "👇 The function to print the words associated with the potential topics is already made for you. You just have to pass the correct arguments!"
   ]
  },
  {
   "cell_type": "code",
   "execution_count": 24,
   "metadata": {},
   "outputs": [],
   "source": [
    "def print_topics(model, vectorizer):\n",
    "    for idx, topic in enumerate(model.components_):\n",
    "        print(\"Topic %d:\" % (idx))\n",
    "        print([(vectorizer.get_feature_names()[i], topic[i])\n",
    "                        for i in topic.argsort()[:-10 - 1:-1]])\n",
    "        "
   ]
  },
  {
   "cell_type": "code",
   "execution_count": 27,
   "metadata": {},
   "outputs": [
    {
     "name": "stdout",
     "output_type": "stream",
     "text": [
      "Topic 0:\n",
      "[('hrivnak', 3.7336364098066435), ('gtdaprismgatechedu', 3.5052790528906477), ('vote', 2.4715692738199357), ('poll', 2.3263337348697593), ('colon', 1.661666213586317), ('nhlpa', 1.544213735469102), ('brave', 1.5207563887578934), ('patton', 1.4591938258244483), ('hornet', 1.4591938258244483), ('friedman', 1.4219186948077607)]\n",
      "Topic 1:\n",
      "[('ideolog', 1.2223813100451495), ('denounc', 1.0220587322835872), ('lazaru', 0.9329203327632578), ('rolfedsuvaxdsuedu', 0.7616990845567164), ('administr', 0.7615172304457017), ('manipul', 0.6637480638369345), ('servic', 0.6266500379531555), ('mp', 0.592264029103994), ('wwaandrewcmuedu', 0.5687667841524586), ('categori', 0.5646702476005382)]\n",
      "Topic 2:\n",
      "[('tp', 1.1904744213787777), ('rochest', 0.923747376801503), ('terlep', 0.8856318665701742), ('disorgan', 0.8445506023497851), ('mi', 0.8376356615223374), ('oakland', 0.7976166689000257), ('alan', 0.7661201805924708), ('sledd', 0.7393109488807782), ('ylnen', 0.7107283588040664), ('centr', 0.6796547753127715)]\n",
      "Topic 3:\n",
      "[('gainey', 3.8274251625185824), ('bob', 2.3869482174908314), ('gretzki', 1.2863667399703234), ('mario', 1.274575035328543), ('plugger', 1.0719188090660228), ('selk', 1.063398458209936), ('honour', 1.0272718558875638), ('maynardramseycslaurentianca', 0.9843613177581109), ('lemieux', 0.9053380546027655), ('technic', 0.8882919536580172)]\n",
      "Topic 4:\n",
      "[('propheci', 1.5065478010012772), ('ny', 0.9996091549802061), ('band', 0.7194879414158518), ('salami', 0.6523610628086639), ('isaiah', 0.6451366001226204), ('model', 0.6373913378255998), ('amont', 0.6257581491663204), ('cyclic', 0.5766576270292083), ('mtv', 0.5723903773003329), ('sing', 0.5295097765685169)]\n",
      "Topic 5:\n",
      "[('foul', 1.0664318148024086), ('moor', 0.846790911992169), ('bell', 0.8375289194763391), ('newscbnewskattcom', 0.8327257733724092), ('crawl', 0.7214497562189044), ('apralchemychemutorontoca', 0.7094941584107853), ('basketbal', 0.6347234348991695), ('lyddi', 0.632360534504457), ('daniellcoryberkeleyedu', 0.632360534504457), ('snicholsadobecom', 0.6123152919736187)]\n",
      "Topic 6:\n",
      "[('marcu', 1.3259960297776465), ('babylon', 1.1946590203714142), ('mlindroosfinaboabofi', 1.03560844623301), ('germanborn', 0.9855030820389636), ('lindroo', 0.9361432309361475), ('inf', 0.9361432309361475), ('german', 0.9341321487973625), ('lyric', 0.8934385574359727), ('finland', 0.883527069828253), ('forward', 0.8733858123173801)]\n",
      "Topic 7:\n",
      "[('mari', 5.621733197370299), ('father', 4.740845904831762), ('murray', 3.491063178013716), ('gm', 3.1882332362179016), ('mass', 2.984086054891152), ('later', 2.8832521193997476), ('concept', 2.8249288622869524), ('caus', 2.5789308303976997), ('sin', 2.504170533449176), ('byler', 2.4769775018690243)]\n",
      "Topic 8:\n",
      "[('marriag', 5.52207688015648), ('marri', 4.641754211996786), ('ceremoni', 3.1961833716695254), ('sunday', 2.800366968021493), ('name', 2.5346086136459243), ('sport', 2.475279685285496), ('shark', 2.201874398835167), ('liturgi', 2.0697571304817344), ('satan', 2.0325023714316877), ('hear', 1.9316995391428256)]\n",
      "Topic 9:\n",
      "[('european', 5.889010842401778), ('american', 3.0859513298844434), ('easter', 2.526370238503356), ('canadian', 2.322871575847632), ('maynardramseycslaurentianca', 2.2813468736576215), ('celebr', 2.120265333881658), ('richard', 2.1112024702553676), ('gballenthudsonuvicca', 2.0811775731098563), ('bure', 1.9505826373222104), ('rauser', 1.7607959604813566)]\n",
      "Topic 10:\n",
      "[('card', 0.7587486514764183), ('revdaknetcomcom', 0.5076805658510111), ('spring', 0.4816948619588341), ('moslem', 0.47883158240632984), ('mayn', 0.47226331403433436), ('medicin', 0.4374564646233594), ('logistician', 0.43495215538921966), ('bede', 0.4276721049723153), ('lbutlerhubcapclemsonedu', 0.3999333958908423), ('clator', 0.3999333958908423)]\n",
      "Topic 11:\n",
      "[('oo', 0.6622742595856307), ('whoah', 0.504074738075441), ('fought', 0.4291438510399933), ('uninc', 0.39583090530559534), ('unorgan', 0.39583090530559534), ('andtbacka', 0.39583090530559534), ('mandtbackafinaboabofi', 0.39583090530559534), ('gibsonbillapplelinkapplecom', 0.39482213372744224), ('gibson', 0.39273914370355256), ('wodziak', 0.3776158239763071)]\n",
      "Topic 12:\n",
      "[('scroll', 0.4683718857409203), ('barasso', 0.4063002138865014), ('sea', 0.3602979370847259), ('cox', 0.318374478527271), ('sherman', 0.318374478527271), ('rbeskostadameastsuncom', 0.3063662313635266), ('beskosti', 0.3063662313635266), ('eisenman', 0.2997493950818266), ('bdownvistorontoedu', 0.29309403085831026), ('telecast', 0.2817345906990945)]\n",
      "Topic 13:\n",
      "[('georgia', 5.415807070831111), ('covington', 4.352132450629893), ('athen', 4.172704320392018), ('grass', 3.9850180392925885), ('program', 3.8151882824572225), ('valley', 3.6558175144232434), ('vers', 3.5551564022093127), ('michael', 3.0686481374099803), ('petchgvggvgtekcom', 2.9733641413983403), ('chuck', 2.914916279120628)]\n",
      "Topic 14:\n",
      "[('god', 12.01896303630394), ('christ', 11.045035712802049), ('belief', 9.006322222573525), ('christian', 8.93127312766568), ('author', 7.089364300468641), ('jesu', 7.054236633922222), ('follow', 6.89738774447245), ('work', 6.465825972022315), ('religion', 6.401808351079961), ('law', 6.342866708725553)]\n",
      "Topic 15:\n",
      "[('butera', 0.621715932772908), ('spank', 0.5601213817469654), ('rice', 0.5091644351518193), ('pt', 0.485216903439593), ('moslem', 0.46534490976882625), ('review', 0.4583836628110553), ('clair', 0.44847241070793664), ('witch', 0.3953956184309105), ('clfaemurdochaccvirginiaedu', 0.38918435760650516), ('casey', 0.36771875173961377)]\n",
      "Topic 16:\n",
      "[('nyr', 1.13383459645434), ('sj', 0.6936727066397187), ('seminari', 0.6624979391731646), ('ott', 0.6132451569194207), ('edm', 0.5507007140703862), ('tb', 0.5505473578901844), ('sutter', 0.5209629654131555), ('gallivan', 0.5188798246115758), ('mormon', 0.47775383432039065), ('nonliber', 0.47116621097761113)]\n",
      "Topic 17:\n",
      "[('fisher', 4.339568282032837), ('absolut', 4.257827557044975), ('truth', 3.269505767429581), ('jodfishesilverucsindianaedu', 2.3301876166839643), ('dale', 2.2316452979647874), ('indiana', 2.104861468835509), ('arrog', 1.7228053991618533), ('proof', 1.4884758579803037), ('group', 1.3911683130054822), ('evangel', 1.3189400052558127)]\n",
      "Topic 18:\n",
      "[('dare', 5.474395859641046), ('gari', 4.449092423433714), ('gldcunixbcccolumbiaedu', 4.162550782246504), ('keenan', 2.510823667479811), ('franci', 2.2559325613840797), ('jagr', 2.0784720724376298), ('gld', 1.7065798287465832), ('gldcolumbiaedu', 1.7065798287465832), ('gldcunixcbitnet', 1.7065798287465832), ('cunixbcccolumbiaedu', 1.7065798287465832)]\n",
      "Topic 19:\n",
      "[('chi', 3.6184317900914293), ('det', 3.4847463760564628), ('bo', 3.4056178615127757), ('cal', 3.397825527614426), ('tor', 3.0165937131827327), ('van', 2.7169424674634555), ('pit', 2.6632307153924963), ('nyi', 2.295030321995049), ('stl', 2.144799183057199), ('que', 2.0900806786231705)]\n",
      "Topic 20:\n",
      "[('gm', 2.2504261982304263), ('homosexu', 1.8145541776147662), ('rochest', 1.6494940100687847), ('adirondack', 1.2068189096953261), ('ny', 1.0981970507179415), ('fergusoncsrochesteredu', 1.0876372126901113), ('ferguson', 1.0876372126901113), ('baltimor', 1.0471915809568253), ('fenholt', 0.9577194653718822), ('utica', 0.9414007963725204)]\n",
      "Topic 21:\n",
      "[('captain', 6.883763504072492), ('trade', 2.936728653485627), ('jcjtellabscom', 1.0594466613461657), ('taber', 0.8114641389974245), ('willfutonwebodgcom', 0.7437214183880023), ('scott', 0.7192738268247463), ('kariya', 0.6852766138238864), ('tongu', 0.6579787557830722), ('moodi', 0.6203546571122087), ('jcj', 0.5959832479473065)]\n",
      "Topic 22:\n",
      "[('ahl', 2.224704046448979), ('chant', 1.3854129538252864), ('moncton', 1.263364187127399), ('ecac', 0.9085036145917535), ('clarkson', 0.8984090296174546), ('passion', 0.7753523941207128), ('farenebtcraftcampclarksonedu', 0.7686545241752127), ('cdi', 0.7244803756767112), ('droopi', 0.6846003967886058), ('bri', 0.5694777666240879)]\n",
      "Topic 23:\n",
      "[('red', 1.0206582856116488), ('north', 0.9061857977156508), ('thoma', 0.8660288255012982), ('darlingcellarorg', 0.8202757516264704), ('darl', 0.8049411641710447), ('bb', 0.8020060700387052), ('creation', 0.794914049895999), ('dineen', 0.7824302291406043), ('shanahan', 0.775527748730414), ('murphi', 0.7471604936452502)]\n",
      "Topic 24:\n",
      "[('stat', 0.6364808362170745), ('ny', 0.42293860833750463), ('pleasur', 0.3256979717041745), ('evolut', 0.3046777959306596), ('athiest', 0.2975350869190033), ('armenian', 0.256661673406923), ('scoresupd', 0.25162253100650306), ('atlanta', 0.24675224593099504), ('mmilitzoscottskidmoreedu', 0.23892606653309117), ('briarcliff', 0.23484540054200367)]\n",
      "Topic 25:\n",
      "[('french', 0.8226472850473584), ('north', 0.5510095472507939), ('supris', 0.5505093188873864), ('kulikauska', 0.5491298929097235), ('euroblood', 0.5419013446426301), ('hmmmsound', 0.5419013446426301), ('bjornblarsendelabsintefno', 0.5152657492952735), ('cm', 0.5119791447079669), ('descent', 0.5114424824341588), ('klatyatchafalayaenginumichedu', 0.4759285584526728)]\n",
      "Topic 26:\n"
     ]
    },
    {
     "name": "stdout",
     "output_type": "stream",
     "text": [
      "[('keller', 4.352869501951554), ('keith', 4.190935471402818), ('kkellermailsasupennedu', 3.8772217658495443), ('hartford', 2.714344832753437), ('period', 2.6412362162920484), ('lindro', 2.1604071954168886), ('nd', 2.0393199034924785), ('quaker', 1.8241852156569969), ('ivi', 1.8241852156569969), ('mailsasupennedu', 1.7777912661454607)]\n",
      "Topic 27:\n",
      "[('wsh', 0.8115511834622321), ('edm', 0.6791357475600194), ('mtl', 0.5999766788864254), ('wpg', 0.5495949190900543), ('phi', 0.504290106856664), ('rickgranberryptsmotcom', 0.4942606494191856), ('granberri', 0.4942606494191856), ('cgi', 0.4897605872007664), ('nyr', 0.48778175557570413), ('min', 0.4858487265963567)]\n",
      "Topic 28:\n",
      "[('kariya', 0.8905811893145608), ('secular', 0.8286045347505413), ('walsh', 0.7785573717014305), ('keenan', 0.7140689751654355), ('druce', 0.6259762921898607), ('neilsen', 0.602058313014648), ('embarrass', 0.5880386638823663), ('extant', 0.5676739630169999), ('elynuik', 0.5640644720001686), ('illiter', 0.5342456873007688)]\n",
      "Topic 29:\n",
      "[('breaker', 2.7400810955069246), ('dchhabrastplistsca', 2.4411736549031593), ('deepak', 1.8157459172863797), ('chhabra', 1.7645314655964486), ('terranc', 1.2958075419206183), ('heathathenacsugaedu', 1.2958075419206183), ('divorc', 1.2631050880238213), ('heath', 1.255616172748436), ('priest', 1.1325125557939708), ('ist', 1.124369583816133)]\n",
      "Topic 30:\n",
      "[('team', 25.23192647312968), ('game', 25.21567256782275), ('play', 19.382186431532244), ('hockey', 18.32610935112313), ('player', 16.791082418364194), ('go', 13.809976298064955), ('win', 13.615968248659264), ('nhl', 13.266167539678923), ('playoff', 12.706274137256997), ('nntppostinghost', 11.593121566329124)]\n",
      "Topic 31:\n",
      "[('knew', 3.48690307047989), ('today', 2.8744727457053427), ('religi', 2.737604078688484), ('sens', 2.583095831110557), ('suppos', 2.486121220384931), ('truth', 2.4519792225546886), ('logic', 2.1984579650306295), ('conclus', 2.1288361216697864), ('vera', 2.023746522772157), ('matter', 1.9883710871025537)]\n",
      "Topic 32:\n",
      "[('pt', 3.6253491852277975), ('pp', 2.901335941706925), ('period', 2.701864837036008), ('scorer', 1.8730810023688238), ('power', 1.660246105996694), ('tommi', 1.5110300674871802), ('suhonen', 1.3350397230443158), ('jokerit', 1.2390363786353678), ('ncaa', 1.229105367700408), ('finalswinn', 1.1260738867369187)]\n",
      "Topic 33:\n",
      "[('csmcdbrunelacuk', 0.7574899590996171), ('cold', 0.6574470238972722), ('davi', 0.5603343661203559), ('brunel', 0.409787558205959), ('uxbridg', 0.409787558205959), ('govern', 0.4034538909224998), ('pbaronexaessharriscom', 0.38957679338629375), ('europ', 0.38464101069042306), ('card', 0.3503124997825629), ('erupt', 0.3490038396029695)]\n",
      "Topic 34:\n",
      "[('star', 3.1378283603217145), ('philli', 2.699748227332569), ('red', 2.512214944256415), ('penalti', 2.467609679430156), ('ottawa', 2.3137892188959293), ('north', 2.233953984801448), ('lindro', 2.17206957266036), ('brian', 2.0814557803446196), ('sport', 2.068694309839058), ('trade', 1.9673057858470377)]\n",
      "Topic 35:\n",
      "[('stamber', 1.8227550022776948), ('stamberrainbowecnpurdueedu', 0.9808860063583299), ('pim', 0.8182641615399681), ('filinuk', 0.7341618400826015), ('scott', 0.6917078516783405), ('cloth', 0.6911378062251967), ('purdu', 0.6443460037166041), ('geoff', 0.6014431056192041), ('shark', 0.5588519244476992), ('filinukstaffdccsupennedu', 0.5439683043323144)]\n",
      "Topic 36:\n",
      "[('kulikauska', 2.4680619312157535), ('jayn', 2.322841920682035), ('eric', 2.005756496605994), ('jaynemmaltguildorg', 1.8426274491823917), ('messiah', 1.63209959535469), ('block', 1.1544138353025502), ('truth', 1.1460379510020402), ('mola', 1.0929937422205382), ('koresh', 1.018911728611015), ('sleep', 1.0184095897470904)]\n",
      "Topic 37:\n",
      "[('sin', 7.642967190502054), ('scriptur', 5.551923464886238), ('doctrin', 3.597754850688428), ('jew', 3.464549147444209), ('apostl', 3.1209413780564303), ('pagan', 2.974420410550584), ('languag', 2.86954901022154), ('biblic', 2.4106485264216717), ('propheci', 2.330169269233918), ('passag', 2.276351884914899)]\n",
      "Topic 38:\n",
      "[('vancouv', 0.8421964425723567), ('cub', 0.7278466309185426), ('astro', 0.6718720517427231), ('classi', 0.623918198111952), ('coffey', 0.6149911727747566), ('linden', 0.5950333621533741), ('aprwueclwustledu', 0.5710716423299536), ('drake', 0.5529342204727252), ('ciccarelli', 0.5447734443189524), ('helgesen', 0.5340269278315601)]\n",
      "Topic 39:\n",
      "[('pregnanc', 1.178732630213551), ('qtr', 0.7579953221441653), ('rickemmatfbbswimseybcca', 0.5446928376084383), ('pressur', 0.5230634224381449), ('klingon', 0.4776008454906208), ('moog', 0.45803974233681355), ('drivel', 0.41206342903875076), ('shredderteleramapghpau', 0.3872710065178336), ('sayr', 0.3872710065178336), ('decreas', 0.37430912763886676)]\n",
      "Topic 40:\n",
      "[('venido', 1.0435007398228915), ('paz', 1.0435007398228915), ('traer', 1.0435007398228915), ('boundari', 0.994865076702373), ('que', 0.8037465051916088), ('tennesse', 0.7765107041237286), ('rfl', 0.7765107041237286), ('khettryrwpubutkedu', 0.7765107041237286), ('test', 0.7507700040857984), ('har', 0.688926243608381)]\n",
      "Topic 41:\n",
      "[('impact', 1.1227698777637272), ('vanbiesbrouck', 0.5174921148207532), ('discredit', 0.5016690386099606), ('bee', 0.5002314597852776), ('curricula', 0.49254224644946326), ('stolen', 0.4653504970867743), ('skylin', 0.4619626901759272), ('shub', 0.4432716792014408), ('sharp', 0.4431727171006062), ('guard', 0.4325890487405462)]\n",
      "Topic 42:\n",
      "[('pavlic', 1.0465549172544963), ('gpandybgsuedu', 1.0465549172544963), ('ata', 0.9353919761322759), ('va', 0.78405966306792), ('bg', 0.7664164983043705), ('bowl', 0.7146733808882892), ('matt', 0.6838070255976373), ('homosexu', 0.669394599776458), ('merci', 0.6655357455408007), ('evangelist', 0.6337913019705905)]\n",
      "Topic 43:\n",
      "[('staffan', 1.401520828662805), ('etxonssufsaericssons', 1.305146585103238), ('axelsson', 1.1359076133178132), ('swedish', 1.096649335094657), ('sweden', 0.9781707742436511), ('stockholm', 0.6893730972554785), ('wc', 0.635387565591958), ('marku', 0.6095688889644036), ('modo', 0.5835222210043292), ('aprericssons', 0.5669928588540367)]\n",
      "Topic 44:\n",
      "[('arrog', 1.8086388965375317), ('truth', 1.54046447191064), ('velasco', 1.4886843989885197), ('virgilio', 1.4351169909513735), ('dean', 1.3818060357548196), ('pixi', 1.333023274376952), ('dariu', 1.1434877248616613), ('dlecointgarnetacnsfsuedu', 1.0892574078313462), ('dariuslecoint', 1.0520265988611655), ('jr', 1.013086464970437)]\n",
      "Topic 45:\n",
      "[('god', 23.73629993525704), ('would', 22.94614664479379), ('one', 21.05015729064392), ('peopl', 20.72507662283894), ('christian', 18.967081327032886), ('believ', 18.20186995747948), ('say', 17.928068137426695), ('write', 16.02216483373066), ('think', 15.501351156492946), ('know', 15.325679840856134)]\n",
      "Topic 46:\n",
      "[('cell', 2.2857000234311857), ('swartzjhrosevcrosehulmanedu', 0.768306177744379), ('keenan', 0.7116444520939866), ('playoffwis', 0.5999999635881829), ('swartz', 0.5999999635881829), ('minnesotar', 0.5999999635881829), ('bluestampa', 0.5999999635881829), ('tonight', 0.5973240495416662), ('nore', 0.5546675139443447), ('marida', 0.5474309656309189)]\n",
      "Topic 47:\n",
      "[('gender', 0.7103013051609524), ('accessdigexnet', 0.7069077872314387), ('cadkey', 0.7069077872314387), ('sg', 0.6934472992061033), ('ident', 0.6887273148224925), ('gallichio', 0.6701105488238674), ('environment', 0.6683332661574892), ('enolansharkbiteesdsgicom', 0.5630395606024869), ('nolan', 0.55674842331802), ('feminin', 0.5533239038648949)]\n",
      "Topic 48:\n",
      "[('milwauke', 2.0580390160132307), ('sweden', 1.3679092560678232), ('cbc', 1.2603059518116067), ('czech', 1.166186912114935), ('admir', 1.0843757591371626), ('overack', 1.002978898160686), ('itali', 1.0021690011368607), ('excommun', 0.9983594432442492), ('sspx', 0.9950637352442036), ('shell', 0.9839890464152344)]\n",
      "Topic 49:\n",
      "[('serb', 1.4560880136055943), ('genocid', 1.359554416714337), ('serbian', 0.9656505610636064), ('bosnia', 0.9538062400426695), ('kfnjyeauhivmusandrewcmuedu', 0.8079188570641863), ('stauber', 0.6594004953420602), ('dariu', 0.63418319031191), ('joshua', 0.5705072038017331), ('ryan', 0.5649854347029193), ('afnkovkuhbrdtjandrewcmuedu', 0.5233603399500315)]\n"
     ]
    }
   ],
   "source": [
    "print_topics(lda_model, vectorizer)"
   ]
  },
  {
   "cell_type": "markdown",
   "metadata": {},
   "source": [
    "## Predict topic of new text"
   ]
  },
  {
   "cell_type": "markdown",
   "metadata": {},
   "source": [
    "👇 You can now use your LDA model to predict the topic of a new text. First, use your vectorizer to vectorize the example. Then, use your LDA model to predict the topic of the vectorized example."
   ]
  },
  {
   "cell_type": "code",
   "execution_count": 25,
   "metadata": {},
   "outputs": [],
   "source": [
    "example = [\"In God we trust\"]\n",
    "\n",
    "example_vectorized = vectorizer.transform(example)\n",
    "\n",
    "lda_vectors = lda_model.transform(example_vectorized)\n"
   ]
  },
  {
   "cell_type": "code",
   "execution_count": 26,
   "metadata": {},
   "outputs": [
    {
     "name": "stdout",
     "output_type": "stream",
     "text": [
      "topic 0 : 0.007693823015660035\n",
      "topic 1 : 0.007693823015660035\n",
      "topic 2 : 0.007693823015660035\n",
      "topic 3 : 0.007693823015660035\n",
      "topic 4 : 0.007693823015660035\n",
      "topic 5 : 0.007693823015660035\n",
      "topic 6 : 0.007693823015660035\n",
      "topic 7 : 0.3123911548643185\n",
      "topic 8 : 0.007693823015660035\n",
      "topic 9 : 0.007693823015660035\n",
      "topic 10 : 0.007693823015660035\n",
      "topic 11 : 0.007693823015660035\n",
      "topic 12 : 0.007693823015660035\n",
      "topic 13 : 0.007693823015660035\n",
      "topic 14 : 0.10423283902425216\n",
      "topic 15 : 0.007693823015660035\n",
      "topic 16 : 0.007693823015660035\n",
      "topic 17 : 0.007693823015660035\n",
      "topic 18 : 0.007693823015660035\n",
      "topic 19 : 0.007693823015660035\n",
      "topic 20 : 0.007693823015660035\n",
      "topic 21 : 0.007693823015660035\n",
      "topic 22 : 0.007693823015660035\n",
      "topic 23 : 0.007693823015660035\n",
      "topic 24 : 0.007693823015660035\n",
      "topic 25 : 0.007693823015660035\n",
      "topic 26 : 0.007693823015660035\n",
      "topic 27 : 0.007693823015660035\n",
      "topic 28 : 0.007693823015660035\n",
      "topic 29 : 0.007693823015660035\n",
      "topic 30 : 0.2217663243749652\n",
      "topic 31 : 0.007693823015660035\n",
      "topic 32 : 0.007693823015660035\n",
      "topic 33 : 0.007693823015660035\n",
      "topic 34 : 0.007693823015660035\n",
      "topic 35 : 0.007693823015660035\n",
      "topic 36 : 0.007693823015660035\n",
      "topic 37 : 0.007693823015660035\n",
      "topic 38 : 0.007693823015660035\n",
      "topic 39 : 0.007693823015660035\n",
      "topic 40 : 0.007693823015660035\n",
      "topic 41 : 0.007693823015660035\n",
      "topic 42 : 0.007693823015660035\n",
      "topic 43 : 0.007693823015660035\n",
      "topic 44 : 0.007693823015660035\n",
      "topic 45 : 0.007693823016102369\n",
      "topic 46 : 0.007693823015660035\n",
      "topic 47 : 0.007693823015660035\n",
      "topic 48 : 0.007693823015660035\n",
      "topic 49 : 0.007693823015660035\n"
     ]
    }
   ],
   "source": [
    "for i in range(n):\n",
    "    print(f\"topic {i} : {lda_vectors[0][i]}\")"
   ]
  }
 ],
 "metadata": {
  "kernelspec": {
   "display_name": "Python 3 (ipykernel)",
   "language": "python",
   "name": "python3"
  },
  "language_info": {
   "codemirror_mode": {
    "name": "ipython",
    "version": 3
   },
   "file_extension": ".py",
   "mimetype": "text/x-python",
   "name": "python",
   "nbconvert_exporter": "python",
   "pygments_lexer": "ipython3",
   "version": "3.8.6"
  },
  "toc": {
   "base_numbering": 1,
   "nav_menu": {},
   "number_sections": false,
   "sideBar": true,
   "skip_h1_title": false,
   "title_cell": "Table of Contents",
   "title_sidebar": "Contents",
   "toc_cell": false,
   "toc_position": {
    "height": "calc(100% - 180px)",
    "left": "10px",
    "top": "150px",
    "width": "384px"
   },
   "toc_section_display": true,
   "toc_window_display": true
  }
 },
 "nbformat": 4,
 "nbformat_minor": 4
}
