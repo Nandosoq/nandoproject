{
 "cells": [
  {
   "cell_type": "markdown",
   "metadata": {},
   "source": [
    "# Custom Transformer"
   ]
  },
  {
   "cell_type": "code",
   "execution_count": 1,
   "metadata": {},
   "outputs": [],
   "source": [
    "from sklearn.pipeline import Pipeline\n",
    "from sklearn.compose import ColumnTransformer\n",
    "from sklearn.preprocessing import MinMaxScaler\n",
    "from sklearn.model_selection import GridSearchCV\n",
    "from sklearn import set_config; set_config(display='diagram')\n",
    "from sklearn.preprocessing import FunctionTransformer\n",
    "from sklearn.preprocessing import OneHotEncoder\n",
    "from sklearn.pipeline import FeatureUnion\n",
    "from sklearn.linear_model import Ridge"
   ]
  },
  {
   "cell_type": "markdown",
   "metadata": {},
   "source": [
    "👇 Consider the following dataset"
   ]
  },
  {
   "cell_type": "code",
   "execution_count": 2,
   "metadata": {},
   "outputs": [
    {
     "data": {
      "text/html": [
       "<div>\n",
       "<style scoped>\n",
       "    .dataframe tbody tr th:only-of-type {\n",
       "        vertical-align: middle;\n",
       "    }\n",
       "\n",
       "    .dataframe tbody tr th {\n",
       "        vertical-align: top;\n",
       "    }\n",
       "\n",
       "    .dataframe thead th {\n",
       "        text-align: right;\n",
       "    }\n",
       "</style>\n",
       "<table border=\"1\" class=\"dataframe\">\n",
       "  <thead>\n",
       "    <tr style=\"text-align: right;\">\n",
       "      <th></th>\n",
       "      <th>customer_state</th>\n",
       "      <th>seller_state</th>\n",
       "      <th>product_weight_g</th>\n",
       "      <th>product_length_cm</th>\n",
       "      <th>product_height_cm</th>\n",
       "      <th>product_width_cm</th>\n",
       "      <th>days_until_delivery</th>\n",
       "    </tr>\n",
       "  </thead>\n",
       "  <tbody>\n",
       "    <tr>\n",
       "      <th>0</th>\n",
       "      <td>RJ</td>\n",
       "      <td>SP</td>\n",
       "      <td>1825</td>\n",
       "      <td>53</td>\n",
       "      <td>10</td>\n",
       "      <td>40</td>\n",
       "      <td>9</td>\n",
       "    </tr>\n",
       "    <tr>\n",
       "      <th>1</th>\n",
       "      <td>RJ</td>\n",
       "      <td>SP</td>\n",
       "      <td>700</td>\n",
       "      <td>65</td>\n",
       "      <td>18</td>\n",
       "      <td>28</td>\n",
       "      <td>9</td>\n",
       "    </tr>\n",
       "    <tr>\n",
       "      <th>2</th>\n",
       "      <td>RJ</td>\n",
       "      <td>SP</td>\n",
       "      <td>1825</td>\n",
       "      <td>53</td>\n",
       "      <td>10</td>\n",
       "      <td>40</td>\n",
       "      <td>11</td>\n",
       "    </tr>\n",
       "    <tr>\n",
       "      <th>3</th>\n",
       "      <td>RJ</td>\n",
       "      <td>SP</td>\n",
       "      <td>1825</td>\n",
       "      <td>53</td>\n",
       "      <td>10</td>\n",
       "      <td>40</td>\n",
       "      <td>12</td>\n",
       "    </tr>\n",
       "    <tr>\n",
       "      <th>4</th>\n",
       "      <td>RJ</td>\n",
       "      <td>SP</td>\n",
       "      <td>1825</td>\n",
       "      <td>53</td>\n",
       "      <td>10</td>\n",
       "      <td>40</td>\n",
       "      <td>14</td>\n",
       "    </tr>\n",
       "    <tr>\n",
       "      <th>...</th>\n",
       "      <td>...</td>\n",
       "      <td>...</td>\n",
       "      <td>...</td>\n",
       "      <td>...</td>\n",
       "      <td>...</td>\n",
       "      <td>...</td>\n",
       "      <td>...</td>\n",
       "    </tr>\n",
       "    <tr>\n",
       "      <th>995</th>\n",
       "      <td>RJ</td>\n",
       "      <td>SP</td>\n",
       "      <td>16800</td>\n",
       "      <td>63</td>\n",
       "      <td>58</td>\n",
       "      <td>24</td>\n",
       "      <td>30</td>\n",
       "    </tr>\n",
       "    <tr>\n",
       "      <th>996</th>\n",
       "      <td>RS</td>\n",
       "      <td>SP</td>\n",
       "      <td>675</td>\n",
       "      <td>40</td>\n",
       "      <td>18</td>\n",
       "      <td>35</td>\n",
       "      <td>19</td>\n",
       "    </tr>\n",
       "    <tr>\n",
       "      <th>997</th>\n",
       "      <td>RJ</td>\n",
       "      <td>SP</td>\n",
       "      <td>2050</td>\n",
       "      <td>45</td>\n",
       "      <td>15</td>\n",
       "      <td>35</td>\n",
       "      <td>32</td>\n",
       "    </tr>\n",
       "    <tr>\n",
       "      <th>998</th>\n",
       "      <td>BA</td>\n",
       "      <td>SP</td>\n",
       "      <td>8750</td>\n",
       "      <td>52</td>\n",
       "      <td>51</td>\n",
       "      <td>17</td>\n",
       "      <td>33</td>\n",
       "    </tr>\n",
       "    <tr>\n",
       "      <th>999</th>\n",
       "      <td>SP</td>\n",
       "      <td>SP</td>\n",
       "      <td>11880</td>\n",
       "      <td>50</td>\n",
       "      <td>60</td>\n",
       "      <td>27</td>\n",
       "      <td>34</td>\n",
       "    </tr>\n",
       "  </tbody>\n",
       "</table>\n",
       "<p>1000 rows × 7 columns</p>\n",
       "</div>"
      ],
      "text/plain": [
       "    customer_state seller_state  product_weight_g  product_length_cm  \\\n",
       "0               RJ           SP              1825                 53   \n",
       "1               RJ           SP               700                 65   \n",
       "2               RJ           SP              1825                 53   \n",
       "3               RJ           SP              1825                 53   \n",
       "4               RJ           SP              1825                 53   \n",
       "..             ...          ...               ...                ...   \n",
       "995             RJ           SP             16800                 63   \n",
       "996             RS           SP               675                 40   \n",
       "997             RJ           SP              2050                 45   \n",
       "998             BA           SP              8750                 52   \n",
       "999             SP           SP             11880                 50   \n",
       "\n",
       "     product_height_cm  product_width_cm  days_until_delivery  \n",
       "0                   10                40                    9  \n",
       "1                   18                28                    9  \n",
       "2                   10                40                   11  \n",
       "3                   10                40                   12  \n",
       "4                   10                40                   14  \n",
       "..                 ...               ...                  ...  \n",
       "995                 58                24                   30  \n",
       "996                 18                35                   19  \n",
       "997                 15                35                   32  \n",
       "998                 51                17                   33  \n",
       "999                 60                27                   34  \n",
       "\n",
       "[1000 rows x 7 columns]"
      ]
     },
     "execution_count": 2,
     "metadata": {},
     "output_type": "execute_result"
    }
   ],
   "source": [
    "import pandas as pd\n",
    "import seaborn as sns\n",
    "import numpy as np\n",
    "\n",
    "data = pd.read_csv(\"data.csv\")\n",
    "\n",
    "data\n"
   ]
  },
  {
   "cell_type": "markdown",
   "metadata": {},
   "source": [
    "Each observation of the dataset represents an item being delivered from a  `seller_state` to a `customer_state`. The columns describe the size and weight of each item. The target is the number of days between the order and the delivery."
   ]
  },
  {
   "cell_type": "markdown",
   "metadata": {},
   "source": [
    "👇 In a pipeline:\n",
    "\n",
    "- Engineer a 'volume' feature from the dimensions features\n",
    "- Preserve the original product dimensions features for training\n",
    "- Scale all numerical features\n",
    "- Encode the categorical features\n",
    "- Train a default `Ridge` regression and cross_validate its score on the train set. Low r2 score are expected.\n",
    "\n",
    "Use your pipeline to predict the delivery of the following order"
   ]
  },
  {
   "cell_type": "code",
   "execution_count": 3,
   "metadata": {},
   "outputs": [],
   "source": [
    "def vol(df):\n",
    "    return pd.DataFrame(df['product_length_cm'] * df['product_height_cm']* df['product_width_cm'])"
   ]
  },
  {
   "cell_type": "code",
   "execution_count": 4,
   "metadata": {},
   "outputs": [],
   "source": [
    "#volume = FunctionTransformer(volume)"
   ]
  },
  {
   "cell_type": "code",
   "execution_count": 5,
   "metadata": {
    "scrolled": true
   },
   "outputs": [],
   "source": [
    "y = data['days_until_delivery']\n",
    "X = data.drop(columns=['days_until_delivery'])"
   ]
  },
  {
   "cell_type": "code",
   "execution_count": 6,
   "metadata": {},
   "outputs": [],
   "source": [
    "num_transformer = Pipeline([\n",
    "    ('scaler', MinMaxScaler())\n",
    "])"
   ]
  },
  {
   "cell_type": "code",
   "execution_count": 7,
   "metadata": {},
   "outputs": [],
   "source": [
    "cat_transformer = OneHotEncoder(handle_unknown='ignore',sparse=False)"
   ]
  },
  {
   "cell_type": "code",
   "execution_count": 8,
   "metadata": {},
   "outputs": [],
   "source": [
    "preprocessor = ColumnTransformer([\n",
    "    ('num_transformer', num_transformer, ['product_weight_g','product_height_cm', 'product_length_cm', 'product_width_cm']),\n",
    "    ('cat_transformer', cat_transformer, ['customer_state', 'seller_state'])])"
   ]
  },
  {
   "cell_type": "code",
   "execution_count": 9,
   "metadata": {},
   "outputs": [
    {
     "data": {
      "text/html": [
       "<style>#sk-5f8b818a-fe74-443f-b593-f245238ae2c6 {color: black;background-color: white;}#sk-5f8b818a-fe74-443f-b593-f245238ae2c6 pre{padding: 0;}#sk-5f8b818a-fe74-443f-b593-f245238ae2c6 div.sk-toggleable {background-color: white;}#sk-5f8b818a-fe74-443f-b593-f245238ae2c6 label.sk-toggleable__label {cursor: pointer;display: block;width: 100%;margin-bottom: 0;padding: 0.2em 0.3em;box-sizing: border-box;text-align: center;}#sk-5f8b818a-fe74-443f-b593-f245238ae2c6 div.sk-toggleable__content {max-height: 0;max-width: 0;overflow: hidden;text-align: left;background-color: #f0f8ff;}#sk-5f8b818a-fe74-443f-b593-f245238ae2c6 div.sk-toggleable__content pre {margin: 0.2em;color: black;border-radius: 0.25em;background-color: #f0f8ff;}#sk-5f8b818a-fe74-443f-b593-f245238ae2c6 input.sk-toggleable__control:checked~div.sk-toggleable__content {max-height: 200px;max-width: 100%;overflow: auto;}#sk-5f8b818a-fe74-443f-b593-f245238ae2c6 div.sk-estimator input.sk-toggleable__control:checked~label.sk-toggleable__label {background-color: #d4ebff;}#sk-5f8b818a-fe74-443f-b593-f245238ae2c6 div.sk-label input.sk-toggleable__control:checked~label.sk-toggleable__label {background-color: #d4ebff;}#sk-5f8b818a-fe74-443f-b593-f245238ae2c6 input.sk-hidden--visually {border: 0;clip: rect(1px 1px 1px 1px);clip: rect(1px, 1px, 1px, 1px);height: 1px;margin: -1px;overflow: hidden;padding: 0;position: absolute;width: 1px;}#sk-5f8b818a-fe74-443f-b593-f245238ae2c6 div.sk-estimator {font-family: monospace;background-color: #f0f8ff;margin: 0.25em 0.25em;border: 1px dotted black;border-radius: 0.25em;box-sizing: border-box;}#sk-5f8b818a-fe74-443f-b593-f245238ae2c6 div.sk-estimator:hover {background-color: #d4ebff;}#sk-5f8b818a-fe74-443f-b593-f245238ae2c6 div.sk-parallel-item::after {content: \"\";width: 100%;border-bottom: 1px solid gray;flex-grow: 1;}#sk-5f8b818a-fe74-443f-b593-f245238ae2c6 div.sk-label:hover label.sk-toggleable__label {background-color: #d4ebff;}#sk-5f8b818a-fe74-443f-b593-f245238ae2c6 div.sk-serial::before {content: \"\";position: absolute;border-left: 1px solid gray;box-sizing: border-box;top: 2em;bottom: 0;left: 50%;}#sk-5f8b818a-fe74-443f-b593-f245238ae2c6 div.sk-serial {display: flex;flex-direction: column;align-items: center;background-color: white;}#sk-5f8b818a-fe74-443f-b593-f245238ae2c6 div.sk-item {z-index: 1;}#sk-5f8b818a-fe74-443f-b593-f245238ae2c6 div.sk-parallel {display: flex;align-items: stretch;justify-content: center;background-color: white;}#sk-5f8b818a-fe74-443f-b593-f245238ae2c6 div.sk-parallel-item {display: flex;flex-direction: column;position: relative;background-color: white;}#sk-5f8b818a-fe74-443f-b593-f245238ae2c6 div.sk-parallel-item:first-child::after {align-self: flex-end;width: 50%;}#sk-5f8b818a-fe74-443f-b593-f245238ae2c6 div.sk-parallel-item:last-child::after {align-self: flex-start;width: 50%;}#sk-5f8b818a-fe74-443f-b593-f245238ae2c6 div.sk-parallel-item:only-child::after {width: 0;}#sk-5f8b818a-fe74-443f-b593-f245238ae2c6 div.sk-dashed-wrapped {border: 1px dashed gray;margin: 0.2em;box-sizing: border-box;padding-bottom: 0.1em;background-color: white;position: relative;}#sk-5f8b818a-fe74-443f-b593-f245238ae2c6 div.sk-label label {font-family: monospace;font-weight: bold;background-color: white;display: inline-block;line-height: 1.2em;}#sk-5f8b818a-fe74-443f-b593-f245238ae2c6 div.sk-label-container {position: relative;z-index: 2;text-align: center;}#sk-5f8b818a-fe74-443f-b593-f245238ae2c6 div.sk-container {display: inline-block;position: relative;}</style><div id=\"sk-5f8b818a-fe74-443f-b593-f245238ae2c6\" class\"sk-top-container\"><div class=\"sk-container\"><div class=\"sk-item sk-dashed-wrapped\"><div class=\"sk-label-container\"><div class=\"sk-label sk-toggleable\"><input class=\"sk-toggleable__control sk-hidden--visually\" id=\"916b200c-f6a9-458f-9386-4c13ab6c783a\" type=\"checkbox\" ><label class=\"sk-toggleable__label\" for=\"916b200c-f6a9-458f-9386-4c13ab6c783a\">ColumnTransformer</label><div class=\"sk-toggleable__content\"><pre>ColumnTransformer(transformers=[('num_transformer',\n",
       "                                 Pipeline(steps=[('scaler', MinMaxScaler())]),\n",
       "                                 ['product_weight_g', 'product_height_cm',\n",
       "                                  'product_length_cm', 'product_width_cm']),\n",
       "                                ('cat_transformer',\n",
       "                                 OneHotEncoder(handle_unknown='ignore',\n",
       "                                               sparse=False),\n",
       "                                 ['customer_state', 'seller_state'])])</pre></div></div></div><div class=\"sk-parallel\"><div class=\"sk-parallel-item\"><div class=\"sk-item\"><div class=\"sk-label-container\"><div class=\"sk-label sk-toggleable\"><input class=\"sk-toggleable__control sk-hidden--visually\" id=\"5bc2f75e-8f23-40cf-896a-f1b03a478987\" type=\"checkbox\" ><label class=\"sk-toggleable__label\" for=\"5bc2f75e-8f23-40cf-896a-f1b03a478987\">num_transformer</label><div class=\"sk-toggleable__content\"><pre>['product_weight_g', 'product_height_cm', 'product_length_cm', 'product_width_cm']</pre></div></div></div><div class=\"sk-serial\"><div class=\"sk-item\"><div class=\"sk-serial\"><div class=\"sk-item\"><div class=\"sk-estimator sk-toggleable\"><input class=\"sk-toggleable__control sk-hidden--visually\" id=\"0aa4ea90-b0dd-433a-87f6-9837e2d82df2\" type=\"checkbox\" ><label class=\"sk-toggleable__label\" for=\"0aa4ea90-b0dd-433a-87f6-9837e2d82df2\">MinMaxScaler</label><div class=\"sk-toggleable__content\"><pre>MinMaxScaler()</pre></div></div></div></div></div></div></div></div><div class=\"sk-parallel-item\"><div class=\"sk-item\"><div class=\"sk-label-container\"><div class=\"sk-label sk-toggleable\"><input class=\"sk-toggleable__control sk-hidden--visually\" id=\"283bae40-ad0d-4f9a-9313-b74764dd96dd\" type=\"checkbox\" ><label class=\"sk-toggleable__label\" for=\"283bae40-ad0d-4f9a-9313-b74764dd96dd\">cat_transformer</label><div class=\"sk-toggleable__content\"><pre>['customer_state', 'seller_state']</pre></div></div></div><div class=\"sk-serial\"><div class=\"sk-item\"><div class=\"sk-estimator sk-toggleable\"><input class=\"sk-toggleable__control sk-hidden--visually\" id=\"620f1fb2-6795-49c9-9018-726ae5896ee6\" type=\"checkbox\" ><label class=\"sk-toggleable__label\" for=\"620f1fb2-6795-49c9-9018-726ae5896ee6\">OneHotEncoder</label><div class=\"sk-toggleable__content\"><pre>OneHotEncoder(handle_unknown='ignore', sparse=False)</pre></div></div></div></div></div></div></div></div></div></div>"
      ],
      "text/plain": [
       "ColumnTransformer(transformers=[('num_transformer',\n",
       "                                 Pipeline(steps=[('scaler', MinMaxScaler())]),\n",
       "                                 ['product_weight_g', 'product_height_cm',\n",
       "                                  'product_length_cm', 'product_width_cm']),\n",
       "                                ('cat_transformer',\n",
       "                                 OneHotEncoder(handle_unknown='ignore',\n",
       "                                               sparse=False),\n",
       "                                 ['customer_state', 'seller_state'])])"
      ]
     },
     "execution_count": 9,
     "metadata": {},
     "output_type": "execute_result"
    }
   ],
   "source": [
    "preprocessor"
   ]
  },
  {
   "cell_type": "code",
   "execution_count": 10,
   "metadata": {},
   "outputs": [],
   "source": [
    "preprocess_volume = Pipeline([\n",
    "    ('vol_transformer', FunctionTransformer(vol)), \n",
    "    ('scaler_vol', MinMaxScaler())\n",
    "    \n",
    "])"
   ]
  },
  {
   "cell_type": "code",
   "execution_count": 11,
   "metadata": {},
   "outputs": [
    {
     "data": {
      "text/html": [
       "<style>#sk-82e18e78-28d7-4e36-a433-11be3a8ae532 {color: black;background-color: white;}#sk-82e18e78-28d7-4e36-a433-11be3a8ae532 pre{padding: 0;}#sk-82e18e78-28d7-4e36-a433-11be3a8ae532 div.sk-toggleable {background-color: white;}#sk-82e18e78-28d7-4e36-a433-11be3a8ae532 label.sk-toggleable__label {cursor: pointer;display: block;width: 100%;margin-bottom: 0;padding: 0.2em 0.3em;box-sizing: border-box;text-align: center;}#sk-82e18e78-28d7-4e36-a433-11be3a8ae532 div.sk-toggleable__content {max-height: 0;max-width: 0;overflow: hidden;text-align: left;background-color: #f0f8ff;}#sk-82e18e78-28d7-4e36-a433-11be3a8ae532 div.sk-toggleable__content pre {margin: 0.2em;color: black;border-radius: 0.25em;background-color: #f0f8ff;}#sk-82e18e78-28d7-4e36-a433-11be3a8ae532 input.sk-toggleable__control:checked~div.sk-toggleable__content {max-height: 200px;max-width: 100%;overflow: auto;}#sk-82e18e78-28d7-4e36-a433-11be3a8ae532 div.sk-estimator input.sk-toggleable__control:checked~label.sk-toggleable__label {background-color: #d4ebff;}#sk-82e18e78-28d7-4e36-a433-11be3a8ae532 div.sk-label input.sk-toggleable__control:checked~label.sk-toggleable__label {background-color: #d4ebff;}#sk-82e18e78-28d7-4e36-a433-11be3a8ae532 input.sk-hidden--visually {border: 0;clip: rect(1px 1px 1px 1px);clip: rect(1px, 1px, 1px, 1px);height: 1px;margin: -1px;overflow: hidden;padding: 0;position: absolute;width: 1px;}#sk-82e18e78-28d7-4e36-a433-11be3a8ae532 div.sk-estimator {font-family: monospace;background-color: #f0f8ff;margin: 0.25em 0.25em;border: 1px dotted black;border-radius: 0.25em;box-sizing: border-box;}#sk-82e18e78-28d7-4e36-a433-11be3a8ae532 div.sk-estimator:hover {background-color: #d4ebff;}#sk-82e18e78-28d7-4e36-a433-11be3a8ae532 div.sk-parallel-item::after {content: \"\";width: 100%;border-bottom: 1px solid gray;flex-grow: 1;}#sk-82e18e78-28d7-4e36-a433-11be3a8ae532 div.sk-label:hover label.sk-toggleable__label {background-color: #d4ebff;}#sk-82e18e78-28d7-4e36-a433-11be3a8ae532 div.sk-serial::before {content: \"\";position: absolute;border-left: 1px solid gray;box-sizing: border-box;top: 2em;bottom: 0;left: 50%;}#sk-82e18e78-28d7-4e36-a433-11be3a8ae532 div.sk-serial {display: flex;flex-direction: column;align-items: center;background-color: white;}#sk-82e18e78-28d7-4e36-a433-11be3a8ae532 div.sk-item {z-index: 1;}#sk-82e18e78-28d7-4e36-a433-11be3a8ae532 div.sk-parallel {display: flex;align-items: stretch;justify-content: center;background-color: white;}#sk-82e18e78-28d7-4e36-a433-11be3a8ae532 div.sk-parallel-item {display: flex;flex-direction: column;position: relative;background-color: white;}#sk-82e18e78-28d7-4e36-a433-11be3a8ae532 div.sk-parallel-item:first-child::after {align-self: flex-end;width: 50%;}#sk-82e18e78-28d7-4e36-a433-11be3a8ae532 div.sk-parallel-item:last-child::after {align-self: flex-start;width: 50%;}#sk-82e18e78-28d7-4e36-a433-11be3a8ae532 div.sk-parallel-item:only-child::after {width: 0;}#sk-82e18e78-28d7-4e36-a433-11be3a8ae532 div.sk-dashed-wrapped {border: 1px dashed gray;margin: 0.2em;box-sizing: border-box;padding-bottom: 0.1em;background-color: white;position: relative;}#sk-82e18e78-28d7-4e36-a433-11be3a8ae532 div.sk-label label {font-family: monospace;font-weight: bold;background-color: white;display: inline-block;line-height: 1.2em;}#sk-82e18e78-28d7-4e36-a433-11be3a8ae532 div.sk-label-container {position: relative;z-index: 2;text-align: center;}#sk-82e18e78-28d7-4e36-a433-11be3a8ae532 div.sk-container {display: inline-block;position: relative;}</style><div id=\"sk-82e18e78-28d7-4e36-a433-11be3a8ae532\" class\"sk-top-container\"><div class=\"sk-container\"><div class=\"sk-item sk-dashed-wrapped\"><div class=\"sk-label-container\"><div class=\"sk-label sk-toggleable\"><input class=\"sk-toggleable__control sk-hidden--visually\" id=\"905ef5e0-a8db-4d2a-8f46-7fb0f235834d\" type=\"checkbox\" ><label class=\"sk-toggleable__label\" for=\"905ef5e0-a8db-4d2a-8f46-7fb0f235834d\">Pipeline</label><div class=\"sk-toggleable__content\"><pre>Pipeline(steps=[('vol_transformer',\n",
       "                 FunctionTransformer(func=<function vol at 0x12752cee0>)),\n",
       "                ('scaler_vol', MinMaxScaler())])</pre></div></div></div><div class=\"sk-serial\"><div class=\"sk-item\"><div class=\"sk-estimator sk-toggleable\"><input class=\"sk-toggleable__control sk-hidden--visually\" id=\"b53d2f83-f94d-4ab0-a431-3149f941c7b6\" type=\"checkbox\" ><label class=\"sk-toggleable__label\" for=\"b53d2f83-f94d-4ab0-a431-3149f941c7b6\">FunctionTransformer</label><div class=\"sk-toggleable__content\"><pre>FunctionTransformer(func=<function vol at 0x12752cee0>)</pre></div></div></div><div class=\"sk-item\"><div class=\"sk-estimator sk-toggleable\"><input class=\"sk-toggleable__control sk-hidden--visually\" id=\"eba4a958-9bbd-46b1-86d0-3e034425d06d\" type=\"checkbox\" ><label class=\"sk-toggleable__label\" for=\"eba4a958-9bbd-46b1-86d0-3e034425d06d\">MinMaxScaler</label><div class=\"sk-toggleable__content\"><pre>MinMaxScaler()</pre></div></div></div></div></div></div></div>"
      ],
      "text/plain": [
       "Pipeline(steps=[('vol_transformer',\n",
       "                 FunctionTransformer(func=<function vol at 0x12752cee0>)),\n",
       "                ('scaler_vol', MinMaxScaler())])"
      ]
     },
     "execution_count": 11,
     "metadata": {},
     "output_type": "execute_result"
    }
   ],
   "source": [
    "preprocess_volume"
   ]
  },
  {
   "cell_type": "code",
   "execution_count": 12,
   "metadata": {},
   "outputs": [],
   "source": [
    "final_preprocessor = FeatureUnion([\n",
    "    ('preprocess', preprocessor),\n",
    "    ('volume_preprocess', preprocess_volume)\n",
    "])"
   ]
  },
  {
   "cell_type": "code",
   "execution_count": 13,
   "metadata": {},
   "outputs": [
    {
     "data": {
      "text/html": [
       "<style>#sk-0a56fc3b-6536-4cb5-a911-f12e567203f6 {color: black;background-color: white;}#sk-0a56fc3b-6536-4cb5-a911-f12e567203f6 pre{padding: 0;}#sk-0a56fc3b-6536-4cb5-a911-f12e567203f6 div.sk-toggleable {background-color: white;}#sk-0a56fc3b-6536-4cb5-a911-f12e567203f6 label.sk-toggleable__label {cursor: pointer;display: block;width: 100%;margin-bottom: 0;padding: 0.2em 0.3em;box-sizing: border-box;text-align: center;}#sk-0a56fc3b-6536-4cb5-a911-f12e567203f6 div.sk-toggleable__content {max-height: 0;max-width: 0;overflow: hidden;text-align: left;background-color: #f0f8ff;}#sk-0a56fc3b-6536-4cb5-a911-f12e567203f6 div.sk-toggleable__content pre {margin: 0.2em;color: black;border-radius: 0.25em;background-color: #f0f8ff;}#sk-0a56fc3b-6536-4cb5-a911-f12e567203f6 input.sk-toggleable__control:checked~div.sk-toggleable__content {max-height: 200px;max-width: 100%;overflow: auto;}#sk-0a56fc3b-6536-4cb5-a911-f12e567203f6 div.sk-estimator input.sk-toggleable__control:checked~label.sk-toggleable__label {background-color: #d4ebff;}#sk-0a56fc3b-6536-4cb5-a911-f12e567203f6 div.sk-label input.sk-toggleable__control:checked~label.sk-toggleable__label {background-color: #d4ebff;}#sk-0a56fc3b-6536-4cb5-a911-f12e567203f6 input.sk-hidden--visually {border: 0;clip: rect(1px 1px 1px 1px);clip: rect(1px, 1px, 1px, 1px);height: 1px;margin: -1px;overflow: hidden;padding: 0;position: absolute;width: 1px;}#sk-0a56fc3b-6536-4cb5-a911-f12e567203f6 div.sk-estimator {font-family: monospace;background-color: #f0f8ff;margin: 0.25em 0.25em;border: 1px dotted black;border-radius: 0.25em;box-sizing: border-box;}#sk-0a56fc3b-6536-4cb5-a911-f12e567203f6 div.sk-estimator:hover {background-color: #d4ebff;}#sk-0a56fc3b-6536-4cb5-a911-f12e567203f6 div.sk-parallel-item::after {content: \"\";width: 100%;border-bottom: 1px solid gray;flex-grow: 1;}#sk-0a56fc3b-6536-4cb5-a911-f12e567203f6 div.sk-label:hover label.sk-toggleable__label {background-color: #d4ebff;}#sk-0a56fc3b-6536-4cb5-a911-f12e567203f6 div.sk-serial::before {content: \"\";position: absolute;border-left: 1px solid gray;box-sizing: border-box;top: 2em;bottom: 0;left: 50%;}#sk-0a56fc3b-6536-4cb5-a911-f12e567203f6 div.sk-serial {display: flex;flex-direction: column;align-items: center;background-color: white;}#sk-0a56fc3b-6536-4cb5-a911-f12e567203f6 div.sk-item {z-index: 1;}#sk-0a56fc3b-6536-4cb5-a911-f12e567203f6 div.sk-parallel {display: flex;align-items: stretch;justify-content: center;background-color: white;}#sk-0a56fc3b-6536-4cb5-a911-f12e567203f6 div.sk-parallel-item {display: flex;flex-direction: column;position: relative;background-color: white;}#sk-0a56fc3b-6536-4cb5-a911-f12e567203f6 div.sk-parallel-item:first-child::after {align-self: flex-end;width: 50%;}#sk-0a56fc3b-6536-4cb5-a911-f12e567203f6 div.sk-parallel-item:last-child::after {align-self: flex-start;width: 50%;}#sk-0a56fc3b-6536-4cb5-a911-f12e567203f6 div.sk-parallel-item:only-child::after {width: 0;}#sk-0a56fc3b-6536-4cb5-a911-f12e567203f6 div.sk-dashed-wrapped {border: 1px dashed gray;margin: 0.2em;box-sizing: border-box;padding-bottom: 0.1em;background-color: white;position: relative;}#sk-0a56fc3b-6536-4cb5-a911-f12e567203f6 div.sk-label label {font-family: monospace;font-weight: bold;background-color: white;display: inline-block;line-height: 1.2em;}#sk-0a56fc3b-6536-4cb5-a911-f12e567203f6 div.sk-label-container {position: relative;z-index: 2;text-align: center;}#sk-0a56fc3b-6536-4cb5-a911-f12e567203f6 div.sk-container {display: inline-block;position: relative;}</style><div id=\"sk-0a56fc3b-6536-4cb5-a911-f12e567203f6\" class\"sk-top-container\"><div class=\"sk-container\"><div class=\"sk-item sk-dashed-wrapped\"><div class=\"sk-label-container\"><div class=\"sk-label sk-toggleable\"><input class=\"sk-toggleable__control sk-hidden--visually\" id=\"932e08ca-b138-4bd1-ba9d-96e8b93d1ab1\" type=\"checkbox\" ><label class=\"sk-toggleable__label\" for=\"932e08ca-b138-4bd1-ba9d-96e8b93d1ab1\">FeatureUnion</label><div class=\"sk-toggleable__content\"><pre>FeatureUnion(transformer_list=[('preprocess',\n",
       "                                ColumnTransformer(transformers=[('num_transformer',\n",
       "                                                                 Pipeline(steps=[('scaler',\n",
       "                                                                                  MinMaxScaler())]),\n",
       "                                                                 ['product_weight_g',\n",
       "                                                                  'product_height_cm',\n",
       "                                                                  'product_length_cm',\n",
       "                                                                  'product_width_cm']),\n",
       "                                                                ('cat_transformer',\n",
       "                                                                 OneHotEncoder(handle_unknown='ignore',\n",
       "                                                                               sparse=False),\n",
       "                                                                 ['customer_state',\n",
       "                                                                  'seller_state'])])),\n",
       "                               ('volume_preprocess',\n",
       "                                Pipeline(steps=[('vol_transformer',\n",
       "                                                 FunctionTransformer(func=<function vol at 0x12752cee0>)),\n",
       "                                                ('scaler_vol',\n",
       "                                                 MinMaxScaler())]))])</pre></div></div></div><div class=\"sk-parallel\"><div class=\"sk-parallel-item\"><div class=\"sk-item\"><div class=\"sk-label-container\"><div class=\"sk-label sk-toggleable\"><label>preprocess</label></div></div><div class=\"sk-serial\"><div class=\"sk-item sk-dashed-wrapped\"><div class=\"sk-parallel\"><div class=\"sk-parallel-item\"><div class=\"sk-item\"><div class=\"sk-label-container\"><div class=\"sk-label sk-toggleable\"><input class=\"sk-toggleable__control sk-hidden--visually\" id=\"f3edcf4b-52f9-4a58-8575-13502293c5d2\" type=\"checkbox\" ><label class=\"sk-toggleable__label\" for=\"f3edcf4b-52f9-4a58-8575-13502293c5d2\">num_transformer</label><div class=\"sk-toggleable__content\"><pre>['product_weight_g', 'product_height_cm', 'product_length_cm', 'product_width_cm']</pre></div></div></div><div class=\"sk-serial\"><div class=\"sk-item\"><div class=\"sk-serial\"><div class=\"sk-item\"><div class=\"sk-estimator sk-toggleable\"><input class=\"sk-toggleable__control sk-hidden--visually\" id=\"cc3a3a2a-4996-4d74-9fc5-cd74ede06c54\" type=\"checkbox\" ><label class=\"sk-toggleable__label\" for=\"cc3a3a2a-4996-4d74-9fc5-cd74ede06c54\">MinMaxScaler</label><div class=\"sk-toggleable__content\"><pre>MinMaxScaler()</pre></div></div></div></div></div></div></div></div><div class=\"sk-parallel-item\"><div class=\"sk-item\"><div class=\"sk-label-container\"><div class=\"sk-label sk-toggleable\"><input class=\"sk-toggleable__control sk-hidden--visually\" id=\"11eba8bc-c732-45bc-bd85-51df98ca4f4d\" type=\"checkbox\" ><label class=\"sk-toggleable__label\" for=\"11eba8bc-c732-45bc-bd85-51df98ca4f4d\">cat_transformer</label><div class=\"sk-toggleable__content\"><pre>['customer_state', 'seller_state']</pre></div></div></div><div class=\"sk-serial\"><div class=\"sk-item\"><div class=\"sk-estimator sk-toggleable\"><input class=\"sk-toggleable__control sk-hidden--visually\" id=\"703c898f-fb63-463f-828d-81f6a9bec785\" type=\"checkbox\" ><label class=\"sk-toggleable__label\" for=\"703c898f-fb63-463f-828d-81f6a9bec785\">OneHotEncoder</label><div class=\"sk-toggleable__content\"><pre>OneHotEncoder(handle_unknown='ignore', sparse=False)</pre></div></div></div></div></div></div></div></div></div></div></div><div class=\"sk-parallel-item\"><div class=\"sk-item\"><div class=\"sk-label-container\"><div class=\"sk-label sk-toggleable\"><label>volume_preprocess</label></div></div><div class=\"sk-serial\"><div class=\"sk-item\"><div class=\"sk-serial\"><div class=\"sk-item\"><div class=\"sk-estimator sk-toggleable\"><input class=\"sk-toggleable__control sk-hidden--visually\" id=\"c4a4ee41-5776-4f2e-bb00-9da8680a0174\" type=\"checkbox\" ><label class=\"sk-toggleable__label\" for=\"c4a4ee41-5776-4f2e-bb00-9da8680a0174\">FunctionTransformer</label><div class=\"sk-toggleable__content\"><pre>FunctionTransformer(func=<function vol at 0x12752cee0>)</pre></div></div></div><div class=\"sk-item\"><div class=\"sk-estimator sk-toggleable\"><input class=\"sk-toggleable__control sk-hidden--visually\" id=\"ed146ce0-860e-4c8e-bc62-06db2910023f\" type=\"checkbox\" ><label class=\"sk-toggleable__label\" for=\"ed146ce0-860e-4c8e-bc62-06db2910023f\">MinMaxScaler</label><div class=\"sk-toggleable__content\"><pre>MinMaxScaler()</pre></div></div></div></div></div></div></div></div></div></div></div></div>"
      ],
      "text/plain": [
       "FeatureUnion(transformer_list=[('preprocess',\n",
       "                                ColumnTransformer(transformers=[('num_transformer',\n",
       "                                                                 Pipeline(steps=[('scaler',\n",
       "                                                                                  MinMaxScaler())]),\n",
       "                                                                 ['product_weight_g',\n",
       "                                                                  'product_height_cm',\n",
       "                                                                  'product_length_cm',\n",
       "                                                                  'product_width_cm']),\n",
       "                                                                ('cat_transformer',\n",
       "                                                                 OneHotEncoder(handle_unknown='ignore',\n",
       "                                                                               sparse=False),\n",
       "                                                                 ['customer_state',\n",
       "                                                                  'seller_state'])])),\n",
       "                               ('volume_preprocess',\n",
       "                                Pipeline(steps=[('vol_transformer',\n",
       "                                                 FunctionTransformer(func=<function vol at 0x12752cee0>)),\n",
       "                                                ('scaler_vol',\n",
       "                                                 MinMaxScaler())]))])"
      ]
     },
     "execution_count": 13,
     "metadata": {},
     "output_type": "execute_result"
    }
   ],
   "source": [
    "final_preprocessor\n"
   ]
  },
  {
   "cell_type": "code",
   "execution_count": 14,
   "metadata": {},
   "outputs": [
    {
     "data": {
      "text/html": [
       "<div>\n",
       "<style scoped>\n",
       "    .dataframe tbody tr th:only-of-type {\n",
       "        vertical-align: middle;\n",
       "    }\n",
       "\n",
       "    .dataframe tbody tr th {\n",
       "        vertical-align: top;\n",
       "    }\n",
       "\n",
       "    .dataframe thead th {\n",
       "        text-align: right;\n",
       "    }\n",
       "</style>\n",
       "<table border=\"1\" class=\"dataframe\">\n",
       "  <thead>\n",
       "    <tr style=\"text-align: right;\">\n",
       "      <th></th>\n",
       "      <th>0</th>\n",
       "      <th>1</th>\n",
       "      <th>2</th>\n",
       "      <th>3</th>\n",
       "      <th>4</th>\n",
       "      <th>5</th>\n",
       "      <th>6</th>\n",
       "      <th>7</th>\n",
       "      <th>8</th>\n",
       "      <th>9</th>\n",
       "      <th>...</th>\n",
       "      <th>22</th>\n",
       "      <th>23</th>\n",
       "      <th>24</th>\n",
       "      <th>25</th>\n",
       "      <th>26</th>\n",
       "      <th>27</th>\n",
       "      <th>28</th>\n",
       "      <th>29</th>\n",
       "      <th>30</th>\n",
       "      <th>31</th>\n",
       "    </tr>\n",
       "  </thead>\n",
       "  <tbody>\n",
       "    <tr>\n",
       "      <th>0</th>\n",
       "      <td>0.057692</td>\n",
       "      <td>0.056818</td>\n",
       "      <td>0.402439</td>\n",
       "      <td>0.271028</td>\n",
       "      <td>0.0</td>\n",
       "      <td>0.0</td>\n",
       "      <td>0.0</td>\n",
       "      <td>0.0</td>\n",
       "      <td>0.0</td>\n",
       "      <td>0.0</td>\n",
       "      <td>...</td>\n",
       "      <td>0.0</td>\n",
       "      <td>0.0</td>\n",
       "      <td>0.0</td>\n",
       "      <td>0.0</td>\n",
       "      <td>0.0</td>\n",
       "      <td>0.0</td>\n",
       "      <td>0.0</td>\n",
       "      <td>0.0</td>\n",
       "      <td>1.0</td>\n",
       "      <td>0.079177</td>\n",
       "    </tr>\n",
       "    <tr>\n",
       "      <th>1</th>\n",
       "      <td>0.020067</td>\n",
       "      <td>0.147727</td>\n",
       "      <td>0.548780</td>\n",
       "      <td>0.158879</td>\n",
       "      <td>0.0</td>\n",
       "      <td>0.0</td>\n",
       "      <td>0.0</td>\n",
       "      <td>0.0</td>\n",
       "      <td>0.0</td>\n",
       "      <td>0.0</td>\n",
       "      <td>...</td>\n",
       "      <td>0.0</td>\n",
       "      <td>0.0</td>\n",
       "      <td>0.0</td>\n",
       "      <td>0.0</td>\n",
       "      <td>0.0</td>\n",
       "      <td>0.0</td>\n",
       "      <td>0.0</td>\n",
       "      <td>0.0</td>\n",
       "      <td>1.0</td>\n",
       "      <td>0.125218</td>\n",
       "    </tr>\n",
       "    <tr>\n",
       "      <th>2</th>\n",
       "      <td>0.057692</td>\n",
       "      <td>0.056818</td>\n",
       "      <td>0.402439</td>\n",
       "      <td>0.271028</td>\n",
       "      <td>0.0</td>\n",
       "      <td>0.0</td>\n",
       "      <td>0.0</td>\n",
       "      <td>0.0</td>\n",
       "      <td>0.0</td>\n",
       "      <td>0.0</td>\n",
       "      <td>...</td>\n",
       "      <td>0.0</td>\n",
       "      <td>0.0</td>\n",
       "      <td>0.0</td>\n",
       "      <td>0.0</td>\n",
       "      <td>0.0</td>\n",
       "      <td>0.0</td>\n",
       "      <td>0.0</td>\n",
       "      <td>0.0</td>\n",
       "      <td>1.0</td>\n",
       "      <td>0.079177</td>\n",
       "    </tr>\n",
       "    <tr>\n",
       "      <th>3</th>\n",
       "      <td>0.057692</td>\n",
       "      <td>0.056818</td>\n",
       "      <td>0.402439</td>\n",
       "      <td>0.271028</td>\n",
       "      <td>0.0</td>\n",
       "      <td>0.0</td>\n",
       "      <td>0.0</td>\n",
       "      <td>0.0</td>\n",
       "      <td>0.0</td>\n",
       "      <td>0.0</td>\n",
       "      <td>...</td>\n",
       "      <td>0.0</td>\n",
       "      <td>0.0</td>\n",
       "      <td>0.0</td>\n",
       "      <td>0.0</td>\n",
       "      <td>0.0</td>\n",
       "      <td>0.0</td>\n",
       "      <td>0.0</td>\n",
       "      <td>0.0</td>\n",
       "      <td>1.0</td>\n",
       "      <td>0.079177</td>\n",
       "    </tr>\n",
       "    <tr>\n",
       "      <th>4</th>\n",
       "      <td>0.057692</td>\n",
       "      <td>0.056818</td>\n",
       "      <td>0.402439</td>\n",
       "      <td>0.271028</td>\n",
       "      <td>0.0</td>\n",
       "      <td>0.0</td>\n",
       "      <td>0.0</td>\n",
       "      <td>0.0</td>\n",
       "      <td>0.0</td>\n",
       "      <td>0.0</td>\n",
       "      <td>...</td>\n",
       "      <td>0.0</td>\n",
       "      <td>0.0</td>\n",
       "      <td>0.0</td>\n",
       "      <td>0.0</td>\n",
       "      <td>0.0</td>\n",
       "      <td>0.0</td>\n",
       "      <td>0.0</td>\n",
       "      <td>0.0</td>\n",
       "      <td>1.0</td>\n",
       "      <td>0.079177</td>\n",
       "    </tr>\n",
       "  </tbody>\n",
       "</table>\n",
       "<p>5 rows × 32 columns</p>\n",
       "</div>"
      ],
      "text/plain": [
       "         0         1         2         3    4    5    6    7    8    9   ...  \\\n",
       "0  0.057692  0.056818  0.402439  0.271028  0.0  0.0  0.0  0.0  0.0  0.0  ...   \n",
       "1  0.020067  0.147727  0.548780  0.158879  0.0  0.0  0.0  0.0  0.0  0.0  ...   \n",
       "2  0.057692  0.056818  0.402439  0.271028  0.0  0.0  0.0  0.0  0.0  0.0  ...   \n",
       "3  0.057692  0.056818  0.402439  0.271028  0.0  0.0  0.0  0.0  0.0  0.0  ...   \n",
       "4  0.057692  0.056818  0.402439  0.271028  0.0  0.0  0.0  0.0  0.0  0.0  ...   \n",
       "\n",
       "    22   23   24   25   26   27   28   29   30        31  \n",
       "0  0.0  0.0  0.0  0.0  0.0  0.0  0.0  0.0  1.0  0.079177  \n",
       "1  0.0  0.0  0.0  0.0  0.0  0.0  0.0  0.0  1.0  0.125218  \n",
       "2  0.0  0.0  0.0  0.0  0.0  0.0  0.0  0.0  1.0  0.079177  \n",
       "3  0.0  0.0  0.0  0.0  0.0  0.0  0.0  0.0  1.0  0.079177  \n",
       "4  0.0  0.0  0.0  0.0  0.0  0.0  0.0  0.0  1.0  0.079177  \n",
       "\n",
       "[5 rows x 32 columns]"
      ]
     },
     "execution_count": 14,
     "metadata": {},
     "output_type": "execute_result"
    }
   ],
   "source": [
    "pd.DataFrame(final_preprocessor.fit_transform(X)).head()"
   ]
  },
  {
   "cell_type": "code",
   "execution_count": 15,
   "metadata": {},
   "outputs": [],
   "source": [
    "final_pipe= Pipeline([\n",
    "    ('preprocessing', final_preprocessor),\n",
    "    ('ridge_regression', Ridge())\n",
    "    \n",
    "])"
   ]
  },
  {
   "cell_type": "code",
   "execution_count": 16,
   "metadata": {},
   "outputs": [
    {
     "data": {
      "text/html": [
       "<style>#sk-65eff8b1-2329-4321-b29a-67085fc0a97e {color: black;background-color: white;}#sk-65eff8b1-2329-4321-b29a-67085fc0a97e pre{padding: 0;}#sk-65eff8b1-2329-4321-b29a-67085fc0a97e div.sk-toggleable {background-color: white;}#sk-65eff8b1-2329-4321-b29a-67085fc0a97e label.sk-toggleable__label {cursor: pointer;display: block;width: 100%;margin-bottom: 0;padding: 0.2em 0.3em;box-sizing: border-box;text-align: center;}#sk-65eff8b1-2329-4321-b29a-67085fc0a97e div.sk-toggleable__content {max-height: 0;max-width: 0;overflow: hidden;text-align: left;background-color: #f0f8ff;}#sk-65eff8b1-2329-4321-b29a-67085fc0a97e div.sk-toggleable__content pre {margin: 0.2em;color: black;border-radius: 0.25em;background-color: #f0f8ff;}#sk-65eff8b1-2329-4321-b29a-67085fc0a97e input.sk-toggleable__control:checked~div.sk-toggleable__content {max-height: 200px;max-width: 100%;overflow: auto;}#sk-65eff8b1-2329-4321-b29a-67085fc0a97e div.sk-estimator input.sk-toggleable__control:checked~label.sk-toggleable__label {background-color: #d4ebff;}#sk-65eff8b1-2329-4321-b29a-67085fc0a97e div.sk-label input.sk-toggleable__control:checked~label.sk-toggleable__label {background-color: #d4ebff;}#sk-65eff8b1-2329-4321-b29a-67085fc0a97e input.sk-hidden--visually {border: 0;clip: rect(1px 1px 1px 1px);clip: rect(1px, 1px, 1px, 1px);height: 1px;margin: -1px;overflow: hidden;padding: 0;position: absolute;width: 1px;}#sk-65eff8b1-2329-4321-b29a-67085fc0a97e div.sk-estimator {font-family: monospace;background-color: #f0f8ff;margin: 0.25em 0.25em;border: 1px dotted black;border-radius: 0.25em;box-sizing: border-box;}#sk-65eff8b1-2329-4321-b29a-67085fc0a97e div.sk-estimator:hover {background-color: #d4ebff;}#sk-65eff8b1-2329-4321-b29a-67085fc0a97e div.sk-parallel-item::after {content: \"\";width: 100%;border-bottom: 1px solid gray;flex-grow: 1;}#sk-65eff8b1-2329-4321-b29a-67085fc0a97e div.sk-label:hover label.sk-toggleable__label {background-color: #d4ebff;}#sk-65eff8b1-2329-4321-b29a-67085fc0a97e div.sk-serial::before {content: \"\";position: absolute;border-left: 1px solid gray;box-sizing: border-box;top: 2em;bottom: 0;left: 50%;}#sk-65eff8b1-2329-4321-b29a-67085fc0a97e div.sk-serial {display: flex;flex-direction: column;align-items: center;background-color: white;}#sk-65eff8b1-2329-4321-b29a-67085fc0a97e div.sk-item {z-index: 1;}#sk-65eff8b1-2329-4321-b29a-67085fc0a97e div.sk-parallel {display: flex;align-items: stretch;justify-content: center;background-color: white;}#sk-65eff8b1-2329-4321-b29a-67085fc0a97e div.sk-parallel-item {display: flex;flex-direction: column;position: relative;background-color: white;}#sk-65eff8b1-2329-4321-b29a-67085fc0a97e div.sk-parallel-item:first-child::after {align-self: flex-end;width: 50%;}#sk-65eff8b1-2329-4321-b29a-67085fc0a97e div.sk-parallel-item:last-child::after {align-self: flex-start;width: 50%;}#sk-65eff8b1-2329-4321-b29a-67085fc0a97e div.sk-parallel-item:only-child::after {width: 0;}#sk-65eff8b1-2329-4321-b29a-67085fc0a97e div.sk-dashed-wrapped {border: 1px dashed gray;margin: 0.2em;box-sizing: border-box;padding-bottom: 0.1em;background-color: white;position: relative;}#sk-65eff8b1-2329-4321-b29a-67085fc0a97e div.sk-label label {font-family: monospace;font-weight: bold;background-color: white;display: inline-block;line-height: 1.2em;}#sk-65eff8b1-2329-4321-b29a-67085fc0a97e div.sk-label-container {position: relative;z-index: 2;text-align: center;}#sk-65eff8b1-2329-4321-b29a-67085fc0a97e div.sk-container {display: inline-block;position: relative;}</style><div id=\"sk-65eff8b1-2329-4321-b29a-67085fc0a97e\" class\"sk-top-container\"><div class=\"sk-container\"><div class=\"sk-item sk-dashed-wrapped\"><div class=\"sk-label-container\"><div class=\"sk-label sk-toggleable\"><input class=\"sk-toggleable__control sk-hidden--visually\" id=\"bc27569f-2773-43d1-bc6d-db20c4dbe179\" type=\"checkbox\" ><label class=\"sk-toggleable__label\" for=\"bc27569f-2773-43d1-bc6d-db20c4dbe179\">Pipeline</label><div class=\"sk-toggleable__content\"><pre>Pipeline(steps=[('preprocessing',\n",
       "                 FeatureUnion(transformer_list=[('preprocess',\n",
       "                                                 ColumnTransformer(transformers=[('num_transformer',\n",
       "                                                                                  Pipeline(steps=[('scaler',\n",
       "                                                                                                   MinMaxScaler())]),\n",
       "                                                                                  ['product_weight_g',\n",
       "                                                                                   'product_height_cm',\n",
       "                                                                                   'product_length_cm',\n",
       "                                                                                   'product_width_cm']),\n",
       "                                                                                 ('cat_transformer',\n",
       "                                                                                  OneHotEncoder(handle_unknown='ignore',\n",
       "                                                                                                sparse=False),\n",
       "                                                                                  ['customer_state',\n",
       "                                                                                   'seller_state'])])),\n",
       "                                                ('volume_preprocess',\n",
       "                                                 Pipeline(steps=[('vol_transformer',\n",
       "                                                                  FunctionTransformer(func=<function vol at 0x12752cee0>)),\n",
       "                                                                 ('scaler_vol',\n",
       "                                                                  MinMaxScaler())]))])),\n",
       "                ('ridge_regression', Ridge())])</pre></div></div></div><div class=\"sk-serial\"><div class=\"sk-item sk-dashed-wrapped\"><div class=\"sk-label-container\"><div class=\"sk-label sk-toggleable\"><input class=\"sk-toggleable__control sk-hidden--visually\" id=\"33b95daf-42aa-4d31-a056-6c03b72a7142\" type=\"checkbox\" ><label class=\"sk-toggleable__label\" for=\"33b95daf-42aa-4d31-a056-6c03b72a7142\">preprocessing: FeatureUnion</label><div class=\"sk-toggleable__content\"><pre>FeatureUnion(transformer_list=[('preprocess',\n",
       "                                ColumnTransformer(transformers=[('num_transformer',\n",
       "                                                                 Pipeline(steps=[('scaler',\n",
       "                                                                                  MinMaxScaler())]),\n",
       "                                                                 ['product_weight_g',\n",
       "                                                                  'product_height_cm',\n",
       "                                                                  'product_length_cm',\n",
       "                                                                  'product_width_cm']),\n",
       "                                                                ('cat_transformer',\n",
       "                                                                 OneHotEncoder(handle_unknown='ignore',\n",
       "                                                                               sparse=False),\n",
       "                                                                 ['customer_state',\n",
       "                                                                  'seller_state'])])),\n",
       "                               ('volume_preprocess',\n",
       "                                Pipeline(steps=[('vol_transformer',\n",
       "                                                 FunctionTransformer(func=<function vol at 0x12752cee0>)),\n",
       "                                                ('scaler_vol',\n",
       "                                                 MinMaxScaler())]))])</pre></div></div></div><div class=\"sk-parallel\"><div class=\"sk-parallel-item\"><div class=\"sk-item\"><div class=\"sk-label-container\"><div class=\"sk-label sk-toggleable\"><label>preprocess</label></div></div><div class=\"sk-serial\"><div class=\"sk-item sk-dashed-wrapped\"><div class=\"sk-parallel\"><div class=\"sk-parallel-item\"><div class=\"sk-item\"><div class=\"sk-label-container\"><div class=\"sk-label sk-toggleable\"><input class=\"sk-toggleable__control sk-hidden--visually\" id=\"89bacd4e-3c43-4ba1-8a79-03e094ed6003\" type=\"checkbox\" ><label class=\"sk-toggleable__label\" for=\"89bacd4e-3c43-4ba1-8a79-03e094ed6003\">num_transformer</label><div class=\"sk-toggleable__content\"><pre>['product_weight_g', 'product_height_cm', 'product_length_cm', 'product_width_cm']</pre></div></div></div><div class=\"sk-serial\"><div class=\"sk-item\"><div class=\"sk-serial\"><div class=\"sk-item\"><div class=\"sk-estimator sk-toggleable\"><input class=\"sk-toggleable__control sk-hidden--visually\" id=\"5a8b6128-6c9e-46f3-9f70-eea255487c2b\" type=\"checkbox\" ><label class=\"sk-toggleable__label\" for=\"5a8b6128-6c9e-46f3-9f70-eea255487c2b\">MinMaxScaler</label><div class=\"sk-toggleable__content\"><pre>MinMaxScaler()</pre></div></div></div></div></div></div></div></div><div class=\"sk-parallel-item\"><div class=\"sk-item\"><div class=\"sk-label-container\"><div class=\"sk-label sk-toggleable\"><input class=\"sk-toggleable__control sk-hidden--visually\" id=\"21bef57b-d0e5-469f-a5f5-57e63ce306c2\" type=\"checkbox\" ><label class=\"sk-toggleable__label\" for=\"21bef57b-d0e5-469f-a5f5-57e63ce306c2\">cat_transformer</label><div class=\"sk-toggleable__content\"><pre>['customer_state', 'seller_state']</pre></div></div></div><div class=\"sk-serial\"><div class=\"sk-item\"><div class=\"sk-estimator sk-toggleable\"><input class=\"sk-toggleable__control sk-hidden--visually\" id=\"5b8de104-4b80-4303-8a5c-7f2cf55134d4\" type=\"checkbox\" ><label class=\"sk-toggleable__label\" for=\"5b8de104-4b80-4303-8a5c-7f2cf55134d4\">OneHotEncoder</label><div class=\"sk-toggleable__content\"><pre>OneHotEncoder(handle_unknown='ignore', sparse=False)</pre></div></div></div></div></div></div></div></div></div></div></div><div class=\"sk-parallel-item\"><div class=\"sk-item\"><div class=\"sk-label-container\"><div class=\"sk-label sk-toggleable\"><label>volume_preprocess</label></div></div><div class=\"sk-serial\"><div class=\"sk-item\"><div class=\"sk-serial\"><div class=\"sk-item\"><div class=\"sk-estimator sk-toggleable\"><input class=\"sk-toggleable__control sk-hidden--visually\" id=\"5ad3f4c9-2e97-479a-aeca-8feb7f470597\" type=\"checkbox\" ><label class=\"sk-toggleable__label\" for=\"5ad3f4c9-2e97-479a-aeca-8feb7f470597\">FunctionTransformer</label><div class=\"sk-toggleable__content\"><pre>FunctionTransformer(func=<function vol at 0x12752cee0>)</pre></div></div></div><div class=\"sk-item\"><div class=\"sk-estimator sk-toggleable\"><input class=\"sk-toggleable__control sk-hidden--visually\" id=\"89c807f2-dcd2-49ef-9ea2-f896fde9c9c2\" type=\"checkbox\" ><label class=\"sk-toggleable__label\" for=\"89c807f2-dcd2-49ef-9ea2-f896fde9c9c2\">MinMaxScaler</label><div class=\"sk-toggleable__content\"><pre>MinMaxScaler()</pre></div></div></div></div></div></div></div></div></div></div><div class=\"sk-item\"><div class=\"sk-estimator sk-toggleable\"><input class=\"sk-toggleable__control sk-hidden--visually\" id=\"ae6c4641-9c88-47cf-a284-b9e31b36948e\" type=\"checkbox\" ><label class=\"sk-toggleable__label\" for=\"ae6c4641-9c88-47cf-a284-b9e31b36948e\">Ridge</label><div class=\"sk-toggleable__content\"><pre>Ridge()</pre></div></div></div></div></div></div></div>"
      ],
      "text/plain": [
       "Pipeline(steps=[('preprocessing',\n",
       "                 FeatureUnion(transformer_list=[('preprocess',\n",
       "                                                 ColumnTransformer(transformers=[('num_transformer',\n",
       "                                                                                  Pipeline(steps=[('scaler',\n",
       "                                                                                                   MinMaxScaler())]),\n",
       "                                                                                  ['product_weight_g',\n",
       "                                                                                   'product_height_cm',\n",
       "                                                                                   'product_length_cm',\n",
       "                                                                                   'product_width_cm']),\n",
       "                                                                                 ('cat_transformer',\n",
       "                                                                                  OneHotEncoder(handle_unknown='ignore',\n",
       "                                                                                                sparse=False),\n",
       "                                                                                  ['customer_state',\n",
       "                                                                                   'seller_state'])])),\n",
       "                                                ('volume_preprocess',\n",
       "                                                 Pipeline(steps=[('vol_transformer',\n",
       "                                                                  FunctionTransformer(func=<function vol at 0x12752cee0>)),\n",
       "                                                                 ('scaler_vol',\n",
       "                                                                  MinMaxScaler())]))])),\n",
       "                ('ridge_regression', Ridge())])"
      ]
     },
     "execution_count": 16,
     "metadata": {},
     "output_type": "execute_result"
    }
   ],
   "source": [
    "final_pipe"
   ]
  },
  {
   "cell_type": "code",
   "execution_count": 21,
   "metadata": {},
   "outputs": [],
   "source": [
    "from sklearn.model_selection import cross_validate\n"
   ]
  },
  {
   "cell_type": "code",
   "execution_count": 20,
   "metadata": {},
   "outputs": [],
   "source": [
    "cv_results = cross_validate(final_pipe, X, y, cv=5, \n",
    "                            scoring=['r2']\n",
    "                           )"
   ]
  },
  {
   "cell_type": "code",
   "execution_count": 22,
   "metadata": {},
   "outputs": [
    {
     "data": {
      "text/plain": [
       "0.12573655053079716"
      ]
     },
     "execution_count": 22,
     "metadata": {},
     "output_type": "execute_result"
    }
   ],
   "source": [
    "cv_results['test_r2'].mean()"
   ]
  },
  {
   "cell_type": "code",
   "execution_count": 24,
   "metadata": {},
   "outputs": [
    {
     "data": {
      "text/html": [
       "<style>#sk-bff55169-559f-499f-851d-14cd65de1c0c {color: black;background-color: white;}#sk-bff55169-559f-499f-851d-14cd65de1c0c pre{padding: 0;}#sk-bff55169-559f-499f-851d-14cd65de1c0c div.sk-toggleable {background-color: white;}#sk-bff55169-559f-499f-851d-14cd65de1c0c label.sk-toggleable__label {cursor: pointer;display: block;width: 100%;margin-bottom: 0;padding: 0.2em 0.3em;box-sizing: border-box;text-align: center;}#sk-bff55169-559f-499f-851d-14cd65de1c0c div.sk-toggleable__content {max-height: 0;max-width: 0;overflow: hidden;text-align: left;background-color: #f0f8ff;}#sk-bff55169-559f-499f-851d-14cd65de1c0c div.sk-toggleable__content pre {margin: 0.2em;color: black;border-radius: 0.25em;background-color: #f0f8ff;}#sk-bff55169-559f-499f-851d-14cd65de1c0c input.sk-toggleable__control:checked~div.sk-toggleable__content {max-height: 200px;max-width: 100%;overflow: auto;}#sk-bff55169-559f-499f-851d-14cd65de1c0c div.sk-estimator input.sk-toggleable__control:checked~label.sk-toggleable__label {background-color: #d4ebff;}#sk-bff55169-559f-499f-851d-14cd65de1c0c div.sk-label input.sk-toggleable__control:checked~label.sk-toggleable__label {background-color: #d4ebff;}#sk-bff55169-559f-499f-851d-14cd65de1c0c input.sk-hidden--visually {border: 0;clip: rect(1px 1px 1px 1px);clip: rect(1px, 1px, 1px, 1px);height: 1px;margin: -1px;overflow: hidden;padding: 0;position: absolute;width: 1px;}#sk-bff55169-559f-499f-851d-14cd65de1c0c div.sk-estimator {font-family: monospace;background-color: #f0f8ff;margin: 0.25em 0.25em;border: 1px dotted black;border-radius: 0.25em;box-sizing: border-box;}#sk-bff55169-559f-499f-851d-14cd65de1c0c div.sk-estimator:hover {background-color: #d4ebff;}#sk-bff55169-559f-499f-851d-14cd65de1c0c div.sk-parallel-item::after {content: \"\";width: 100%;border-bottom: 1px solid gray;flex-grow: 1;}#sk-bff55169-559f-499f-851d-14cd65de1c0c div.sk-label:hover label.sk-toggleable__label {background-color: #d4ebff;}#sk-bff55169-559f-499f-851d-14cd65de1c0c div.sk-serial::before {content: \"\";position: absolute;border-left: 1px solid gray;box-sizing: border-box;top: 2em;bottom: 0;left: 50%;}#sk-bff55169-559f-499f-851d-14cd65de1c0c div.sk-serial {display: flex;flex-direction: column;align-items: center;background-color: white;}#sk-bff55169-559f-499f-851d-14cd65de1c0c div.sk-item {z-index: 1;}#sk-bff55169-559f-499f-851d-14cd65de1c0c div.sk-parallel {display: flex;align-items: stretch;justify-content: center;background-color: white;}#sk-bff55169-559f-499f-851d-14cd65de1c0c div.sk-parallel-item {display: flex;flex-direction: column;position: relative;background-color: white;}#sk-bff55169-559f-499f-851d-14cd65de1c0c div.sk-parallel-item:first-child::after {align-self: flex-end;width: 50%;}#sk-bff55169-559f-499f-851d-14cd65de1c0c div.sk-parallel-item:last-child::after {align-self: flex-start;width: 50%;}#sk-bff55169-559f-499f-851d-14cd65de1c0c div.sk-parallel-item:only-child::after {width: 0;}#sk-bff55169-559f-499f-851d-14cd65de1c0c div.sk-dashed-wrapped {border: 1px dashed gray;margin: 0.2em;box-sizing: border-box;padding-bottom: 0.1em;background-color: white;position: relative;}#sk-bff55169-559f-499f-851d-14cd65de1c0c div.sk-label label {font-family: monospace;font-weight: bold;background-color: white;display: inline-block;line-height: 1.2em;}#sk-bff55169-559f-499f-851d-14cd65de1c0c div.sk-label-container {position: relative;z-index: 2;text-align: center;}#sk-bff55169-559f-499f-851d-14cd65de1c0c div.sk-container {display: inline-block;position: relative;}</style><div id=\"sk-bff55169-559f-499f-851d-14cd65de1c0c\" class\"sk-top-container\"><div class=\"sk-container\"><div class=\"sk-item sk-dashed-wrapped\"><div class=\"sk-label-container\"><div class=\"sk-label sk-toggleable\"><input class=\"sk-toggleable__control sk-hidden--visually\" id=\"c5c88cba-9ce7-40de-ae39-a430a52f00eb\" type=\"checkbox\" ><label class=\"sk-toggleable__label\" for=\"c5c88cba-9ce7-40de-ae39-a430a52f00eb\">Pipeline</label><div class=\"sk-toggleable__content\"><pre>Pipeline(steps=[('preprocessing',\n",
       "                 FeatureUnion(transformer_list=[('preprocess',\n",
       "                                                 ColumnTransformer(transformers=[('num_transformer',\n",
       "                                                                                  Pipeline(steps=[('scaler',\n",
       "                                                                                                   MinMaxScaler())]),\n",
       "                                                                                  ['product_weight_g',\n",
       "                                                                                   'product_height_cm',\n",
       "                                                                                   'product_length_cm',\n",
       "                                                                                   'product_width_cm']),\n",
       "                                                                                 ('cat_transformer',\n",
       "                                                                                  OneHotEncoder(handle_unknown='ignore',\n",
       "                                                                                                sparse=False),\n",
       "                                                                                  ['customer_state',\n",
       "                                                                                   'seller_state'])])),\n",
       "                                                ('volume_preprocess',\n",
       "                                                 Pipeline(steps=[('vol_transformer',\n",
       "                                                                  FunctionTransformer(func=<function vol at 0x12752cee0>)),\n",
       "                                                                 ('scaler_vol',\n",
       "                                                                  MinMaxScaler())]))])),\n",
       "                ('ridge_regression', Ridge())])</pre></div></div></div><div class=\"sk-serial\"><div class=\"sk-item sk-dashed-wrapped\"><div class=\"sk-label-container\"><div class=\"sk-label sk-toggleable\"><input class=\"sk-toggleable__control sk-hidden--visually\" id=\"68015aad-816e-4b4f-abb2-c861853b85e7\" type=\"checkbox\" ><label class=\"sk-toggleable__label\" for=\"68015aad-816e-4b4f-abb2-c861853b85e7\">preprocessing: FeatureUnion</label><div class=\"sk-toggleable__content\"><pre>FeatureUnion(transformer_list=[('preprocess',\n",
       "                                ColumnTransformer(transformers=[('num_transformer',\n",
       "                                                                 Pipeline(steps=[('scaler',\n",
       "                                                                                  MinMaxScaler())]),\n",
       "                                                                 ['product_weight_g',\n",
       "                                                                  'product_height_cm',\n",
       "                                                                  'product_length_cm',\n",
       "                                                                  'product_width_cm']),\n",
       "                                                                ('cat_transformer',\n",
       "                                                                 OneHotEncoder(handle_unknown='ignore',\n",
       "                                                                               sparse=False),\n",
       "                                                                 ['customer_state',\n",
       "                                                                  'seller_state'])])),\n",
       "                               ('volume_preprocess',\n",
       "                                Pipeline(steps=[('vol_transformer',\n",
       "                                                 FunctionTransformer(func=<function vol at 0x12752cee0>)),\n",
       "                                                ('scaler_vol',\n",
       "                                                 MinMaxScaler())]))])</pre></div></div></div><div class=\"sk-parallel\"><div class=\"sk-parallel-item\"><div class=\"sk-item\"><div class=\"sk-label-container\"><div class=\"sk-label sk-toggleable\"><label>preprocess</label></div></div><div class=\"sk-serial\"><div class=\"sk-item sk-dashed-wrapped\"><div class=\"sk-parallel\"><div class=\"sk-parallel-item\"><div class=\"sk-item\"><div class=\"sk-label-container\"><div class=\"sk-label sk-toggleable\"><input class=\"sk-toggleable__control sk-hidden--visually\" id=\"06f038a7-7277-4944-a914-ed390afeb7d1\" type=\"checkbox\" ><label class=\"sk-toggleable__label\" for=\"06f038a7-7277-4944-a914-ed390afeb7d1\">num_transformer</label><div class=\"sk-toggleable__content\"><pre>['product_weight_g', 'product_height_cm', 'product_length_cm', 'product_width_cm']</pre></div></div></div><div class=\"sk-serial\"><div class=\"sk-item\"><div class=\"sk-serial\"><div class=\"sk-item\"><div class=\"sk-estimator sk-toggleable\"><input class=\"sk-toggleable__control sk-hidden--visually\" id=\"06e05045-ca62-4a52-be7c-b697439fd729\" type=\"checkbox\" ><label class=\"sk-toggleable__label\" for=\"06e05045-ca62-4a52-be7c-b697439fd729\">MinMaxScaler</label><div class=\"sk-toggleable__content\"><pre>MinMaxScaler()</pre></div></div></div></div></div></div></div></div><div class=\"sk-parallel-item\"><div class=\"sk-item\"><div class=\"sk-label-container\"><div class=\"sk-label sk-toggleable\"><input class=\"sk-toggleable__control sk-hidden--visually\" id=\"58408c81-f0da-4845-ad4e-46585ffe0b16\" type=\"checkbox\" ><label class=\"sk-toggleable__label\" for=\"58408c81-f0da-4845-ad4e-46585ffe0b16\">cat_transformer</label><div class=\"sk-toggleable__content\"><pre>['customer_state', 'seller_state']</pre></div></div></div><div class=\"sk-serial\"><div class=\"sk-item\"><div class=\"sk-estimator sk-toggleable\"><input class=\"sk-toggleable__control sk-hidden--visually\" id=\"07e118c6-eb4a-43d8-812d-d1d412703a5b\" type=\"checkbox\" ><label class=\"sk-toggleable__label\" for=\"07e118c6-eb4a-43d8-812d-d1d412703a5b\">OneHotEncoder</label><div class=\"sk-toggleable__content\"><pre>OneHotEncoder(handle_unknown='ignore', sparse=False)</pre></div></div></div></div></div></div></div></div></div></div></div><div class=\"sk-parallel-item\"><div class=\"sk-item\"><div class=\"sk-label-container\"><div class=\"sk-label sk-toggleable\"><label>volume_preprocess</label></div></div><div class=\"sk-serial\"><div class=\"sk-item\"><div class=\"sk-serial\"><div class=\"sk-item\"><div class=\"sk-estimator sk-toggleable\"><input class=\"sk-toggleable__control sk-hidden--visually\" id=\"6be639ef-eb74-4672-9a41-06bd0bf3687a\" type=\"checkbox\" ><label class=\"sk-toggleable__label\" for=\"6be639ef-eb74-4672-9a41-06bd0bf3687a\">FunctionTransformer</label><div class=\"sk-toggleable__content\"><pre>FunctionTransformer(func=<function vol at 0x12752cee0>)</pre></div></div></div><div class=\"sk-item\"><div class=\"sk-estimator sk-toggleable\"><input class=\"sk-toggleable__control sk-hidden--visually\" id=\"5a68d8ac-5bbc-4c8b-9ed3-96314abf7239\" type=\"checkbox\" ><label class=\"sk-toggleable__label\" for=\"5a68d8ac-5bbc-4c8b-9ed3-96314abf7239\">MinMaxScaler</label><div class=\"sk-toggleable__content\"><pre>MinMaxScaler()</pre></div></div></div></div></div></div></div></div></div></div><div class=\"sk-item\"><div class=\"sk-estimator sk-toggleable\"><input class=\"sk-toggleable__control sk-hidden--visually\" id=\"a2c96fae-a5b0-4c64-9a5c-c025884d6b52\" type=\"checkbox\" ><label class=\"sk-toggleable__label\" for=\"a2c96fae-a5b0-4c64-9a5c-c025884d6b52\">Ridge</label><div class=\"sk-toggleable__content\"><pre>Ridge()</pre></div></div></div></div></div></div></div>"
      ],
      "text/plain": [
       "Pipeline(steps=[('preprocessing',\n",
       "                 FeatureUnion(transformer_list=[('preprocess',\n",
       "                                                 ColumnTransformer(transformers=[('num_transformer',\n",
       "                                                                                  Pipeline(steps=[('scaler',\n",
       "                                                                                                   MinMaxScaler())]),\n",
       "                                                                                  ['product_weight_g',\n",
       "                                                                                   'product_height_cm',\n",
       "                                                                                   'product_length_cm',\n",
       "                                                                                   'product_width_cm']),\n",
       "                                                                                 ('cat_transformer',\n",
       "                                                                                  OneHotEncoder(handle_unknown='ignore',\n",
       "                                                                                                sparse=False),\n",
       "                                                                                  ['customer_state',\n",
       "                                                                                   'seller_state'])])),\n",
       "                                                ('volume_preprocess',\n",
       "                                                 Pipeline(steps=[('vol_transformer',\n",
       "                                                                  FunctionTransformer(func=<function vol at 0x12752cee0>)),\n",
       "                                                                 ('scaler_vol',\n",
       "                                                                  MinMaxScaler())]))])),\n",
       "                ('ridge_regression', Ridge())])"
      ]
     },
     "execution_count": 24,
     "metadata": {},
     "output_type": "execute_result"
    }
   ],
   "source": [
    "final_pipe.fit(X, y)"
   ]
  },
  {
   "cell_type": "code",
   "execution_count": 17,
   "metadata": {
    "scrolled": true
   },
   "outputs": [
    {
     "data": {
      "text/html": [
       "<div>\n",
       "<style scoped>\n",
       "    .dataframe tbody tr th:only-of-type {\n",
       "        vertical-align: middle;\n",
       "    }\n",
       "\n",
       "    .dataframe tbody tr th {\n",
       "        vertical-align: top;\n",
       "    }\n",
       "\n",
       "    .dataframe thead th {\n",
       "        text-align: right;\n",
       "    }\n",
       "</style>\n",
       "<table border=\"1\" class=\"dataframe\">\n",
       "  <thead>\n",
       "    <tr style=\"text-align: right;\">\n",
       "      <th></th>\n",
       "      <th>customer_state</th>\n",
       "      <th>seller_state</th>\n",
       "      <th>product_weight_g</th>\n",
       "      <th>product_length_cm</th>\n",
       "      <th>product_height_cm</th>\n",
       "      <th>product_width_cm</th>\n",
       "    </tr>\n",
       "  </thead>\n",
       "  <tbody>\n",
       "    <tr>\n",
       "      <th>0</th>\n",
       "      <td>RJ</td>\n",
       "      <td>SP</td>\n",
       "      <td>1825</td>\n",
       "      <td>53</td>\n",
       "      <td>10</td>\n",
       "      <td>40</td>\n",
       "    </tr>\n",
       "  </tbody>\n",
       "</table>\n",
       "</div>"
      ],
      "text/plain": [
       "  customer_state seller_state  product_weight_g  product_length_cm  \\\n",
       "0             RJ           SP              1825                 53   \n",
       "\n",
       "   product_height_cm  product_width_cm  \n",
       "0                 10                40  "
      ]
     },
     "execution_count": 17,
     "metadata": {},
     "output_type": "execute_result"
    }
   ],
   "source": [
    "new_data = pd.read_csv(\"data_new.csv\")\n",
    "new_data"
   ]
  },
  {
   "cell_type": "markdown",
   "metadata": {},
   "source": [
    "<details><summary>Hints</summary>\n",
    "\n",
    "- There are many ways to create your preprocessed matrix (using `ColumnTransformer` and/or `FeatureUnion`). \n",
    "    \n",
    "- If your transformed feature matrix look wierd, it may be stored as \"sparse\" by the default behavior of `OneHotEncoder(sparse=True)`. Use `.todense()` to turn it back to a dense matrix\n",
    "\n",
    "</details>"
   ]
  },
  {
   "cell_type": "code",
   "execution_count": 26,
   "metadata": {},
   "outputs": [],
   "source": [
    "X_new = new_data"
   ]
  },
  {
   "cell_type": "code",
   "execution_count": 29,
   "metadata": {},
   "outputs": [
    {
     "data": {
      "text/plain": [
       "20.67221181581968"
      ]
     },
     "execution_count": 29,
     "metadata": {},
     "output_type": "execute_result"
    }
   ],
   "source": [
    "y_new = final_pipe.predict(X_new)[0]\n",
    "y_new"
   ]
  }
 ],
 "metadata": {
  "kernelspec": {
   "display_name": "Python 3 (ipykernel)",
   "language": "python",
   "name": "python3"
  },
  "language_info": {
   "codemirror_mode": {
    "name": "ipython",
    "version": 3
   },
   "file_extension": ".py",
   "mimetype": "text/x-python",
   "name": "python",
   "nbconvert_exporter": "python",
   "pygments_lexer": "ipython3",
   "version": "3.8.6"
  },
  "toc": {
   "base_numbering": 1,
   "nav_menu": {},
   "number_sections": false,
   "sideBar": true,
   "skip_h1_title": false,
   "title_cell": "Table of Contents",
   "title_sidebar": "Contents",
   "toc_cell": false,
   "toc_position": {},
   "toc_section_display": true,
   "toc_window_display": false
  },
  "varInspector": {
   "cols": {
    "lenName": 16,
    "lenType": 16,
    "lenVar": 40
   },
   "kernels_config": {
    "python": {
     "delete_cmd_postfix": "",
     "delete_cmd_prefix": "del ",
     "library": "var_list.py",
     "varRefreshCmd": "print(var_dic_list())"
    },
    "r": {
     "delete_cmd_postfix": ") ",
     "delete_cmd_prefix": "rm(",
     "library": "var_list.r",
     "varRefreshCmd": "cat(var_dic_list()) "
    }
   },
   "types_to_exclude": [
    "module",
    "function",
    "builtin_function_or_method",
    "instance",
    "_Feature"
   ],
   "window_display": false
  }
 },
 "nbformat": 4,
 "nbformat_minor": 4
}
