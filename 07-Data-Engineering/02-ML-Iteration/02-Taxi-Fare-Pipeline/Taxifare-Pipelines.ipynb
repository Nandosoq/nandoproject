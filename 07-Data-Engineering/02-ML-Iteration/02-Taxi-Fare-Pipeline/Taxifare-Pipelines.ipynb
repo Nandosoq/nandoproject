{
 "cells": [
  {
   "cell_type": "markdown",
   "metadata": {},
   "source": [
    "# Refactor the Taxi Fare Prediction Problem with a Pipeline"
   ]
  },
  {
   "cell_type": "markdown",
   "metadata": {},
   "source": [
    "We will refactor the model you built for the Taxi Fare Prediction Problem using:\n",
    "- Custom encoders for the distance and time features\n",
    "- OneHot Encoder in order to encode the hour and day of week features\n",
    "- SimpleImputer to fill missing values\n",
    "- A simple linear regression\n",
    "- A pipeline to put all together\n",
    "\n",
    "Then: \n",
    "- train this pipeline\n",
    "- apply the pipeline on test data\n",
    "- generate predictions and submit these new predictions to Kaggle"
   ]
  },
  {
   "cell_type": "markdown",
   "metadata": {},
   "source": [
    "## First pipeline"
   ]
  },
  {
   "cell_type": "code",
   "execution_count": 1,
   "metadata": {},
   "outputs": [
    {
     "data": {
      "text/html": [
       "<div>\n",
       "<style scoped>\n",
       "    .dataframe tbody tr th:only-of-type {\n",
       "        vertical-align: middle;\n",
       "    }\n",
       "\n",
       "    .dataframe tbody tr th {\n",
       "        vertical-align: top;\n",
       "    }\n",
       "\n",
       "    .dataframe thead th {\n",
       "        text-align: right;\n",
       "    }\n",
       "</style>\n",
       "<table border=\"1\" class=\"dataframe\">\n",
       "  <thead>\n",
       "    <tr style=\"text-align: right;\">\n",
       "      <th></th>\n",
       "      <th>key</th>\n",
       "      <th>fare_amount</th>\n",
       "      <th>pickup_datetime</th>\n",
       "      <th>pickup_longitude</th>\n",
       "      <th>pickup_latitude</th>\n",
       "      <th>dropoff_longitude</th>\n",
       "      <th>dropoff_latitude</th>\n",
       "      <th>passenger_count</th>\n",
       "    </tr>\n",
       "  </thead>\n",
       "  <tbody>\n",
       "    <tr>\n",
       "      <th>0</th>\n",
       "      <td>2009-06-15 17:26:21.0000001</td>\n",
       "      <td>4.5</td>\n",
       "      <td>2009-06-15 17:26:21 UTC</td>\n",
       "      <td>-73.844311</td>\n",
       "      <td>40.721319</td>\n",
       "      <td>-73.841610</td>\n",
       "      <td>40.712278</td>\n",
       "      <td>1</td>\n",
       "    </tr>\n",
       "    <tr>\n",
       "      <th>1</th>\n",
       "      <td>2010-01-05 16:52:16.0000002</td>\n",
       "      <td>16.9</td>\n",
       "      <td>2010-01-05 16:52:16 UTC</td>\n",
       "      <td>-74.016048</td>\n",
       "      <td>40.711303</td>\n",
       "      <td>-73.979268</td>\n",
       "      <td>40.782004</td>\n",
       "      <td>1</td>\n",
       "    </tr>\n",
       "    <tr>\n",
       "      <th>2</th>\n",
       "      <td>2011-08-18 00:35:00.00000049</td>\n",
       "      <td>5.7</td>\n",
       "      <td>2011-08-18 00:35:00 UTC</td>\n",
       "      <td>-73.982738</td>\n",
       "      <td>40.761270</td>\n",
       "      <td>-73.991242</td>\n",
       "      <td>40.750562</td>\n",
       "      <td>2</td>\n",
       "    </tr>\n",
       "    <tr>\n",
       "      <th>3</th>\n",
       "      <td>2012-04-21 04:30:42.0000001</td>\n",
       "      <td>7.7</td>\n",
       "      <td>2012-04-21 04:30:42 UTC</td>\n",
       "      <td>-73.987130</td>\n",
       "      <td>40.733143</td>\n",
       "      <td>-73.991567</td>\n",
       "      <td>40.758092</td>\n",
       "      <td>1</td>\n",
       "    </tr>\n",
       "    <tr>\n",
       "      <th>4</th>\n",
       "      <td>2010-03-09 07:51:00.000000135</td>\n",
       "      <td>5.3</td>\n",
       "      <td>2010-03-09 07:51:00 UTC</td>\n",
       "      <td>-73.968095</td>\n",
       "      <td>40.768008</td>\n",
       "      <td>-73.956655</td>\n",
       "      <td>40.783762</td>\n",
       "      <td>1</td>\n",
       "    </tr>\n",
       "  </tbody>\n",
       "</table>\n",
       "</div>"
      ],
      "text/plain": [
       "                             key  fare_amount          pickup_datetime  \\\n",
       "0    2009-06-15 17:26:21.0000001          4.5  2009-06-15 17:26:21 UTC   \n",
       "1    2010-01-05 16:52:16.0000002         16.9  2010-01-05 16:52:16 UTC   \n",
       "2   2011-08-18 00:35:00.00000049          5.7  2011-08-18 00:35:00 UTC   \n",
       "3    2012-04-21 04:30:42.0000001          7.7  2012-04-21 04:30:42 UTC   \n",
       "4  2010-03-09 07:51:00.000000135          5.3  2010-03-09 07:51:00 UTC   \n",
       "\n",
       "   pickup_longitude  pickup_latitude  dropoff_longitude  dropoff_latitude  \\\n",
       "0        -73.844311        40.721319         -73.841610         40.712278   \n",
       "1        -74.016048        40.711303         -73.979268         40.782004   \n",
       "2        -73.982738        40.761270         -73.991242         40.750562   \n",
       "3        -73.987130        40.733143         -73.991567         40.758092   \n",
       "4        -73.968095        40.768008         -73.956655         40.783762   \n",
       "\n",
       "   passenger_count  \n",
       "0                1  \n",
       "1                1  \n",
       "2                2  \n",
       "3                1  \n",
       "4                1  "
      ]
     },
     "execution_count": 1,
     "metadata": {},
     "output_type": "execute_result"
    }
   ],
   "source": [
    "# import the dataset\n",
    "import pandas as pd\n",
    "url = \"s3://wagon-public-datasets/taxi-fare-train.csv\"\n",
    "df = pd.read_csv(url, nrows=1000)\n",
    "df.head()"
   ]
  },
  {
   "cell_type": "code",
   "execution_count": 2,
   "metadata": {},
   "outputs": [
    {
     "data": {
      "text/html": [
       "<div>\n",
       "<style scoped>\n",
       "    .dataframe tbody tr th:only-of-type {\n",
       "        vertical-align: middle;\n",
       "    }\n",
       "\n",
       "    .dataframe tbody tr th {\n",
       "        vertical-align: top;\n",
       "    }\n",
       "\n",
       "    .dataframe thead th {\n",
       "        text-align: right;\n",
       "    }\n",
       "</style>\n",
       "<table border=\"1\" class=\"dataframe\">\n",
       "  <thead>\n",
       "    <tr style=\"text-align: right;\">\n",
       "      <th></th>\n",
       "      <th>key</th>\n",
       "      <th>pickup_datetime</th>\n",
       "      <th>pickup_longitude</th>\n",
       "      <th>pickup_latitude</th>\n",
       "      <th>dropoff_longitude</th>\n",
       "      <th>dropoff_latitude</th>\n",
       "      <th>passenger_count</th>\n",
       "    </tr>\n",
       "  </thead>\n",
       "  <tbody>\n",
       "    <tr>\n",
       "      <th>0</th>\n",
       "      <td>2009-06-15 17:26:21.0000001</td>\n",
       "      <td>2009-06-15 17:26:21 UTC</td>\n",
       "      <td>-73.844311</td>\n",
       "      <td>40.721319</td>\n",
       "      <td>-73.841610</td>\n",
       "      <td>40.712278</td>\n",
       "      <td>1</td>\n",
       "    </tr>\n",
       "    <tr>\n",
       "      <th>1</th>\n",
       "      <td>2010-01-05 16:52:16.0000002</td>\n",
       "      <td>2010-01-05 16:52:16 UTC</td>\n",
       "      <td>-74.016048</td>\n",
       "      <td>40.711303</td>\n",
       "      <td>-73.979268</td>\n",
       "      <td>40.782004</td>\n",
       "      <td>1</td>\n",
       "    </tr>\n",
       "    <tr>\n",
       "      <th>2</th>\n",
       "      <td>2011-08-18 00:35:00.00000049</td>\n",
       "      <td>2011-08-18 00:35:00 UTC</td>\n",
       "      <td>-73.982738</td>\n",
       "      <td>40.761270</td>\n",
       "      <td>-73.991242</td>\n",
       "      <td>40.750562</td>\n",
       "      <td>2</td>\n",
       "    </tr>\n",
       "    <tr>\n",
       "      <th>3</th>\n",
       "      <td>2012-04-21 04:30:42.0000001</td>\n",
       "      <td>2012-04-21 04:30:42 UTC</td>\n",
       "      <td>-73.987130</td>\n",
       "      <td>40.733143</td>\n",
       "      <td>-73.991567</td>\n",
       "      <td>40.758092</td>\n",
       "      <td>1</td>\n",
       "    </tr>\n",
       "    <tr>\n",
       "      <th>4</th>\n",
       "      <td>2010-03-09 07:51:00.000000135</td>\n",
       "      <td>2010-03-09 07:51:00 UTC</td>\n",
       "      <td>-73.968095</td>\n",
       "      <td>40.768008</td>\n",
       "      <td>-73.956655</td>\n",
       "      <td>40.783762</td>\n",
       "      <td>1</td>\n",
       "    </tr>\n",
       "  </tbody>\n",
       "</table>\n",
       "</div>"
      ],
      "text/plain": [
       "                             key          pickup_datetime  pickup_longitude  \\\n",
       "0    2009-06-15 17:26:21.0000001  2009-06-15 17:26:21 UTC        -73.844311   \n",
       "1    2010-01-05 16:52:16.0000002  2010-01-05 16:52:16 UTC        -74.016048   \n",
       "2   2011-08-18 00:35:00.00000049  2011-08-18 00:35:00 UTC        -73.982738   \n",
       "3    2012-04-21 04:30:42.0000001  2012-04-21 04:30:42 UTC        -73.987130   \n",
       "4  2010-03-09 07:51:00.000000135  2010-03-09 07:51:00 UTC        -73.968095   \n",
       "\n",
       "   pickup_latitude  dropoff_longitude  dropoff_latitude  passenger_count  \n",
       "0        40.721319         -73.841610         40.712278                1  \n",
       "1        40.711303         -73.979268         40.782004                1  \n",
       "2        40.761270         -73.991242         40.750562                2  \n",
       "3        40.733143         -73.991567         40.758092                1  \n",
       "4        40.768008         -73.956655         40.783762                1  "
      ]
     },
     "execution_count": 2,
     "metadata": {},
     "output_type": "execute_result"
    }
   ],
   "source": [
    "# prepare X and y\n",
    "y = df.pop(\"fare_amount\")\n",
    "X = df\n",
    "X.head()"
   ]
  },
  {
   "cell_type": "code",
   "execution_count": 3,
   "metadata": {},
   "outputs": [],
   "source": [
    "# Hold out \n",
    "from sklearn.model_selection import train_test_split\n",
    "\n",
    "X_train, X_test, y_train, y_test = train_test_split(X, y, test_size=0.2)"
   ]
  },
  {
   "cell_type": "code",
   "execution_count": 4,
   "metadata": {},
   "outputs": [
    {
     "data": {
      "text/html": [
       "<div>\n",
       "<style scoped>\n",
       "    .dataframe tbody tr th:only-of-type {\n",
       "        vertical-align: middle;\n",
       "    }\n",
       "\n",
       "    .dataframe tbody tr th {\n",
       "        vertical-align: top;\n",
       "    }\n",
       "\n",
       "    .dataframe thead th {\n",
       "        text-align: right;\n",
       "    }\n",
       "</style>\n",
       "<table border=\"1\" class=\"dataframe\">\n",
       "  <thead>\n",
       "    <tr style=\"text-align: right;\">\n",
       "      <th></th>\n",
       "      <th>key</th>\n",
       "      <th>pickup_datetime</th>\n",
       "      <th>pickup_longitude</th>\n",
       "      <th>pickup_latitude</th>\n",
       "      <th>dropoff_longitude</th>\n",
       "      <th>dropoff_latitude</th>\n",
       "      <th>passenger_count</th>\n",
       "    </tr>\n",
       "  </thead>\n",
       "  <tbody>\n",
       "    <tr>\n",
       "      <th>549</th>\n",
       "      <td>2014-06-01 02:24:00.00000079</td>\n",
       "      <td>2014-06-01 02:24:00 UTC</td>\n",
       "      <td>-73.991992</td>\n",
       "      <td>40.714875</td>\n",
       "      <td>-73.997173</td>\n",
       "      <td>40.714412</td>\n",
       "      <td>1</td>\n",
       "    </tr>\n",
       "    <tr>\n",
       "      <th>777</th>\n",
       "      <td>2010-10-20 18:19:41.0000003</td>\n",
       "      <td>2010-10-20 18:19:41 UTC</td>\n",
       "      <td>-73.969540</td>\n",
       "      <td>40.760876</td>\n",
       "      <td>-73.975164</td>\n",
       "      <td>40.752973</td>\n",
       "      <td>1</td>\n",
       "    </tr>\n",
       "    <tr>\n",
       "      <th>631</th>\n",
       "      <td>2011-01-08 16:35:00.00000010</td>\n",
       "      <td>2011-01-08 16:35:00 UTC</td>\n",
       "      <td>-73.966327</td>\n",
       "      <td>40.761268</td>\n",
       "      <td>-73.982940</td>\n",
       "      <td>40.776795</td>\n",
       "      <td>1</td>\n",
       "    </tr>\n",
       "    <tr>\n",
       "      <th>219</th>\n",
       "      <td>2012-01-13 11:28:00.00000062</td>\n",
       "      <td>2012-01-13 11:28:00 UTC</td>\n",
       "      <td>-73.955268</td>\n",
       "      <td>40.782767</td>\n",
       "      <td>-73.932382</td>\n",
       "      <td>40.794812</td>\n",
       "      <td>6</td>\n",
       "    </tr>\n",
       "    <tr>\n",
       "      <th>35</th>\n",
       "      <td>2015-01-11 03:15:38.0000001</td>\n",
       "      <td>2015-01-11 03:15:38 UTC</td>\n",
       "      <td>-73.983330</td>\n",
       "      <td>40.738720</td>\n",
       "      <td>-73.933197</td>\n",
       "      <td>40.847225</td>\n",
       "      <td>1</td>\n",
       "    </tr>\n",
       "  </tbody>\n",
       "</table>\n",
       "</div>"
      ],
      "text/plain": [
       "                              key          pickup_datetime  pickup_longitude  \\\n",
       "549  2014-06-01 02:24:00.00000079  2014-06-01 02:24:00 UTC        -73.991992   \n",
       "777   2010-10-20 18:19:41.0000003  2010-10-20 18:19:41 UTC        -73.969540   \n",
       "631  2011-01-08 16:35:00.00000010  2011-01-08 16:35:00 UTC        -73.966327   \n",
       "219  2012-01-13 11:28:00.00000062  2012-01-13 11:28:00 UTC        -73.955268   \n",
       "35    2015-01-11 03:15:38.0000001  2015-01-11 03:15:38 UTC        -73.983330   \n",
       "\n",
       "     pickup_latitude  dropoff_longitude  dropoff_latitude  passenger_count  \n",
       "549        40.714875         -73.997173         40.714412                1  \n",
       "777        40.760876         -73.975164         40.752973                1  \n",
       "631        40.761268         -73.982940         40.776795                1  \n",
       "219        40.782767         -73.932382         40.794812                6  \n",
       "35         40.738720         -73.933197         40.847225                1  "
      ]
     },
     "execution_count": 4,
     "metadata": {},
     "output_type": "execute_result"
    }
   ],
   "source": [
    "X_train.head()"
   ]
  },
  {
   "cell_type": "markdown",
   "metadata": {},
   "source": [
    "### Custom transformers"
   ]
  },
  {
   "cell_type": "markdown",
   "metadata": {},
   "source": [
    "With the Taxi Fare Prediction Challenge data, using `BaseEstimator` and `TransformerMixin`, implement:\n",
    "\n",
    "- a transformer that computes the haversine distance between the pickup and dropoff locations\n",
    "- a custom encoder that extracts the time features from `pickup_datetime`"
   ]
  },
  {
   "cell_type": "code",
   "execution_count": 5,
   "metadata": {},
   "outputs": [],
   "source": [
    "import numpy as np\n",
    "\n",
    "def haversine_vectorized(df, \n",
    "                         start_lat=\"pickup_latitude\",\n",
    "                         start_lon=\"pickup_longitude\",\n",
    "                         end_lat=\"dropoff_latitude\",\n",
    "                         end_lon=\"dropoff_longitude\"):\n",
    "    \"\"\" \n",
    "        Calculates the great circle distance between two points \n",
    "        on the earth (specified in decimal degrees).\n",
    "        Vectorized version of the haversine distance for pandas df.\n",
    "        Computes the distance in kms.\n",
    "    \"\"\"\n",
    "\n",
    "    lat_1_rad, lon_1_rad = np.radians(df[start_lat].astype(float)), np.radians(df[start_lon].astype(float))\n",
    "    lat_2_rad, lon_2_rad = np.radians(df[end_lat].astype(float)), np.radians(df[end_lon].astype(float))\n",
    "    dlon = lon_2_rad - lon_1_rad\n",
    "    dlat = lat_2_rad - lat_1_rad\n",
    "\n",
    "    a = np.sin(dlat / 2.0) ** 2 + np.cos(lat_1_rad) * np.cos(lat_2_rad) * np.sin(dlon / 2.0) ** 2\n",
    "    c = 2 * np.arcsin(np.sqrt(a))\n",
    "    return 6371 * c"
   ]
  },
  {
   "cell_type": "code",
   "execution_count": 6,
   "metadata": {},
   "outputs": [],
   "source": [
    "# create a DistanceTransformer\n",
    "from sklearn.base import BaseEstimator, TransformerMixin\n",
    "\n",
    "class DistanceTransformer(BaseEstimator, TransformerMixin):\n",
    "    \"\"\"\n",
    "        Computes the haversine distance between two GPS points.\n",
    "        Returns a copy of the DataFrame X with only one column: 'distance'.\n",
    "    \"\"\"\n",
    "\n",
    "    def __init__(self,\n",
    "                 start_lat=\"pickup_latitude\",\n",
    "                 start_lon=\"pickup_longitude\",\n",
    "                 end_lat=\"dropoff_latitude\",\n",
    "                 end_lon=\"dropoff_longitude\"):\n",
    "        self.start_lat = start_lat\n",
    "        self.start_lon = start_lon\n",
    "        self.end_lat = end_lat\n",
    "        self.end_lon = end_lon\n",
    "\n",
    "    def fit(self, X, y=None):\n",
    "        return self\n",
    "\n",
    "    def transform(self, X, y=None):\n",
    "        assert isinstance(X, pd.DataFrame)\n",
    "        X_ = X.copy()\n",
    "        X_[\"distance\"] = haversine_vectorized(\n",
    "            X_,\n",
    "            start_lat=self.start_lat,\n",
    "            start_lon=self.start_lon,\n",
    "            end_lat=self.end_lat,\n",
    "            end_lon=self.end_lon\n",
    "        )\n",
    "        return X_[['distance']]"
   ]
  },
  {
   "cell_type": "code",
   "execution_count": 7,
   "metadata": {},
   "outputs": [
    {
     "data": {
      "text/html": [
       "<div>\n",
       "<style scoped>\n",
       "    .dataframe tbody tr th:only-of-type {\n",
       "        vertical-align: middle;\n",
       "    }\n",
       "\n",
       "    .dataframe tbody tr th {\n",
       "        vertical-align: top;\n",
       "    }\n",
       "\n",
       "    .dataframe thead th {\n",
       "        text-align: right;\n",
       "    }\n",
       "</style>\n",
       "<table border=\"1\" class=\"dataframe\">\n",
       "  <thead>\n",
       "    <tr style=\"text-align: right;\">\n",
       "      <th></th>\n",
       "      <th>distance</th>\n",
       "    </tr>\n",
       "  </thead>\n",
       "  <tbody>\n",
       "    <tr>\n",
       "      <th>549</th>\n",
       "      <td>0.439690</td>\n",
       "    </tr>\n",
       "    <tr>\n",
       "      <th>777</th>\n",
       "      <td>0.998317</td>\n",
       "    </tr>\n",
       "    <tr>\n",
       "      <th>631</th>\n",
       "      <td>2.222202</td>\n",
       "    </tr>\n",
       "    <tr>\n",
       "      <th>219</th>\n",
       "      <td>2.346515</td>\n",
       "    </tr>\n",
       "    <tr>\n",
       "      <th>35</th>\n",
       "      <td>12.782056</td>\n",
       "    </tr>\n",
       "  </tbody>\n",
       "</table>\n",
       "</div>"
      ],
      "text/plain": [
       "      distance\n",
       "549   0.439690\n",
       "777   0.998317\n",
       "631   2.222202\n",
       "219   2.346515\n",
       "35   12.782056"
      ]
     },
     "execution_count": 7,
     "metadata": {},
     "output_type": "execute_result"
    }
   ],
   "source": [
    "# test the DistanceTransformer\n",
    "\n",
    "dist_trans = DistanceTransformer()\n",
    "distance = dist_trans.fit_transform(X_train, y_train)\n",
    "distance.head()"
   ]
  },
  {
   "cell_type": "code",
   "execution_count": 8,
   "metadata": {},
   "outputs": [],
   "source": [
    "# create a TimeFeaturesEncoder\n",
    "class TimeFeaturesEncoder(BaseEstimator, TransformerMixin):\n",
    "    \"\"\"\n",
    "        Extracts the day of week (dow), the hour, the month and the year from a time column.\n",
    "        Returns a copy of the DataFrame X with only four columns: 'dow', 'hour', 'month', 'year'.\n",
    "    \"\"\"\n",
    "\n",
    "    def __init__(self, time_column, time_zone_name='America/New_York'):\n",
    "        self.time_column = time_column\n",
    "        self.time_zone_name = time_zone_name\n",
    "\n",
    "    def fit(self, X, y=None):\n",
    "        return self\n",
    "\n",
    "    def transform(self, X, y=None):\n",
    "        assert isinstance(X, pd.DataFrame)\n",
    "        X_ = X.copy()\n",
    "        X_.index = pd.to_datetime(X[self.time_column])\n",
    "        X_.index = X_.index.tz_convert(self.time_zone_name)\n",
    "        X_[\"dow\"] = X_.index.weekday\n",
    "        X_[\"hour\"] = X_.index.hour\n",
    "        X_[\"month\"] = X_.index.month\n",
    "        X_[\"year\"] = X_.index.year\n",
    "        return X_[['dow', 'hour', 'month', 'year']]"
   ]
  },
  {
   "cell_type": "code",
   "execution_count": 9,
   "metadata": {},
   "outputs": [
    {
     "data": {
      "text/html": [
       "<div>\n",
       "<style scoped>\n",
       "    .dataframe tbody tr th:only-of-type {\n",
       "        vertical-align: middle;\n",
       "    }\n",
       "\n",
       "    .dataframe tbody tr th {\n",
       "        vertical-align: top;\n",
       "    }\n",
       "\n",
       "    .dataframe thead th {\n",
       "        text-align: right;\n",
       "    }\n",
       "</style>\n",
       "<table border=\"1\" class=\"dataframe\">\n",
       "  <thead>\n",
       "    <tr style=\"text-align: right;\">\n",
       "      <th></th>\n",
       "      <th>dow</th>\n",
       "      <th>hour</th>\n",
       "      <th>month</th>\n",
       "      <th>year</th>\n",
       "    </tr>\n",
       "    <tr>\n",
       "      <th>pickup_datetime</th>\n",
       "      <th></th>\n",
       "      <th></th>\n",
       "      <th></th>\n",
       "      <th></th>\n",
       "    </tr>\n",
       "  </thead>\n",
       "  <tbody>\n",
       "    <tr>\n",
       "      <th>2014-05-31 22:24:00-04:00</th>\n",
       "      <td>5</td>\n",
       "      <td>22</td>\n",
       "      <td>5</td>\n",
       "      <td>2014</td>\n",
       "    </tr>\n",
       "    <tr>\n",
       "      <th>2010-10-20 14:19:41-04:00</th>\n",
       "      <td>2</td>\n",
       "      <td>14</td>\n",
       "      <td>10</td>\n",
       "      <td>2010</td>\n",
       "    </tr>\n",
       "    <tr>\n",
       "      <th>2011-01-08 11:35:00-05:00</th>\n",
       "      <td>5</td>\n",
       "      <td>11</td>\n",
       "      <td>1</td>\n",
       "      <td>2011</td>\n",
       "    </tr>\n",
       "    <tr>\n",
       "      <th>2012-01-13 06:28:00-05:00</th>\n",
       "      <td>4</td>\n",
       "      <td>6</td>\n",
       "      <td>1</td>\n",
       "      <td>2012</td>\n",
       "    </tr>\n",
       "    <tr>\n",
       "      <th>2015-01-10 22:15:38-05:00</th>\n",
       "      <td>5</td>\n",
       "      <td>22</td>\n",
       "      <td>1</td>\n",
       "      <td>2015</td>\n",
       "    </tr>\n",
       "  </tbody>\n",
       "</table>\n",
       "</div>"
      ],
      "text/plain": [
       "                           dow  hour  month  year\n",
       "pickup_datetime                                  \n",
       "2014-05-31 22:24:00-04:00    5    22      5  2014\n",
       "2010-10-20 14:19:41-04:00    2    14     10  2010\n",
       "2011-01-08 11:35:00-05:00    5    11      1  2011\n",
       "2012-01-13 06:28:00-05:00    4     6      1  2012\n",
       "2015-01-10 22:15:38-05:00    5    22      1  2015"
      ]
     },
     "execution_count": 9,
     "metadata": {},
     "output_type": "execute_result"
    }
   ],
   "source": [
    "# test the TimeFeaturesEncoder\n",
    "\n",
    "time_enc = TimeFeaturesEncoder('pickup_datetime')\n",
    "time_features = time_enc.fit_transform(X_train, y_train)\n",
    "time_features.head()"
   ]
  },
  {
   "cell_type": "markdown",
   "metadata": {},
   "source": [
    "###  Prepocessing pipeline"
   ]
  },
  {
   "cell_type": "code",
   "execution_count": 10,
   "metadata": {},
   "outputs": [],
   "source": [
    "# visualizing pipelines in HTML\n",
    "from sklearn import set_config; set_config(display='diagram')"
   ]
  },
  {
   "cell_type": "markdown",
   "metadata": {},
   "source": [
    "#### Distance pipeline\n",
    "\n",
    "Create a pipeline for distances:\n",
    "- convert the pickup and dropoff coordinates into distances with the DistanceTransformer\n",
    "- standardize these distances"
   ]
  },
  {
   "cell_type": "code",
   "execution_count": 11,
   "metadata": {},
   "outputs": [
    {
     "data": {
      "text/html": [
       "<style>#sk-9496755c-1d62-418b-a80d-a462708ce46f {color: black;background-color: white;}#sk-9496755c-1d62-418b-a80d-a462708ce46f pre{padding: 0;}#sk-9496755c-1d62-418b-a80d-a462708ce46f div.sk-toggleable {background-color: white;}#sk-9496755c-1d62-418b-a80d-a462708ce46f label.sk-toggleable__label {cursor: pointer;display: block;width: 100%;margin-bottom: 0;padding: 0.2em 0.3em;box-sizing: border-box;text-align: center;}#sk-9496755c-1d62-418b-a80d-a462708ce46f div.sk-toggleable__content {max-height: 0;max-width: 0;overflow: hidden;text-align: left;background-color: #f0f8ff;}#sk-9496755c-1d62-418b-a80d-a462708ce46f div.sk-toggleable__content pre {margin: 0.2em;color: black;border-radius: 0.25em;background-color: #f0f8ff;}#sk-9496755c-1d62-418b-a80d-a462708ce46f input.sk-toggleable__control:checked~div.sk-toggleable__content {max-height: 200px;max-width: 100%;overflow: auto;}#sk-9496755c-1d62-418b-a80d-a462708ce46f div.sk-estimator input.sk-toggleable__control:checked~label.sk-toggleable__label {background-color: #d4ebff;}#sk-9496755c-1d62-418b-a80d-a462708ce46f div.sk-label input.sk-toggleable__control:checked~label.sk-toggleable__label {background-color: #d4ebff;}#sk-9496755c-1d62-418b-a80d-a462708ce46f input.sk-hidden--visually {border: 0;clip: rect(1px 1px 1px 1px);clip: rect(1px, 1px, 1px, 1px);height: 1px;margin: -1px;overflow: hidden;padding: 0;position: absolute;width: 1px;}#sk-9496755c-1d62-418b-a80d-a462708ce46f div.sk-estimator {font-family: monospace;background-color: #f0f8ff;margin: 0.25em 0.25em;border: 1px dotted black;border-radius: 0.25em;box-sizing: border-box;}#sk-9496755c-1d62-418b-a80d-a462708ce46f div.sk-estimator:hover {background-color: #d4ebff;}#sk-9496755c-1d62-418b-a80d-a462708ce46f div.sk-parallel-item::after {content: \"\";width: 100%;border-bottom: 1px solid gray;flex-grow: 1;}#sk-9496755c-1d62-418b-a80d-a462708ce46f div.sk-label:hover label.sk-toggleable__label {background-color: #d4ebff;}#sk-9496755c-1d62-418b-a80d-a462708ce46f div.sk-serial::before {content: \"\";position: absolute;border-left: 1px solid gray;box-sizing: border-box;top: 2em;bottom: 0;left: 50%;}#sk-9496755c-1d62-418b-a80d-a462708ce46f div.sk-serial {display: flex;flex-direction: column;align-items: center;background-color: white;}#sk-9496755c-1d62-418b-a80d-a462708ce46f div.sk-item {z-index: 1;}#sk-9496755c-1d62-418b-a80d-a462708ce46f div.sk-parallel {display: flex;align-items: stretch;justify-content: center;background-color: white;}#sk-9496755c-1d62-418b-a80d-a462708ce46f div.sk-parallel-item {display: flex;flex-direction: column;position: relative;background-color: white;}#sk-9496755c-1d62-418b-a80d-a462708ce46f div.sk-parallel-item:first-child::after {align-self: flex-end;width: 50%;}#sk-9496755c-1d62-418b-a80d-a462708ce46f div.sk-parallel-item:last-child::after {align-self: flex-start;width: 50%;}#sk-9496755c-1d62-418b-a80d-a462708ce46f div.sk-parallel-item:only-child::after {width: 0;}#sk-9496755c-1d62-418b-a80d-a462708ce46f div.sk-dashed-wrapped {border: 1px dashed gray;margin: 0.2em;box-sizing: border-box;padding-bottom: 0.1em;background-color: white;position: relative;}#sk-9496755c-1d62-418b-a80d-a462708ce46f div.sk-label label {font-family: monospace;font-weight: bold;background-color: white;display: inline-block;line-height: 1.2em;}#sk-9496755c-1d62-418b-a80d-a462708ce46f div.sk-label-container {position: relative;z-index: 2;text-align: center;}#sk-9496755c-1d62-418b-a80d-a462708ce46f div.sk-container {display: inline-block;position: relative;}</style><div id=\"sk-9496755c-1d62-418b-a80d-a462708ce46f\" class\"sk-top-container\"><div class=\"sk-container\"><div class=\"sk-item sk-dashed-wrapped\"><div class=\"sk-label-container\"><div class=\"sk-label sk-toggleable\"><input class=\"sk-toggleable__control sk-hidden--visually\" id=\"11cbda9a-df93-4654-8fb3-cb9472312a9f\" type=\"checkbox\" ><label class=\"sk-toggleable__label\" for=\"11cbda9a-df93-4654-8fb3-cb9472312a9f\">Pipeline</label><div class=\"sk-toggleable__content\"><pre>Pipeline(steps=[('dist_trans', DistanceTransformer()),\n",
       "                ('stdscaler', StandardScaler())])</pre></div></div></div><div class=\"sk-serial\"><div class=\"sk-item\"><div class=\"sk-estimator sk-toggleable\"><input class=\"sk-toggleable__control sk-hidden--visually\" id=\"5c80b2a0-2341-4c0d-8f59-cfcda42d4ce6\" type=\"checkbox\" ><label class=\"sk-toggleable__label\" for=\"5c80b2a0-2341-4c0d-8f59-cfcda42d4ce6\">DistanceTransformer</label><div class=\"sk-toggleable__content\"><pre>DistanceTransformer()</pre></div></div></div><div class=\"sk-item\"><div class=\"sk-estimator sk-toggleable\"><input class=\"sk-toggleable__control sk-hidden--visually\" id=\"e9a47c32-a1e6-4b4e-84c9-53991a67c142\" type=\"checkbox\" ><label class=\"sk-toggleable__label\" for=\"e9a47c32-a1e6-4b4e-84c9-53991a67c142\">StandardScaler</label><div class=\"sk-toggleable__content\"><pre>StandardScaler()</pre></div></div></div></div></div></div></div>"
      ],
      "text/plain": [
       "Pipeline(steps=[('dist_trans', DistanceTransformer()),\n",
       "                ('stdscaler', StandardScaler())])"
      ]
     },
     "execution_count": 11,
     "metadata": {},
     "output_type": "execute_result"
    }
   ],
   "source": [
    "from sklearn.pipeline import Pipeline\n",
    "from sklearn.preprocessing import StandardScaler\n",
    "\n",
    "# create distance pipeline\n",
    "dist_pipe = Pipeline([\n",
    "    ('dist_trans', DistanceTransformer()),\n",
    "    ('stdscaler', StandardScaler())\n",
    "])\n",
    "\n",
    "# display distance pipeline\n",
    "dist_pipe"
   ]
  },
  {
   "cell_type": "markdown",
   "metadata": {},
   "source": [
    "#### Time features pipeline\n",
    "\n",
    "Create a pipeline for time features\n",
    "- extract time features from pickup datetime with the TimeFeaturesEncoder\n",
    "- encode these categorical time features with the OneHotEncoder"
   ]
  },
  {
   "cell_type": "code",
   "execution_count": 12,
   "metadata": {},
   "outputs": [
    {
     "data": {
      "text/html": [
       "<style>#sk-ef758d9a-a5ca-4afb-a1ef-75b824475b6e {color: black;background-color: white;}#sk-ef758d9a-a5ca-4afb-a1ef-75b824475b6e pre{padding: 0;}#sk-ef758d9a-a5ca-4afb-a1ef-75b824475b6e div.sk-toggleable {background-color: white;}#sk-ef758d9a-a5ca-4afb-a1ef-75b824475b6e label.sk-toggleable__label {cursor: pointer;display: block;width: 100%;margin-bottom: 0;padding: 0.2em 0.3em;box-sizing: border-box;text-align: center;}#sk-ef758d9a-a5ca-4afb-a1ef-75b824475b6e div.sk-toggleable__content {max-height: 0;max-width: 0;overflow: hidden;text-align: left;background-color: #f0f8ff;}#sk-ef758d9a-a5ca-4afb-a1ef-75b824475b6e div.sk-toggleable__content pre {margin: 0.2em;color: black;border-radius: 0.25em;background-color: #f0f8ff;}#sk-ef758d9a-a5ca-4afb-a1ef-75b824475b6e input.sk-toggleable__control:checked~div.sk-toggleable__content {max-height: 200px;max-width: 100%;overflow: auto;}#sk-ef758d9a-a5ca-4afb-a1ef-75b824475b6e div.sk-estimator input.sk-toggleable__control:checked~label.sk-toggleable__label {background-color: #d4ebff;}#sk-ef758d9a-a5ca-4afb-a1ef-75b824475b6e div.sk-label input.sk-toggleable__control:checked~label.sk-toggleable__label {background-color: #d4ebff;}#sk-ef758d9a-a5ca-4afb-a1ef-75b824475b6e input.sk-hidden--visually {border: 0;clip: rect(1px 1px 1px 1px);clip: rect(1px, 1px, 1px, 1px);height: 1px;margin: -1px;overflow: hidden;padding: 0;position: absolute;width: 1px;}#sk-ef758d9a-a5ca-4afb-a1ef-75b824475b6e div.sk-estimator {font-family: monospace;background-color: #f0f8ff;margin: 0.25em 0.25em;border: 1px dotted black;border-radius: 0.25em;box-sizing: border-box;}#sk-ef758d9a-a5ca-4afb-a1ef-75b824475b6e div.sk-estimator:hover {background-color: #d4ebff;}#sk-ef758d9a-a5ca-4afb-a1ef-75b824475b6e div.sk-parallel-item::after {content: \"\";width: 100%;border-bottom: 1px solid gray;flex-grow: 1;}#sk-ef758d9a-a5ca-4afb-a1ef-75b824475b6e div.sk-label:hover label.sk-toggleable__label {background-color: #d4ebff;}#sk-ef758d9a-a5ca-4afb-a1ef-75b824475b6e div.sk-serial::before {content: \"\";position: absolute;border-left: 1px solid gray;box-sizing: border-box;top: 2em;bottom: 0;left: 50%;}#sk-ef758d9a-a5ca-4afb-a1ef-75b824475b6e div.sk-serial {display: flex;flex-direction: column;align-items: center;background-color: white;}#sk-ef758d9a-a5ca-4afb-a1ef-75b824475b6e div.sk-item {z-index: 1;}#sk-ef758d9a-a5ca-4afb-a1ef-75b824475b6e div.sk-parallel {display: flex;align-items: stretch;justify-content: center;background-color: white;}#sk-ef758d9a-a5ca-4afb-a1ef-75b824475b6e div.sk-parallel-item {display: flex;flex-direction: column;position: relative;background-color: white;}#sk-ef758d9a-a5ca-4afb-a1ef-75b824475b6e div.sk-parallel-item:first-child::after {align-self: flex-end;width: 50%;}#sk-ef758d9a-a5ca-4afb-a1ef-75b824475b6e div.sk-parallel-item:last-child::after {align-self: flex-start;width: 50%;}#sk-ef758d9a-a5ca-4afb-a1ef-75b824475b6e div.sk-parallel-item:only-child::after {width: 0;}#sk-ef758d9a-a5ca-4afb-a1ef-75b824475b6e div.sk-dashed-wrapped {border: 1px dashed gray;margin: 0.2em;box-sizing: border-box;padding-bottom: 0.1em;background-color: white;position: relative;}#sk-ef758d9a-a5ca-4afb-a1ef-75b824475b6e div.sk-label label {font-family: monospace;font-weight: bold;background-color: white;display: inline-block;line-height: 1.2em;}#sk-ef758d9a-a5ca-4afb-a1ef-75b824475b6e div.sk-label-container {position: relative;z-index: 2;text-align: center;}#sk-ef758d9a-a5ca-4afb-a1ef-75b824475b6e div.sk-container {display: inline-block;position: relative;}</style><div id=\"sk-ef758d9a-a5ca-4afb-a1ef-75b824475b6e\" class\"sk-top-container\"><div class=\"sk-container\"><div class=\"sk-item sk-dashed-wrapped\"><div class=\"sk-label-container\"><div class=\"sk-label sk-toggleable\"><input class=\"sk-toggleable__control sk-hidden--visually\" id=\"77f95209-81c1-40eb-9ea2-de3561ef1d5e\" type=\"checkbox\" ><label class=\"sk-toggleable__label\" for=\"77f95209-81c1-40eb-9ea2-de3561ef1d5e\">Pipeline</label><div class=\"sk-toggleable__content\"><pre>Pipeline(steps=[('time_enc',\n",
       "                 TimeFeaturesEncoder(time_column='pickup_datetime')),\n",
       "                ('ohe', OneHotEncoder(handle_unknown='ignore'))])</pre></div></div></div><div class=\"sk-serial\"><div class=\"sk-item\"><div class=\"sk-estimator sk-toggleable\"><input class=\"sk-toggleable__control sk-hidden--visually\" id=\"11975be7-cb6e-4d1b-a25a-23ad62fc9efd\" type=\"checkbox\" ><label class=\"sk-toggleable__label\" for=\"11975be7-cb6e-4d1b-a25a-23ad62fc9efd\">TimeFeaturesEncoder</label><div class=\"sk-toggleable__content\"><pre>TimeFeaturesEncoder(time_column='pickup_datetime')</pre></div></div></div><div class=\"sk-item\"><div class=\"sk-estimator sk-toggleable\"><input class=\"sk-toggleable__control sk-hidden--visually\" id=\"41fac046-af9a-4073-ae88-62b5f1bd8b73\" type=\"checkbox\" ><label class=\"sk-toggleable__label\" for=\"41fac046-af9a-4073-ae88-62b5f1bd8b73\">OneHotEncoder</label><div class=\"sk-toggleable__content\"><pre>OneHotEncoder(handle_unknown='ignore')</pre></div></div></div></div></div></div></div>"
      ],
      "text/plain": [
       "Pipeline(steps=[('time_enc',\n",
       "                 TimeFeaturesEncoder(time_column='pickup_datetime')),\n",
       "                ('ohe', OneHotEncoder(handle_unknown='ignore'))])"
      ]
     },
     "execution_count": 12,
     "metadata": {},
     "output_type": "execute_result"
    }
   ],
   "source": [
    "from sklearn.preprocessing import OneHotEncoder\n",
    "\n",
    "# create time pipeline\n",
    "time_pipe = Pipeline([\n",
    "    ('time_enc', TimeFeaturesEncoder('pickup_datetime')),\n",
    "    ('ohe', OneHotEncoder(handle_unknown='ignore'))\n",
    "])\n",
    "\n",
    "# display time pipeline\n",
    "time_pipe"
   ]
  },
  {
   "cell_type": "markdown",
   "metadata": {},
   "source": [
    "#### Preprocessing pipeline\n",
    "\n",
    "Wrap up the distance pipeline and the time pipeline into a preprocessing pipeline."
   ]
  },
  {
   "cell_type": "code",
   "execution_count": 13,
   "metadata": {},
   "outputs": [
    {
     "data": {
      "text/html": [
       "<style>#sk-ba4c6177-56f3-44ab-b216-657b1eeb0db5 {color: black;background-color: white;}#sk-ba4c6177-56f3-44ab-b216-657b1eeb0db5 pre{padding: 0;}#sk-ba4c6177-56f3-44ab-b216-657b1eeb0db5 div.sk-toggleable {background-color: white;}#sk-ba4c6177-56f3-44ab-b216-657b1eeb0db5 label.sk-toggleable__label {cursor: pointer;display: block;width: 100%;margin-bottom: 0;padding: 0.2em 0.3em;box-sizing: border-box;text-align: center;}#sk-ba4c6177-56f3-44ab-b216-657b1eeb0db5 div.sk-toggleable__content {max-height: 0;max-width: 0;overflow: hidden;text-align: left;background-color: #f0f8ff;}#sk-ba4c6177-56f3-44ab-b216-657b1eeb0db5 div.sk-toggleable__content pre {margin: 0.2em;color: black;border-radius: 0.25em;background-color: #f0f8ff;}#sk-ba4c6177-56f3-44ab-b216-657b1eeb0db5 input.sk-toggleable__control:checked~div.sk-toggleable__content {max-height: 200px;max-width: 100%;overflow: auto;}#sk-ba4c6177-56f3-44ab-b216-657b1eeb0db5 div.sk-estimator input.sk-toggleable__control:checked~label.sk-toggleable__label {background-color: #d4ebff;}#sk-ba4c6177-56f3-44ab-b216-657b1eeb0db5 div.sk-label input.sk-toggleable__control:checked~label.sk-toggleable__label {background-color: #d4ebff;}#sk-ba4c6177-56f3-44ab-b216-657b1eeb0db5 input.sk-hidden--visually {border: 0;clip: rect(1px 1px 1px 1px);clip: rect(1px, 1px, 1px, 1px);height: 1px;margin: -1px;overflow: hidden;padding: 0;position: absolute;width: 1px;}#sk-ba4c6177-56f3-44ab-b216-657b1eeb0db5 div.sk-estimator {font-family: monospace;background-color: #f0f8ff;margin: 0.25em 0.25em;border: 1px dotted black;border-radius: 0.25em;box-sizing: border-box;}#sk-ba4c6177-56f3-44ab-b216-657b1eeb0db5 div.sk-estimator:hover {background-color: #d4ebff;}#sk-ba4c6177-56f3-44ab-b216-657b1eeb0db5 div.sk-parallel-item::after {content: \"\";width: 100%;border-bottom: 1px solid gray;flex-grow: 1;}#sk-ba4c6177-56f3-44ab-b216-657b1eeb0db5 div.sk-label:hover label.sk-toggleable__label {background-color: #d4ebff;}#sk-ba4c6177-56f3-44ab-b216-657b1eeb0db5 div.sk-serial::before {content: \"\";position: absolute;border-left: 1px solid gray;box-sizing: border-box;top: 2em;bottom: 0;left: 50%;}#sk-ba4c6177-56f3-44ab-b216-657b1eeb0db5 div.sk-serial {display: flex;flex-direction: column;align-items: center;background-color: white;}#sk-ba4c6177-56f3-44ab-b216-657b1eeb0db5 div.sk-item {z-index: 1;}#sk-ba4c6177-56f3-44ab-b216-657b1eeb0db5 div.sk-parallel {display: flex;align-items: stretch;justify-content: center;background-color: white;}#sk-ba4c6177-56f3-44ab-b216-657b1eeb0db5 div.sk-parallel-item {display: flex;flex-direction: column;position: relative;background-color: white;}#sk-ba4c6177-56f3-44ab-b216-657b1eeb0db5 div.sk-parallel-item:first-child::after {align-self: flex-end;width: 50%;}#sk-ba4c6177-56f3-44ab-b216-657b1eeb0db5 div.sk-parallel-item:last-child::after {align-self: flex-start;width: 50%;}#sk-ba4c6177-56f3-44ab-b216-657b1eeb0db5 div.sk-parallel-item:only-child::after {width: 0;}#sk-ba4c6177-56f3-44ab-b216-657b1eeb0db5 div.sk-dashed-wrapped {border: 1px dashed gray;margin: 0.2em;box-sizing: border-box;padding-bottom: 0.1em;background-color: white;position: relative;}#sk-ba4c6177-56f3-44ab-b216-657b1eeb0db5 div.sk-label label {font-family: monospace;font-weight: bold;background-color: white;display: inline-block;line-height: 1.2em;}#sk-ba4c6177-56f3-44ab-b216-657b1eeb0db5 div.sk-label-container {position: relative;z-index: 2;text-align: center;}#sk-ba4c6177-56f3-44ab-b216-657b1eeb0db5 div.sk-container {display: inline-block;position: relative;}</style><div id=\"sk-ba4c6177-56f3-44ab-b216-657b1eeb0db5\" class\"sk-top-container\"><div class=\"sk-container\"><div class=\"sk-item sk-dashed-wrapped\"><div class=\"sk-label-container\"><div class=\"sk-label sk-toggleable\"><input class=\"sk-toggleable__control sk-hidden--visually\" id=\"d9263991-ba4b-409c-ab24-3225c6f359d8\" type=\"checkbox\" ><label class=\"sk-toggleable__label\" for=\"d9263991-ba4b-409c-ab24-3225c6f359d8\">ColumnTransformer</label><div class=\"sk-toggleable__content\"><pre>ColumnTransformer(transformers=[('distance',\n",
       "                                 Pipeline(steps=[('dist_trans',\n",
       "                                                  DistanceTransformer()),\n",
       "                                                 ('stdscaler',\n",
       "                                                  StandardScaler())]),\n",
       "                                 ['pickup_latitude', 'pickup_longitude',\n",
       "                                  'dropoff_latitude', 'dropoff_longitude']),\n",
       "                                ('time',\n",
       "                                 Pipeline(steps=[('time_enc',\n",
       "                                                  TimeFeaturesEncoder(time_column='pickup_datetime')),\n",
       "                                                 ('ohe',\n",
       "                                                  OneHotEncoder(handle_unknown='ignore'))]),\n",
       "                                 ['pickup_datetime'])])</pre></div></div></div><div class=\"sk-parallel\"><div class=\"sk-parallel-item\"><div class=\"sk-item\"><div class=\"sk-label-container\"><div class=\"sk-label sk-toggleable\"><input class=\"sk-toggleable__control sk-hidden--visually\" id=\"34904375-520b-4a68-b2ff-b32d5a28aabe\" type=\"checkbox\" ><label class=\"sk-toggleable__label\" for=\"34904375-520b-4a68-b2ff-b32d5a28aabe\">distance</label><div class=\"sk-toggleable__content\"><pre>['pickup_latitude', 'pickup_longitude', 'dropoff_latitude', 'dropoff_longitude']</pre></div></div></div><div class=\"sk-serial\"><div class=\"sk-item\"><div class=\"sk-serial\"><div class=\"sk-item\"><div class=\"sk-estimator sk-toggleable\"><input class=\"sk-toggleable__control sk-hidden--visually\" id=\"ad87ea7d-2d08-4492-81cb-ed36169be588\" type=\"checkbox\" ><label class=\"sk-toggleable__label\" for=\"ad87ea7d-2d08-4492-81cb-ed36169be588\">DistanceTransformer</label><div class=\"sk-toggleable__content\"><pre>DistanceTransformer()</pre></div></div></div><div class=\"sk-item\"><div class=\"sk-estimator sk-toggleable\"><input class=\"sk-toggleable__control sk-hidden--visually\" id=\"eab5334c-cb3a-41fe-800d-fdcdc42325a1\" type=\"checkbox\" ><label class=\"sk-toggleable__label\" for=\"eab5334c-cb3a-41fe-800d-fdcdc42325a1\">StandardScaler</label><div class=\"sk-toggleable__content\"><pre>StandardScaler()</pre></div></div></div></div></div></div></div></div><div class=\"sk-parallel-item\"><div class=\"sk-item\"><div class=\"sk-label-container\"><div class=\"sk-label sk-toggleable\"><input class=\"sk-toggleable__control sk-hidden--visually\" id=\"3c5f039b-2bb6-44ff-ac1e-5d2e73f899af\" type=\"checkbox\" ><label class=\"sk-toggleable__label\" for=\"3c5f039b-2bb6-44ff-ac1e-5d2e73f899af\">time</label><div class=\"sk-toggleable__content\"><pre>['pickup_datetime']</pre></div></div></div><div class=\"sk-serial\"><div class=\"sk-item\"><div class=\"sk-serial\"><div class=\"sk-item\"><div class=\"sk-estimator sk-toggleable\"><input class=\"sk-toggleable__control sk-hidden--visually\" id=\"f090c7a1-7c69-4c78-83fb-a53daa852e50\" type=\"checkbox\" ><label class=\"sk-toggleable__label\" for=\"f090c7a1-7c69-4c78-83fb-a53daa852e50\">TimeFeaturesEncoder</label><div class=\"sk-toggleable__content\"><pre>TimeFeaturesEncoder(time_column='pickup_datetime')</pre></div></div></div><div class=\"sk-item\"><div class=\"sk-estimator sk-toggleable\"><input class=\"sk-toggleable__control sk-hidden--visually\" id=\"03e2918d-571a-45f0-ab6a-c2f7240504a8\" type=\"checkbox\" ><label class=\"sk-toggleable__label\" for=\"03e2918d-571a-45f0-ab6a-c2f7240504a8\">OneHotEncoder</label><div class=\"sk-toggleable__content\"><pre>OneHotEncoder(handle_unknown='ignore')</pre></div></div></div></div></div></div></div></div></div></div></div></div>"
      ],
      "text/plain": [
       "ColumnTransformer(transformers=[('distance',\n",
       "                                 Pipeline(steps=[('dist_trans',\n",
       "                                                  DistanceTransformer()),\n",
       "                                                 ('stdscaler',\n",
       "                                                  StandardScaler())]),\n",
       "                                 ['pickup_latitude', 'pickup_longitude',\n",
       "                                  'dropoff_latitude', 'dropoff_longitude']),\n",
       "                                ('time',\n",
       "                                 Pipeline(steps=[('time_enc',\n",
       "                                                  TimeFeaturesEncoder(time_column='pickup_datetime')),\n",
       "                                                 ('ohe',\n",
       "                                                  OneHotEncoder(handle_unknown='ignore'))]),\n",
       "                                 ['pickup_datetime'])])"
      ]
     },
     "execution_count": 13,
     "metadata": {},
     "output_type": "execute_result"
    }
   ],
   "source": [
    "from sklearn.compose import ColumnTransformer\n",
    "\n",
    "# create preprocessing pipeline\n",
    "preproc_pipe = ColumnTransformer([\n",
    "    ('distance', dist_pipe, [\"pickup_latitude\", \"pickup_longitude\", 'dropoff_latitude', 'dropoff_longitude']),\n",
    "    ('time', time_pipe, ['pickup_datetime'])\n",
    "], remainder=\"drop\")\n",
    "\n",
    "# display preprocessing pipeline\n",
    "preproc_pipe"
   ]
  },
  {
   "cell_type": "markdown",
   "metadata": {},
   "source": [
    "### Model pipeline\n",
    "\n",
    "Create a pipeline containing the preprocessing and the regression model of your choice."
   ]
  },
  {
   "cell_type": "code",
   "execution_count": 14,
   "metadata": {},
   "outputs": [
    {
     "data": {
      "text/html": [
       "<style>#sk-0ba40a7b-a37c-4887-9025-d6ee660380b0 {color: black;background-color: white;}#sk-0ba40a7b-a37c-4887-9025-d6ee660380b0 pre{padding: 0;}#sk-0ba40a7b-a37c-4887-9025-d6ee660380b0 div.sk-toggleable {background-color: white;}#sk-0ba40a7b-a37c-4887-9025-d6ee660380b0 label.sk-toggleable__label {cursor: pointer;display: block;width: 100%;margin-bottom: 0;padding: 0.2em 0.3em;box-sizing: border-box;text-align: center;}#sk-0ba40a7b-a37c-4887-9025-d6ee660380b0 div.sk-toggleable__content {max-height: 0;max-width: 0;overflow: hidden;text-align: left;background-color: #f0f8ff;}#sk-0ba40a7b-a37c-4887-9025-d6ee660380b0 div.sk-toggleable__content pre {margin: 0.2em;color: black;border-radius: 0.25em;background-color: #f0f8ff;}#sk-0ba40a7b-a37c-4887-9025-d6ee660380b0 input.sk-toggleable__control:checked~div.sk-toggleable__content {max-height: 200px;max-width: 100%;overflow: auto;}#sk-0ba40a7b-a37c-4887-9025-d6ee660380b0 div.sk-estimator input.sk-toggleable__control:checked~label.sk-toggleable__label {background-color: #d4ebff;}#sk-0ba40a7b-a37c-4887-9025-d6ee660380b0 div.sk-label input.sk-toggleable__control:checked~label.sk-toggleable__label {background-color: #d4ebff;}#sk-0ba40a7b-a37c-4887-9025-d6ee660380b0 input.sk-hidden--visually {border: 0;clip: rect(1px 1px 1px 1px);clip: rect(1px, 1px, 1px, 1px);height: 1px;margin: -1px;overflow: hidden;padding: 0;position: absolute;width: 1px;}#sk-0ba40a7b-a37c-4887-9025-d6ee660380b0 div.sk-estimator {font-family: monospace;background-color: #f0f8ff;margin: 0.25em 0.25em;border: 1px dotted black;border-radius: 0.25em;box-sizing: border-box;}#sk-0ba40a7b-a37c-4887-9025-d6ee660380b0 div.sk-estimator:hover {background-color: #d4ebff;}#sk-0ba40a7b-a37c-4887-9025-d6ee660380b0 div.sk-parallel-item::after {content: \"\";width: 100%;border-bottom: 1px solid gray;flex-grow: 1;}#sk-0ba40a7b-a37c-4887-9025-d6ee660380b0 div.sk-label:hover label.sk-toggleable__label {background-color: #d4ebff;}#sk-0ba40a7b-a37c-4887-9025-d6ee660380b0 div.sk-serial::before {content: \"\";position: absolute;border-left: 1px solid gray;box-sizing: border-box;top: 2em;bottom: 0;left: 50%;}#sk-0ba40a7b-a37c-4887-9025-d6ee660380b0 div.sk-serial {display: flex;flex-direction: column;align-items: center;background-color: white;}#sk-0ba40a7b-a37c-4887-9025-d6ee660380b0 div.sk-item {z-index: 1;}#sk-0ba40a7b-a37c-4887-9025-d6ee660380b0 div.sk-parallel {display: flex;align-items: stretch;justify-content: center;background-color: white;}#sk-0ba40a7b-a37c-4887-9025-d6ee660380b0 div.sk-parallel-item {display: flex;flex-direction: column;position: relative;background-color: white;}#sk-0ba40a7b-a37c-4887-9025-d6ee660380b0 div.sk-parallel-item:first-child::after {align-self: flex-end;width: 50%;}#sk-0ba40a7b-a37c-4887-9025-d6ee660380b0 div.sk-parallel-item:last-child::after {align-self: flex-start;width: 50%;}#sk-0ba40a7b-a37c-4887-9025-d6ee660380b0 div.sk-parallel-item:only-child::after {width: 0;}#sk-0ba40a7b-a37c-4887-9025-d6ee660380b0 div.sk-dashed-wrapped {border: 1px dashed gray;margin: 0.2em;box-sizing: border-box;padding-bottom: 0.1em;background-color: white;position: relative;}#sk-0ba40a7b-a37c-4887-9025-d6ee660380b0 div.sk-label label {font-family: monospace;font-weight: bold;background-color: white;display: inline-block;line-height: 1.2em;}#sk-0ba40a7b-a37c-4887-9025-d6ee660380b0 div.sk-label-container {position: relative;z-index: 2;text-align: center;}#sk-0ba40a7b-a37c-4887-9025-d6ee660380b0 div.sk-container {display: inline-block;position: relative;}</style><div id=\"sk-0ba40a7b-a37c-4887-9025-d6ee660380b0\" class\"sk-top-container\"><div class=\"sk-container\"><div class=\"sk-item sk-dashed-wrapped\"><div class=\"sk-label-container\"><div class=\"sk-label sk-toggleable\"><input class=\"sk-toggleable__control sk-hidden--visually\" id=\"69576687-2060-4253-af41-fc583e32ac37\" type=\"checkbox\" ><label class=\"sk-toggleable__label\" for=\"69576687-2060-4253-af41-fc583e32ac37\">Pipeline</label><div class=\"sk-toggleable__content\"><pre>Pipeline(steps=[('preproc',\n",
       "                 ColumnTransformer(transformers=[('distance',\n",
       "                                                  Pipeline(steps=[('dist_trans',\n",
       "                                                                   DistanceTransformer()),\n",
       "                                                                  ('stdscaler',\n",
       "                                                                   StandardScaler())]),\n",
       "                                                  ['pickup_latitude',\n",
       "                                                   'pickup_longitude',\n",
       "                                                   'dropoff_latitude',\n",
       "                                                   'dropoff_longitude']),\n",
       "                                                 ('time',\n",
       "                                                  Pipeline(steps=[('time_enc',\n",
       "                                                                   TimeFeaturesEncoder(time_column='pickup_datetime')),\n",
       "                                                                  ('ohe',\n",
       "                                                                   OneHotEncoder(handle_unknown='ignore'))]),\n",
       "                                                  ['pickup_datetime'])])),\n",
       "                ('linear_model', LinearRegression())])</pre></div></div></div><div class=\"sk-serial\"><div class=\"sk-item sk-dashed-wrapped\"><div class=\"sk-label-container\"><div class=\"sk-label sk-toggleable\"><input class=\"sk-toggleable__control sk-hidden--visually\" id=\"d291fda6-8380-488a-a1d5-b3ce832dc156\" type=\"checkbox\" ><label class=\"sk-toggleable__label\" for=\"d291fda6-8380-488a-a1d5-b3ce832dc156\">preproc: ColumnTransformer</label><div class=\"sk-toggleable__content\"><pre>ColumnTransformer(transformers=[('distance',\n",
       "                                 Pipeline(steps=[('dist_trans',\n",
       "                                                  DistanceTransformer()),\n",
       "                                                 ('stdscaler',\n",
       "                                                  StandardScaler())]),\n",
       "                                 ['pickup_latitude', 'pickup_longitude',\n",
       "                                  'dropoff_latitude', 'dropoff_longitude']),\n",
       "                                ('time',\n",
       "                                 Pipeline(steps=[('time_enc',\n",
       "                                                  TimeFeaturesEncoder(time_column='pickup_datetime')),\n",
       "                                                 ('ohe',\n",
       "                                                  OneHotEncoder(handle_unknown='ignore'))]),\n",
       "                                 ['pickup_datetime'])])</pre></div></div></div><div class=\"sk-parallel\"><div class=\"sk-parallel-item\"><div class=\"sk-item\"><div class=\"sk-label-container\"><div class=\"sk-label sk-toggleable\"><input class=\"sk-toggleable__control sk-hidden--visually\" id=\"b7b1829e-c07f-4981-a55d-00566b42727f\" type=\"checkbox\" ><label class=\"sk-toggleable__label\" for=\"b7b1829e-c07f-4981-a55d-00566b42727f\">distance</label><div class=\"sk-toggleable__content\"><pre>['pickup_latitude', 'pickup_longitude', 'dropoff_latitude', 'dropoff_longitude']</pre></div></div></div><div class=\"sk-serial\"><div class=\"sk-item\"><div class=\"sk-serial\"><div class=\"sk-item\"><div class=\"sk-estimator sk-toggleable\"><input class=\"sk-toggleable__control sk-hidden--visually\" id=\"3f70cabc-4d5d-4e67-85f5-2162e82b2f4f\" type=\"checkbox\" ><label class=\"sk-toggleable__label\" for=\"3f70cabc-4d5d-4e67-85f5-2162e82b2f4f\">DistanceTransformer</label><div class=\"sk-toggleable__content\"><pre>DistanceTransformer()</pre></div></div></div><div class=\"sk-item\"><div class=\"sk-estimator sk-toggleable\"><input class=\"sk-toggleable__control sk-hidden--visually\" id=\"de99b3c0-51b3-4d6d-ad86-bd33e639723f\" type=\"checkbox\" ><label class=\"sk-toggleable__label\" for=\"de99b3c0-51b3-4d6d-ad86-bd33e639723f\">StandardScaler</label><div class=\"sk-toggleable__content\"><pre>StandardScaler()</pre></div></div></div></div></div></div></div></div><div class=\"sk-parallel-item\"><div class=\"sk-item\"><div class=\"sk-label-container\"><div class=\"sk-label sk-toggleable\"><input class=\"sk-toggleable__control sk-hidden--visually\" id=\"d6a5cdd0-ba09-4775-bff5-d0f2b38ff57a\" type=\"checkbox\" ><label class=\"sk-toggleable__label\" for=\"d6a5cdd0-ba09-4775-bff5-d0f2b38ff57a\">time</label><div class=\"sk-toggleable__content\"><pre>['pickup_datetime']</pre></div></div></div><div class=\"sk-serial\"><div class=\"sk-item\"><div class=\"sk-serial\"><div class=\"sk-item\"><div class=\"sk-estimator sk-toggleable\"><input class=\"sk-toggleable__control sk-hidden--visually\" id=\"82da945e-cf72-430b-9c9b-1134733be35f\" type=\"checkbox\" ><label class=\"sk-toggleable__label\" for=\"82da945e-cf72-430b-9c9b-1134733be35f\">TimeFeaturesEncoder</label><div class=\"sk-toggleable__content\"><pre>TimeFeaturesEncoder(time_column='pickup_datetime')</pre></div></div></div><div class=\"sk-item\"><div class=\"sk-estimator sk-toggleable\"><input class=\"sk-toggleable__control sk-hidden--visually\" id=\"b10a82df-2feb-4d48-9877-8054a282390e\" type=\"checkbox\" ><label class=\"sk-toggleable__label\" for=\"b10a82df-2feb-4d48-9877-8054a282390e\">OneHotEncoder</label><div class=\"sk-toggleable__content\"><pre>OneHotEncoder(handle_unknown='ignore')</pre></div></div></div></div></div></div></div></div></div></div><div class=\"sk-item\"><div class=\"sk-estimator sk-toggleable\"><input class=\"sk-toggleable__control sk-hidden--visually\" id=\"9a2b8a05-eb1a-46f1-a399-17332e77c83c\" type=\"checkbox\" ><label class=\"sk-toggleable__label\" for=\"9a2b8a05-eb1a-46f1-a399-17332e77c83c\">LinearRegression</label><div class=\"sk-toggleable__content\"><pre>LinearRegression()</pre></div></div></div></div></div></div></div>"
      ],
      "text/plain": [
       "Pipeline(steps=[('preproc',\n",
       "                 ColumnTransformer(transformers=[('distance',\n",
       "                                                  Pipeline(steps=[('dist_trans',\n",
       "                                                                   DistanceTransformer()),\n",
       "                                                                  ('stdscaler',\n",
       "                                                                   StandardScaler())]),\n",
       "                                                  ['pickup_latitude',\n",
       "                                                   'pickup_longitude',\n",
       "                                                   'dropoff_latitude',\n",
       "                                                   'dropoff_longitude']),\n",
       "                                                 ('time',\n",
       "                                                  Pipeline(steps=[('time_enc',\n",
       "                                                                   TimeFeaturesEncoder(time_column='pickup_datetime')),\n",
       "                                                                  ('ohe',\n",
       "                                                                   OneHotEncoder(handle_unknown='ignore'))]),\n",
       "                                                  ['pickup_datetime'])])),\n",
       "                ('linear_model', LinearRegression())])"
      ]
     },
     "execution_count": 14,
     "metadata": {},
     "output_type": "execute_result"
    }
   ],
   "source": [
    "from sklearn.linear_model import LinearRegression\n",
    "\n",
    "# Add the model of your choice to the pipeline\n",
    "pipe = Pipeline([\n",
    "    ('preproc', preproc_pipe),\n",
    "    ('linear_model', LinearRegression())\n",
    "])\n",
    "\n",
    "# display the pipeline with model\n",
    "pipe"
   ]
  },
  {
   "cell_type": "markdown",
   "metadata": {},
   "source": [
    "### Training and performance"
   ]
  },
  {
   "cell_type": "markdown",
   "metadata": {},
   "source": [
    "Train the pipelined model and compute the prediction on the test set:"
   ]
  },
  {
   "cell_type": "code",
   "execution_count": 15,
   "metadata": {},
   "outputs": [],
   "source": [
    "# train the pipelined model\n",
    "pipe.fit(X_train, y_train)\n",
    "\n",
    "# compute y_pred on the test set\n",
    "y_pred = pipe.predict(X_test)"
   ]
  },
  {
   "cell_type": "markdown",
   "metadata": {},
   "source": [
    "Use the RMSE to evaluate the performance of the model:"
   ]
  },
  {
   "cell_type": "code",
   "execution_count": 16,
   "metadata": {},
   "outputs": [],
   "source": [
    "def compute_rmse(y_pred, y_true):\n",
    "    return np.sqrt(((y_pred - y_true)**2).mean())"
   ]
  },
  {
   "cell_type": "code",
   "execution_count": 17,
   "metadata": {
    "scrolled": true
   },
   "outputs": [
    {
     "data": {
      "text/plain": [
       "10.672821123713799"
      ]
     },
     "execution_count": 17,
     "metadata": {},
     "output_type": "execute_result"
    }
   ],
   "source": [
    "# call compute_rmse\n",
    "compute_rmse(y_pred, y_test)"
   ]
  },
  {
   "cell_type": "markdown",
   "metadata": {},
   "source": [
    "## Complete the workflow with a pipeline"
   ]
  },
  {
   "cell_type": "markdown",
   "metadata": {},
   "source": [
    "Here we will implement the whole workflow for our Taxifare kaggle challenge.\n",
    "\n",
    "For that we will refactor the code in functions for more clarity.\n",
    "\n",
    "Implement the following functions:\n",
    "- `get_data()` to fetch the data from AWS\n",
    "- `clean_data()` to clean the data\n",
    "- `get_pipeline()` to get the pipeline defined earlier\n",
    "- `train()` to train our model\n",
    "- `evaluate()` to evaluate our model on test data"
   ]
  },
  {
   "cell_type": "code",
   "execution_count": 18,
   "metadata": {},
   "outputs": [],
   "source": [
    "# implement get_data() function\n",
    "def get_data(nrows=10000):\n",
    "    '''returns a DataFrame with nrows from s3 bucket'''\n",
    "    aws_path = \"s3://wagon-public-datasets/taxi-fare-train.csv\"\n",
    "    df = pd.read_csv(aws_path, nrows=nrows)\n",
    "    return df"
   ]
  },
  {
   "cell_type": "code",
   "execution_count": 19,
   "metadata": {},
   "outputs": [],
   "source": [
    "# implement clean_data() function\n",
    "def clean_data(df, test=False):\n",
    "    '''returns a DataFrame without outliers and missing values'''\n",
    "    df = df.dropna(how='any')\n",
    "    df = df[(df.dropoff_latitude != 0) | (df.dropoff_longitude != 0)]\n",
    "    df = df[(df.pickup_latitude != 0) | (df.pickup_longitude != 0)]\n",
    "    if \"fare_amount\" in list(df):\n",
    "        df = df[df.fare_amount.between(0, 4000)]\n",
    "    df = df[df.passenger_count < 8]\n",
    "    df = df[df.passenger_count >= 0]\n",
    "    df = df[df[\"pickup_latitude\"].between(left=40, right=42)]\n",
    "    df = df[df[\"pickup_longitude\"].between(left=-74.3, right=-72.9)]\n",
    "    df = df[df[\"dropoff_latitude\"].between(left=40, right=42)]\n",
    "    df = df[df[\"dropoff_longitude\"].between(left=-74, right=-72.9)]\n",
    "    return df"
   ]
  },
  {
   "cell_type": "code",
   "execution_count": 20,
   "metadata": {},
   "outputs": [],
   "source": [
    "# implement set_pipeline() function\n",
    "def set_pipeline():\n",
    "    '''returns a pipelined model'''\n",
    "    dist_pipe = Pipeline([\n",
    "        ('dist_trans', DistanceTransformer()),\n",
    "        ('stdscaler', StandardScaler())\n",
    "    ])\n",
    "    time_pipe = Pipeline([\n",
    "        ('time_enc', TimeFeaturesEncoder('pickup_datetime')),\n",
    "        ('ohe', OneHotEncoder(handle_unknown='ignore'))\n",
    "    ])\n",
    "    preproc_pipe = ColumnTransformer([\n",
    "        ('distance', dist_pipe, [\"pickup_latitude\", \"pickup_longitude\", 'dropoff_latitude', 'dropoff_longitude']),\n",
    "        ('time', time_pipe, ['pickup_datetime'])\n",
    "    ], remainder=\"drop\")\n",
    "    pipe = Pipeline([\n",
    "        ('preproc', preproc_pipe),\n",
    "        ('linear_model', LinearRegression())\n",
    "    ])\n",
    "    return pipe"
   ]
  },
  {
   "cell_type": "code",
   "execution_count": 21,
   "metadata": {},
   "outputs": [],
   "source": [
    "# implement train() function\n",
    "def train(X_train, y_train, pipeline):\n",
    "    '''returns a trained pipelined model'''\n",
    "    pipeline.fit(X_train, y_train)\n",
    "    return pipeline"
   ]
  },
  {
   "cell_type": "code",
   "execution_count": 22,
   "metadata": {},
   "outputs": [],
   "source": [
    "# implement evaluate() function\n",
    "def evaluate(X_test, y_test, pipeline):\n",
    "    '''returns the value of the RMSE'''\n",
    "    y_pred = pipeline.predict(X_test)\n",
    "    rmse = compute_rmse(y_pred, y_test)\n",
    "    print(rmse)\n",
    "    return rmse"
   ]
  },
  {
   "cell_type": "markdown",
   "metadata": {},
   "source": [
    "### Test the complete worflow\n",
    "\n",
    "Use the above functions to test the complete workflow."
   ]
  },
  {
   "cell_type": "code",
   "execution_count": 23,
   "metadata": {},
   "outputs": [
    {
     "name": "stdout",
     "output_type": "stream",
     "text": [
      "10.530687309286574\n"
     ]
    }
   ],
   "source": [
    "# store the data in a DataFrame\n",
    "df = get_data()\n",
    "\n",
    "# set X and y\n",
    "y = df[\"fare_amount\"]\n",
    "X = df.drop(\"fare_amount\", axis=1)\n",
    "\n",
    "# hold out\n",
    "X_train, X_val, y_train, y_val = train_test_split(X, y, test_size=0.15)\n",
    "\n",
    "# build pipeline\n",
    "pipeline = set_pipeline()\n",
    "\n",
    "# train the pipeline\n",
    "train(X_train, y_train, pipeline)\n",
    "\n",
    "# evaluate the pipeline\n",
    "rmse = evaluate(X_val, y_val, pipeline)"
   ]
  },
  {
   "cell_type": "markdown",
   "metadata": {},
   "source": [
    "### Congrats!\n",
    "\n",
    "Now we are ready to convert this complete workflow into a packaged code 🚀"
   ]
  }
 ],
 "metadata": {
  "challengify": {
   "keep_output": true
  },
  "kernelspec": {
   "display_name": "Python 3 (ipykernel)",
   "language": "python",
   "name": "python3"
  },
  "language_info": {
   "codemirror_mode": {
    "name": "ipython",
    "version": 3
   },
   "file_extension": ".py",
   "mimetype": "text/x-python",
   "name": "python",
   "nbconvert_exporter": "python",
   "pygments_lexer": "ipython3",
   "version": "3.8.6"
  },
  "pycharm": {
   "stem_cell": {
    "cell_type": "raw",
    "metadata": {
     "collapsed": false
    },
    "source": []
   }
  },
  "toc": {
   "base_numbering": 1,
   "nav_menu": {},
   "number_sections": false,
   "sideBar": true,
   "skip_h1_title": false,
   "title_cell": "Table of Contents",
   "title_sidebar": "Contents",
   "toc_cell": false,
   "toc_position": {},
   "toc_section_display": true,
   "toc_window_display": true
  },
  "varInspector": {
   "cols": {
    "lenName": 16,
    "lenType": 16,
    "lenVar": 40
   },
   "kernels_config": {
    "python": {
     "delete_cmd_postfix": "",
     "delete_cmd_prefix": "del ",
     "library": "var_list.py",
     "varRefreshCmd": "print(var_dic_list())"
    },
    "r": {
     "delete_cmd_postfix": ") ",
     "delete_cmd_prefix": "rm(",
     "library": "var_list.r",
     "varRefreshCmd": "cat(var_dic_list()) "
    }
   },
   "position": {
    "height": "244px",
    "left": "1550px",
    "right": "20px",
    "top": "120px",
    "width": "350px"
   },
   "types_to_exclude": [
    "module",
    "function",
    "builtin_function_or_method",
    "instance",
    "_Feature"
   ],
   "window_display": false
  }
 },
 "nbformat": 4,
 "nbformat_minor": 4
}
