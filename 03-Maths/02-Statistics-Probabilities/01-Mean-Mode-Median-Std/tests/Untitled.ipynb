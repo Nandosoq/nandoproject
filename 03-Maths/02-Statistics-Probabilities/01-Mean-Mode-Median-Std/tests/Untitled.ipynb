{
 "cells": [
  {
   "cell_type": "code",
   "execution_count": 60,
   "id": "4a37bafe",
   "metadata": {},
   "outputs": [],
   "source": [
    "samples = [5, 7, 2, 2, 7, 9, 30, 20, 2, 6, 44, 44, 4, 4,255]"
   ]
  },
  {
   "cell_type": "code",
   "execution_count": 11,
   "id": "dfcc8dae",
   "metadata": {},
   "outputs": [],
   "source": [
    "def my_mean(samples):\n",
    "    return sum(samples)/len(samples)"
   ]
  },
  {
   "cell_type": "code",
   "execution_count": null,
   "id": "16ea9ddf",
   "metadata": {},
   "outputs": [],
   "source": []
  },
  {
   "cell_type": "code",
   "execution_count": 20,
   "id": "48c0b3df",
   "metadata": {},
   "outputs": [],
   "source": [
    "def my_standard_deviation(samples):\n",
    "    x = my_mean(samples)\n",
    "    a=0\n",
    "    for i in samples:\n",
    "        a+= (i-x)**2\n",
    "\n",
    "    return (a/(len(samples)-1))**(1/2)"
   ]
  },
  {
   "cell_type": "code",
   "execution_count": 25,
   "id": "d4ca0540",
   "metadata": {},
   "outputs": [],
   "source": [
    "h=17"
   ]
  },
  {
   "cell_type": "code",
   "execution_count": 26,
   "id": "6d48218e",
   "metadata": {},
   "outputs": [
    {
     "data": {
      "text/plain": [
       "1"
      ]
     },
     "execution_count": 26,
     "metadata": {},
     "output_type": "execute_result"
    }
   ],
   "source": [
    "h%2"
   ]
  },
  {
   "cell_type": "code",
   "execution_count": 79,
   "id": "7bdf147a",
   "metadata": {},
   "outputs": [],
   "source": [
    "def my_median(samples):\n",
    "    samples.sort()\n",
    "\n",
    "    if len(samples)%2 ==1:\n",
    "        print([int(len(samples)/2)])\n",
    "        return samples[int(len(samples)/2)]\n",
    "    else:\n",
    "        print([int(len(samples)/2)])\n",
    "        print([int(len(samples)/2)+1])\n",
    "        return (samples[int(len(samples)/2)-1] + samples[int(len(samples)/2)])/2\n",
    "\n"
   ]
  },
  {
   "cell_type": "code",
   "execution_count": 80,
   "id": "9bac8106",
   "metadata": {
    "scrolled": true
   },
   "outputs": [
    {
     "name": "stdout",
     "output_type": "stream",
     "text": [
      "[7]\n"
     ]
    },
    {
     "data": {
      "text/plain": [
       "7"
      ]
     },
     "execution_count": 80,
     "metadata": {},
     "output_type": "execute_result"
    }
   ],
   "source": [
    "my_median(samples)"
   ]
  },
  {
   "cell_type": "code",
   "execution_count": 47,
   "id": "b1715391",
   "metadata": {},
   "outputs": [],
   "source": [
    "# vowels list\n",
    "vowels = ['a', 'e', 'i', 'o', 'i', 'u']\n",
    "\n",
    "# count element 'i'\n",
    "count = vowels.count('i')"
   ]
  },
  {
   "cell_type": "code",
   "execution_count": 83,
   "id": "239428be",
   "metadata": {},
   "outputs": [
    {
     "data": {
      "text/plain": [
       "[2, 2, 2, 4, 4, 5, 6, 7, 7, 9, 20, 30, 44, 44, 255]"
      ]
     },
     "execution_count": 83,
     "metadata": {},
     "output_type": "execute_result"
    }
   ],
   "source": [
    "samples"
   ]
  },
  {
   "cell_type": "code",
   "execution_count": 85,
   "id": "db539084",
   "metadata": {},
   "outputs": [
    {
     "name": "stdout",
     "output_type": "stream",
     "text": [
      "3\n",
      "2\n"
     ]
    }
   ],
   "source": [
    "a=0\n",
    "value=0\n",
    "for i in samples:\n",
    "    if samples.count(i)>a:\n",
    "        a = samples.count(i)\n",
    "        value = i\n",
    "        print(a)\n",
    "        print(value)\n",
    "return value\n",
    "    "
   ]
  }
 ],
 "metadata": {
  "kernelspec": {
   "display_name": "Python 3 (ipykernel)",
   "language": "python",
   "name": "python3"
  },
  "language_info": {
   "codemirror_mode": {
    "name": "ipython",
    "version": 3
   },
   "file_extension": ".py",
   "mimetype": "text/x-python",
   "name": "python",
   "nbconvert_exporter": "python",
   "pygments_lexer": "ipython3",
   "version": "3.8.6"
  },
  "toc": {
   "base_numbering": 1,
   "nav_menu": {},
   "number_sections": true,
   "sideBar": true,
   "skip_h1_title": false,
   "title_cell": "Table of Contents",
   "title_sidebar": "Contents",
   "toc_cell": false,
   "toc_position": {},
   "toc_section_display": true,
   "toc_window_display": false
  }
 },
 "nbformat": 4,
 "nbformat_minor": 5
}
