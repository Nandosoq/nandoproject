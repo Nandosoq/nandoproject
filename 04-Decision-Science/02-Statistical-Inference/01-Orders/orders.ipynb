{
 "cells": [
  {
   "cell_type": "markdown",
   "metadata": {},
   "source": [
    "# Orders"
   ]
  },
  {
   "cell_type": "markdown",
   "metadata": {},
   "source": [
    "✏️ **Exercise**\n",
    "\n",
    "Today, we will investigate the **orders**, and their associated review score.\n",
    "\n",
    "For that purpose, we will create one single data table containing **all our orders with some engineered statistics for them as additional columns.**\n",
    "\n",
    "Our goal is to create the following DataFrame, which will come in very handy for our modeling phase\n",
    "\n",
    "  - `order_id` (_str) the id of the order_\n",
    "  - `wait_time` (_float) the number of days between order_date and delivered_date_\n",
    "  - `expected_wait_time` (_float) the number of days between order_date and estimated_delivery_date_\n",
    "  - `delay_vs_expected` (_float) if the actual delivery date is later than the estimated delivery date, returns the absolute number of days between the two dates, otherwise return 0_\n",
    "  - `order_status` (_str) the status of the order_\n",
    "  - `dim_is_five_star` (_int) 1 if the order received a five_star, 0 otherwise_\n",
    "  - `dim_is_one_star` (_int) 1 if the order received a one_star, 0 otherwise_\n",
    "  - `review_score`(_int) from 1 to 5_\n",
    "  - `number_of_product` (_int) number of products that the order contains_\n",
    "  - `number_of_sellers` (_int) number of sellers involved in the order_\n",
    "  - `price` (_float) total price of the order paid by customer_\n",
    "  - `freight_value` (_float) value of the freight paid by customer_\n",
    "  - (Optional) `distance_customer_seller` (_float) the distance in km between customer and seller_\n",
    "  \n",
    "We also want to filter out \"non-delivered\" orders, unless explicitly specified"
   ]
  },
  {
   "cell_type": "markdown",
   "metadata": {},
   "source": [
    "❓ **Your challenge**: \n",
    "\n",
    "- Implement each feature as a separate method within the `Order` class available at `olist/order.py`\n",
    "- Then, create a method `get_training_data()` that returns the complete DataFrame.\n",
    "\n",
    "Suggested methodology:\n",
    "- Use the notebook below to write and test your code step-by-step first\n",
    "- Then copy the code into `order.py` once you are certain of your code logic\n",
    "- Focus on the data manipulation logic now, we will analyse the dataset visually in the next challenges"
   ]
  },
  {
   "cell_type": "markdown",
   "metadata": {},
   "source": [
    "<details>\n",
    "    <summary>🔥 Notebook best practice (must read) </summary>\n",
    "\n",
    "From now on, exploratory notebooks are going to get pretty long, and we strongly advise you to follow these notebook principles:\n",
    "- Code your logic so that your Notebook can always be ran from top to bottom without crashing (Cell --> Run All)\n",
    "- Name your variables carefully \n",
    "- Use dummy names such as `tmp` or `_` for intermediary steps when you know you won't need them for long\n",
    "- Clear your code and merge cells when relevant to minimize Notebook size (`Shift-M`)\n",
    "- Hide your cell output if you don't need to see it anymore (double click on the red `Out[]:` section to the left of your cell).\n",
    "- Make heavy use of jupyber nbextention `Collapsable Headings` and `Table of Content` (call a TA if you can't find them)\n",
    "- Use the following shortcuts \n",
    "    - `a` to insert a cell above\n",
    "    - `b` to insert a cell below\n",
    "    - `dd` to delete a cell\n",
    "    - `esc` and `arrows` to move between cells\n",
    "    - `Shift-Enter` to execute cell and move focus to the next one\n",
    "    - use `Shift + Tab` when you are between method brackets e.g. `group_by()` to get the docs! Repeat a few times to open it permanently\n",
    "\n",
    "</details>\n",
    "\n",
    "\n",
    "\n"
   ]
  },
  {
   "cell_type": "code",
   "execution_count": null,
   "metadata": {},
   "outputs": [],
   "source": [
    "# Auto reload imported module everytime a jupyter cell is executed (handy for olist.order.py updates)\n",
    "%load_ext autoreload\n",
    "%autoreload 2"
   ]
  },
  {
   "cell_type": "code",
   "execution_count": null,
   "metadata": {},
   "outputs": [],
   "source": [
    "# Import usual modules\n",
    "import pandas as pd\n",
    "import numpy as np\n",
    "import seaborn as sns\n",
    "import matplotlib.pyplot as plt"
   ]
  },
  {
   "cell_type": "code",
   "execution_count": null,
   "metadata": {},
   "outputs": [],
   "source": [
    "# Import olist data\n",
    "from olist.data import Olist\n",
    "olist=Olist()\n",
    "data=olist.get_data()\n",
    "matching_table = olist.get_matching_table()"
   ]
  },
  {
   "cell_type": "markdown",
   "metadata": {},
   "source": [
    "## Code `order.py`"
   ]
  },
  {
   "cell_type": "code",
   "execution_count": null,
   "metadata": {},
   "outputs": [],
   "source": [
    "orders = data['orders'].copy() # good practice to be sure not to modify your `data` variable"
   ]
  },
  {
   "cell_type": "markdown",
   "metadata": {},
   "source": [
    "### get_wait_time\n",
    "Return a dataframe with [order_id, wait_time, expected_wait_time, delay_vs_expected, order_status]\n",
    "\n",
    "Hints:\n",
    "- Don't forget to convert dates from \"string\" type to \"pandas.datetime' using [`pandas.to_datetime()`](https://pandas.pydata.org/pandas-docs/stable/reference/api/pandas.to_datetime.html)\n",
    "- Take time to understand what python [`datetime`](https://docs.python.org/3/library/datetime.html) objects are "
   ]
  },
  {
   "cell_type": "code",
   "execution_count": null,
   "metadata": {},
   "outputs": [],
   "source": [
    "# We give you the pseudo-code below for this first method:\n",
    "\n",
    "# Inspect orders dataframe\n",
    "# Filter dataframe on delivered orders\n",
    "# handle datetime\n",
    "# compute wait time\n",
    "# compute expected wait time\n",
    "# compute delay vs expected - carefully handles \"negative\" delays\n",
    "# check new dataframe and copy code carefully to `olist/order.py`"
   ]
  },
  {
   "cell_type": "code",
   "execution_count": null,
   "metadata": {},
   "outputs": [],
   "source": [
    "# Inspect orders dataframe\n",
    "orders.head()"
   ]
  },
  {
   "cell_type": "code",
   "execution_count": null,
   "metadata": {},
   "outputs": [],
   "source": [
    "orders.dtypes"
   ]
  },
  {
   "cell_type": "code",
   "execution_count": null,
   "metadata": {},
   "outputs": [],
   "source": [
    "# handle datetime\n",
    "dates = ['order_purchase_timestamp', 'order_approved_at', 'order_delivered_carrier_date','order_delivered_customer_date',\n",
    "         'order_estimated_delivery_date']\n",
    "\n",
    "for dat in dates:\n",
    "    orders[dat] = pd.to_datetime(orders[dat])"
   ]
  },
  {
   "cell_type": "code",
   "execution_count": null,
   "metadata": {},
   "outputs": [],
   "source": [
    "orders.dtypes"
   ]
  },
  {
   "cell_type": "code",
   "execution_count": null,
   "metadata": {},
   "outputs": [],
   "source": [
    "\n",
    "#wait_time (float) the number of days between order_date and delivered_date\n",
    "\n",
    "\n",
    "orders['wait_time'] = orders['order_approved_at'].map(pd.Timestamp.to_julian_date) \\\n",
    "    - orders['order_delivered_customer_date'].map(pd.Timestamp.to_julian_date)\n"
   ]
  },
  {
   "cell_type": "code",
   "execution_count": null,
   "metadata": {},
   "outputs": [],
   "source": [
    "# compute expected wait time\n",
    "#expected_wait_time (float) the number of days between order_date and estimated_delivery_date\n",
    "\n",
    "orders['expected_wait_time'] = orders['order_estimated_delivery_date'].map(pd.Timestamp.to_julian_date)\\\n",
    "    - orders['order_approved_at'].map(pd.Timestamp.to_julian_date) \n",
    "    \n",
    "\n"
   ]
  },
  {
   "cell_type": "code",
   "execution_count": null,
   "metadata": {},
   "outputs": [],
   "source": [
    "#delay_vs_expected (float) if the actual delivery date is later than the estimated delivery date, /\n",
    "#returns the absolute number of days between the two dates, otherwise return 0\n",
    "\n",
    "orders['delay_vs_expected'] = orders['order_delivered_customer_date'].map(pd.Timestamp.to_julian_date) \\\n",
    "    - orders['order_estimated_delivery_date'].map(pd.Timestamp.to_julian_date)\n",
    "\n",
    "# np.where(criteria, value if true, value if false)\n",
    "orders['delay_vs_expected'] = np.where(orders['delay_vs_expected'] < 0, 0, orders['delay_vs_expected'])\n",
    "\n",
    "#orders['delay_vs_expected'][orders['delay_vs_expected'] < 0] = 0\n"
   ]
  },
  {
   "cell_type": "code",
   "execution_count": null,
   "metadata": {
    "tags": [
     "challengify"
    ]
   },
   "outputs": [],
   "source": [
    "# YOUR CODE HERE\n",
    "orders[['order_id', 'wait_time', 'expected_wait_time', 'delay_vs_expected', 'order_status']]\n",
    "\n"
   ]
  },
  {
   "cell_type": "code",
   "execution_count": null,
   "metadata": {},
   "outputs": [],
   "source": [
    "# Check your new dataframe and commit your code to olist/order.py when it works. \n",
    "# Test it below\n",
    "from olist.order import Order\n",
    "Order().get_wait_time()"
   ]
  },
  {
   "cell_type": "markdown",
   "metadata": {},
   "source": [
    "### get_review_score\n",
    "     Returns a DataFrame with:\n",
    "        order_id, dim_is_five_star, dim_is_one_star, review_score"
   ]
  },
  {
   "cell_type": "code",
   "execution_count": null,
   "metadata": {},
   "outputs": [],
   "source": [
    "reviews = data['order_reviews'].copy()\n",
    "reviews.head()"
   ]
  },
  {
   "cell_type": "code",
   "execution_count": null,
   "metadata": {},
   "outputs": [],
   "source": [
    "#order_id, dim_is_five_star, dim_is_one_star, review_score\n",
    "reviews[['order_id', 'dim_is_five_star', 'dim_is_one_star', 'review_score']].groupby('order_id').nunique()"
   ]
  },
  {
   "cell_type": "code",
   "execution_count": null,
   "metadata": {},
   "outputs": [],
   "source": [
    "# Fill in the functions below, which you will have to apply \"element-wise\" to each Series in the next cell below\n",
    "# So as to create the 2 new columns requested \n",
    "\n",
    "def dim_five_star(d):\n",
    "    \n",
    "    if d == 5:\n",
    "        return 1\n",
    "    else:\n",
    "        return 0\n",
    "\n",
    "def dim_one_star(d):\n",
    "    if d == 1:\n",
    "        return 1\n",
    "    else:\n",
    "        return 0"
   ]
  },
  {
   "cell_type": "code",
   "execution_count": null,
   "metadata": {},
   "outputs": [],
   "source": [
    "reviews[\"dim_is_five_star\"] = reviews[\"review_score\"].map(dim_five_star) # --> Series([0, 1, 1, 0, 0, 1 ...])\n",
    "reviews[\"dim_is_one_star\"] = reviews[\"review_score\"].map(dim_one_star) # --> Series([0, 1, 1, 0, 0, 1 ...])\n",
    "\n",
    "returns reviews[['order_id', 'dim_is_five_star', 'dim_is_one_star', 'review_score']]"
   ]
  },
  {
   "cell_type": "code",
   "execution_count": null,
   "metadata": {},
   "outputs": [],
   "source": [
    "# Check your new dataframe and commit your code to olist/order.py when it works. \n",
    "# Test it below\n",
    "from olist.order import Order\n",
    "Order().get_review_score()"
   ]
  },
  {
   "cell_type": "markdown",
   "metadata": {},
   "source": [
    "### Check your code"
   ]
  },
  {
   "cell_type": "code",
   "execution_count": null,
   "metadata": {},
   "outputs": [],
   "source": [
    "from nbresult import ChallengeResult\n",
    "\n",
    "result = ChallengeResult('reviews',\n",
    "    dim_five_star=dim_five_star(5),\n",
    "    dim_not_five_star=dim_five_star(3),\n",
    "    dim_one_star=dim_one_star(1),\n",
    "    dim_not_one_star=dim_one_star(2)\n",
    ")\n",
    "result.write()\n",
    "print(result.check())"
   ]
  },
  {
   "cell_type": "markdown",
   "metadata": {},
   "source": [
    "### get_number_products:\n",
    "     Returns a DataFrame with:\n",
    "        order_id, number_of_products (total number of products per order)"
   ]
  },
  {
   "cell_type": "code",
   "execution_count": null,
   "metadata": {
    "tags": [
     "challengify"
    ]
   },
   "outputs": [],
   "source": [
    "# YOUR CODE HERE\n",
    "\n",
    "#order_id: order unique identifier\n",
    "#order_item_id: sequential number identifying number of items included in the same order.\n",
    "    \n",
    "data['order_items'].head()\n",
    "\n",
    "df = data['order_items'][['order_id', 'order_item_id']].groupby('order_id').sum()\n",
    "\n",
    "df['order_item_id']\n",
    "\n"
   ]
  },
  {
   "cell_type": "code",
   "execution_count": null,
   "metadata": {},
   "outputs": [],
   "source": [
    "# Check your new dataframe and commit your code to olist/order.py when it works. \n",
    "Order().get_number_products()"
   ]
  },
  {
   "cell_type": "markdown",
   "metadata": {},
   "source": [
    "### get_number_sellers:\n",
    "     Returns a DataFrame with:\n",
    "        order_id, number_of_sellers (total number of unique sellers per order)"
   ]
  },
  {
   "cell_type": "markdown",
   "metadata": {},
   "source": [
    "<details>\n",
    "    <summary>Hint</summary>\n",
    "\n",
    "`pd.Series.nunique()`\n",
    "</details>"
   ]
  },
  {
   "cell_type": "code",
   "execution_count": null,
   "metadata": {},
   "outputs": [],
   "source": []
  },
  {
   "cell_type": "code",
   "execution_count": null,
   "metadata": {
    "tags": [
     "challengify"
    ]
   },
   "outputs": [],
   "source": [
    "# YOUR CODE HERE\n",
    "\n",
    "data['order_items'].head()\n",
    "#df.groupby('param')['group'].nunique()\n",
    "a=data['order_items'][['order_id', 'seller_id']].groupby('order_id').nunique()\n",
    "\n",
    "a.rename(columns={'seller_id': 'number_of_sellers'},\n",
    "                           inplace=True)\n",
    "a"
   ]
  },
  {
   "cell_type": "code",
   "execution_count": null,
   "metadata": {},
   "outputs": [],
   "source": [
    "# Check your new dataframe and commit your code to olist/order.py when it works. \n",
    "Order().get_number_sellers()"
   ]
  },
  {
   "cell_type": "markdown",
   "metadata": {},
   "source": [
    "### get_price_and_freight\n",
    "     Returns a DataFrame with:\n",
    "        order_id, price, freight_value"
   ]
  },
  {
   "cell_type": "markdown",
   "metadata": {},
   "source": [
    "<details>\n",
    "    <summary>Hint</summary>\n",
    "\n",
    "`pd.Series.agg()` allows you to apply one transformation method per column of your groupby object\n",
    "</details>"
   ]
  },
  {
   "cell_type": "code",
   "execution_count": null,
   "metadata": {
    "tags": [
     "challengify"
    ]
   },
   "outputs": [],
   "source": [
    "# YOUR CODE HERE\n",
    "data['order_items'][['order_id', 'price', 'freight_value']]\n",
    "\n",
    "#OR\n",
    "\n",
    "data['order_items'][['order_id', 'price', 'freight_value']].groupby('order_id').sum()\n",
    "\n",
    "#data['order_items'].head()"
   ]
  },
  {
   "cell_type": "code",
   "execution_count": null,
   "metadata": {},
   "outputs": [],
   "source": [
    "# Check your new dataframe and commit your code to olist/order.py when it works. \n",
    "Order().get_price_and_freight()"
   ]
  },
  {
   "cell_type": "markdown",
   "metadata": {},
   "source": [
    "### get_distance_seller_customer (OPTIONAL - Try only after finishing today's challenges - Skip to next section)\n",
    "[order_id, distance_seller_customer] (the distance in km between customer and seller)\n",
    "\n",
    "💡Have a look at the `haversine_distance` formula we coded for you in the `olist.utils` module"
   ]
  },
  {
   "cell_type": "code",
   "execution_count": null,
   "metadata": {
    "tags": [
     "challengify"
    ]
   },
   "outputs": [],
   "source": [
    "# YOUR CODE HERE"
   ]
  },
  {
   "cell_type": "code",
   "execution_count": null,
   "metadata": {},
   "outputs": [],
   "source": [
    "# Check your new dataframe and commit your code to olist/order.py when it works. \n",
    "Order().get_distance_seller_customer()"
   ]
  },
  {
   "cell_type": "markdown",
   "metadata": {},
   "source": [
    "# Test your newly coded module"
   ]
  },
  {
   "cell_type": "markdown",
   "metadata": {},
   "source": [
    "❓ Time to code `get_training_data` making use of your previous coded methods."
   ]
  },
  {
   "cell_type": "code",
   "execution_count": null,
   "metadata": {},
   "outputs": [],
   "source": [
    "gwt_df = Order().get_wait_time()\n",
    "grs_df = Order().get_review_score()\n",
    "\n",
    "#grs_df = reviews[['order_id', 'dim_is_five_star', 'dim_is_one_star', 'review_score']].groupby('order_id').nunique()\n",
    "final_df = gwt_df.merge(grs_df, on ='order_id')\n",
    "gnp_df = Order().get_number_products()\n",
    "final_df = final_df.merge(gnp_df, on ='order_id')\n",
    "\n",
    "gns_df = Order().get_number_sellers()\n",
    "final_df = final_df.merge(gns_df, on ='order_id')\n",
    "\n",
    "gpf_df = Order().get_price_and_freight()\n",
    "final_df = final_df.merge(gpf_df, on='order_id')\n",
    "\n",
    "#final_df = final_df.set_index('order_id')"
   ]
  },
  {
   "cell_type": "code",
   "execution_count": null,
   "metadata": {},
   "outputs": [],
   "source": []
  },
  {
   "cell_type": "code",
   "execution_count": null,
   "metadata": {},
   "outputs": [],
   "source": [
    "final_df.isnull().sum()  ##(97007, 12)"
   ]
  },
  {
   "cell_type": "code",
   "execution_count": null,
   "metadata": {},
   "outputs": [],
   "source": [
    "gwt_df.shape  ##(96,5)"
   ]
  },
  {
   "cell_type": "code",
   "execution_count": null,
   "metadata": {
    "scrolled": true
   },
   "outputs": [],
   "source": [
    "grs_df.shape   ##(,4)"
   ]
  },
  {
   "cell_type": "code",
   "execution_count": null,
   "metadata": {},
   "outputs": [],
   "source": [
    "gnp_df.shape ##(,1)"
   ]
  },
  {
   "cell_type": "code",
   "execution_count": null,
   "metadata": {},
   "outputs": [],
   "source": [
    "gns_df.shape"
   ]
  },
  {
   "cell_type": "code",
   "execution_count": null,
   "metadata": {},
   "outputs": [],
   "source": [
    "gpf_df.shape\n"
   ]
  },
  {
   "cell_type": "code",
   "execution_count": null,
   "metadata": {},
   "outputs": [],
   "source": [
    "data_df.shape"
   ]
  },
  {
   "cell_type": "code",
   "execution_count": null,
   "metadata": {},
   "outputs": [],
   "source": [
    "data_df.isnull().sum()"
   ]
  },
  {
   "cell_type": "code",
   "execution_count": null,
   "metadata": {},
   "outputs": [],
   "source": [
    "final_df"
   ]
  },
  {
   "cell_type": "code",
   "execution_count": 1,
   "metadata": {},
   "outputs": [
    {
     "name": "stdout",
     "output_type": "stream",
     "text": [
      "POrfavorrrrrrrrrrrrrrrr\n",
      "\u001b[1m============================= test session starts ==============================\u001b[0m\n",
      "platform linux -- Python 3.8.6, pytest-6.2.4, py-1.10.0, pluggy-0.13.1 -- /home/nandosoq/.pyenv/versions/lewagon/bin/python3\n",
      "cachedir: .pytest_cache\n",
      "rootdir: /home/nandosoq/code/Nandosoq/data-challenges/04-Decision-Science/02-Statistical-Inference/01-Orders\n",
      "plugins: anyio-3.2.1, dash-1.21.0\n",
      "\u001b[1mcollecting ... \u001b[0mcollected 2 items\n",
      "\n",
      "tests/test_training.py::TestTraining::test_training_data_columns \u001b[32mPASSED\u001b[0m\u001b[32m  [ 50%]\u001b[0m\n",
      "tests/test_training.py::TestTraining::test_training_data_shape \u001b[32mPASSED\u001b[0m\u001b[32m    [100%]\u001b[0m\n",
      "\n",
      "\u001b[32m============================== \u001b[32m\u001b[1m2 passed\u001b[0m\u001b[32m in 0.01s\u001b[0m\u001b[32m ===============================\u001b[0m\n",
      "\n",
      "\n",
      "💯 You can commit your code:\n",
      "\n",
      "\u001b[1;32mgit\u001b[39m add tests/training.pickle\n",
      "\n",
      "\u001b[32mgit\u001b[39m commit -m \u001b[33m'Completed training step'\u001b[39m\n",
      "\n",
      "\u001b[32mgit\u001b[39m push origin master\n"
     ]
    }
   ],
   "source": [
    "from olist.order import Order\n",
    "from nbresult import ChallengeResult\n",
    "data = Order().get_training_data()\n",
    "result = ChallengeResult('training',\n",
    "    shape=data.shape,\n",
    "    columns=sorted(list(data.columns))\n",
    ")\n",
    "result.write()\n",
    "print(result.check())"
   ]
  },
  {
   "cell_type": "markdown",
   "metadata": {},
   "source": [
    "🏁 Congratulations! Commit and push your notebook before starting the next challenge."
   ]
  }
 ],
 "metadata": {
  "kernelspec": {
   "display_name": "Python 3 (ipykernel)",
   "language": "python",
   "name": "python3"
  },
  "language_info": {
   "codemirror_mode": {
    "name": "ipython",
    "version": 3
   },
   "file_extension": ".py",
   "mimetype": "text/x-python",
   "name": "python",
   "nbconvert_exporter": "python",
   "pygments_lexer": "ipython3",
   "version": "3.8.6"
  },
  "toc": {
   "base_numbering": 1,
   "nav_menu": {},
   "number_sections": true,
   "sideBar": true,
   "skip_h1_title": true,
   "title_cell": "Table of Contents",
   "title_sidebar": "Contents",
   "toc_cell": false,
   "toc_position": {
    "height": "calc(100% - 180px)",
    "left": "10px",
    "top": "150px",
    "width": "262px"
   },
   "toc_section_display": true,
   "toc_window_display": false
  },
  "varInspector": {
   "cols": {
    "lenName": 16,
    "lenType": 16,
    "lenVar": 40
   },
   "kernels_config": {
    "python": {
     "delete_cmd_postfix": "",
     "delete_cmd_prefix": "del ",
     "library": "var_list.py",
     "varRefreshCmd": "print(var_dic_list())"
    },
    "r": {
     "delete_cmd_postfix": ") ",
     "delete_cmd_prefix": "rm(",
     "library": "var_list.r",
     "varRefreshCmd": "cat(var_dic_list()) "
    }
   },
   "types_to_exclude": [
    "module",
    "function",
    "builtin_function_or_method",
    "instance",
    "_Feature"
   ],
   "window_display": false
  }
 },
 "nbformat": 4,
 "nbformat_minor": 4
}
