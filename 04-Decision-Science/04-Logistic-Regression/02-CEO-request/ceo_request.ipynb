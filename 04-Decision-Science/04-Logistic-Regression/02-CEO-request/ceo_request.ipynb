{
 "cells": [
  {
   "cell_type": "markdown",
   "metadata": {},
   "source": [
    "# CEO-REQUEST CHALLENGE"
   ]
  },
  {
   "cell_type": "markdown",
   "metadata": {},
   "source": [
    "> Should Olist remove underperforming sellers from its marketplace?"
   ]
  },
  {
   "cell_type": "markdown",
   "metadata": {},
   "source": [
    "## Problem statement"
   ]
  },
  {
   "cell_type": "markdown",
   "metadata": {},
   "source": [
    "To analyse the impact of removing the worse sellers from Olist's marketplace, we can start with a what-if analysis: What would have happened if Olist had never accepted these sellers in the first place? For that:\n",
    "\n",
    "Step ① Compute, for each `seller_id`, and cumulated since the beginning:\n",
    "- The `revenues` it brings\n",
    "- The `costs` associated with all its bad reviews\n",
    "- The resulting `profits` (revenues - costs)\n",
    "- The number of `orders` (it will impact overall IT costs)\n",
    "\n",
    "\n",
    "Step ② We can then sort sellers by increasing profits for Olist, and for each number of sellers to remove, compute the financial impact it would have made had they never been accepted on the platform. We may find an optimal number of sellers to remove that maximizes Olist's profit margin"
   ]
  },
  {
   "cell_type": "markdown",
   "metadata": {},
   "source": [
    "## Information:\n",
    "\n",
    "### Cost to the company:\n",
    "\n",
    "| review_score | cost (BRL) | \n",
    "| --- | --- | \n",
    "| 1 star | 100 | \n",
    "| 2 star | 50 | \n",
    "| 3 star | 40 | \n",
    "| 4 star | 0 | \n",
    "| 5 star | 0 | \n",
    "\n",
    "**Total cumulated IT Costs** to be proportional to the **square-root** of the total cumulated number of orders approved.<br>\n",
    "(Estimated: cumulated IT costs have amounted to **500,000 BRL**)\n",
    "\n",
    "### Income:\n",
    "\n",
    "\n",
    "•\tOlist takes a 10% cut on the product price (excl. freight) of each order delivered.<br>\n",
    "•\tOlist charges 80 BRL by month per seller.<br><br>\n"
   ]
  },
  {
   "cell_type": "code",
   "execution_count": null,
   "metadata": {},
   "outputs": [],
   "source": [
    "# Write down a detailed strategy (step by step) to create the DataFrame you need for step 1\n",
    "\n",
    "\n",
    "cost_of_bad_reviews = n_1_star*100 + n_2_star*50 + n_3_star*40\n",
    "cost_IT_costs = sqrt.(n_orders)\n",
    "\n",
    "income = 0.10 * sales + 80*months\n",
    "\n",
    "#Cost Variables\n",
    "cost_1_star = 100\n",
    "cost_2_star = 50\n",
    "cost_3_star = 40\n",
    "\n",
    "#Income Variables\n",
    "pct_inc_sales = 0.10\n",
    "char_month = 80\n",
    "\n",
    "\n",
    "# Think about how to re-use or update the logic you have already coded in your `olist` package\n",
    "## I need:\n",
    "\n",
    "features = ['seller_id','seller_city','seller_state','n_1_star','n_2_star','n_3_star','n_4_star','n_o_star','date_first_sale',\n",
    " 'date_last_sale','n_orders','quantity','quantity_per_order','sales']\n",
    "\n",
    "From 'seller':\n",
    "    features = ['seller_id','seller_city','seller_state','date_first_sale', 'date_last_sale','n_orders','quantity',\n",
    "                'quantity_per_order','sales'] + ['months']\n",
    "    \n",
    "From 'Database':\n",
    "    features = ['seller_id','n_1_star','n_2_star','n_3_star','n_4_star','n_5_star']\n",
    "\n",
    "#Seller; number of orders; No 1 star, Nº 2 star, Nº 3 star, Other Star, Start Date, Last Date, Nº months, price "
   ]
  },
  {
   "cell_type": "code",
   "execution_count": null,
   "metadata": {},
   "outputs": [],
   "source": [
    "#from olist.seller import Seller\n",
    "#seller = Seller()\n",
    "#sellers = Seller().get_training_data()\n",
    "#sellers.head()"
   ]
  },
  {
   "cell_type": "markdown",
   "metadata": {},
   "source": [
    "<details>\n",
    "    <summary>Hints</summary>\n",
    "\n",
    "\n",
    "Starting from your current `seller().get_training_data()` DataFrame:\n",
    "- Can you easily transform it to compute Olist's positive `revenue_per_seller`? \n",
    "- Can you easily transform it to compute Olist's `cost_of_bad_reviews`?\n",
    "\n",
    "❓Instead of starting again from scratch, investigate your source code in `seller.py` - how was the mean `review_score` per seller computed? Can you imagine a way to amend your code  to compute `cost_of_reviews` in the same process? \n",
    "</details>\n"
   ]
  },
  {
   "cell_type": "markdown",
   "metadata": {},
   "source": [
    "## Your turn!"
   ]
  },
  {
   "cell_type": "code",
   "execution_count": null,
   "metadata": {},
   "outputs": [],
   "source": [
    "# Keep this notebook tidy, you will present it orally to Olist's CEO at the end of the Communicate topic"
   ]
  },
  {
   "cell_type": "code",
   "execution_count": 1,
   "metadata": {},
   "outputs": [],
   "source": [
    "import pandas as pd\n",
    "import numpy as np\n",
    "\n",
    "from olist.seller import Seller\n",
    "from olist.order import Order\n",
    "from olist.data import Olist\n",
    "\n",
    "import statsmodels.api as sm\n",
    "import statsmodels.formula.api as smf\n",
    "\n",
    "import seaborn as sns\n",
    "import matplotlib.pyplot as plt"
   ]
  },
  {
   "cell_type": "code",
   "execution_count": 2,
   "metadata": {},
   "outputs": [],
   "source": [
    "features = ['seller_id','seller_city','seller_state','date_first_sale', 'date_last_sale','n_orders','quantity',\n",
    "                'quantity_per_order','sales']\n",
    "\n",
    "#Cost Variables\n",
    "cost_1_star = 100\n",
    "cost_2_star = 50\n",
    "cost_3_star = 40\n",
    "\n",
    "#Income Variables\n",
    "pct_incom_sales = 0.10\n",
    "charg_month = 80\n",
    "\n",
    "#Get Data\n",
    "sellers = Seller().get_training_data()\n",
    "information_df = sellers[features].copy()\n",
    "\n",
    "orders_reviews = Order().get_review_score()\n",
    "matching_table = Olist().get_matching_table()"
   ]
  },
  {
   "cell_type": "code",
   "execution_count": 3,
   "metadata": {},
   "outputs": [],
   "source": [
    "#Calculate Numbers of months that the seller is working with us\n",
    "\n",
    "information_df['n_months'] = ((information_df.date_last_sale - information_df.date_first_sale)/np.timedelta64(1, 'M'))\n",
    "information_df['n_months'] = information_df['n_months'].apply(np.ceil)\n",
    "\n",
    "#Where n_months = 0 --> 1\n",
    "information_df['n_months'] = np.where(information_df['n_months'] == 0, 1, information_df['n_months'])\n",
    "\n",
    "\n",
    "features = ['seller_id','seller_city','seller_state','date_first_sale', 'date_last_sale','n_orders','quantity',\n",
    "                'quantity_per_order','sales', 'n_months']"
   ]
  },
  {
   "cell_type": "markdown",
   "metadata": {},
   "source": [
    "------------------------------------------------------"
   ]
  },
  {
   "cell_type": "code",
   "execution_count": 4,
   "metadata": {
    "scrolled": true
   },
   "outputs": [],
   "source": [
    "#from olist.order import Order\n",
    "#from olist.data import Olist\n",
    "\n",
    "\n",
    "#orders_reviews = Order().get_review_score()\n",
    "#matching_table = Olist().get_matching_table()\n",
    "\n",
    "\n",
    "matching_table = matching_table[['order_id', 'seller_id']].drop_duplicates()\n",
    "reviews_df = matching_table.merge(orders_reviews, on='order_id')\n",
    "\n",
    "reviews_df = reviews_df[['seller_id','review_score']]\n",
    "\n",
    "#Create new Numbers X stars by Sellers\n",
    "\n",
    "for stars in range(1, 6, 1):\n",
    "    reviews_df[f'n_{stars}_star'] = np.where(reviews_df['review_score'] == stars, 1, 0)\n",
    "    \n",
    "#Groupby 'Seller' \n",
    "\n",
    "reviews_df = reviews_df.groupby('seller_id').sum()\n",
    "reviews_df.drop(['review_score'], axis=1, inplace=True)\n",
    "\n",
    "#Create our final DataFrame with ALL the information that we need.\n",
    "information_df = information_df.merge(reviews_df, on='seller_id')"
   ]
  },
  {
   "cell_type": "markdown",
   "metadata": {},
   "source": [
    "---------------------------"
   ]
  },
  {
   "cell_type": "code",
   "execution_count": 6,
   "metadata": {},
   "outputs": [],
   "source": [
    "#cost_of_bad_reviews = n_1_star*100 + n_2_star*50 + n_3_star*40\n",
    "information_df['cost_of_bad_reviews'] = information_df['n_1_star'] * cost_1_star + information_df['n_2_star'] * cost_2_star + \\\n",
    "information_df['n_3_star'] * cost_3_star "
   ]
  },
  {
   "cell_type": "code",
   "execution_count": 7,
   "metadata": {},
   "outputs": [],
   "source": [
    "#Income\n",
    "information_df['income'] = information_df['n_months'] * charg_month + information_df['sales'] * pct_incom_sales"
   ]
  },
  {
   "cell_type": "code",
   "execution_count": 9,
   "metadata": {},
   "outputs": [],
   "source": [
    "#P&L\n",
    "information_df['p_l'] = information_df['income'] - information_df['cost_of_bad_reviews']\n"
   ]
  },
  {
   "cell_type": "markdown",
   "metadata": {},
   "source": [
    "-----------------------------------------"
   ]
  },
  {
   "cell_type": "code",
   "execution_count": null,
   "metadata": {},
   "outputs": [],
   "source": [
    "#Pct loose money???"
   ]
  },
  {
   "cell_type": "code",
   "execution_count": 27,
   "metadata": {},
   "outputs": [],
   "source": [
    "Test = information_df[['seller_id', 'p_l','income','cost_of_bad_reviews', 'n_months']].copy()"
   ]
  },
  {
   "cell_type": "code",
   "execution_count": 28,
   "metadata": {},
   "outputs": [],
   "source": [
    "Test.sort_values(by=['p_l'], inplace = True, ignore_index = True)"
   ]
  },
  {
   "cell_type": "code",
   "execution_count": 38,
   "metadata": {},
   "outputs": [],
   "source": [
    "Test.drop(['perc_seller'], axis=1, inplace=True)\n",
    "Test.insert(0, 'perc_seller', range(1, 1 + len(Test)))\n",
    "Test['perc_seller'] = Test['perc_seller']/Test['perc_seller'].count()\n"
   ]
  },
  {
   "cell_type": "code",
   "execution_count": 79,
   "metadata": {},
   "outputs": [
    {
     "data": {
      "image/png": "[encoded data removed]",
      "text/plain": [
       "<Figure size 432x288 with 2 Axes>"
      ]
     },
     "metadata": {},
     "output_type": "display_data"
    }
   ],
   "source": [
    "\n",
    "\n",
    "# create figure and axis objects with subplots()\n",
    "fig,ax=plt.subplots()\n",
    "ax.plot(Test[Test['p_l'] < 0]['p_l'])\n",
    "ax.set_ylim([Test[Test['p_l'] < 0]['p_l'].min(),1000])\n",
    "ax2=ax.twinx()\n",
    "ax2.plot(Test[Test['p_l'] < 0]['perc_seller'])\n",
    "#ax2.yticks([0,0.04])\n",
    "ax2.set_ylim([0,0.02])\n",
    "#vals = ax2.get_yticks()\n",
    "#ax2.set_yticklabels(['{:,.1%}'.format(x) for x in vals])\n",
    "\n",
    "\n",
    "plt.show()\n",
    "\n",
    "\n"
   ]
  },
  {
   "cell_type": "code",
   "execution_count": 74,
   "metadata": {},
   "outputs": [
    {
     "data": {
      "text/plain": [
       "-22419.517"
      ]
     },
     "execution_count": 74,
     "metadata": {},
     "output_type": "execute_result"
    }
   ],
   "source": [
    "Test[Test['p_l'] < 0]['p_l'].min()"
   ]
  },
  {
   "cell_type": "code",
   "execution_count": 25,
   "metadata": {},
   "outputs": [
    {
     "data": {
      "image/png": "[encoded data removed]",
      "text/plain": [
       "<Figure size 432x288 with 1 Axes>"
      ]
     },
     "metadata": {},
     "output_type": "display_data"
    }
   ],
   "source": [
    "sns.set_theme(style=\"whitegrid\")\n",
    "#tips = sns.load_dataset(\"tips\")\n",
    "ax = sns.boxplot(x=Test['p_l'])"
   ]
  },
  {
   "cell_type": "code",
   "execution_count": 29,
   "metadata": {
    "scrolled": true
   },
   "outputs": [
    {
     "data": {
      "text/html": [
       "<div>\n",
       "<style scoped>\n",
       "    .dataframe tbody tr th:only-of-type {\n",
       "        vertical-align: middle;\n",
       "    }\n",
       "\n",
       "    .dataframe tbody tr th {\n",
       "        vertical-align: top;\n",
       "    }\n",
       "\n",
       "    .dataframe thead th {\n",
       "        text-align: right;\n",
       "    }\n",
       "</style>\n",
       "<table border=\"1\" class=\"dataframe\">\n",
       "  <thead>\n",
       "    <tr style=\"text-align: right;\">\n",
       "      <th></th>\n",
       "      <th>seller_id</th>\n",
       "      <th>p_l</th>\n",
       "      <th>income</th>\n",
       "      <th>cost_of_bad_reviews</th>\n",
       "      <th>n_months</th>\n",
       "    </tr>\n",
       "  </thead>\n",
       "  <tbody>\n",
       "    <tr>\n",
       "      <th>0</th>\n",
       "      <td>6560211a19b47992c3666cc44a7e94c0</td>\n",
       "      <td>-22419.517</td>\n",
       "      <td>13850.483</td>\n",
       "      <td>36270</td>\n",
       "      <td>19.0</td>\n",
       "    </tr>\n",
       "    <tr>\n",
       "      <th>1</th>\n",
       "      <td>4a3ca9315b744ce9f8e9374361493884</td>\n",
       "      <td>-19242.708</td>\n",
       "      <td>21647.292</td>\n",
       "      <td>40890</td>\n",
       "      <td>20.0</td>\n",
       "    </tr>\n",
       "    <tr>\n",
       "      <th>2</th>\n",
       "      <td>cc419e0650a3c5ba77189a1882b7556a</td>\n",
       "      <td>-18051.158</td>\n",
       "      <td>11948.842</td>\n",
       "      <td>30000</td>\n",
       "      <td>19.0</td>\n",
       "    </tr>\n",
       "    <tr>\n",
       "      <th>3</th>\n",
       "      <td>ea8482cd71df3c1969d7b9473ff13abc</td>\n",
       "      <td>-15952.248</td>\n",
       "      <td>4757.752</td>\n",
       "      <td>20710</td>\n",
       "      <td>13.0</td>\n",
       "    </tr>\n",
       "    <tr>\n",
       "      <th>4</th>\n",
       "      <td>8b321bb669392f5163d04c59e235e066</td>\n",
       "      <td>-13066.431</td>\n",
       "      <td>2553.569</td>\n",
       "      <td>15620</td>\n",
       "      <td>10.0</td>\n",
       "    </tr>\n",
       "    <tr>\n",
       "      <th>...</th>\n",
       "      <td>...</td>\n",
       "      <td>...</td>\n",
       "      <td>...</td>\n",
       "      <td>...</td>\n",
       "      <td>...</td>\n",
       "    </tr>\n",
       "    <tr>\n",
       "      <th>2965</th>\n",
       "      <td>ccc4bbb5f32a6ab2b7066a4130f114e3</td>\n",
       "      <td>6780.462</td>\n",
       "      <td>9000.462</td>\n",
       "      <td>2220</td>\n",
       "      <td>20.0</td>\n",
       "    </tr>\n",
       "    <tr>\n",
       "      <th>2966</th>\n",
       "      <td>edb1ef5e36e0c8cd84eb3c9b003e486d</td>\n",
       "      <td>7288.455</td>\n",
       "      <td>8808.455</td>\n",
       "      <td>1520</td>\n",
       "      <td>11.0</td>\n",
       "    </tr>\n",
       "    <tr>\n",
       "      <th>2967</th>\n",
       "      <td>fa1c13f2614d7b5c4749cbc52fecda94</td>\n",
       "      <td>14254.203</td>\n",
       "      <td>21004.203</td>\n",
       "      <td>6750</td>\n",
       "      <td>20.0</td>\n",
       "    </tr>\n",
       "    <tr>\n",
       "      <th>2968</th>\n",
       "      <td>7e93a43ef30c4f03f38b393420bc753a</td>\n",
       "      <td>14603.187</td>\n",
       "      <td>19403.187</td>\n",
       "      <td>4800</td>\n",
       "      <td>22.0</td>\n",
       "    </tr>\n",
       "    <tr>\n",
       "      <th>2969</th>\n",
       "      <td>53243585a1d6dc2643021fd1853d8905</td>\n",
       "      <td>17967.605</td>\n",
       "      <td>23237.605</td>\n",
       "      <td>5270</td>\n",
       "      <td>12.0</td>\n",
       "    </tr>\n",
       "  </tbody>\n",
       "</table>\n",
       "<p>2970 rows × 5 columns</p>\n",
       "</div>"
      ],
      "text/plain": [
       "                             seller_id        p_l     income  \\\n",
       "0     6560211a19b47992c3666cc44a7e94c0 -22419.517  13850.483   \n",
       "1     4a3ca9315b744ce9f8e9374361493884 -19242.708  21647.292   \n",
       "2     cc419e0650a3c5ba77189a1882b7556a -18051.158  11948.842   \n",
       "3     ea8482cd71df3c1969d7b9473ff13abc -15952.248   4757.752   \n",
       "4     8b321bb669392f5163d04c59e235e066 -13066.431   2553.569   \n",
       "...                                ...        ...        ...   \n",
       "2965  ccc4bbb5f32a6ab2b7066a4130f114e3   6780.462   9000.462   \n",
       "2966  edb1ef5e36e0c8cd84eb3c9b003e486d   7288.455   8808.455   \n",
       "2967  fa1c13f2614d7b5c4749cbc52fecda94  14254.203  21004.203   \n",
       "2968  7e93a43ef30c4f03f38b393420bc753a  14603.187  19403.187   \n",
       "2969  53243585a1d6dc2643021fd1853d8905  17967.605  23237.605   \n",
       "\n",
       "      cost_of_bad_reviews  n_months  \n",
       "0                   36270      19.0  \n",
       "1                   40890      20.0  \n",
       "2                   30000      19.0  \n",
       "3                   20710      13.0  \n",
       "4                   15620      10.0  \n",
       "...                   ...       ...  \n",
       "2965                 2220      20.0  \n",
       "2966                 1520      11.0  \n",
       "2967                 6750      20.0  \n",
       "2968                 4800      22.0  \n",
       "2969                 5270      12.0  \n",
       "\n",
       "[2970 rows x 5 columns]"
      ]
     },
     "execution_count": 29,
     "metadata": {},
     "output_type": "execute_result"
    }
   ],
   "source": [
    "Test"
   ]
  },
  {
   "cell_type": "code",
   "execution_count": 22,
   "metadata": {
    "scrolled": true
   },
   "outputs": [
    {
     "data": {
      "text/plain": [
       "1259445.224"
      ]
     },
     "execution_count": 22,
     "metadata": {},
     "output_type": "execute_result"
    }
   ],
   "source": [
    "Test['p_l'].plot()"
   ]
  },
  {
   "cell_type": "code",
   "execution_count": null,
   "metadata": {},
   "outputs": [],
   "source": [
    "#borrar = information_df.merge(reviews_df, on='seller_id')"
   ]
  },
  {
   "cell_type": "code",
   "execution_count": null,
   "metadata": {
    "scrolled": true
   },
   "outputs": [],
   "source": [
    "#cost_of_bad_reviews = n_1_star*100 + n_2_star*50 + n_3_star*40\n",
    "borrar['cost_of_bad_reviews'] = borrar['n_1_star'] * 100 + borrar['n_2_star'] * 50 +  borrar['n_3_star'] * 40 "
   ]
  },
  {
   "cell_type": "code",
   "execution_count": null,
   "metadata": {},
   "outputs": [],
   "source": [
    "borrar"
   ]
  },
  {
   "cell_type": "code",
   "execution_count": null,
   "metadata": {},
   "outputs": [],
   "source": [
    "from olist.seller import Seller\n",
    "\n",
    "from olist.order import Order\n",
    "orders = Order().get_training_data(with_distance_seller_customer=True)\n",
    "sellers = seller.get_training_data()\n"
   ]
  },
  {
   "cell_type": "code",
   "execution_count": null,
   "metadata": {
    "scrolled": true
   },
   "outputs": [],
   "source": []
  },
  {
   "cell_type": "code",
   "execution_count": null,
   "metadata": {},
   "outputs": [],
   "source": []
  },
  {
   "cell_type": "code",
   "execution_count": null,
   "metadata": {},
   "outputs": [],
   "source": []
  }
 ],
 "metadata": {
  "kernelspec": {
   "display_name": "Python 3 (ipykernel)",
   "language": "python",
   "name": "python3"
  },
  "language_info": {
   "codemirror_mode": {
    "name": "ipython",
    "version": 3
   },
   "file_extension": ".py",
   "mimetype": "text/x-python",
   "name": "python",
   "nbconvert_exporter": "python",
   "pygments_lexer": "ipython3",
   "version": "3.8.6"
  },
  "toc": {
   "base_numbering": 1,
   "nav_menu": {},
   "number_sections": true,
   "sideBar": true,
   "skip_h1_title": true,
   "title_cell": "Table of Contents",
   "title_sidebar": "Contents",
   "toc_cell": false,
   "toc_position": {
    "height": "calc(100% - 180px)",
    "left": "10px",
    "top": "150px",
    "width": "384px"
   },
   "toc_section_display": true,
   "toc_window_display": true
  },
  "varInspector": {
   "cols": {
    "lenName": 16,
    "lenType": 16,
    "lenVar": 40
   },
   "kernels_config": {
    "python": {
     "delete_cmd_postfix": "",
     "delete_cmd_prefix": "del ",
     "library": "var_list.py",
     "varRefreshCmd": "print(var_dic_list())"
    },
    "r": {
     "delete_cmd_postfix": ") ",
     "delete_cmd_prefix": "rm(",
     "library": "var_list.r",
     "varRefreshCmd": "cat(var_dic_list()) "
    }
   },
   "types_to_exclude": [
    "module",
    "function",
    "builtin_function_or_method",
    "instance",
    "_Feature"
   ],
   "window_display": false
  }
 },
 "nbformat": 4,
 "nbformat_minor": 4
}
