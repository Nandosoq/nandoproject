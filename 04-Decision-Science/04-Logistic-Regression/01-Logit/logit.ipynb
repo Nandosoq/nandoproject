{
 "cells": [
  {
   "cell_type": "markdown",
   "metadata": {},
   "source": [
    "# Logit Orders - A warm-up challenge (~1h)"
   ]
  },
  {
   "cell_type": "markdown",
   "metadata": {},
   "source": [
    "Let's figure out the impact of `wait_time` and `delay_vs_expected` on very good and very bad reviews\n",
    "\n",
    "Using our `orders` training_set, we will run two multivariate logistic regressions (`logit_one` and `logit_five`) to predict `dim_is_one_star` and `dim_is_five_star` respectively.\n",
    "\n",
    " "
   ]
  },
  {
   "cell_type": "code",
   "execution_count": 1,
   "metadata": {},
   "outputs": [],
   "source": [
    "import pandas as pd\n",
    "import seaborn as sns\n",
    "import statsmodels.api as sm\n",
    "import statsmodels.formula.api as smf\n",
    "import matplotlib.pyplot as plt"
   ]
  },
  {
   "cell_type": "markdown",
   "metadata": {},
   "source": [
    "❓ Import your dataset"
   ]
  },
  {
   "cell_type": "code",
   "execution_count": 2,
   "metadata": {},
   "outputs": [],
   "source": [
    "# import orders dataset\n",
    "from olist.order import Order\n",
    "orders = Order().get_training_data(with_distance_seller_customer=True)"
   ]
  },
  {
   "cell_type": "code",
   "execution_count": 9,
   "metadata": {},
   "outputs": [
    {
     "data": {
      "text/plain": [
       "'delivered'"
      ]
     },
     "execution_count": 9,
     "metadata": {},
     "output_type": "execute_result"
    }
   ],
   "source": [
    "orders['order_status'].min()"
   ]
  },
  {
   "cell_type": "markdown",
   "metadata": {},
   "source": [
    "❓ Select which features you want to use (avoid data-leaks)"
   ]
  },
  {
   "cell_type": "code",
   "execution_count": 47,
   "metadata": {},
   "outputs": [],
   "source": [
    "features = ['wait_time','expected_wait_time','delay_vs_expected','dim_is_five_star','dim_is_one_star',\n",
    "            'review_score','number_of_products','number_of_sellers','price','freight_value','distance_seller_customer']\n",
    "\n",
    "data_leaks = ['order_status']"
   ]
  },
  {
   "cell_type": "markdown",
   "metadata": {},
   "source": [
    "❓ Check the multi-colinearity of your features, using the `VIF index`. It shouldn't be too high (< 10 preferably) to ensure we can trust the partial regression coefficents and their associated `p-values` "
   ]
  },
  {
   "cell_type": "code",
   "execution_count": 48,
   "metadata": {},
   "outputs": [
    {
     "data": {
      "text/html": [
       "<div>\n",
       "<style scoped>\n",
       "    .dataframe tbody tr th:only-of-type {\n",
       "        vertical-align: middle;\n",
       "    }\n",
       "\n",
       "    .dataframe tbody tr th {\n",
       "        vertical-align: top;\n",
       "    }\n",
       "\n",
       "    .dataframe thead th {\n",
       "        text-align: right;\n",
       "    }\n",
       "</style>\n",
       "<table border=\"1\" class=\"dataframe\">\n",
       "  <thead>\n",
       "    <tr style=\"text-align: right;\">\n",
       "      <th></th>\n",
       "      <th>feature</th>\n",
       "      <th>VIF</th>\n",
       "    </tr>\n",
       "  </thead>\n",
       "  <tbody>\n",
       "    <tr>\n",
       "      <th>0</th>\n",
       "      <td>wait_time</td>\n",
       "      <td>8.736345</td>\n",
       "    </tr>\n",
       "    <tr>\n",
       "      <th>1</th>\n",
       "      <td>expected_wait_time</td>\n",
       "      <td>13.234131</td>\n",
       "    </tr>\n",
       "    <tr>\n",
       "      <th>2</th>\n",
       "      <td>delay_vs_expected</td>\n",
       "      <td>2.564483</td>\n",
       "    </tr>\n",
       "    <tr>\n",
       "      <th>3</th>\n",
       "      <td>dim_is_five_star</td>\n",
       "      <td>8.008839</td>\n",
       "    </tr>\n",
       "    <tr>\n",
       "      <th>4</th>\n",
       "      <td>dim_is_one_star</td>\n",
       "      <td>3.460630</td>\n",
       "    </tr>\n",
       "    <tr>\n",
       "      <th>5</th>\n",
       "      <td>review_score</td>\n",
       "      <td>59.946357</td>\n",
       "    </tr>\n",
       "    <tr>\n",
       "      <th>6</th>\n",
       "      <td>number_of_products</td>\n",
       "      <td>7.569385</td>\n",
       "    </tr>\n",
       "    <tr>\n",
       "      <th>7</th>\n",
       "      <td>number_of_sellers</td>\n",
       "      <td>45.194485</td>\n",
       "    </tr>\n",
       "    <tr>\n",
       "      <th>8</th>\n",
       "      <td>price</td>\n",
       "      <td>1.730428</td>\n",
       "    </tr>\n",
       "    <tr>\n",
       "      <th>9</th>\n",
       "      <td>freight_value</td>\n",
       "      <td>3.557825</td>\n",
       "    </tr>\n",
       "    <tr>\n",
       "      <th>10</th>\n",
       "      <td>distance_seller_customer</td>\n",
       "      <td>3.229706</td>\n",
       "    </tr>\n",
       "  </tbody>\n",
       "</table>\n",
       "</div>"
      ],
      "text/plain": [
       "                     feature        VIF\n",
       "0                  wait_time   8.736345\n",
       "1         expected_wait_time  13.234131\n",
       "2          delay_vs_expected   2.564483\n",
       "3           dim_is_five_star   8.008839\n",
       "4            dim_is_one_star   3.460630\n",
       "5               review_score  59.946357\n",
       "6         number_of_products   7.569385\n",
       "7          number_of_sellers  45.194485\n",
       "8                      price   1.730428\n",
       "9              freight_value   3.557825\n",
       "10  distance_seller_customer   3.229706"
      ]
     },
     "execution_count": 48,
     "metadata": {},
     "output_type": "execute_result"
    }
   ],
   "source": [
    "#All = ['wait_time', 'expected_wait_time', 'delay_vs_expected', 'number_of_products', 'number_of_sellers', 'price', 'freight_value']\n",
    "## Colineal\n",
    "\n",
    "from statsmodels.stats.outliers_influence import variance_inflation_factor\n",
    "\n",
    "X_variables = orders[features]\n",
    "\n",
    "vif_data = pd.DataFrame()\n",
    "vif_data[\"feature\"] = X_variables.columns\n",
    "vif_data[\"VIF\"] = [variance_inflation_factor(X_variables.values, i) for i in range(len(X_variables.columns))]\n",
    "vif_data\n",
    "\n"
   ]
  },
  {
   "cell_type": "code",
   "execution_count": 49,
   "metadata": {},
   "outputs": [],
   "source": [
    "features = ['wait_time','expected_wait_time','delay_vs_expected','dim_is_five_star','dim_is_one_star'\n",
    "            ,'number_of_products','price','freight_value','distance_seller_customer']\n",
    "\n",
    "data_leaks = ['order_status']\n",
    "\n",
    "colinearity =['review_score', 'number_of_sellers']"
   ]
  },
  {
   "cell_type": "markdown",
   "metadata": {},
   "source": [
    "❓ Fit two LOGIT models (`logit_one` and `logit_five`) to predict `dim_is_one_star` and `dim_is_five_star`"
   ]
  },
  {
   "cell_type": "code",
   "execution_count": 50,
   "metadata": {},
   "outputs": [],
   "source": [
    "#Info definition\n",
    "\n",
    "logit_models = ['dim_is_five_star','dim_is_one_star']\n",
    "\n",
    "features_mask = ['wait_time','expected_wait_time','delay_vs_expected',\n",
    "            'number_of_products','price','freight_value','distance_seller_customer']\n",
    "\n",
    "features_mask_2 = ['wait_time','expected_wait_time','delay_vs_expected',\n",
    "            'number_of_products','price','distance_seller_customer']"
   ]
  },
  {
   "cell_type": "code",
   "execution_count": 52,
   "metadata": {
    "scrolled": false
   },
   "outputs": [
    {
     "name": "stdout",
     "output_type": "stream",
     "text": [
      "Optimization terminated successfully.\n",
      "         Current function value: 0.281278\n",
      "         Iterations 7\n"
     ]
    },
    {
     "data": {
      "text/html": [
       "<table class=\"simpletable\">\n",
       "<caption>Logit Regression Results</caption>\n",
       "<tr>\n",
       "  <th>Dep. Variable:</th>    <td>dim_is_one_star</td> <th>  No. Observations:  </th>  <td> 96525</td> \n",
       "</tr>\n",
       "<tr>\n",
       "  <th>Model:</th>                 <td>Logit</td>      <th>  Df Residuals:      </th>  <td> 96517</td> \n",
       "</tr>\n",
       "<tr>\n",
       "  <th>Method:</th>                 <td>MLE</td>       <th>  Df Model:          </th>  <td>     7</td> \n",
       "</tr>\n",
       "<tr>\n",
       "  <th>Date:</th>            <td>Thu, 05 Aug 2021</td> <th>  Pseudo R-squ.:     </th>  <td>0.1382</td> \n",
       "</tr>\n",
       "<tr>\n",
       "  <th>Time:</th>                <td>12:12:25</td>     <th>  Log-Likelihood:    </th> <td> -27150.</td>\n",
       "</tr>\n",
       "<tr>\n",
       "  <th>converged:</th>             <td>True</td>       <th>  LL-Null:           </th> <td> -31505.</td>\n",
       "</tr>\n",
       "<tr>\n",
       "  <th>Covariance Type:</th>     <td>nonrobust</td>    <th>  LLR p-value:       </th>  <td> 0.000</td> \n",
       "</tr>\n",
       "</table>\n",
       "<table class=\"simpletable\">\n",
       "<tr>\n",
       "              <td></td>                <th>coef</th>     <th>std err</th>      <th>z</th>      <th>P>|z|</th>  <th>[0.025</th>    <th>0.975]</th>  \n",
       "</tr>\n",
       "<tr>\n",
       "  <th>Intercept</th>                <td>   -3.5530</td> <td>    0.041</td> <td>  -85.836</td> <td> 0.000</td> <td>   -3.634</td> <td>   -3.472</td>\n",
       "</tr>\n",
       "<tr>\n",
       "  <th>wait_time</th>                <td>    0.0837</td> <td>    0.002</td> <td>   41.269</td> <td> 0.000</td> <td>    0.080</td> <td>    0.088</td>\n",
       "</tr>\n",
       "<tr>\n",
       "  <th>expected_wait_time</th>       <td>   -0.0205</td> <td>    0.002</td> <td>  -11.202</td> <td> 0.000</td> <td>   -0.024</td> <td>   -0.017</td>\n",
       "</tr>\n",
       "<tr>\n",
       "  <th>delay_vs_expected</th>        <td>    0.0339</td> <td>    0.004</td> <td>    7.912</td> <td> 0.000</td> <td>    0.026</td> <td>    0.042</td>\n",
       "</tr>\n",
       "<tr>\n",
       "  <th>number_of_products</th>       <td>    0.5638</td> <td>    0.018</td> <td>   30.571</td> <td> 0.000</td> <td>    0.528</td> <td>    0.600</td>\n",
       "</tr>\n",
       "<tr>\n",
       "  <th>price</th>                    <td>    0.0003</td> <td> 5.24e-05</td> <td>    4.816</td> <td> 0.000</td> <td>    0.000</td> <td>    0.000</td>\n",
       "</tr>\n",
       "<tr>\n",
       "  <th>freight_value</th>            <td>   -0.0005</td> <td>    0.001</td> <td>   -0.870</td> <td> 0.384</td> <td>   -0.002</td> <td>    0.001</td>\n",
       "</tr>\n",
       "<tr>\n",
       "  <th>distance_seller_customer</th> <td>   -0.0002</td> <td> 2.35e-05</td> <td>   -9.226</td> <td> 0.000</td> <td>   -0.000</td> <td>   -0.000</td>\n",
       "</tr>\n",
       "</table>"
      ],
      "text/plain": [
       "<class 'statsmodels.iolib.summary.Summary'>\n",
       "\"\"\"\n",
       "                           Logit Regression Results                           \n",
       "==============================================================================\n",
       "Dep. Variable:        dim_is_one_star   No. Observations:                96525\n",
       "Model:                          Logit   Df Residuals:                    96517\n",
       "Method:                           MLE   Df Model:                            7\n",
       "Date:                Thu, 05 Aug 2021   Pseudo R-squ.:                  0.1382\n",
       "Time:                        12:12:25   Log-Likelihood:                -27150.\n",
       "converged:                       True   LL-Null:                       -31505.\n",
       "Covariance Type:            nonrobust   LLR p-value:                     0.000\n",
       "============================================================================================\n",
       "                               coef    std err          z      P>|z|      [0.025      0.975]\n",
       "--------------------------------------------------------------------------------------------\n",
       "Intercept                   -3.5530      0.041    -85.836      0.000      -3.634      -3.472\n",
       "wait_time                    0.0837      0.002     41.269      0.000       0.080       0.088\n",
       "expected_wait_time          -0.0205      0.002    -11.202      0.000      -0.024      -0.017\n",
       "delay_vs_expected            0.0339      0.004      7.912      0.000       0.026       0.042\n",
       "number_of_products           0.5638      0.018     30.571      0.000       0.528       0.600\n",
       "price                        0.0003   5.24e-05      4.816      0.000       0.000       0.000\n",
       "freight_value               -0.0005      0.001     -0.870      0.384      -0.002       0.001\n",
       "distance_seller_customer    -0.0002   2.35e-05     -9.226      0.000      -0.000      -0.000\n",
       "============================================================================================\n",
       "\"\"\""
      ]
     },
     "execution_count": 52,
     "metadata": {},
     "output_type": "execute_result"
    }
   ],
   "source": [
    "logit_one = smf.logit(formula=f'dim_is_one_star ~ {(\"+\").join(features_mask)}', data=orders).fit()\n",
    "logit_one.summary()"
   ]
  },
  {
   "cell_type": "code",
   "execution_count": 53,
   "metadata": {
    "scrolled": false
   },
   "outputs": [
    {
     "name": "stdout",
     "output_type": "stream",
     "text": [
      "Optimization terminated successfully.\n",
      "         Current function value: 0.281282\n",
      "         Iterations 7\n"
     ]
    },
    {
     "data": {
      "text/html": [
       "<table class=\"simpletable\">\n",
       "<caption>Logit Regression Results</caption>\n",
       "<tr>\n",
       "  <th>Dep. Variable:</th>    <td>dim_is_one_star</td> <th>  No. Observations:  </th>  <td> 96525</td> \n",
       "</tr>\n",
       "<tr>\n",
       "  <th>Model:</th>                 <td>Logit</td>      <th>  Df Residuals:      </th>  <td> 96518</td> \n",
       "</tr>\n",
       "<tr>\n",
       "  <th>Method:</th>                 <td>MLE</td>       <th>  Df Model:          </th>  <td>     6</td> \n",
       "</tr>\n",
       "<tr>\n",
       "  <th>Date:</th>            <td>Thu, 05 Aug 2021</td> <th>  Pseudo R-squ.:     </th>  <td>0.1382</td> \n",
       "</tr>\n",
       "<tr>\n",
       "  <th>Time:</th>                <td>12:12:28</td>     <th>  Log-Likelihood:    </th> <td> -27151.</td>\n",
       "</tr>\n",
       "<tr>\n",
       "  <th>converged:</th>             <td>True</td>       <th>  LL-Null:           </th> <td> -31505.</td>\n",
       "</tr>\n",
       "<tr>\n",
       "  <th>Covariance Type:</th>     <td>nonrobust</td>    <th>  LLR p-value:       </th>  <td> 0.000</td> \n",
       "</tr>\n",
       "</table>\n",
       "<table class=\"simpletable\">\n",
       "<tr>\n",
       "              <td></td>                <th>coef</th>     <th>std err</th>      <th>z</th>      <th>P>|z|</th>  <th>[0.025</th>    <th>0.975]</th>  \n",
       "</tr>\n",
       "<tr>\n",
       "  <th>Intercept</th>                <td>   -3.5471</td> <td>    0.041</td> <td>  -86.846</td> <td> 0.000</td> <td>   -3.627</td> <td>   -3.467</td>\n",
       "</tr>\n",
       "<tr>\n",
       "  <th>wait_time</th>                <td>    0.0836</td> <td>    0.002</td> <td>   41.262</td> <td> 0.000</td> <td>    0.080</td> <td>    0.088</td>\n",
       "</tr>\n",
       "<tr>\n",
       "  <th>expected_wait_time</th>       <td>   -0.0206</td> <td>    0.002</td> <td>  -11.262</td> <td> 0.000</td> <td>   -0.024</td> <td>   -0.017</td>\n",
       "</tr>\n",
       "<tr>\n",
       "  <th>delay_vs_expected</th>        <td>    0.0340</td> <td>    0.004</td> <td>    7.931</td> <td> 0.000</td> <td>    0.026</td> <td>    0.042</td>\n",
       "</tr>\n",
       "<tr>\n",
       "  <th>number_of_products</th>       <td>    0.5559</td> <td>    0.016</td> <td>   34.575</td> <td> 0.000</td> <td>    0.524</td> <td>    0.587</td>\n",
       "</tr>\n",
       "<tr>\n",
       "  <th>price</th>                    <td>    0.0002</td> <td> 4.88e-05</td> <td>    4.825</td> <td> 0.000</td> <td>    0.000</td> <td>    0.000</td>\n",
       "</tr>\n",
       "<tr>\n",
       "  <th>distance_seller_customer</th> <td>   -0.0002</td> <td> 2.29e-05</td> <td>   -9.635</td> <td> 0.000</td> <td>   -0.000</td> <td>   -0.000</td>\n",
       "</tr>\n",
       "</table>"
      ],
      "text/plain": [
       "<class 'statsmodels.iolib.summary.Summary'>\n",
       "\"\"\"\n",
       "                           Logit Regression Results                           \n",
       "==============================================================================\n",
       "Dep. Variable:        dim_is_one_star   No. Observations:                96525\n",
       "Model:                          Logit   Df Residuals:                    96518\n",
       "Method:                           MLE   Df Model:                            6\n",
       "Date:                Thu, 05 Aug 2021   Pseudo R-squ.:                  0.1382\n",
       "Time:                        12:12:28   Log-Likelihood:                -27151.\n",
       "converged:                       True   LL-Null:                       -31505.\n",
       "Covariance Type:            nonrobust   LLR p-value:                     0.000\n",
       "============================================================================================\n",
       "                               coef    std err          z      P>|z|      [0.025      0.975]\n",
       "--------------------------------------------------------------------------------------------\n",
       "Intercept                   -3.5471      0.041    -86.846      0.000      -3.627      -3.467\n",
       "wait_time                    0.0836      0.002     41.262      0.000       0.080       0.088\n",
       "expected_wait_time          -0.0206      0.002    -11.262      0.000      -0.024      -0.017\n",
       "delay_vs_expected            0.0340      0.004      7.931      0.000       0.026       0.042\n",
       "number_of_products           0.5559      0.016     34.575      0.000       0.524       0.587\n",
       "price                        0.0002   4.88e-05      4.825      0.000       0.000       0.000\n",
       "distance_seller_customer    -0.0002   2.29e-05     -9.635      0.000      -0.000      -0.000\n",
       "============================================================================================\n",
       "\"\"\""
      ]
     },
     "execution_count": 53,
     "metadata": {},
     "output_type": "execute_result"
    }
   ],
   "source": [
    "logit_one = smf.logit(formula=f'dim_is_one_star ~ {(\"+\").join(features_mask_2)}', data=orders).fit()\n",
    "logit_one.summary()"
   ]
  },
  {
   "cell_type": "markdown",
   "metadata": {},
   "source": [
    "❓Interpret your results:\n",
    "\n",
    "- Interpret the partial coefficients in your own words.\n",
    "- Check their statistical significance with `p-values`\n",
    "- Do you notice any differences between `logit_one` and `logit_five` in terms of coefficient importance?"
   ]
  },
  {
   "cell_type": "code",
   "execution_count": 54,
   "metadata": {},
   "outputs": [
    {
     "name": "stdout",
     "output_type": "stream",
     "text": [
      "Optimization terminated successfully.\n",
      "         Current function value: 0.638984\n",
      "         Iterations 7\n"
     ]
    },
    {
     "data": {
      "text/html": [
       "<table class=\"simpletable\">\n",
       "<caption>Logit Regression Results</caption>\n",
       "<tr>\n",
       "  <th>Dep. Variable:</th>   <td>dim_is_five_star</td> <th>  No. Observations:  </th>  <td> 96525</td> \n",
       "</tr>\n",
       "<tr>\n",
       "  <th>Model:</th>                 <td>Logit</td>      <th>  Df Residuals:      </th>  <td> 96517</td> \n",
       "</tr>\n",
       "<tr>\n",
       "  <th>Method:</th>                 <td>MLE</td>       <th>  Df Model:          </th>  <td>     7</td> \n",
       "</tr>\n",
       "<tr>\n",
       "  <th>Date:</th>            <td>Thu, 05 Aug 2021</td> <th>  Pseudo R-squ.:     </th>  <td>0.05647</td>\n",
       "</tr>\n",
       "<tr>\n",
       "  <th>Time:</th>                <td>12:12:36</td>     <th>  Log-Likelihood:    </th> <td> -61678.</td>\n",
       "</tr>\n",
       "<tr>\n",
       "  <th>converged:</th>             <td>True</td>       <th>  LL-Null:           </th> <td> -65370.</td>\n",
       "</tr>\n",
       "<tr>\n",
       "  <th>Covariance Type:</th>     <td>nonrobust</td>    <th>  LLR p-value:       </th>  <td> 0.000</td> \n",
       "</tr>\n",
       "</table>\n",
       "<table class=\"simpletable\">\n",
       "<tr>\n",
       "              <td></td>                <th>coef</th>     <th>std err</th>      <th>z</th>      <th>P>|z|</th>  <th>[0.025</th>    <th>0.975]</th>  \n",
       "</tr>\n",
       "<tr>\n",
       "  <th>Intercept</th>                <td>    1.2470</td> <td>    0.026</td> <td>   48.082</td> <td> 0.000</td> <td>    1.196</td> <td>    1.298</td>\n",
       "</tr>\n",
       "<tr>\n",
       "  <th>wait_time</th>                <td>   -0.0583</td> <td>    0.001</td> <td>  -43.627</td> <td> 0.000</td> <td>   -0.061</td> <td>   -0.056</td>\n",
       "</tr>\n",
       "<tr>\n",
       "  <th>expected_wait_time</th>       <td>    0.0076</td> <td>    0.001</td> <td>    7.618</td> <td> 0.000</td> <td>    0.006</td> <td>    0.010</td>\n",
       "</tr>\n",
       "<tr>\n",
       "  <th>delay_vs_expected</th>        <td>   -0.0832</td> <td>    0.005</td> <td>  -16.107</td> <td> 0.000</td> <td>   -0.093</td> <td>   -0.073</td>\n",
       "</tr>\n",
       "<tr>\n",
       "  <th>number_of_products</th>       <td>   -0.3361</td> <td>    0.015</td> <td>  -21.940</td> <td> 0.000</td> <td>   -0.366</td> <td>   -0.306</td>\n",
       "</tr>\n",
       "<tr>\n",
       "  <th>price</th>                    <td>  9.26e-05</td> <td> 3.66e-05</td> <td>    2.531</td> <td> 0.011</td> <td> 2.09e-05</td> <td>    0.000</td>\n",
       "</tr>\n",
       "<tr>\n",
       "  <th>freight_value</th>            <td>-4.374e-05</td> <td>    0.000</td> <td>   -0.103</td> <td> 0.918</td> <td>   -0.001</td> <td>    0.001</td>\n",
       "</tr>\n",
       "<tr>\n",
       "  <th>distance_seller_customer</th> <td>    0.0001</td> <td> 1.46e-05</td> <td>    7.618</td> <td> 0.000</td> <td> 8.25e-05</td> <td>    0.000</td>\n",
       "</tr>\n",
       "</table>"
      ],
      "text/plain": [
       "<class 'statsmodels.iolib.summary.Summary'>\n",
       "\"\"\"\n",
       "                           Logit Regression Results                           \n",
       "==============================================================================\n",
       "Dep. Variable:       dim_is_five_star   No. Observations:                96525\n",
       "Model:                          Logit   Df Residuals:                    96517\n",
       "Method:                           MLE   Df Model:                            7\n",
       "Date:                Thu, 05 Aug 2021   Pseudo R-squ.:                 0.05647\n",
       "Time:                        12:12:36   Log-Likelihood:                -61678.\n",
       "converged:                       True   LL-Null:                       -65370.\n",
       "Covariance Type:            nonrobust   LLR p-value:                     0.000\n",
       "============================================================================================\n",
       "                               coef    std err          z      P>|z|      [0.025      0.975]\n",
       "--------------------------------------------------------------------------------------------\n",
       "Intercept                    1.2470      0.026     48.082      0.000       1.196       1.298\n",
       "wait_time                   -0.0583      0.001    -43.627      0.000      -0.061      -0.056\n",
       "expected_wait_time           0.0076      0.001      7.618      0.000       0.006       0.010\n",
       "delay_vs_expected           -0.0832      0.005    -16.107      0.000      -0.093      -0.073\n",
       "number_of_products          -0.3361      0.015    -21.940      0.000      -0.366      -0.306\n",
       "price                      9.26e-05   3.66e-05      2.531      0.011    2.09e-05       0.000\n",
       "freight_value            -4.374e-05      0.000     -0.103      0.918      -0.001       0.001\n",
       "distance_seller_customer     0.0001   1.46e-05      7.618      0.000    8.25e-05       0.000\n",
       "============================================================================================\n",
       "\"\"\""
      ]
     },
     "execution_count": 54,
     "metadata": {},
     "output_type": "execute_result"
    }
   ],
   "source": [
    "logit_five = smf.logit(formula=f'dim_is_five_star ~ {(\"+\").join(features_mask)}', data=orders).fit()\n",
    "logit_five.summary()"
   ]
  },
  {
   "cell_type": "code",
   "execution_count": 60,
   "metadata": {},
   "outputs": [
    {
     "name": "stdout",
     "output_type": "stream",
     "text": [
      "Optimization terminated successfully.\n",
      "         Current function value: 0.638984\n",
      "         Iterations 7\n"
     ]
    },
    {
     "data": {
      "text/plain": [
       "Intercept                   1.247448\n",
       "wait_time                  -0.058321\n",
       "expected_wait_time          0.007608\n",
       "delay_vs_expected          -0.083200\n",
       "number_of_products         -0.336809\n",
       "price                       0.000091\n",
       "distance_seller_customer    0.000111\n",
       "dtype: float64"
      ]
     },
     "execution_count": 60,
     "metadata": {},
     "output_type": "execute_result"
    }
   ],
   "source": [
    "logit_five = smf.logit(formula=f'dim_is_five_star ~ {(\"+\").join(features_mask_2)}', data=orders).fit()\n",
    "logit_five.summary()\n",
    "\n",
    "logit_five.params"
   ]
  },
  {
   "cell_type": "code",
   "execution_count": 58,
   "metadata": {},
   "outputs": [],
   "source": [
    "# Among the following sentences, store the ones that are true in the list below\n",
    "\n",
    "a = \"delay_vs_expected influences five_star ratings even more than one_star ratings\"\n",
    "b = \"wait_time influences five_star ratings even more more than one_star\"\n",
    "\n",
    "your_answer = [a]"
   ]
  },
  {
   "cell_type": "markdown",
   "metadata": {},
   "source": [
    "🧪 __Test your code__"
   ]
  },
  {
   "cell_type": "code",
   "execution_count": 59,
   "metadata": {},
   "outputs": [
    {
     "name": "stdout",
     "output_type": "stream",
     "text": [
      "\u001b[1m============================= test session starts ==============================\u001b[0m\n",
      "platform linux -- Python 3.8.6, pytest-6.2.4, py-1.10.0, pluggy-0.13.1 -- /home/nandosoq/.pyenv/versions/lewagon/bin/python3\n",
      "cachedir: .pytest_cache\n",
      "rootdir: /home/nandosoq/code/Nandosoq/data-challenges/04-Decision-Science/04-Logistic-Regression/01-Logit\n",
      "plugins: anyio-3.2.1, dash-1.21.0\n",
      "\u001b[1mcollecting ... \u001b[0mcollected 1 item\n",
      "\n",
      "tests/test_logit.py::TestLogit::test_question \u001b[32mPASSED\u001b[0m\u001b[32m                     [100%]\u001b[0m\n",
      "\n",
      "\u001b[32m============================== \u001b[32m\u001b[1m1 passed\u001b[0m\u001b[32m in 0.01s\u001b[0m\u001b[32m ===============================\u001b[0m\n",
      "\n",
      "\n",
      "💯 You can commit your code:\n",
      "\n",
      "\u001b[1;32mgit\u001b[39m add tests/logit.pickle\n",
      "\n",
      "\u001b[32mgit\u001b[39m commit -m \u001b[33m'Completed logit step'\u001b[39m\n",
      "\n",
      "\u001b[32mgit\u001b[39m push origin master\n"
     ]
    }
   ],
   "source": [
    "from nbresult import ChallengeResult\n",
    "\n",
    "result = ChallengeResult('logit',\n",
    "    answers = your_answer\n",
    ")\n",
    "result.write()\n",
    "print(result.check())"
   ]
  },
  {
   "cell_type": "markdown",
   "metadata": {},
   "source": [
    "<details>\n",
    "    <summary>Explanations</summary>\n",
    "\n",
    "\n",
    "> _All other thing being equal, the delay factor tends to increase the chances of getting stripped of the 5-star even more so than it affect the chances of 1-star reviews. Probably because 1-stars are really targeting bad products themselves, not bad deliveries_\n",
    "    \n",
    "</details>\n"
   ]
  },
  {
   "cell_type": "markdown",
   "metadata": {},
   "source": [
    "❓ How do these regression coefficients compare with an OLS on `review_score` using the same features? Double check that both OLS and Logit analyses tell approximately \"the same story\"."
   ]
  },
  {
   "cell_type": "code",
   "execution_count": null,
   "metadata": {
    "scrolled": true
   },
   "outputs": [],
   "source": [
    "models = ['review_score']\n",
    "\n",
    "features_mask = ['wait_time','expected_wait_time','delay_vs_expected',\n",
    "            'number_of_products','price','freight_value','distance_seller_customer']\n",
    "\n"
   ]
  },
  {
   "cell_type": "code",
   "execution_count": 62,
   "metadata": {},
   "outputs": [],
   "source": [
    "# standardize features (transform them into their respective z-scores)\n",
    "\n",
    "df = orders[features_mask] #distance\n",
    "cols = list(df.columns)\n",
    "\n",
    "df[cols]\n",
    "\n",
    "df_zscore  = pd.DataFrame()\n",
    "\n",
    "for col in cols:\n",
    "    col_zscore = col + '_zscore'\n",
    "    df_zscore[col_zscore] = (df[col] - df[col].mean())/df[col].std()\n",
    "    \n",
    "df_zscore['review_score'] = orders['review_score']"
   ]
  },
  {
   "cell_type": "code",
   "execution_count": 64,
   "metadata": {},
   "outputs": [
    {
     "data": {
      "text/html": [
       "<table class=\"simpletable\">\n",
       "<caption>OLS Regression Results</caption>\n",
       "<tr>\n",
       "  <th>Dep. Variable:</th>      <td>review_score</td>   <th>  R-squared:         </th>  <td>   0.139</td>  \n",
       "</tr>\n",
       "<tr>\n",
       "  <th>Model:</th>                   <td>OLS</td>       <th>  Adj. R-squared:    </th>  <td>   0.139</td>  \n",
       "</tr>\n",
       "<tr>\n",
       "  <th>Method:</th>             <td>Least Squares</td>  <th>  F-statistic:       </th>  <td>   2223.</td>  \n",
       "</tr>\n",
       "<tr>\n",
       "  <th>Date:</th>             <td>Thu, 05 Aug 2021</td> <th>  Prob (F-statistic):</th>   <td>  0.00</td>   \n",
       "</tr>\n",
       "<tr>\n",
       "  <th>Time:</th>                 <td>12:43:21</td>     <th>  Log-Likelihood:    </th> <td>-1.5483e+05</td>\n",
       "</tr>\n",
       "<tr>\n",
       "  <th>No. Observations:</th>      <td> 96525</td>      <th>  AIC:               </th>  <td>3.097e+05</td> \n",
       "</tr>\n",
       "<tr>\n",
       "  <th>Df Residuals:</th>          <td> 96517</td>      <th>  BIC:               </th>  <td>3.098e+05</td> \n",
       "</tr>\n",
       "<tr>\n",
       "  <th>Df Model:</th>              <td>     7</td>      <th>                     </th>      <td> </td>     \n",
       "</tr>\n",
       "<tr>\n",
       "  <th>Covariance Type:</th>      <td>nonrobust</td>    <th>                     </th>      <td> </td>     \n",
       "</tr>\n",
       "</table>\n",
       "<table class=\"simpletable\">\n",
       "<tr>\n",
       "                 <td></td>                    <th>coef</th>     <th>std err</th>      <th>t</th>      <th>P>|t|</th>  <th>[0.025</th>    <th>0.975]</th>  \n",
       "</tr>\n",
       "<tr>\n",
       "  <th>Intercept</th>                       <td>    4.1420</td> <td>    0.004</td> <td> 1069.360</td> <td> 0.000</td> <td>    4.134</td> <td>    4.150</td>\n",
       "</tr>\n",
       "<tr>\n",
       "  <th>wait_time_zscore</th>                <td>   -0.4865</td> <td>    0.007</td> <td>  -71.437</td> <td> 0.000</td> <td>   -0.500</td> <td>   -0.473</td>\n",
       "</tr>\n",
       "<tr>\n",
       "  <th>expected_wait_time_zscore</th>       <td>    0.0870</td> <td>    0.005</td> <td>   17.771</td> <td> 0.000</td> <td>    0.077</td> <td>    0.097</td>\n",
       "</tr>\n",
       "<tr>\n",
       "  <th>delay_vs_expected_zscore</th>        <td>   -0.0158</td> <td>    0.006</td> <td>   -2.583</td> <td> 0.010</td> <td>   -0.028</td> <td>   -0.004</td>\n",
       "</tr>\n",
       "<tr>\n",
       "  <th>number_of_products_zscore</th>       <td>   -0.1690</td> <td>    0.004</td> <td>  -38.463</td> <td> 0.000</td> <td>   -0.178</td> <td>   -0.160</td>\n",
       "</tr>\n",
       "<tr>\n",
       "  <th>price_zscore</th>                    <td>   -0.0038</td> <td>    0.004</td> <td>   -0.902</td> <td> 0.367</td> <td>   -0.012</td> <td>    0.005</td>\n",
       "</tr>\n",
       "<tr>\n",
       "  <th>freight_value_zscore</th>            <td>   -0.0030</td> <td>    0.005</td> <td>   -0.605</td> <td> 0.545</td> <td>   -0.013</td> <td>    0.007</td>\n",
       "</tr>\n",
       "<tr>\n",
       "  <th>distance_seller_customer_zscore</th> <td>    0.0693</td> <td>    0.005</td> <td>   14.146</td> <td> 0.000</td> <td>    0.060</td> <td>    0.079</td>\n",
       "</tr>\n",
       "</table>\n",
       "<table class=\"simpletable\">\n",
       "<tr>\n",
       "  <th>Omnibus:</th>       <td>18347.558</td> <th>  Durbin-Watson:     </th> <td>   2.009</td> \n",
       "</tr>\n",
       "<tr>\n",
       "  <th>Prob(Omnibus):</th>  <td> 0.000</td>   <th>  Jarque-Bera (JB):  </th> <td>34478.595</td>\n",
       "</tr>\n",
       "<tr>\n",
       "  <th>Skew:</th>           <td>-1.183</td>   <th>  Prob(JB):          </th> <td>    0.00</td> \n",
       "</tr>\n",
       "<tr>\n",
       "  <th>Kurtosis:</th>       <td> 4.725</td>   <th>  Cond. No.          </th> <td>    3.47</td> \n",
       "</tr>\n",
       "</table><br/><br/>Notes:<br/>[1] Standard Errors assume that the covariance matrix of the errors is correctly specified."
      ],
      "text/plain": [
       "<class 'statsmodels.iolib.summary.Summary'>\n",
       "\"\"\"\n",
       "                            OLS Regression Results                            \n",
       "==============================================================================\n",
       "Dep. Variable:           review_score   R-squared:                       0.139\n",
       "Model:                            OLS   Adj. R-squared:                  0.139\n",
       "Method:                 Least Squares   F-statistic:                     2223.\n",
       "Date:                Thu, 05 Aug 2021   Prob (F-statistic):               0.00\n",
       "Time:                        12:43:21   Log-Likelihood:            -1.5483e+05\n",
       "No. Observations:               96525   AIC:                         3.097e+05\n",
       "Df Residuals:                   96517   BIC:                         3.098e+05\n",
       "Df Model:                           7                                         \n",
       "Covariance Type:            nonrobust                                         \n",
       "===================================================================================================\n",
       "                                      coef    std err          t      P>|t|      [0.025      0.975]\n",
       "---------------------------------------------------------------------------------------------------\n",
       "Intercept                           4.1420      0.004   1069.360      0.000       4.134       4.150\n",
       "wait_time_zscore                   -0.4865      0.007    -71.437      0.000      -0.500      -0.473\n",
       "expected_wait_time_zscore           0.0870      0.005     17.771      0.000       0.077       0.097\n",
       "delay_vs_expected_zscore           -0.0158      0.006     -2.583      0.010      -0.028      -0.004\n",
       "number_of_products_zscore          -0.1690      0.004    -38.463      0.000      -0.178      -0.160\n",
       "price_zscore                       -0.0038      0.004     -0.902      0.367      -0.012       0.005\n",
       "freight_value_zscore               -0.0030      0.005     -0.605      0.545      -0.013       0.007\n",
       "distance_seller_customer_zscore     0.0693      0.005     14.146      0.000       0.060       0.079\n",
       "==============================================================================\n",
       "Omnibus:                    18347.558   Durbin-Watson:                   2.009\n",
       "Prob(Omnibus):                  0.000   Jarque-Bera (JB):            34478.595\n",
       "Skew:                          -1.183   Prob(JB):                         0.00\n",
       "Kurtosis:                       4.725   Cond. No.                         3.47\n",
       "==============================================================================\n",
       "\n",
       "Notes:\n",
       "[1] Standard Errors assume that the covariance matrix of the errors is correctly specified.\n",
       "\"\"\""
      ]
     },
     "execution_count": 64,
     "metadata": {},
     "output_type": "execute_result"
    }
   ],
   "source": [
    "# Create and train model4\n",
    "\n",
    "\n",
    "features_z_score = [feature+'_zscore' for feature in features_mask]\n",
    "\n",
    "\n",
    "model4 = smf.ols(formula = f'review_score ~ {(\"+\").join(features_z_score)}', data=df_zscore).fit()\n",
    "\n",
    "model4.summary()"
   ]
  },
  {
   "cell_type": "markdown",
   "metadata": {},
   "source": [
    "### 🏁 Congratulation! Don't forget to commit and push your notebook"
   ]
  }
 ],
 "metadata": {
  "kernelspec": {
   "display_name": "Python 3 (ipykernel)",
   "language": "python",
   "name": "python3"
  },
  "language_info": {
   "codemirror_mode": {
    "name": "ipython",
    "version": 3
   },
   "file_extension": ".py",
   "mimetype": "text/x-python",
   "name": "python",
   "nbconvert_exporter": "python",
   "pygments_lexer": "ipython3",
   "version": "3.8.6"
  },
  "toc": {
   "base_numbering": 1,
   "nav_menu": {},
   "number_sections": false,
   "sideBar": true,
   "skip_h1_title": false,
   "title_cell": "Table of Contents",
   "title_sidebar": "Contents",
   "toc_cell": false,
   "toc_position": {},
   "toc_section_display": true,
   "toc_window_display": true
  },
  "varInspector": {
   "cols": {
    "lenName": 16,
    "lenType": 16,
    "lenVar": 40
   },
   "kernels_config": {
    "python": {
     "delete_cmd_postfix": "",
     "delete_cmd_prefix": "del ",
     "library": "var_list.py",
     "varRefreshCmd": "print(var_dic_list())"
    },
    "r": {
     "delete_cmd_postfix": ") ",
     "delete_cmd_prefix": "rm(",
     "library": "var_list.r",
     "varRefreshCmd": "cat(var_dic_list()) "
    }
   },
   "types_to_exclude": [
    "module",
    "function",
    "builtin_function_or_method",
    "instance",
    "_Feature"
   ],
   "window_display": false
  }
 },
 "nbformat": 4,
 "nbformat_minor": 4
}
