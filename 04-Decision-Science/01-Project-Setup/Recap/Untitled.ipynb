{
 "cells": [
  {
   "cell_type": "code",
   "execution_count": 1,
   "id": "419c42e5",
   "metadata": {},
   "outputs": [
    {
     "name": "stdout",
     "output_type": "stream",
     "text": [
      "% confidence interval =  0.9520615354942314\n"
     ]
    }
   ],
   "source": [
    "# We can check these figure using cumulative density functions\n",
    "from scipy import stats\n",
    "mu_estim = stats.norm(170, 0.63)\n",
    "\n",
    "# use the cdf to find the probabilities associated with height values\n",
    "print('% confidence interval = ', mu_estim.cdf(171.2) - mu_estim.cdf(168.7))"
   ]
  },
  {
   "cell_type": "code",
   "execution_count": 3,
   "id": "973b18d4",
   "metadata": {},
   "outputs": [
    {
     "name": "stdout",
     "output_type": "stream",
     "text": [
      "mu_upper_bound:  171.23477731026023\n",
      "mu_lower_bound:  168.76522268973977\n"
     ]
    }
   ],
   "source": [
    "confidence_interval = 0.95\n",
    "\n",
    "sup_proba = (1 + confidence_interval)/2 # 95%\n",
    "inf_proba = (1 - confidence_interval)/2 # 5%\n",
    "\n",
    "# use the inverse of the cdf to find the heights associated with probabilities\n",
    "print('mu_upper_bound: ', mu_estim.ppf(sup_proba))\n",
    "print('mu_lower_bound: ', mu_estim.ppf(inf_proba))"
   ]
  },
  {
   "cell_type": "code",
   "execution_count": 4,
   "id": "5e0608d0",
   "metadata": {},
   "outputs": [
    {
     "data": {
      "text/plain": [
       "<scipy.stats._distn_infrastructure.rv_frozen at 0x7f613810b970>"
      ]
     },
     "execution_count": 4,
     "metadata": {},
     "output_type": "execute_result"
    }
   ],
   "source": [
    "mu_estim"
   ]
  },
  {
   "cell_type": "code",
   "execution_count": 5,
   "id": "b6504206",
   "metadata": {},
   "outputs": [
    {
     "data": {
      "text/plain": [
       "0.02275013194817921"
      ]
     },
     "execution_count": 5,
     "metadata": {},
     "output_type": "execute_result"
    }
   ],
   "source": [
    "from scipy.stats import norm\n",
    "X = norm(300, 50/(100**0.5))\n",
    "p_value = (1 - X.cdf(310)); p_value"
   ]
  },
  {
   "cell_type": "code",
   "execution_count": 6,
   "id": "035c2b2f",
   "metadata": {},
   "outputs": [
    {
     "data": {
      "text/plain": [
       "0.9772498680518208"
      ]
     },
     "execution_count": 6,
     "metadata": {},
     "output_type": "execute_result"
    }
   ],
   "source": [
    "X.cdf(310)"
   ]
  },
  {
   "cell_type": "code",
   "execution_count": null,
   "id": "3a7b45e2",
   "metadata": {},
   "outputs": [],
   "source": []
  },
  {
   "cell_type": "code",
   "execution_count": null,
   "id": "eb085b50",
   "metadata": {},
   "outputs": [],
   "source": []
  },
  {
   "cell_type": "code",
   "execution_count": null,
   "id": "cd02b05b",
   "metadata": {},
   "outputs": [],
   "source": []
  },
  {
   "cell_type": "code",
   "execution_count": null,
   "id": "16a5bdd9",
   "metadata": {},
   "outputs": [],
   "source": []
  }
 ],
 "metadata": {
  "kernelspec": {
   "display_name": "Python 3 (ipykernel)",
   "language": "python",
   "name": "python3"
  },
  "language_info": {
   "codemirror_mode": {
    "name": "ipython",
    "version": 3
   },
   "file_extension": ".py",
   "mimetype": "text/x-python",
   "name": "python",
   "nbconvert_exporter": "python",
   "pygments_lexer": "ipython3",
   "version": "3.8.6"
  },
  "toc": {
   "base_numbering": 1,
   "nav_menu": {},
   "number_sections": true,
   "sideBar": true,
   "skip_h1_title": false,
   "title_cell": "Table of Contents",
   "title_sidebar": "Contents",
   "toc_cell": false,
   "toc_position": {},
   "toc_section_display": true,
   "toc_window_display": false
  }
 },
 "nbformat": 4,
 "nbformat_minor": 5
}
