{
 "cells": [
  {
   "cell_type": "markdown",
   "metadata": {},
   "source": [
    "# Your First RNN\n",
    "\n",
    "**Exercise objectives**:\n",
    "\n",
    "- Better understand temporal data\n",
    "- Build your first Recurrent Neural Network\n",
    "\n",
    "\n",
    "<hr>\n",
    "<hr>"
   ]
  },
  {
   "cell_type": "markdown",
   "metadata": {},
   "source": [
    "## 1. The data\n",
    "\n",
    "Let's start with simple sequences of observations:"
   ]
  },
  {
   "cell_type": "code",
   "execution_count": 1,
   "metadata": {
    "ExecuteTime": {
     "end_time": "2021-04-30T12:39:41.941601Z",
     "start_time": "2021-04-30T12:39:36.582515Z"
    }
   },
   "outputs": [
    {
     "name": "stderr",
     "output_type": "stream",
     "text": [
      "2021-08-26 11:03:44.755313: W tensorflow/stream_executor/platform/default/dso_loader.cc:64] Could not load dynamic library 'libcudart.so.11.0'; dlerror: libcudart.so.11.0: cannot open shared object file: No such file or directory\n",
      "2021-08-26 11:03:44.755349: I tensorflow/stream_executor/cuda/cudart_stub.cc:29] Ignore above cudart dlerror if you do not have a GPU set up on your machine.\n"
     ]
    }
   ],
   "source": [
    "from tensorflow import keras\n",
    "import numpy as np"
   ]
  },
  {
   "cell_type": "code",
   "execution_count": 2,
   "metadata": {
    "ExecuteTime": {
     "end_time": "2021-04-30T12:39:41.954512Z",
     "start_time": "2021-04-30T12:39:41.943706Z"
    }
   },
   "outputs": [],
   "source": [
    "X = np.load('X.npy')\n",
    "y = np.load('y.npy')"
   ]
  },
  {
   "cell_type": "code",
   "execution_count": 3,
   "metadata": {
    "ExecuteTime": {
     "end_time": "2021-04-30T12:39:41.970258Z",
     "start_time": "2021-04-30T12:39:41.959458Z"
    }
   },
   "outputs": [
    {
     "name": "stdout",
     "output_type": "stream",
     "text": [
      "(25000, 10, 3)\n",
      "[[  0.803     10.728925 102.      ]\n",
      " [  0.5       10.728925 102.      ]\n",
      " [  0.603     10.728925 102.      ]\n",
      " [  0.711     10.728925 130.      ]\n",
      " [  0.937     10.728925 130.      ]\n",
      " [  1.051     10.728925 130.      ]\n",
      " [  1.118     32.       108.      ]\n",
      " [  4.87      32.       108.      ]\n",
      " [  4.973     33.       108.      ]\n",
      " [  5.199     39.       108.      ]]\n"
     ]
    }
   ],
   "source": [
    "print(X.shape)\n",
    "print(X[0])"
   ]
  },
  {
   "cell_type": "code",
   "execution_count": 4,
   "metadata": {
    "ExecuteTime": {
     "end_time": "2021-04-30T12:39:41.986499Z",
     "start_time": "2021-04-30T12:39:41.974653Z"
    }
   },
   "outputs": [
    {
     "name": "stdout",
     "output_type": "stream",
     "text": [
      "(25000,)\n",
      "6.499\n"
     ]
    }
   ],
   "source": [
    "print(y.shape)\n",
    "print(y[0])"
   ]
  },
  {
   "cell_type": "markdown",
   "metadata": {},
   "source": [
    "☝️ The data describes the evolution of the **employment status of a person, year after year**: each sequence corresponds to 10 consecutive years, where each year describes a job situation, comprising of 3 components\n",
    "- the salary,\n",
    "- the number of persons under one's responsability,\n",
    "- the size of the company. \n",
    "\n",
    "So, from this 25000 sequences, each of 10 consecutive observations, the goal is to predict the salary on the 11th year based on the past observations. "
   ]
  },
  {
   "cell_type": "markdown",
   "metadata": {},
   "source": [
    "❓ **Question** ❓ Take some sequences and plot the evolution of their salaries, of the persons under their responsibility and of the company sizes. You might see some correlation between the three variables."
   ]
  },
  {
   "cell_type": "code",
   "execution_count": 59,
   "metadata": {
    "ExecuteTime": {
     "end_time": "2021-04-30T12:39:43.191201Z",
     "start_time": "2021-04-30T12:39:41.990748Z"
    },
    "tags": [
     "challengify"
    ]
   },
   "outputs": [
    {
     "data": {
      "image/png": "[encoded data removed]",
      "text/plain": [
       "<Figure size 432x288 with 1 Axes>"
      ]
     },
     "metadata": {
      "needs_background": "light"
     },
     "output_type": "display_data"
    }
   ],
   "source": [
    "# YOUR CODE HERE\n",
    "import matplotlib.pyplot as plt\n",
    "#Green --->the size of the company\n",
    "#Blue  --->Salary\n",
    "#Orange--->persons under one's responsability\n",
    "\n",
    "#plt.plot(X[0]); # up under persona --->up salary\n",
    "#plt.plot(X[1]); # up under persona --->up salary\n",
    "#plt.plot(X[2]); # No idea\n",
    "#plt.plot(X[3]);  # No idea\n",
    "\n",
    "plt.plot(X[0][:,0]); # up under persona --->up salary"
   ]
  },
  {
   "cell_type": "markdown",
   "metadata": {},
   "source": [
    "❓ **Question** ❓ Plot the distribution of all the salaries, persons under one's responsibility, and company sizes to get a better understanding of the variability of observations"
   ]
  },
  {
   "cell_type": "code",
   "execution_count": 70,
   "metadata": {
    "ExecuteTime": {
     "end_time": "2021-04-30T12:39:47.464352Z",
     "start_time": "2021-04-30T12:39:43.195601Z"
    },
    "scrolled": false,
    "tags": [
     "challengify"
    ]
   },
   "outputs": [],
   "source": [
    "# YOUR CODE HERE\n",
    "\n",
    "h = np.mean(X[:,:,0], axis=1)"
   ]
  },
  {
   "cell_type": "code",
   "execution_count": 105,
   "metadata": {},
   "outputs": [
    {
     "data": {
      "image/png": "[encoded data removed]",
      "text/plain": [
       "<Figure size 432x288 with 1 Axes>"
      ]
     },
     "metadata": {
      "needs_background": "light"
     },
     "output_type": "display_data"
    }
   ],
   "source": [
    "plt.hist(x=h, bins=50, color='#0504aa',\n",
    "                            alpha=0.7);"
   ]
  },
  {
   "cell_type": "code",
   "execution_count": null,
   "metadata": {},
   "outputs": [],
   "source": []
  },
  {
   "cell_type": "markdown",
   "metadata": {},
   "source": [
    "❓ **Question** ❓  Split your dataset between a train and test set (20/80%)"
   ]
  },
  {
   "cell_type": "code",
   "execution_count": 77,
   "metadata": {
    "ExecuteTime": {
     "end_time": "2021-04-30T12:39:48.590677Z",
     "start_time": "2021-04-30T12:39:47.469185Z"
    },
    "tags": [
     "challengify"
    ]
   },
   "outputs": [],
   "source": [
    "# YOUR CODE HERE\n",
    "\n",
    "from sklearn.model_selection import train_test_split\n",
    "X_train, X_test, y_train, y_test = train_test_split(X, y, test_size = 0.2)"
   ]
  },
  {
   "cell_type": "code",
   "execution_count": 79,
   "metadata": {},
   "outputs": [
    {
     "name": "stdout",
     "output_type": "stream",
     "text": [
      "(20000, 10, 3) (25000, 10, 3)\n"
     ]
    }
   ],
   "source": [
    "print(X_train.shape, X.shape)"
   ]
  },
  {
   "cell_type": "markdown",
   "metadata": {},
   "source": [
    "# 2. A Simple RNN\n",
    "\n",
    "Now, you will create your first Recurrent Neural Network. Let's start simple\n",
    "\n",
    "❓ **Question** ❓ Write a model that has: \n",
    "- a `Normalization` layer adapted on the training set\n",
    "- a `SimpleRNN` layer with 20 `units` - don't forget to choose the `tanh` activation function\n",
    "- a Dense layer with 10 neurons\n",
    "- a last Dense layer specific to your task (predict a salary)\n",
    "\n",
    "Remember, you don't need to specify an `input_shape`: as soon as your normalizer has been adapted to your train set, it has memorized it."
   ]
  },
  {
   "cell_type": "code",
   "execution_count": null,
   "metadata": {},
   "outputs": [],
   "source": [
    "\n",
    "\n"
   ]
  },
  {
   "cell_type": "code",
   "execution_count": 100,
   "metadata": {
    "ExecuteTime": {
     "end_time": "2021-04-30T12:39:48.633126Z",
     "start_time": "2021-04-30T12:39:48.592889Z"
    }
   },
   "outputs": [
    {
     "data": {
      "text/plain": [
       "array([[ 5.280859 ],\n",
       "       [25.314089 ],\n",
       "       [ 6.8137693],\n",
       "       ...,\n",
       "       [ 1.613144 ],\n",
       "       [ 3.1912878],\n",
       "       [10.909023 ]], dtype=float32)"
      ]
     },
     "execution_count": 100,
     "metadata": {},
     "output_type": "execute_result"
    }
   ],
   "source": [
    "from tensorflow.keras.layers.experimental.preprocessing import Normalization\n",
    "from keras.models import Sequential\n",
    "from keras.layers import Dense, SimpleRNN, Flatten\n",
    "from tensorflow.keras import layers\n",
    "\n",
    "normalizer = Normalization() # Instantiate a \"normalizer\" layer\n",
    "normalizer.adapt(X_train) # \"Fit\" it on the train set\n",
    "\n",
    "model = Sequential()\n",
    "model.add(normalizer)\n",
    "#a SimpleRNN layer with 20 units - don't forget to choose the tanh activation function\n",
    "model.add(layers.SimpleRNN(units=20, activation='tanh'))\n",
    "#a Dense layer with 10 neurons\n",
    "model.add(layers.Dense(10, activation=\"relu\"))\n",
    "\n",
    "#a last Dense layer specific to your task (predict a salary)\n",
    "model.add(layers.Dense(1, activation=\"linear\"))\n",
    "\n",
    "# The compilation\n",
    "model.compile(loss='mse', \n",
    "              optimizer='rmsprop')  # Recommanded optimizer for RNN\n",
    "# The fit\n",
    "model.fit(X_train, y_train,\n",
    "          validation_split=0.2,\n",
    "          batch_size=16,\n",
    "          epochs=10, verbose=0)\n",
    "\n",
    "# The prediction (one per sequence/city)\n",
    "model.predict(X_test)"
   ]
  },
  {
   "cell_type": "code",
   "execution_count": 101,
   "metadata": {},
   "outputs": [
    {
     "name": "stdout",
     "output_type": "stream",
     "text": [
      "Model: \"sequential_14\"\n",
      "_________________________________________________________________\n",
      "Layer (type)                 Output Shape              Param #   \n",
      "=================================================================\n",
      "module_wrapper_48 (ModuleWra (None, 10, 3)             7         \n",
      "_________________________________________________________________\n",
      "module_wrapper_49 (ModuleWra (None, 20)                480       \n",
      "_________________________________________________________________\n",
      "module_wrapper_50 (ModuleWra (None, 10)                210       \n",
      "_________________________________________________________________\n",
      "module_wrapper_51 (ModuleWra (None, 1)                 11        \n",
      "=================================================================\n",
      "Total params: 708\n",
      "Trainable params: 701\n",
      "Non-trainable params: 7\n",
      "_________________________________________________________________\n"
     ]
    }
   ],
   "source": [
    "model.summary()"
   ]
  },
  {
   "cell_type": "markdown",
   "metadata": {},
   "source": [
    "❓ **Question** ❓ Compute the number of trainable parameters of your model using `model.summary`. \n",
    "\n",
    "Then, try to recompute them by hand\n",
    "\n",
    "💡 Hints: \n",
    "- Your `normalization` layer has 7 non-trainable params, which comprise of the mean and standard deviation of each 3 features (salary, persons under responsibility, company size) plus one bias set to 0\n",
    "\n",
    "- If $\\color{green}{n_h}$ RNN units are applied in parallel to $\\color{red}{n_x}$ features, the layer has $\\color{green}{n_h}(\\color{green}{n_h} + \\color{red}{n_x} + 1)$ parameters to train. Notice how this number is *independent* of the length of each sequences (here 10 days)\n"
   ]
  },
  {
   "cell_type": "code",
   "execution_count": 11,
   "metadata": {
    "ExecuteTime": {
     "end_time": "2021-04-30T12:39:48.877157Z",
     "start_time": "2021-04-30T12:39:48.869470Z"
    }
   },
   "outputs": [],
   "source": [
    "# YOUR CODE HERE\n"
   ]
  },
  {
   "cell_type": "markdown",
   "metadata": {},
   "source": [
    "❓ **Question** ❓ Compile your model. Remember to first use the `rmsprop` optimizer (instead of Adam)."
   ]
  },
  {
   "cell_type": "code",
   "execution_count": 13,
   "metadata": {
    "ExecuteTime": {
     "end_time": "2021-04-30T12:39:48.928289Z",
     "start_time": "2021-04-30T12:39:48.897559Z"
    },
    "tags": [
     "challengify"
    ]
   },
   "outputs": [],
   "source": [
    "# YOUR CODE HERE\n",
    "\n",
    "# The compilation\n",
    "model.compile(loss='mse', \n",
    "              optimizer='rmsprop')  # Recommanded optimizer for RNN\n"
   ]
  },
  {
   "cell_type": "markdown",
   "metadata": {},
   "source": [
    "❓ **Question** ❓ Run your model on your data. Use a validation split of 20% and an early stopping criterion (patience=5). Evaluate your performance on the test set"
   ]
  },
  {
   "cell_type": "code",
   "execution_count": 14,
   "metadata": {
    "ExecuteTime": {
     "end_time": "2021-04-30T12:39:48.938000Z",
     "start_time": "2021-04-30T12:39:48.931963Z"
    }
   },
   "outputs": [],
   "source": [
    "# YOUR CODE HERE\n",
    "# The fit\n",
    "model.fit(X_train, y_train,\n",
    "          validation_split=0.2,\n",
    "          batch_size=16,\n",
    "          epochs=10, verbose=0)\n",
    "\n",
    "# The prediction (one per sequence/city)\n",
    "model.predict(X_test)"
   ]
  },
  {
   "cell_type": "code",
   "execution_count": 102,
   "metadata": {},
   "outputs": [
    {
     "name": "stdout",
     "output_type": "stream",
     "text": [
      "157/157 [==============================] - 0s 2ms/step - loss: 0.6294\n"
     ]
    },
    {
     "data": {
      "text/plain": [
       "0.6294389367103577"
      ]
     },
     "execution_count": 102,
     "metadata": {},
     "output_type": "execute_result"
    }
   ],
   "source": [
    "model.evaluate(X_test, y_test)"
   ]
  },
  {
   "cell_type": "markdown",
   "metadata": {},
   "source": [
    "# Baseline comparison?\n",
    "\n",
    "\n",
    "In the case of a usual regression model, a baseline prediction for `y_test` could be to predict the average of `y_train`.\n",
    "\n",
    "With temporal data, it often happens that you try to predict a value that you have already seen in the past: here, the salary. In that case, a baseline model could be to predict for instance that the 11-th salary is equal to the 10-th salary.\n",
    "\n",
    "❓ **Question** ❓ Compute the Mean Absolute Error of a model that would predict that the salary remains constant between the 10-th and 11-th year and compare it to your RNN."
   ]
  },
  {
   "cell_type": "code",
   "execution_count": 18,
   "metadata": {
    "ExecuteTime": {
     "end_time": "2021-04-30T12:40:12.550146Z",
     "start_time": "2021-04-30T12:40:12.521350Z"
    },
    "tags": [
     "challengify"
    ]
   },
   "outputs": [],
   "source": [
    "# YOUR CODE HERE"
   ]
  },
  {
   "cell_type": "markdown",
   "metadata": {},
   "source": [
    "You have probably seen that your prediction is a little bit better than the baseline model\n",
    "\n",
    "# LSTM\n",
    "\n",
    "❓ **Question** ❓ Write the exact same model, but with a `LSTM` instead of a `SimpleRNN` and evaluate your performance on the test set"
   ]
  },
  {
   "cell_type": "code",
   "execution_count": 104,
   "metadata": {
    "ExecuteTime": {
     "end_time": "2021-04-30T12:40:12.560395Z",
     "start_time": "2021-04-30T12:40:12.556367Z"
    }
   },
   "outputs": [
    {
     "name": "stdout",
     "output_type": "stream",
     "text": [
      "157/157 [==============================] - 1s 2ms/step - loss: 0.5544\n"
     ]
    },
    {
     "data": {
      "text/plain": [
       "0.5544307231903076"
      ]
     },
     "execution_count": 104,
     "metadata": {},
     "output_type": "execute_result"
    }
   ],
   "source": [
    "### YOUR CODE HERE\n",
    "\n",
    "from tensorflow.keras.layers import LSTM\n",
    "from tensorflow.keras.layers.experimental.preprocessing import Normalization\n",
    "from keras.models import Sequential\n",
    "from keras.layers import Dense, SimpleRNN, Flatten\n",
    "from tensorflow.keras import layers\n",
    "\n",
    "normalizer = Normalization() # Instantiate a \"normalizer\" layer\n",
    "normalizer.adapt(X_train) # \"Fit\" it on the train set\n",
    "\n",
    "model = Sequential()\n",
    "model.add(normalizer)\n",
    "#a SimpleRNN layer with 20 units - don't forget to choose the tanh activation function\n",
    "model.add(layers.LSTM(units=20, activation='tanh'))\n",
    "#a Dense layer with 10 neurons\n",
    "model.add(layers.Dense(10, activation=\"relu\"))\n",
    "\n",
    "#a last Dense layer specific to your task (predict a salary)\n",
    "model.add(layers.Dense(1, activation=\"linear\"))\n",
    "\n",
    "# The compilation\n",
    "model.compile(loss='mse', \n",
    "              optimizer='rmsprop')  # Recommanded optimizer for RNN\n",
    "# The fit\n",
    "model.fit(X_train, y_train,\n",
    "          validation_split=0.2,\n",
    "          batch_size=16,\n",
    "          epochs=10, verbose=0)\n",
    "\n",
    "model.evaluate(X_test, y_test)"
   ]
  },
  {
   "cell_type": "markdown",
   "metadata": {},
   "source": [
    "## 🏁 Congratulation\n",
    "\n",
    "You now know how to run RNN on sequence data!\n",
    "\n",
    "Note: The sequences you worked with are totally fake. In case you need to train and reproduce similar data, you can find bellow the functions that have been used to simulate this data."
   ]
  },
  {
   "cell_type": "markdown",
   "metadata": {},
   "source": [
    "# Utils (for reference only)"
   ]
  },
  {
   "cell_type": "code",
   "execution_count": 23,
   "metadata": {
    "ExecuteTime": {
     "end_time": "2021-04-30T12:40:46.261353Z",
     "start_time": "2021-04-30T12:40:46.249674Z"
    }
   },
   "outputs": [],
   "source": [
    "def create_sequences(number):\n",
    "    X, y = [], []\n",
    "    \n",
    "    for i in range(number):\n",
    "        x_i, y_i = create_individual_sequence(10)\n",
    "        X.append(x_i)\n",
    "        y.append(y_i)\n",
    "        \n",
    "    return np.array(X), np.array(y)\n",
    "            \n",
    "def create_individual_sequence(length):\n",
    "    company_sizes = []\n",
    "    nb_persons = []\n",
    "    salaries = []\n",
    "    \n",
    "    \n",
    "    # Education level\n",
    "    educ_level = [max(0, int(np.random.normal(10, 2)))]*length\n",
    "    \n",
    "    # Company size\n",
    "    current_size = int(1 + np.random.beta(.4, 4)*500)\n",
    "    for i in range(length):\n",
    "        if not np.random.randint(4): # Change 1 out of 3 possibilities \n",
    "            current_size = int(max(1, np.random.normal(current_size, 50)))\n",
    "        company_sizes.append(current_size)\n",
    "    \n",
    "    # Number of persons\n",
    "    nb_iter = np.random.beta(.15, 4)*300\n",
    "    for i in range(length):\n",
    "        if not np.random.randint(2): # Change 1 out of 2 possibilities\n",
    "            R_1 = np.random.beta(0.5, 8)*3\n",
    "            nb_iter = nb_iter + max(-2, R_1*company_sizes[i] + np.random.randint(-2, 2))\n",
    "            nb_iter = max(0, nb_iter)\n",
    "            nb_iter = int(min(company_sizes[i]-1, nb_iter))\n",
    "        nb_persons.append(nb_iter)\n",
    "        \n",
    "    \n",
    "    # Salary\n",
    "    salary_iter = max(800, int(np.random.normal(1200, 300)+ 0.05*company_sizes[0] +  np.random.normal(40, 400)))\n",
    "    salaries.append(salary_iter)\n",
    "    for i in range(1, length + 1):\n",
    "        R_1 = np.random.normal(100, 50)\n",
    "        change_person = nb_persons[i-1] - nb_persons[i-2]\n",
    "        change_company = max(0, company_sizes[i-1] - company_sizes[i-2])\n",
    "        salary_iter = salary_iter + 0.05*change_company + change_person*R_1 + np.random.normal(100, 50)\n",
    "        salary_iter = max(int(salary_iter), 500)\n",
    "        \n",
    "        salaries.append(salary_iter)\n",
    "\n",
    "    y = salaries[-1]/1000\n",
    "    salaries = [_/1000 for _ in salaries[:-1]]\n",
    "    \n",
    "    return np.array([salaries, nb_persons, company_sizes]).T, y"
   ]
  },
  {
   "cell_type": "code",
   "execution_count": 24,
   "metadata": {
    "ExecuteTime": {
     "end_time": "2021-04-30T12:40:46.265464Z",
     "start_time": "2021-04-30T12:40:46.263504Z"
    }
   },
   "outputs": [],
   "source": [
    "#X, y = create_sequences(25000)\n",
    "\n",
    "#np.save('X', X.astype(np.float32))\n",
    "#np.save('y', y)"
   ]
  }
 ],
 "metadata": {
  "kernelspec": {
   "display_name": "Python 3 (ipykernel)",
   "language": "python",
   "name": "python3"
  },
  "language_info": {
   "codemirror_mode": {
    "name": "ipython",
    "version": 3
   },
   "file_extension": ".py",
   "mimetype": "text/x-python",
   "name": "python",
   "nbconvert_exporter": "python",
   "pygments_lexer": "ipython3",
   "version": "3.8.6"
  },
  "toc": {
   "base_numbering": 1,
   "nav_menu": {},
   "number_sections": false,
   "sideBar": true,
   "skip_h1_title": false,
   "title_cell": "Table of Contents",
   "title_sidebar": "Contents",
   "toc_cell": false,
   "toc_position": {},
   "toc_section_display": true,
   "toc_window_display": true
  },
  "varInspector": {
   "cols": {
    "lenName": 16,
    "lenType": 16,
    "lenVar": 40
   },
   "kernels_config": {
    "python": {
     "delete_cmd_postfix": "",
     "delete_cmd_prefix": "del ",
     "library": "var_list.py",
     "varRefreshCmd": "print(var_dic_list())"
    },
    "r": {
     "delete_cmd_postfix": ") ",
     "delete_cmd_prefix": "rm(",
     "library": "var_list.r",
     "varRefreshCmd": "cat(var_dic_list()) "
    }
   },
   "types_to_exclude": [
    "module",
    "function",
    "builtin_function_or_method",
    "instance",
    "_Feature"
   ],
   "window_display": false
  }
 },
 "nbformat": 4,
 "nbformat_minor": 2
}
