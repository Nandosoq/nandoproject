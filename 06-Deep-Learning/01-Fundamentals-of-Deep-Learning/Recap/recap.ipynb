{
 "cells": [
  {
   "cell_type": "markdown",
   "metadata": {},
   "source": [
    "# RECAP\n",
    "- Intro: How to read the doc\n",
    "- Part 1: Tensorflow de-mystified (👨🏻‍🏫 Teacher's lead)\n",
    "- Part 2: Boston Housing Challenge (👩‍🎓 Students' lead)"
   ]
  },
  {
   "cell_type": "markdown",
   "metadata": {},
   "source": [
    "# Intro: How to read the doc?"
   ]
  },
  {
   "cell_type": "markdown",
   "metadata": {
    "ExecuteTime": {
     "end_time": "2021-04-22T06:34:30.215927Z",
     "start_time": "2021-04-22T06:34:30.199591Z"
    }
   },
   "source": [
    "✅ [Tensorflow.org](https://www.tensorflow.org/overview) provides you with two main pages to refer to:\n",
    "- [Tutorial](https://www.tensorflow.org/tutorials)\n",
    "- [Guide](https://www.tensorflow.org/guide)\n",
    "- **These should be your go-to pages**. You can even run `Colab-Notebooks` of these tutorials\n",
    "\n",
    "&nbsp;\n",
    "\n",
    "👉 TensorFlow [API docs](https://www.tensorflow.org/api_docs/python/tf/) is more austere, and contains advanced notions\n",
    "- It pops up in Google Search in priority\n",
    "- [Sometimes](https://www.tensorflow.org/api_docs/python/tf/keras/Sequential), it can give you references to related Tutorials or Guides\n",
    "- **Use it as single source of truth**\n",
    "\n",
    "&nbsp;\n",
    "\n",
    "👉 [Keras.io](https://keras.io/about/) is somehow redundant with the TensorFlow documentations\n",
    "- It contains nice tutorials and examples but...\n",
    "- ...use it only you don't find what you need on `Tensorflow.Keras`'s website\n",
    "- **Don't use if for the docs**"
   ]
  },
  {
   "cell_type": "markdown",
   "metadata": {},
   "source": [
    "# Part I. Tensorflow demystified \n",
    "🧑🏻‍🏫 Teacher's lead"
   ]
  },
  {
   "cell_type": "markdown",
   "metadata": {},
   "source": [
    "👉 Goal: Using Tensorflow, create a dummy dataset and fit a dummy model with it"
   ]
  },
  {
   "cell_type": "markdown",
   "metadata": {},
   "source": [
    "### 1. Tensors?\n",
    "📚 [Online Guide](https://www.tensorflow.org/guide/tensor)"
   ]
  },
  {
   "cell_type": "code",
   "execution_count": 2,
   "metadata": {
    "ExecuteTime": {
     "end_time": "2021-04-21T09:18:29.183974Z",
     "start_time": "2021-04-21T09:18:23.918759Z"
    }
   },
   "outputs": [],
   "source": [
    "# It's OK to import everything for a notebook experimentation!\n",
    "import tensorflow as tf\n",
    "from tensorflow import keras\n",
    "import numpy as np"
   ]
  },
  {
   "cell_type": "code",
   "execution_count": 46,
   "metadata": {
    "ExecuteTime": {
     "end_time": "2021-04-21T09:18:29.202646Z",
     "start_time": "2021-04-21T09:18:29.187449Z"
    }
   },
   "outputs": [],
   "source": [
    "# Tensors are wrappers around numpy objects\n",
    "\n",
    "X = tf.constant([[1., 1., 1.],\n",
    "                 [1., 1., 1.],\n",
    "                 [1., 1., 1.]])\n",
    "X"
   ]
  },
  {
   "cell_type": "code",
   "execution_count": 47,
   "metadata": {
    "ExecuteTime": {
     "end_time": "2021-04-21T09:18:29.211898Z",
     "start_time": "2021-04-21T09:18:29.205477Z"
    }
   },
   "outputs": [],
   "source": [
    "tf.ones((3,3))"
   ]
  },
  {
   "cell_type": "code",
   "execution_count": 48,
   "metadata": {
    "ExecuteTime": {
     "end_time": "2021-04-21T09:18:29.217681Z",
     "start_time": "2021-04-21T09:18:29.213734Z"
    }
   },
   "outputs": [],
   "source": [
    "x = X.numpy()\n",
    "x"
   ]
  },
  {
   "cell_type": "code",
   "execution_count": 49,
   "metadata": {
    "ExecuteTime": {
     "end_time": "2021-04-21T09:18:29.222932Z",
     "start_time": "2021-04-21T09:18:29.219502Z"
    }
   },
   "outputs": [],
   "source": [
    "# Tensors have a shape\n",
    "X.shape"
   ]
  },
  {
   "cell_type": "code",
   "execution_count": 10,
   "metadata": {
    "ExecuteTime": {
     "end_time": "2021-04-21T09:18:29.229211Z",
     "start_time": "2021-04-21T09:18:29.225003Z"
    }
   },
   "outputs": [],
   "source": [
    "# Tensors can be initialized from Numpy objects\n",
    "tf.constant(x)"
   ]
  },
  {
   "cell_type": "code",
   "execution_count": 11,
   "metadata": {
    "ExecuteTime": {
     "end_time": "2021-04-21T09:18:29.236994Z",
     "start_time": "2021-04-21T09:18:29.232856Z"
    }
   },
   "outputs": [],
   "source": [
    "# They can be manipulated with syntax that is similar to Numpy\n",
    "tf.add(X,X)"
   ]
  },
  {
   "cell_type": "code",
   "execution_count": 12,
   "metadata": {
    "ExecuteTime": {
     "end_time": "2021-04-21T09:18:29.244359Z",
     "start_time": "2021-04-21T09:18:29.240541Z"
    }
   },
   "outputs": [],
   "source": [
    "# Conversely, Numpy also accept Tensor elements!\n",
    "np.add(X,X)"
   ]
  },
  {
   "cell_type": "code",
   "execution_count": 13,
   "metadata": {
    "ExecuteTime": {
     "end_time": "2021-04-21T09:18:29.256848Z",
     "start_time": "2021-04-21T09:18:29.246432Z"
    }
   },
   "outputs": [],
   "source": [
    "# Example of a custom MSE loss function using Tensors\n",
    "\n",
    "def loss(y_true, y_pred):\n",
    "    err = y_true - y_pred\n",
    "    return tf.reduce_mean(tf.square(err))\n",
    "\n",
    "y_true = tf.ones((10,3))\n",
    "y_pred = tf.ones((10,3)) + 0.1 * tf.random.normal((10,3))\n",
    "\n",
    "loss(y_true, y_pred)"
   ]
  },
  {
   "cell_type": "markdown",
   "metadata": {},
   "source": [
    "#### Other Tensors?"
   ]
  },
  {
   "cell_type": "markdown",
   "metadata": {},
   "source": [
    "**Sparse Tensors**\n",
    "<img src=\"https://github.com/lewagon/data-images/blob/master/DL/sparse_tensors.png?raw=true\">"
   ]
  },
  {
   "cell_type": "code",
   "execution_count": 15,
   "metadata": {
    "ExecuteTime": {
     "end_time": "2021-04-21T09:18:29.266492Z",
     "start_time": "2021-04-21T09:18:29.259899Z"
    }
   },
   "outputs": [],
   "source": [
    "sparse_tensor = tf.sparse.SparseTensor(indices=[[0, 0], [1, 2]],\n",
    "                                       values=[1, 2],\n",
    "                                       dense_shape=[3, 4])\n",
    "sparse_tensor.shape"
   ]
  },
  {
   "cell_type": "markdown",
   "metadata": {},
   "source": [
    "**Ragged Tensors**\n",
    "<img src=\"https://raw.githubusercontent.com/lewagon/data-images/master/DL/ragged_tensors.png\">"
   ]
  },
  {
   "cell_type": "code",
   "execution_count": 16,
   "metadata": {
    "ExecuteTime": {
     "end_time": "2021-04-21T09:18:29.275331Z",
     "start_time": "2021-04-21T09:18:29.269740Z"
    }
   },
   "outputs": [],
   "source": [
    "ragged_list = [\n",
    "    [0, 1, 2, 3],\n",
    "    [4, 5],\n",
    "    [6, 7, 8],\n",
    "    [9]]\n",
    "\n",
    "ragged_tensor = tf.ragged.constant(ragged_list)\n",
    "ragged_tensor.shape"
   ]
  },
  {
   "cell_type": "markdown",
   "metadata": {},
   "source": [
    "### 2. Build a neural network with `Sequential API`"
   ]
  },
  {
   "cell_type": "markdown",
   "metadata": {},
   "source": [
    "👉 Let's generate 10 random observations `X` of 3 features each, and a unidimensional target `y` "
   ]
  },
  {
   "cell_type": "code",
   "execution_count": 17,
   "metadata": {
    "ExecuteTime": {
     "end_time": "2021-04-21T09:18:29.303054Z",
     "start_time": "2021-04-21T09:18:29.299909Z"
    }
   },
   "outputs": [],
   "source": [
    "# Let's generate 100 observations of with 10 features for each of them\n",
    "X = tf.random.uniform((100,10))"
   ]
  },
  {
   "cell_type": "code",
   "execution_count": 18,
   "metadata": {
    "ExecuteTime": {
     "end_time": "2021-04-21T09:18:29.308680Z",
     "start_time": "2021-04-21T09:18:29.304799Z"
    }
   },
   "outputs": [],
   "source": [
    "# And create our dummy target as simply the mean of each observation\n",
    "y = tf.reduce_mean(X, axis=1)\n",
    "y.shape"
   ]
  },
  {
   "cell_type": "markdown",
   "metadata": {},
   "source": [
    "👉 Let's build a simple dense model that \"works\""
   ]
  },
  {
   "cell_type": "code",
   "execution_count": 19,
   "metadata": {
    "ExecuteTime": {
     "end_time": "2021-04-21T09:18:29.312361Z",
     "start_time": "2021-04-21T09:18:29.310336Z"
    }
   },
   "outputs": [],
   "source": [
    "from tensorflow.keras import Sequential, layers"
   ]
  },
  {
   "cell_type": "code",
   "execution_count": 20,
   "metadata": {
    "ExecuteTime": {
     "end_time": "2021-04-21T09:18:29.343429Z",
     "start_time": "2021-04-21T09:18:29.314371Z"
    },
    "scrolled": true
   },
   "outputs": [],
   "source": [
    "# Usual syntax\n",
    "\n",
    "model = Sequential()\n",
    "model.add(layers.Dense(30, input_dim=10, activation='relu'))\n",
    "#model.add(layers.Dense(30, input_shape=(10,), activation='relu'))\n",
    "model.add(layers.Dense(1))\n",
    "model.summary()"
   ]
  },
  {
   "cell_type": "code",
   "execution_count": 21,
   "metadata": {
    "ExecuteTime": {
     "end_time": "2021-04-21T09:18:29.371262Z",
     "start_time": "2021-04-21T09:18:29.346191Z"
    }
   },
   "outputs": [],
   "source": [
    "# Equivalent\n",
    "model = Sequential([\n",
    "    layers.Dense(30, input_shape=(10, ), activation='relu'),\n",
    "    layers.Dense(1),\n",
    "])\n",
    "model.summary()"
   ]
  },
  {
   "cell_type": "code",
   "execution_count": 22,
   "metadata": {
    "ExecuteTime": {
     "end_time": "2021-04-21T09:18:29.380221Z",
     "start_time": "2021-04-21T09:18:29.373633Z"
    }
   },
   "outputs": [],
   "source": [
    "# What if we don't specify input_dim ?\n",
    "model = Sequential()\n",
    "model.add(layers.Dense(30, activation='relu'))\n",
    "model.add(layers.Dense(1))"
   ]
  },
  {
   "cell_type": "code",
   "execution_count": 23,
   "metadata": {
    "ExecuteTime": {
     "end_time": "2021-04-21T09:18:29.384737Z",
     "start_time": "2021-04-21T09:18:29.381759Z"
    },
    "scrolled": true
   },
   "outputs": [],
   "source": [
    "try:\n",
    "    model.summary()\n",
    "    \n",
    "except ValueError as e:\n",
    "    print(e)"
   ]
  },
  {
   "cell_type": "code",
   "execution_count": 24,
   "metadata": {
    "ExecuteTime": {
     "end_time": "2021-04-21T09:18:29.396544Z",
     "start_time": "2021-04-21T09:18:29.393115Z"
    }
   },
   "outputs": [],
   "source": [
    "# One can still access all the layers individually\n",
    "model.layers"
   ]
  },
  {
   "cell_type": "code",
   "execution_count": 25,
   "metadata": {
    "ExecuteTime": {
     "end_time": "2021-04-21T09:18:29.436625Z",
     "start_time": "2021-04-21T09:18:29.400198Z"
    },
    "scrolled": true
   },
   "outputs": [],
   "source": [
    "# And call the layer with a \"tensor\" as input\n",
    "x1 = model.layers[0](X)\n",
    "\n",
    "# x1 is our activation from layer 1, with random (initial) weights\n",
    "x1.shape"
   ]
  },
  {
   "cell_type": "code",
   "execution_count": 26,
   "metadata": {
    "ExecuteTime": {
     "end_time": "2021-04-21T09:18:29.444361Z",
     "start_time": "2021-04-21T09:18:29.438518Z"
    },
    "scrolled": true
   },
   "outputs": [],
   "source": [
    "# x2 is our output\n",
    "x2 = model.layers[1](x1)\n",
    "x2.shape"
   ]
  },
  {
   "cell_type": "markdown",
   "metadata": {},
   "source": [
    "### 3 Keras Input layer"
   ]
  },
  {
   "cell_type": "markdown",
   "metadata": {},
   "source": [
    "You will often encounter this in the docs:\n",
    "```python\n",
    "keras.Input(shape=(10,))\n",
    "```\n",
    "Instead of passing 100 **real** observations to your layers, simply pass a `keras.Input` of `None` observations of similar shape (10,).  \n",
    "\n",
    "It is used for computation optimization purposes (memory pre-allocation and network graphs for parallelization) "
   ]
  },
  {
   "cell_type": "code",
   "execution_count": 27,
   "metadata": {
    "ExecuteTime": {
     "end_time": "2021-04-21T09:18:29.449849Z",
     "start_time": "2021-04-21T09:18:29.445981Z"
    }
   },
   "outputs": [],
   "source": [
    "inputs = keras.Input(shape=(10,))\n",
    "inputs"
   ]
  },
  {
   "cell_type": "code",
   "execution_count": 28,
   "metadata": {
    "ExecuteTime": {
     "end_time": "2021-04-21T09:18:29.460365Z",
     "start_time": "2021-04-21T09:18:29.451713Z"
    }
   },
   "outputs": [],
   "source": [
    "model.layers[0](inputs)"
   ]
  },
  {
   "cell_type": "code",
   "execution_count": 29,
   "metadata": {
    "ExecuteTime": {
     "end_time": "2021-04-21T09:18:29.495312Z",
     "start_time": "2021-04-21T09:18:29.462803Z"
    }
   },
   "outputs": [],
   "source": [
    "x = model.layers[0](inputs) # Input layer\n",
    "x = layers.Dense(30, activation='relu')(inputs) # First layer output\n",
    "x = layers.Dense(20, activation='relu')(x) # Second layer output\n",
    "x = layers.Dense(10, activation='relu')(x) # Third layer output\n",
    "outputs = layers.Dense(1)(x)               # Final layer output\n",
    "\n",
    "outputs.shape"
   ]
  },
  {
   "cell_type": "code",
   "execution_count": 28,
   "metadata": {
    "ExecuteTime": {
     "end_time": "2021-04-21T09:18:29.504823Z",
     "start_time": "2021-04-21T09:18:29.497600Z"
    }
   },
   "outputs": [],
   "source": [
    "# Keras allows you to build a model from an input and output layer\n",
    "model = keras.Model(inputs, outputs)\n",
    "model.summary()"
   ]
  },
  {
   "cell_type": "markdown",
   "metadata": {},
   "source": [
    "☝️ This way of building models is called Keras [Functional API](https://www.tensorflow.org/guide/keras/functional)\n",
    "- as opposed to [Sequential API](https://www.tensorflow.org/api_docs/python/tf/keras/Sequential): `model.add(...)`\n",
    "- It is mandatory for complex (non-sequential) architecture...\n",
    "- Used everywhere in the doc"
   ]
  },
  {
   "cell_type": "markdown",
   "metadata": {},
   "source": [
    "# Part II. Boston Housing Challenge \n",
    "(👩‍🎓Students' lead)"
   ]
  },
  {
   "cell_type": "markdown",
   "metadata": {},
   "source": [
    "### Data\n",
    "\n",
    "`Tensorflow.Keras` provides `Toy Datasets` that can be found <a href=\"https://www.tensorflow.org/api_docs/python/tf/keras/datasets\">here</a>\n",
    "\n",
    "Let's load the **`Boston Housing`** dataset."
   ]
  },
  {
   "cell_type": "code",
   "execution_count": 18,
   "metadata": {
    "ExecuteTime": {
     "end_time": "2021-04-21T09:18:29.516257Z",
     "start_time": "2021-04-21T09:18:29.506695Z"
    },
    "scrolled": true
   },
   "outputs": [
    {
     "data": {
      "text/plain": [
       "(404, 13)"
      ]
     },
     "execution_count": 18,
     "metadata": {},
     "output_type": "execute_result"
    }
   ],
   "source": [
    "from tensorflow.keras import datasets\n",
    "\n",
    "(X_train, y_train), (X_test, y_test) = datasets.boston_housing.load_data()\n",
    "\n",
    "X_train.shape"
   ]
  },
  {
   "cell_type": "markdown",
   "metadata": {},
   "source": [
    "❓ Normalize your data (by the mean of the train set for instance)"
   ]
  },
  {
   "cell_type": "code",
   "execution_count": 19,
   "metadata": {
    "ExecuteTime": {
     "end_time": "2021-04-21T09:18:29.520841Z",
     "start_time": "2021-04-21T09:18:29.518035Z"
    },
    "tags": [
     "challengify"
    ]
   },
   "outputs": [],
   "source": [
    "# YOUR CODE HERE\n",
    "\n",
    "X_test = X_test/X_train.mean(axis=0)\n",
    "X_train = X_train/X_train.mean(axis=0)"
   ]
  },
  {
   "cell_type": "markdown",
   "metadata": {},
   "source": [
    "### Declare the general architecture of your model\n",
    "\n",
    "❓ Import Keras and declare a Sequential model"
   ]
  },
  {
   "cell_type": "code",
   "execution_count": 20,
   "metadata": {
    "ExecuteTime": {
     "end_time": "2021-04-21T09:18:29.527375Z",
     "start_time": "2021-04-21T09:18:29.522440Z"
    },
    "tags": [
     "challengify"
    ]
   },
   "outputs": [],
   "source": [
    "# YOUR CODE HERE\n",
    "\n",
    "from tensorflow.keras.models import Sequential\n",
    "\n",
    "# Model definition\n",
    "model = Sequential()"
   ]
  },
  {
   "cell_type": "markdown",
   "metadata": {},
   "source": [
    "❓ Add a Dense layer with 50 neurons and the `relu` activation function. Do not forget to specify your `input_dim` for the first layer."
   ]
  },
  {
   "cell_type": "code",
   "execution_count": 21,
   "metadata": {
    "ExecuteTime": {
     "end_time": "2021-04-21T09:18:29.538732Z",
     "start_time": "2021-04-21T09:18:29.529004Z"
    },
    "tags": [
     "challengify"
    ]
   },
   "outputs": [],
   "source": [
    "# YOUR CODE HERE\n",
    "\n",
    "from tensorflow.keras import layers\n",
    "model.add(layers.Dense(50, activation='relu', input_dim=13))"
   ]
  },
  {
   "cell_type": "markdown",
   "metadata": {},
   "source": [
    "❓ Add a second fully connected layer, with 20 neurons and the `relu` activation function."
   ]
  },
  {
   "cell_type": "code",
   "execution_count": 22,
   "metadata": {
    "ExecuteTime": {
     "end_time": "2021-04-21T09:18:29.549082Z",
     "start_time": "2021-04-21T09:18:29.540339Z"
    },
    "tags": [
     "challengify"
    ]
   },
   "outputs": [],
   "source": [
    "# YOUR CODE HERE\n",
    "\n",
    "model.add(layers.Dense(20, activation='relu'))"
   ]
  },
  {
   "cell_type": "markdown",
   "metadata": {},
   "source": [
    "❓ Add a last layer that suits your regression task"
   ]
  },
  {
   "cell_type": "code",
   "execution_count": 23,
   "metadata": {
    "ExecuteTime": {
     "end_time": "2021-04-21T09:18:29.559443Z",
     "start_time": "2021-04-21T09:18:29.550715Z"
    },
    "tags": [
     "challengify"
    ]
   },
   "outputs": [],
   "source": [
    "# YOUR CODE HERE\n",
    "model.add(layers.Dense(1, activation='linear'))\n"
   ]
  },
  {
   "cell_type": "markdown",
   "metadata": {},
   "source": [
    "❓ Check the number of parameters of your model.\n",
    "\n",
    "Re-count them manually to make sure you understood the numbers of parameters involved for each layer of your Dense Neural Network"
   ]
  },
  {
   "cell_type": "code",
   "execution_count": 24,
   "metadata": {
    "ExecuteTime": {
     "end_time": "2021-04-21T09:18:29.565745Z",
     "start_time": "2021-04-21T09:18:29.561072Z"
    },
    "tags": [
     "challengify"
    ]
   },
   "outputs": [
    {
     "name": "stdout",
     "output_type": "stream",
     "text": [
      "Model: \"sequential_1\"\n",
      "_________________________________________________________________\n",
      "Layer (type)                 Output Shape              Param #   \n",
      "=================================================================\n",
      "dense_3 (Dense)              (None, 50)                700       \n",
      "_________________________________________________________________\n",
      "dense_4 (Dense)              (None, 20)                1020      \n",
      "_________________________________________________________________\n",
      "dense_5 (Dense)              (None, 1)                 21        \n",
      "=================================================================\n",
      "Total params: 1,741\n",
      "Trainable params: 1,741\n",
      "Non-trainable params: 0\n",
      "_________________________________________________________________\n"
     ]
    }
   ],
   "source": [
    "# YOUR CODE HERE\n",
    "model.summary()"
   ]
  },
  {
   "cell_type": "markdown",
   "metadata": {},
   "source": [
    "### Define how your model is trained\n",
    " \n",
    "❓ Compile the model with the `adam` `optimizer` and the `mse` `loss`"
   ]
  },
  {
   "cell_type": "code",
   "execution_count": 36,
   "metadata": {
    "ExecuteTime": {
     "end_time": "2021-04-21T09:18:29.582019Z",
     "start_time": "2021-04-21T09:18:29.572345Z"
    },
    "tags": [
     "challengify"
    ]
   },
   "outputs": [],
   "source": [
    "# YOUR CODE HERE\n",
    "\n",
    "model.compile(optimizer='adam', loss='mse')"
   ]
  },
  {
   "cell_type": "markdown",
   "metadata": {},
   "source": [
    "❓Run the model on this random data ; don't forget to select a number of `epochs` and a `batch_size`. Store the returned result in `history`."
   ]
  },
  {
   "cell_type": "code",
   "execution_count": 26,
   "metadata": {
    "ExecuteTime": {
     "end_time": "2021-04-21T09:18:30.457510Z",
     "start_time": "2021-04-21T09:18:29.583491Z"
    },
    "scrolled": true,
    "tags": [
     "challengify"
    ]
   },
   "outputs": [
    {
     "name": "stderr",
     "output_type": "stream",
     "text": [
      "2021-08-23 17:43:26.207766: I tensorflow/compiler/mlir/mlir_graph_optimization_pass.cc:176] None of the MLIR Optimization Passes are enabled (registered 2)\n",
      "2021-08-23 17:43:26.208077: I tensorflow/core/platform/profile_utils/cpu_utils.cc:114] CPU Frequency: 2208005000 Hz\n"
     ]
    }
   ],
   "source": [
    "# YOUR CODE HERE\n",
    "\n",
    "history = model.fit(X_train, y_train,\n",
    "                    epochs=100, # Play with this until your validation loss overfit\n",
    "                    batch_size=16, # Keep batch size to 16 today\n",
    "                    verbose=0)"
   ]
  },
  {
   "cell_type": "markdown",
   "metadata": {},
   "source": [
    "❓ Plot the model convergence"
   ]
  },
  {
   "cell_type": "code",
   "execution_count": 35,
   "metadata": {
    "ExecuteTime": {
     "end_time": "2021-04-21T09:18:30.880958Z",
     "start_time": "2021-04-21T09:18:30.459166Z"
    },
    "tags": [
     "challengify"
    ]
   },
   "outputs": [
    {
     "data": {
      "image/png": "[encoded data removed]",
      "text/plain": [
       "<Figure size 432x288 with 1 Axes>"
      ]
     },
     "metadata": {
      "needs_background": "light"
     },
     "output_type": "display_data"
    }
   ],
   "source": [
    "# YOUR CODE HERE\n",
    "plt.plot(np.sqrt(history.history['loss']));"
   ]
  },
  {
   "cell_type": "markdown",
   "metadata": {},
   "source": [
    "❓ Write an entire model with its compilation within an `init_model` function"
   ]
  },
  {
   "cell_type": "code",
   "execution_count": 38,
   "metadata": {
    "ExecuteTime": {
     "end_time": "2021-04-21T09:18:30.886365Z",
     "start_time": "2021-04-21T09:18:30.882924Z"
    },
    "tags": [
     "challengify"
    ]
   },
   "outputs": [],
   "source": [
    "# YOUR CODE HERE\n",
    "\n",
    "def init_model():\n",
    "    model = Sequential()\n",
    "    model.add(layers.Dense(50, activation='relu', input_dim=13))\n",
    "    model.add(layers.Dense(20, activation='relu'))  \n",
    "    model.add(layers.Dense(1, activation='linear'))\n",
    "    model.compile(optimizer='adam', loss='mse')\n",
    "    \n",
    "    return model\n",
    "    "
   ]
  },
  {
   "cell_type": "markdown",
   "metadata": {},
   "source": [
    "You are advised to systematically rebuild a model (with an init function) before fitting some data in order to re-initialize the model's parameters.\n",
    "\n",
    "The model you just wrote is suited for regression tasks.\n",
    "\n",
    "What if we want to perform a binary classification task ?\n",
    "\n",
    "❓ Write another `init_model_2` function in which you will change :\n",
    "* the last layer of the architecture \n",
    "* and the compilation method\n",
    "\n",
    "used in a binary class classification problem."
   ]
  },
  {
   "cell_type": "code",
   "execution_count": 39,
   "metadata": {
    "ExecuteTime": {
     "end_time": "2021-04-21T09:18:30.891601Z",
     "start_time": "2021-04-21T09:18:30.888469Z"
    },
    "tags": [
     "challengify"
    ]
   },
   "outputs": [],
   "source": [
    "\n",
    "# YOUR CODE HERE\n",
    "\n",
    "def init_model_2():\n",
    "    model = Sequential()\n",
    "    model.add(layers.Dense(50, activation='relu', input_dim=13))\n",
    "    model.add(layers.Dense(20, activation='relu'))  \n",
    "    model.add(layers.Dense(1, activation='sigmoid'))\n",
    "    model.compile(optimizer='adam', loss='bynary_crossentropy')\n",
    "    \n",
    "    return model"
   ]
  },
  {
   "cell_type": "markdown",
   "metadata": {},
   "source": [
    "❓ Write a last function to define a model for a classification problem with 10 classes."
   ]
  },
  {
   "cell_type": "code",
   "execution_count": 40,
   "metadata": {
    "ExecuteTime": {
     "end_time": "2021-04-21T09:18:30.896865Z",
     "start_time": "2021-04-21T09:18:30.893555Z"
    },
    "tags": [
     "challengify"
    ]
   },
   "outputs": [],
   "source": [
    "\n",
    "# YOUR CODE HERE\n",
    "\n",
    "def init_model_3():\n",
    "    model = Sequential()\n",
    "    model.add(layers.Dense(50, activation='relu', input_dim=13))\n",
    "    model.add(layers.Dense(20, activation='relu'))  \n",
    "    model.add(layers.Dense(10, activation='softmax'))\n",
    "    model.compile(optimizer='adam', loss='categorical_crossentropy')\n",
    "    \n",
    "    return model"
   ]
  }
 ],
 "metadata": {
  "kernelspec": {
   "display_name": "Python 3 (ipykernel)",
   "language": "python",
   "name": "python3"
  },
  "language_info": {
   "codemirror_mode": {
    "name": "ipython",
    "version": 3
   },
   "file_extension": ".py",
   "mimetype": "text/x-python",
   "name": "python",
   "nbconvert_exporter": "python",
   "pygments_lexer": "ipython3",
   "version": "3.8.6"
  },
  "toc": {
   "base_numbering": 1,
   "nav_menu": {},
   "number_sections": false,
   "sideBar": true,
   "skip_h1_title": false,
   "title_cell": "Table of Contents",
   "title_sidebar": "Contents",
   "toc_cell": false,
   "toc_position": {},
   "toc_section_display": true,
   "toc_window_display": false
  },
  "varInspector": {
   "cols": {
    "lenName": 16,
    "lenType": 16,
    "lenVar": 40
   },
   "kernels_config": {
    "python": {
     "delete_cmd_postfix": "",
     "delete_cmd_prefix": "del ",
     "library": "var_list.py",
     "varRefreshCmd": "print(var_dic_list())"
    },
    "r": {
     "delete_cmd_postfix": ") ",
     "delete_cmd_prefix": "rm(",
     "library": "var_list.r",
     "varRefreshCmd": "cat(var_dic_list()) "
    }
   },
   "types_to_exclude": [
    "module",
    "function",
    "builtin_function_or_method",
    "instance",
    "_Feature"
   ],
   "window_display": false
  }
 },
 "nbformat": 4,
 "nbformat_minor": 2
}
