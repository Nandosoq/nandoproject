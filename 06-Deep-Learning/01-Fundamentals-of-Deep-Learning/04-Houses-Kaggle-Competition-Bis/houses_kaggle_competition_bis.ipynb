{
 "cells": [
  {
   "cell_type": "code",
   "execution_count": 1,
   "metadata": {},
   "outputs": [],
   "source": [
    "%load_ext autoreload\n",
    "%autoreload 2\n",
    "import pandas as pd\n",
    "import numpy as np\n",
    "import matplotlib.pyplot as plt\n",
    "import seaborn as sns\n",
    "from sklearn import set_config; set_config(display='diagram')"
   ]
  },
  {
   "cell_type": "markdown",
   "metadata": {},
   "source": [
    "# Houses Kaggle Competition (bis 🔥) "
   ]
  },
  {
   "cell_type": "markdown",
   "metadata": {},
   "source": [
    "[<img src='https://github.com/lewagon/data-images/blob/master/ML/kaggle-batch-challenge.png?raw=true' width=600>](https://www.kaggle.com/c/house-prices-advanced-regression-techniques/data)\n",
    "\n",
    "Let's re-use our previous pipeline built in the module `05-07-Ensemble-Methods` and improve final predictions using a Neural Network!"
   ]
  },
  {
   "cell_type": "markdown",
   "metadata": {},
   "source": [
    "# Re-use already-built preprocessing"
   ]
  },
  {
   "cell_type": "markdown",
   "metadata": {},
   "source": [
    "## Load data"
   ]
  },
  {
   "cell_type": "code",
   "execution_count": 2,
   "metadata": {},
   "outputs": [
    {
     "name": "stdout",
     "output_type": "stream",
     "text": [
      "(1460, 80) (1460,) (1459, 80)\n"
     ]
    }
   ],
   "source": [
    "# Let's load our training dataset\n",
    "data = pd.read_csv(\"https://wagon-public-datasets.s3.amazonaws.com/houses_train_raw.csv\")\n",
    "X = data.drop(columns='SalePrice')\n",
    "y = data['SalePrice']\n",
    "\n",
    "# You don't have access to y_yest! Only Kaggle has it.\n",
    "X_test = pd.read_csv(\"https://wagon-public-datasets.s3.amazonaws.com/houses_test_raw.csv\")\n",
    "\n",
    "print(X.shape, y.shape, X_test.shape)"
   ]
  },
  {
   "cell_type": "markdown",
   "metadata": {},
   "source": [
    "## Import preprocessor"
   ]
  },
  {
   "cell_type": "markdown",
   "metadata": {},
   "source": [
    "You will find the data-preprocessing pipeline that was built in our previous iteration in `utils/preprocessor.py`. \n",
    "\n",
    "❓ Run the cell below, and make sure you understand what the pipeline does. Look at the code in `preprocessor.py`"
   ]
  },
  {
   "cell_type": "code",
   "execution_count": 9,
   "metadata": {},
   "outputs": [
    {
     "data": {
      "text/html": [
       "<style>#sk-925de83c-1723-4381-97ba-a0713b9ccde5 {color: black;background-color: white;}#sk-925de83c-1723-4381-97ba-a0713b9ccde5 pre{padding: 0;}#sk-925de83c-1723-4381-97ba-a0713b9ccde5 div.sk-toggleable {background-color: white;}#sk-925de83c-1723-4381-97ba-a0713b9ccde5 label.sk-toggleable__label {cursor: pointer;display: block;width: 100%;margin-bottom: 0;padding: 0.2em 0.3em;box-sizing: border-box;text-align: center;}#sk-925de83c-1723-4381-97ba-a0713b9ccde5 div.sk-toggleable__content {max-height: 0;max-width: 0;overflow: hidden;text-align: left;background-color: #f0f8ff;}#sk-925de83c-1723-4381-97ba-a0713b9ccde5 div.sk-toggleable__content pre {margin: 0.2em;color: black;border-radius: 0.25em;background-color: #f0f8ff;}#sk-925de83c-1723-4381-97ba-a0713b9ccde5 input.sk-toggleable__control:checked~div.sk-toggleable__content {max-height: 200px;max-width: 100%;overflow: auto;}#sk-925de83c-1723-4381-97ba-a0713b9ccde5 div.sk-estimator input.sk-toggleable__control:checked~label.sk-toggleable__label {background-color: #d4ebff;}#sk-925de83c-1723-4381-97ba-a0713b9ccde5 div.sk-label input.sk-toggleable__control:checked~label.sk-toggleable__label {background-color: #d4ebff;}#sk-925de83c-1723-4381-97ba-a0713b9ccde5 input.sk-hidden--visually {border: 0;clip: rect(1px 1px 1px 1px);clip: rect(1px, 1px, 1px, 1px);height: 1px;margin: -1px;overflow: hidden;padding: 0;position: absolute;width: 1px;}#sk-925de83c-1723-4381-97ba-a0713b9ccde5 div.sk-estimator {font-family: monospace;background-color: #f0f8ff;margin: 0.25em 0.25em;border: 1px dotted black;border-radius: 0.25em;box-sizing: border-box;}#sk-925de83c-1723-4381-97ba-a0713b9ccde5 div.sk-estimator:hover {background-color: #d4ebff;}#sk-925de83c-1723-4381-97ba-a0713b9ccde5 div.sk-parallel-item::after {content: \"\";width: 100%;border-bottom: 1px solid gray;flex-grow: 1;}#sk-925de83c-1723-4381-97ba-a0713b9ccde5 div.sk-label:hover label.sk-toggleable__label {background-color: #d4ebff;}#sk-925de83c-1723-4381-97ba-a0713b9ccde5 div.sk-serial::before {content: \"\";position: absolute;border-left: 1px solid gray;box-sizing: border-box;top: 2em;bottom: 0;left: 50%;}#sk-925de83c-1723-4381-97ba-a0713b9ccde5 div.sk-serial {display: flex;flex-direction: column;align-items: center;background-color: white;}#sk-925de83c-1723-4381-97ba-a0713b9ccde5 div.sk-item {z-index: 1;}#sk-925de83c-1723-4381-97ba-a0713b9ccde5 div.sk-parallel {display: flex;align-items: stretch;justify-content: center;background-color: white;}#sk-925de83c-1723-4381-97ba-a0713b9ccde5 div.sk-parallel-item {display: flex;flex-direction: column;position: relative;background-color: white;}#sk-925de83c-1723-4381-97ba-a0713b9ccde5 div.sk-parallel-item:first-child::after {align-self: flex-end;width: 50%;}#sk-925de83c-1723-4381-97ba-a0713b9ccde5 div.sk-parallel-item:last-child::after {align-self: flex-start;width: 50%;}#sk-925de83c-1723-4381-97ba-a0713b9ccde5 div.sk-parallel-item:only-child::after {width: 0;}#sk-925de83c-1723-4381-97ba-a0713b9ccde5 div.sk-dashed-wrapped {border: 1px dashed gray;margin: 0.2em;box-sizing: border-box;padding-bottom: 0.1em;background-color: white;position: relative;}#sk-925de83c-1723-4381-97ba-a0713b9ccde5 div.sk-label label {font-family: monospace;font-weight: bold;background-color: white;display: inline-block;line-height: 1.2em;}#sk-925de83c-1723-4381-97ba-a0713b9ccde5 div.sk-label-container {position: relative;z-index: 2;text-align: center;}#sk-925de83c-1723-4381-97ba-a0713b9ccde5 div.sk-container {display: inline-block;position: relative;}</style><div id=\"sk-925de83c-1723-4381-97ba-a0713b9ccde5\" class\"sk-top-container\"><div class=\"sk-container\"><div class=\"sk-item sk-dashed-wrapped\"><div class=\"sk-label-container\"><div class=\"sk-label sk-toggleable\"><input class=\"sk-toggleable__control sk-hidden--visually\" id=\"8603bfde-ed41-4ca3-9c54-73320d9682e3\" type=\"checkbox\" ><label class=\"sk-toggleable__label\" for=\"8603bfde-ed41-4ca3-9c54-73320d9682e3\">Pipeline</label><div class=\"sk-toggleable__content\"><pre>Pipeline(steps=[('columntransformer',\n",
       "                 ColumnTransformer(transformers=[('numerical_encoder',\n",
       "                                                  Pipeline(steps=[('knnimputer',\n",
       "                                                                   KNNImputer()),\n",
       "                                                                  ('minmaxscaler',\n",
       "                                                                   MinMaxScaler())]),\n",
       "                                                  ['1stFlrSF', '2ndFlrSF',\n",
       "                                                   '3SsnPorch', 'BedroomAbvGr',\n",
       "                                                   'BsmtFinSF1', 'BsmtFinSF2',\n",
       "                                                   'BsmtFullBath',\n",
       "                                                   'BsmtHalfBath', 'BsmtUnfSF',\n",
       "                                                   'EnclosedPorch',\n",
       "                                                   'Fireplaces', 'FullBath',\n",
       "                                                   'GarageArea', 'GarageCars...\n",
       "                                                   'CentralAir', 'Condition1',\n",
       "                                                   'Condition2', 'Exterior1st',\n",
       "                                                   'Exterior2nd', 'Foundation',\n",
       "                                                   'GarageType', 'Heating',\n",
       "                                                   'HouseStyle', 'LotConfig',\n",
       "                                                   'MSZoning', 'MasVnrType',\n",
       "                                                   'MiscFeature',\n",
       "                                                   'Neighborhood', 'RoofMatl',\n",
       "                                                   'RoofStyle', 'SaleCondition',\n",
       "                                                   'SaleType', 'Street',\n",
       "                                                   'Utilities'])])),\n",
       "                ('selectpercentile',\n",
       "                 SelectPercentile(percentile=75,\n",
       "                                  score_func=<function mutual_info_regression at 0x7f7d72ffc790>))])</pre></div></div></div><div class=\"sk-serial\"><div class=\"sk-item sk-dashed-wrapped\"><div class=\"sk-label-container\"><div class=\"sk-label sk-toggleable\"><input class=\"sk-toggleable__control sk-hidden--visually\" id=\"b92e6d36-4f60-40b1-81a1-d057ebad2597\" type=\"checkbox\" ><label class=\"sk-toggleable__label\" for=\"b92e6d36-4f60-40b1-81a1-d057ebad2597\">columntransformer: ColumnTransformer</label><div class=\"sk-toggleable__content\"><pre>ColumnTransformer(transformers=[('numerical_encoder',\n",
       "                                 Pipeline(steps=[('knnimputer', KNNImputer()),\n",
       "                                                 ('minmaxscaler',\n",
       "                                                  MinMaxScaler())]),\n",
       "                                 ['1stFlrSF', '2ndFlrSF', '3SsnPorch',\n",
       "                                  'BedroomAbvGr', 'BsmtFinSF1', 'BsmtFinSF2',\n",
       "                                  'BsmtFullBath', 'BsmtHalfBath', 'BsmtUnfSF',\n",
       "                                  'EnclosedPorch', 'Fireplaces', 'FullBath',\n",
       "                                  'GarageArea', 'GarageCars', 'GarageYrBlt',\n",
       "                                  'GrLivArea', 'HalfBath...\n",
       "                                                  SimpleImputer(strategy='most_frequent')),\n",
       "                                                 ('onehotencoder',\n",
       "                                                  OneHotEncoder(handle_unknown='ignore'))]),\n",
       "                                 ['Alley', 'BldgType', 'CentralAir',\n",
       "                                  'Condition1', 'Condition2', 'Exterior1st',\n",
       "                                  'Exterior2nd', 'Foundation', 'GarageType',\n",
       "                                  'Heating', 'HouseStyle', 'LotConfig',\n",
       "                                  'MSZoning', 'MasVnrType', 'MiscFeature',\n",
       "                                  'Neighborhood', 'RoofMatl', 'RoofStyle',\n",
       "                                  'SaleCondition', 'SaleType', 'Street',\n",
       "                                  'Utilities'])])</pre></div></div></div><div class=\"sk-parallel\"><div class=\"sk-parallel-item\"><div class=\"sk-item\"><div class=\"sk-label-container\"><div class=\"sk-label sk-toggleable\"><input class=\"sk-toggleable__control sk-hidden--visually\" id=\"0b12c29b-c0c2-4cf9-91f9-45762887d5c1\" type=\"checkbox\" ><label class=\"sk-toggleable__label\" for=\"0b12c29b-c0c2-4cf9-91f9-45762887d5c1\">numerical_encoder</label><div class=\"sk-toggleable__content\"><pre>['1stFlrSF', '2ndFlrSF', '3SsnPorch', 'BedroomAbvGr', 'BsmtFinSF1', 'BsmtFinSF2', 'BsmtFullBath', 'BsmtHalfBath', 'BsmtUnfSF', 'EnclosedPorch', 'Fireplaces', 'FullBath', 'GarageArea', 'GarageCars', 'GarageYrBlt', 'GrLivArea', 'HalfBath', 'Id', 'KitchenAbvGr', 'LotArea', 'LotFrontage', 'LowQualFinSF', 'MSSubClass', 'MasVnrArea', 'MiscVal', 'MoSold', 'OpenPorchSF', 'OverallCond', 'OverallQual', 'PoolArea', 'ScreenPorch', 'TotRmsAbvGrd', 'TotalBsmtSF', 'WoodDeckSF', 'YearBuilt', 'YearRemodAdd', 'YrSold']</pre></div></div></div><div class=\"sk-serial\"><div class=\"sk-item\"><div class=\"sk-serial\"><div class=\"sk-item\"><div class=\"sk-estimator sk-toggleable\"><input class=\"sk-toggleable__control sk-hidden--visually\" id=\"24c6e6f3-a256-412e-af0c-1e507be33268\" type=\"checkbox\" ><label class=\"sk-toggleable__label\" for=\"24c6e6f3-a256-412e-af0c-1e507be33268\">KNNImputer</label><div class=\"sk-toggleable__content\"><pre>KNNImputer()</pre></div></div></div><div class=\"sk-item\"><div class=\"sk-estimator sk-toggleable\"><input class=\"sk-toggleable__control sk-hidden--visually\" id=\"8a689238-cf74-423c-9a58-7acbbdb98374\" type=\"checkbox\" ><label class=\"sk-toggleable__label\" for=\"8a689238-cf74-423c-9a58-7acbbdb98374\">MinMaxScaler</label><div class=\"sk-toggleable__content\"><pre>MinMaxScaler()</pre></div></div></div></div></div></div></div></div><div class=\"sk-parallel-item\"><div class=\"sk-item\"><div class=\"sk-label-container\"><div class=\"sk-label sk-toggleable\"><input class=\"sk-toggleable__control sk-hidden--visually\" id=\"938e2434-eeb2-454c-9777-c3d5aa366d50\" type=\"checkbox\" ><label class=\"sk-toggleable__label\" for=\"938e2434-eeb2-454c-9777-c3d5aa366d50\">ordinal_encoder</label><div class=\"sk-toggleable__content\"><pre>['BsmtCond', 'BsmtExposure', 'BsmtFinType1', 'BsmtFinType2', 'BsmtQual', 'Electrical', 'ExterCond', 'ExterQual', 'Fence', 'FireplaceQu', 'Functional', 'GarageCond', 'GarageFinish', 'GarageQual', 'HeatingQC', 'KitchenQual', 'LandContour', 'LandSlope', 'LotShape', 'PavedDrive', 'PoolQC']</pre></div></div></div><div class=\"sk-serial\"><div class=\"sk-item\"><div class=\"sk-serial\"><div class=\"sk-item\"><div class=\"sk-estimator sk-toggleable\"><input class=\"sk-toggleable__control sk-hidden--visually\" id=\"203f132d-f62a-4c19-bd3e-c5975fb8b21d\" type=\"checkbox\" ><label class=\"sk-toggleable__label\" for=\"203f132d-f62a-4c19-bd3e-c5975fb8b21d\">SimpleImputer</label><div class=\"sk-toggleable__content\"><pre>SimpleImputer(fill_value='missing', strategy='constant')</pre></div></div></div><div class=\"sk-item\"><div class=\"sk-estimator sk-toggleable\"><input class=\"sk-toggleable__control sk-hidden--visually\" id=\"bd01d365-5642-4c76-bb6f-8016ee2cb416\" type=\"checkbox\" ><label class=\"sk-toggleable__label\" for=\"bd01d365-5642-4c76-bb6f-8016ee2cb416\">OrdinalEncoder</label><div class=\"sk-toggleable__content\"><pre>OrdinalEncoder(categories=[['missing', 'Po', 'Fa', 'TA', 'Gd'],\n",
       "                           ['missing', 'No', 'Mn', 'Av', 'Gd'],\n",
       "                           ['missing', 'Unf', 'LwQ', 'Rec', 'BLQ', 'ALQ',\n",
       "                            'GLQ'],\n",
       "                           ['missing', 'Unf', 'LwQ', 'Rec', 'BLQ', 'ALQ',\n",
       "                            'GLQ'],\n",
       "                           ['missing', 'Fa', 'TA', 'Gd', 'Ex'],\n",
       "                           ['missing', 'Mix', 'FuseP', 'FuseF', 'FuseA',\n",
       "                            'SBrkr'],\n",
       "                           ['missing', 'Po', 'Fa', 'TA', 'Gd', 'Ex'],\n",
       "                           ['missing', 'Fa', 'TA', 'Gd', 'Ex'],\n",
       "                           ['missing', '...\n",
       "                           ['missing', 'Po', 'Fa', 'TA', 'Gd', 'Ex'],\n",
       "                           ['missing', 'Unf', 'RFn', 'Fin'],\n",
       "                           ['missing', 'Po', 'Fa', 'TA', 'Gd', 'Ex'],\n",
       "                           ['missing', 'Po', 'Fa', 'TA', 'Gd', 'Ex'],\n",
       "                           ['missing', 'Fa', 'TA', 'Gd', 'Ex'],\n",
       "                           ['missing', 'Low', 'Bnk', 'HLS', 'Lvl'],\n",
       "                           ['missing', 'Sev', 'Mod', 'Gtl'],\n",
       "                           ['missing', 'IR3', 'IR2', 'IR1', 'Reg'],\n",
       "                           ['missing', 'N', 'P', 'Y'],\n",
       "                           ['missing', 'Fa', 'Gd', 'Ex']],\n",
       "               handle_unknown='use_encoded_value', unknown_value=-1)</pre></div></div></div><div class=\"sk-item\"><div class=\"sk-estimator sk-toggleable\"><input class=\"sk-toggleable__control sk-hidden--visually\" id=\"8722553d-5940-433f-9caa-9397e009202a\" type=\"checkbox\" ><label class=\"sk-toggleable__label\" for=\"8722553d-5940-433f-9caa-9397e009202a\">MinMaxScaler</label><div class=\"sk-toggleable__content\"><pre>MinMaxScaler()</pre></div></div></div></div></div></div></div></div><div class=\"sk-parallel-item\"><div class=\"sk-item\"><div class=\"sk-label-container\"><div class=\"sk-label sk-toggleable\"><input class=\"sk-toggleable__control sk-hidden--visually\" id=\"3fd6a219-3a5d-46af-bd94-ae981c43a4be\" type=\"checkbox\" ><label class=\"sk-toggleable__label\" for=\"3fd6a219-3a5d-46af-bd94-ae981c43a4be\">nominal_encoder</label><div class=\"sk-toggleable__content\"><pre>['Alley', 'BldgType', 'CentralAir', 'Condition1', 'Condition2', 'Exterior1st', 'Exterior2nd', 'Foundation', 'GarageType', 'Heating', 'HouseStyle', 'LotConfig', 'MSZoning', 'MasVnrType', 'MiscFeature', 'Neighborhood', 'RoofMatl', 'RoofStyle', 'SaleCondition', 'SaleType', 'Street', 'Utilities']</pre></div></div></div><div class=\"sk-serial\"><div class=\"sk-item\"><div class=\"sk-serial\"><div class=\"sk-item\"><div class=\"sk-estimator sk-toggleable\"><input class=\"sk-toggleable__control sk-hidden--visually\" id=\"67856452-a782-476e-ac01-d21b59fd4e29\" type=\"checkbox\" ><label class=\"sk-toggleable__label\" for=\"67856452-a782-476e-ac01-d21b59fd4e29\">SimpleImputer</label><div class=\"sk-toggleable__content\"><pre>SimpleImputer(strategy='most_frequent')</pre></div></div></div><div class=\"sk-item\"><div class=\"sk-estimator sk-toggleable\"><input class=\"sk-toggleable__control sk-hidden--visually\" id=\"036dd16a-672b-4492-b4f9-05e62065b8af\" type=\"checkbox\" ><label class=\"sk-toggleable__label\" for=\"036dd16a-672b-4492-b4f9-05e62065b8af\">OneHotEncoder</label><div class=\"sk-toggleable__content\"><pre>OneHotEncoder(handle_unknown='ignore')</pre></div></div></div></div></div></div></div></div></div></div><div class=\"sk-item\"><div class=\"sk-estimator sk-toggleable\"><input class=\"sk-toggleable__control sk-hidden--visually\" id=\"f49c1414-abac-4f0e-afef-403d1b439b6d\" type=\"checkbox\" ><label class=\"sk-toggleable__label\" for=\"f49c1414-abac-4f0e-afef-403d1b439b6d\">SelectPercentile</label><div class=\"sk-toggleable__content\"><pre>SelectPercentile(percentile=75,\n",
       "                 score_func=<function mutual_info_regression at 0x7f7d72ffc790>)</pre></div></div></div></div></div></div></div>"
      ],
      "text/plain": [
       "Pipeline(steps=[('columntransformer',\n",
       "                 ColumnTransformer(transformers=[('numerical_encoder',\n",
       "                                                  Pipeline(steps=[('knnimputer',\n",
       "                                                                   KNNImputer()),\n",
       "                                                                  ('minmaxscaler',\n",
       "                                                                   MinMaxScaler())]),\n",
       "                                                  ['1stFlrSF', '2ndFlrSF',\n",
       "                                                   '3SsnPorch', 'BedroomAbvGr',\n",
       "                                                   'BsmtFinSF1', 'BsmtFinSF2',\n",
       "                                                   'BsmtFullBath',\n",
       "                                                   'BsmtHalfBath', 'BsmtUnfSF',\n",
       "                                                   'EnclosedPorch',\n",
       "                                                   'Fireplaces', 'FullBath',\n",
       "                                                   'GarageArea', 'GarageCars...\n",
       "                                                   'CentralAir', 'Condition1',\n",
       "                                                   'Condition2', 'Exterior1st',\n",
       "                                                   'Exterior2nd', 'Foundation',\n",
       "                                                   'GarageType', 'Heating',\n",
       "                                                   'HouseStyle', 'LotConfig',\n",
       "                                                   'MSZoning', 'MasVnrType',\n",
       "                                                   'MiscFeature',\n",
       "                                                   'Neighborhood', 'RoofMatl',\n",
       "                                                   'RoofStyle', 'SaleCondition',\n",
       "                                                   'SaleType', 'Street',\n",
       "                                                   'Utilities'])])),\n",
       "                ('selectpercentile',\n",
       "                 SelectPercentile(percentile=75,\n",
       "                                  score_func=<function mutual_info_regression at 0x7f7d72ffc790>))])"
      ]
     },
     "execution_count": 9,
     "metadata": {},
     "output_type": "execute_result"
    }
   ],
   "source": [
    "from utils.preprocessor import create_preproc\n",
    "preproc = create_preproc(X)\n",
    "preproc"
   ]
  },
  {
   "cell_type": "markdown",
   "metadata": {},
   "source": [
    "❓ Fit the preprocessor on your train set and create your feature matrix `X_preproc` that will be used by the Neural Network"
   ]
  },
  {
   "cell_type": "code",
   "execution_count": 13,
   "metadata": {
    "tags": [
     "challengify"
    ]
   },
   "outputs": [],
   "source": [
    "# YOUR CODE HERE\n",
    "X_preproc = preproc.fit_transform(X,y)\n"
   ]
  },
  {
   "cell_type": "code",
   "execution_count": 15,
   "metadata": {},
   "outputs": [
    {
     "name": "stdout",
     "output_type": "stream",
     "text": [
      "(1460, 162) (1460, 80)\n"
     ]
    }
   ],
   "source": [
    "print(X_preproc.shape, X.shape)"
   ]
  },
  {
   "cell_type": "markdown",
   "metadata": {},
   "source": [
    "# Your prediction in Keras"
   ]
  },
  {
   "cell_type": "markdown",
   "metadata": {},
   "source": [
    "This is your first **regression** task with Keras! \n",
    "- The cell below contains the compiler and the hyper-parameters we recommend you to start with.\n",
    "- Kaggle's [rule](https://www.kaggle.com/c/house-prices-advanced-regression-techniques/overview/evaluation) requires to minimize `rmsle` (Root Mean Square Log Error). As you can see, we were to specify `msle` direcly as loss-function with Keras! Just remember to take square-root of your loss results to read your rmsle metric.\n",
    "- The best boosted-tree `rmsle` score to beat is around **0.13**\n",
    "\n",
    "❓ **Question** ❓\n",
    "- Your responsibility is to build the best model architecture, and to control the epoch number to avoid overfitting.\n",
    "- We recommand you to create a train/val split upfront to visually control the validation loss thanks to `plot_history`"
   ]
  },
  {
   "cell_type": "code",
   "execution_count": 17,
   "metadata": {},
   "outputs": [
    {
     "name": "stdout",
     "output_type": "stream",
     "text": [
      "(1022, 162) (1022,)\n"
     ]
    }
   ],
   "source": [
    "# Create a train val split here\n",
    "from sklearn.model_selection import train_test_split\n",
    "X_train, X_val, y_train, y_val = train_test_split(X_preproc, y, test_size=0.30)\n",
    "print(X_train.shape, y_train.shape)"
   ]
  },
  {
   "cell_type": "code",
   "execution_count": 24,
   "metadata": {},
   "outputs": [
    {
     "data": {
      "text/plain": [
       "243     120000\n",
       "573     170000\n",
       "560     121500\n",
       "1033    230000\n",
       "805     227680\n",
       "         ...  \n",
       "509     124500\n",
       "219     167240\n",
       "22      230000\n",
       "630     124000\n",
       "396     123000\n",
       "Name: SalePrice, Length: 1022, dtype: int64"
      ]
     },
     "execution_count": 24,
     "metadata": {},
     "output_type": "execute_result"
    }
   ],
   "source": [
    "y_train"
   ]
  },
  {
   "cell_type": "code",
   "execution_count": 19,
   "metadata": {},
   "outputs": [
    {
     "name": "stderr",
     "output_type": "stream",
     "text": [
      "2021-08-23 16:43:02.372803: W tensorflow/stream_executor/platform/default/dso_loader.cc:64] Could not load dynamic library 'libcudart.so.11.0'; dlerror: libcudart.so.11.0: cannot open shared object file: No such file or directory\n",
      "2021-08-23 16:43:02.372843: I tensorflow/stream_executor/cuda/cudart_stub.cc:29] Ignore above cudart dlerror if you do not have a GPU set up on your machine.\n",
      "2021-08-23 16:43:03.229973: W tensorflow/stream_executor/platform/default/dso_loader.cc:64] Could not load dynamic library 'libcuda.so.1'; dlerror: libcuda.so.1: cannot open shared object file: No such file or directory\n",
      "2021-08-23 16:43:03.230010: W tensorflow/stream_executor/cuda/cuda_driver.cc:326] failed call to cuInit: UNKNOWN ERROR (303)\n",
      "2021-08-23 16:43:03.230025: I tensorflow/stream_executor/cuda/cuda_diagnostics.cc:156] kernel driver does not appear to be running on this host (Nandosoq): /proc/driver/nvidia/version does not exist\n",
      "2021-08-23 16:43:03.230228: I tensorflow/core/platform/cpu_feature_guard.cc:142] This TensorFlow binary is optimized with oneAPI Deep Neural Network Library (oneDNN) to use the following CPU instructions in performance-critical operations:  AVX2 FMA\n",
      "To enable them in other operations, rebuild TensorFlow with the appropriate compiler flags.\n"
     ]
    }
   ],
   "source": [
    "from tensorflow.keras.models import Sequential\n",
    "from tensorflow.keras import layers\n",
    "\n",
    "model = Sequential()\n",
    "model.add(layers.Dense(50, activation='relu', input_dim=162))\n",
    "model.add(layers.Dense(7, activation='softmax'))"
   ]
  },
  {
   "cell_type": "code",
   "execution_count": 20,
   "metadata": {},
   "outputs": [
    {
     "name": "stderr",
     "output_type": "stream",
     "text": [
      "2021-08-23 16:46:47.044347: I tensorflow/compiler/mlir/mlir_graph_optimization_pass.cc:176] None of the MLIR Optimization Passes are enabled (registered 2)\n",
      "2021-08-23 16:46:47.044660: I tensorflow/core/platform/profile_utils/cpu_utils.cc:114] CPU Frequency: 2208005000 Hz\n"
     ]
    }
   ],
   "source": [
    "def initialize_model():\n",
    "\n",
    "    ### YOUR MODEL ARCHITECTURE HERE\n",
    "    from tensorflow.keras.models import Sequential\n",
    "    from tensorflow.keras import layers\n",
    "\n",
    "    model = Sequential()\n",
    "    model.add(layers.Dense(50, activation='relu', input_dim=162))\n",
    "    model.add(layers.Dense(7, activation='softmax'))\n",
    "\n",
    "    \n",
    "    # Recommended compilator\n",
    "    model.compile(optimizer='adam',\n",
    "                  loss='msle')#, # directly optimize for the squared log error!\n",
    "    return model\n",
    "\n",
    "model = initialize_model()\n",
    "\n",
    "history = model.fit(X_train, y_train,\n",
    "                    validation_data=(X_val, y_val),\n",
    "                    epochs=100, # Play with this until your validation loss overfit\n",
    "                    batch_size=16, # Keep batch size to 16 today\n",
    "                    verbose=0)"
   ]
  },
  {
   "cell_type": "code",
   "execution_count": 21,
   "metadata": {},
   "outputs": [],
   "source": [
    "def plot_history(history):\n",
    "    plt.plot(np.sqrt(history.history['loss']))\n",
    "    plt.plot(np.sqrt(history.history['val_loss']))\n",
    "    plt.title('Model Loss')\n",
    "    plt.ylabel('MSLE')\n",
    "    plt.xlabel('Epoch')\n",
    "    plt.legend(['Train', 'Val'], loc='best')\n",
    "    plt.show()"
   ]
  },
  {
   "cell_type": "code",
   "execution_count": 23,
   "metadata": {},
   "outputs": [
    {
     "data": {
      "image/png": "[encoded data removed]",
      "text/plain": [
       "<Figure size 432x288 with 1 Axes>"
      ]
     },
     "metadata": {
      "needs_background": "light"
     },
     "output_type": "display_data"
    }
   ],
   "source": [
    "plot_history(history)"
   ]
  },
  {
   "cell_type": "code",
   "execution_count": 22,
   "metadata": {},
   "outputs": [
    {
     "name": "stdout",
     "output_type": "stream",
     "text": [
      "14/14 [==============================] - 0s 1ms/step - loss: 141.4057\n"
     ]
    },
    {
     "data": {
      "text/plain": [
       "141.40565490722656"
      ]
     },
     "execution_count": 22,
     "metadata": {},
     "output_type": "execute_result"
    }
   ],
   "source": [
    "model.evaluate(X_val, y_val)"
   ]
  },
  {
   "cell_type": "markdown",
   "metadata": {
    "ExecuteTime": {
     "end_time": "2021-08-09T18:18:14.597302Z",
     "start_time": "2021-08-09T18:18:14.594193Z"
    }
   },
   "source": [
    "## (Optional): AutoML with Keras Tuner"
   ]
  },
  {
   "cell_type": "markdown",
   "metadata": {},
   "source": [
    "Try to find the best number of neurons and hidden layers **automatically** using the amazing [Keras Tuner](https://www.tensorflow.org/tutorials/keras/keras_tuner)\n",
    "\n",
    "\n"
   ]
  },
  {
   "cell_type": "code",
   "execution_count": null,
   "metadata": {
    "ExecuteTime": {
     "end_time": "2021-08-09T18:20:47.167397Z",
     "start_time": "2021-08-09T18:20:47.164536Z"
    }
   },
   "outputs": [],
   "source": [
    "# TODO: Solution"
   ]
  },
  {
   "cell_type": "markdown",
   "metadata": {},
   "source": [
    "# 🏅FINAL SUBMISSION"
   ]
  },
  {
   "cell_type": "markdown",
   "metadata": {},
   "source": [
    "Predict the house prices of your test set and submit your results to kaggle! Be careful with the format of the exported `.csv`."
   ]
  },
  {
   "cell_type": "code",
   "execution_count": null,
   "metadata": {
    "ExecuteTime": {
     "end_time": "2021-01-27T14:05:37.861551Z",
     "start_time": "2021-01-27T14:04:03.536Z"
    }
   },
   "outputs": [],
   "source": [
    "X_test = pd.read_csv(\"https://wagon-public-datasets.s3.amazonaws.com/houses_test_raw.csv\")"
   ]
  },
  {
   "cell_type": "code",
   "execution_count": null,
   "metadata": {
    "ExecuteTime": {
     "end_time": "2021-01-27T14:05:37.867076Z",
     "start_time": "2021-01-27T14:04:03.680Z"
    },
    "tags": [
     "challengify"
    ]
   },
   "outputs": [],
   "source": [
    "# YOUR CODE HERE"
   ]
  }
 ],
 "metadata": {
  "kernelspec": {
   "display_name": "Python 3 (ipykernel)",
   "language": "python",
   "name": "python3"
  },
  "language_info": {
   "codemirror_mode": {
    "name": "ipython",
    "version": 3
   },
   "file_extension": ".py",
   "mimetype": "text/x-python",
   "name": "python",
   "nbconvert_exporter": "python",
   "pygments_lexer": "ipython3",
   "version": "3.8.6"
  },
  "toc": {
   "base_numbering": 1,
   "nav_menu": {},
   "number_sections": true,
   "sideBar": true,
   "skip_h1_title": false,
   "title_cell": "Table of Contents",
   "title_sidebar": "Contents",
   "toc_cell": false,
   "toc_position": {
    "height": "calc(100% - 180px)",
    "left": "10px",
    "top": "150px",
    "width": "282.997px"
   },
   "toc_section_display": true,
   "toc_window_display": false
  },
  "varInspector": {
   "cols": {
    "lenName": 16,
    "lenType": 16,
    "lenVar": 40
   },
   "kernels_config": {
    "python": {
     "delete_cmd_postfix": "",
     "delete_cmd_prefix": "del ",
     "library": "var_list.py",
     "varRefreshCmd": "print(var_dic_list())"
    },
    "r": {
     "delete_cmd_postfix": ") ",
     "delete_cmd_prefix": "rm(",
     "library": "var_list.r",
     "varRefreshCmd": "cat(var_dic_list()) "
    }
   },
   "types_to_exclude": [
    "module",
    "function",
    "builtin_function_or_method",
    "instance",
    "_Feature"
   ],
   "window_display": false
  }
 },
 "nbformat": 4,
 "nbformat_minor": 4
}
